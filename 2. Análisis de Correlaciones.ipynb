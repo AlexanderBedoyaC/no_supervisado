{
 "cells": [
  {
   "cell_type": "markdown",
   "metadata": {},
   "source": [
    "# 1. Importar librerías"
   ]
  },
  {
   "cell_type": "code",
   "execution_count": 32,
   "metadata": {},
   "outputs": [],
   "source": [
    "import pandas as pd\n",
    "import numpy as np\n",
    "import plotly.express as px\n",
    "pd.options.display.float_format = '{:.2f}'.format"
   ]
  },
  {
   "cell_type": "markdown",
   "metadata": {},
   "source": [
    "# 2. Importar base de datos"
   ]
  },
  {
   "cell_type": "code",
   "execution_count": 2,
   "metadata": {},
   "outputs": [],
   "source": [
    "df = pd.read_csv('datasets/data_limpio.csv')"
   ]
  },
  {
   "cell_type": "code",
   "execution_count": 3,
   "metadata": {},
   "outputs": [
    {
     "data": {
      "text/html": [
       "<div>\n",
       "<style scoped>\n",
       "    .dataframe tbody tr th:only-of-type {\n",
       "        vertical-align: middle;\n",
       "    }\n",
       "\n",
       "    .dataframe tbody tr th {\n",
       "        vertical-align: top;\n",
       "    }\n",
       "\n",
       "    .dataframe thead th {\n",
       "        text-align: right;\n",
       "    }\n",
       "</style>\n",
       "<table border=\"1\" class=\"dataframe\">\n",
       "  <thead>\n",
       "    <tr style=\"text-align: right;\">\n",
       "      <th></th>\n",
       "      <th>tipo_entidad</th>\n",
       "      <th>fecha_corte</th>\n",
       "      <th>unicap</th>\n",
       "      <th>desc_unicap</th>\n",
       "      <th>renglon</th>\n",
       "      <th>desc_renglon</th>\n",
       "      <th>saldo_a_la_fecha</th>\n",
       "      <th>vigente</th>\n",
       "      <th>v1_2</th>\n",
       "      <th>v2_3</th>\n",
       "      <th>...</th>\n",
       "      <th>riesgo_a_c</th>\n",
       "      <th>riesgo_a_s</th>\n",
       "      <th>riesgo_b_c</th>\n",
       "      <th>riesgo_b_s</th>\n",
       "      <th>riesgo_c_c</th>\n",
       "      <th>riesgo_c_s</th>\n",
       "      <th>riesgo_d_c</th>\n",
       "      <th>riesgo_d_s</th>\n",
       "      <th>riesgo_e_c</th>\n",
       "      <th>riesgo_e_s</th>\n",
       "    </tr>\n",
       "  </thead>\n",
       "  <tbody>\n",
       "    <tr>\n",
       "      <th>0</th>\n",
       "      <td>1</td>\n",
       "      <td>2015-01-31</td>\n",
       "      <td>1</td>\n",
       "      <td>CRÉDITO ROTATIVO</td>\n",
       "      <td>5</td>\n",
       "      <td>CRÉDITO ROTATIVO TOTAL</td>\n",
       "      <td>3.765135e+10</td>\n",
       "      <td>3.498144e+10</td>\n",
       "      <td>7.680617e+08</td>\n",
       "      <td>5.799188e+08</td>\n",
       "      <td>...</td>\n",
       "      <td>6176</td>\n",
       "      <td>3.287887e+10</td>\n",
       "      <td>270</td>\n",
       "      <td>1.835206e+09</td>\n",
       "      <td>142</td>\n",
       "      <td>9.753431e+08</td>\n",
       "      <td>326</td>\n",
       "      <td>1.368695e+09</td>\n",
       "      <td>69</td>\n",
       "      <td>5.930935e+08</td>\n",
       "    </tr>\n",
       "    <tr>\n",
       "      <th>1</th>\n",
       "      <td>1</td>\n",
       "      <td>2015-01-31</td>\n",
       "      <td>1</td>\n",
       "      <td>CRÉDITO ROTATIVO</td>\n",
       "      <td>5</td>\n",
       "      <td>CRÉDITO ROTATIVO TOTAL</td>\n",
       "      <td>8.268522e+11</td>\n",
       "      <td>7.820166e+11</td>\n",
       "      <td>9.271463e+09</td>\n",
       "      <td>8.065651e+09</td>\n",
       "      <td>...</td>\n",
       "      <td>125128</td>\n",
       "      <td>7.726664e+11</td>\n",
       "      <td>1840</td>\n",
       "      <td>1.174070e+10</td>\n",
       "      <td>1486</td>\n",
       "      <td>9.872855e+09</td>\n",
       "      <td>1854</td>\n",
       "      <td>1.411182e+10</td>\n",
       "      <td>2469</td>\n",
       "      <td>1.846045e+10</td>\n",
       "    </tr>\n",
       "    <tr>\n",
       "      <th>2</th>\n",
       "      <td>1</td>\n",
       "      <td>2015-01-31</td>\n",
       "      <td>1</td>\n",
       "      <td>CRÉDITO ROTATIVO</td>\n",
       "      <td>5</td>\n",
       "      <td>CRÉDITO ROTATIVO TOTAL</td>\n",
       "      <td>1.084516e+11</td>\n",
       "      <td>1.043457e+11</td>\n",
       "      <td>1.359379e+09</td>\n",
       "      <td>8.458475e+08</td>\n",
       "      <td>...</td>\n",
       "      <td>9723</td>\n",
       "      <td>1.004265e+11</td>\n",
       "      <td>324</td>\n",
       "      <td>2.920772e+09</td>\n",
       "      <td>207</td>\n",
       "      <td>1.936819e+09</td>\n",
       "      <td>165</td>\n",
       "      <td>1.623502e+09</td>\n",
       "      <td>144</td>\n",
       "      <td>1.544006e+09</td>\n",
       "    </tr>\n",
       "    <tr>\n",
       "      <th>3</th>\n",
       "      <td>1</td>\n",
       "      <td>2015-01-31</td>\n",
       "      <td>1</td>\n",
       "      <td>CRÉDITO ROTATIVO</td>\n",
       "      <td>5</td>\n",
       "      <td>CRÉDITO ROTATIVO TOTAL</td>\n",
       "      <td>2.093078e+11</td>\n",
       "      <td>1.969077e+11</td>\n",
       "      <td>6.328342e+09</td>\n",
       "      <td>2.236770e+09</td>\n",
       "      <td>...</td>\n",
       "      <td>91873</td>\n",
       "      <td>1.961314e+11</td>\n",
       "      <td>4802</td>\n",
       "      <td>6.541005e+09</td>\n",
       "      <td>2385</td>\n",
       "      <td>2.574771e+09</td>\n",
       "      <td>2515</td>\n",
       "      <td>3.677977e+09</td>\n",
       "      <td>160</td>\n",
       "      <td>3.825980e+08</td>\n",
       "    </tr>\n",
       "    <tr>\n",
       "      <th>4</th>\n",
       "      <td>1</td>\n",
       "      <td>2015-01-31</td>\n",
       "      <td>1</td>\n",
       "      <td>CRÉDITO ROTATIVO</td>\n",
       "      <td>5</td>\n",
       "      <td>CRÉDITO ROTATIVO TOTAL</td>\n",
       "      <td>2.438180e+11</td>\n",
       "      <td>2.273113e+11</td>\n",
       "      <td>6.333845e+09</td>\n",
       "      <td>2.691830e+09</td>\n",
       "      <td>...</td>\n",
       "      <td>32098</td>\n",
       "      <td>2.249046e+11</td>\n",
       "      <td>951</td>\n",
       "      <td>5.969179e+09</td>\n",
       "      <td>848</td>\n",
       "      <td>5.034273e+09</td>\n",
       "      <td>521</td>\n",
       "      <td>3.607315e+09</td>\n",
       "      <td>520</td>\n",
       "      <td>4.302663e+09</td>\n",
       "    </tr>\n",
       "  </tbody>\n",
       "</table>\n",
       "<p>5 rows × 32 columns</p>\n",
       "</div>"
      ],
      "text/plain": [
       "   tipo_entidad fecha_corte  unicap       desc_unicap  renglon  \\\n",
       "0             1  2015-01-31       1  CRÉDITO ROTATIVO        5   \n",
       "1             1  2015-01-31       1  CRÉDITO ROTATIVO        5   \n",
       "2             1  2015-01-31       1  CRÉDITO ROTATIVO        5   \n",
       "3             1  2015-01-31       1  CRÉDITO ROTATIVO        5   \n",
       "4             1  2015-01-31       1  CRÉDITO ROTATIVO        5   \n",
       "\n",
       "             desc_renglon  saldo_a_la_fecha       vigente          v1_2  \\\n",
       "0  CRÉDITO ROTATIVO TOTAL      3.765135e+10  3.498144e+10  7.680617e+08   \n",
       "1  CRÉDITO ROTATIVO TOTAL      8.268522e+11  7.820166e+11  9.271463e+09   \n",
       "2  CRÉDITO ROTATIVO TOTAL      1.084516e+11  1.043457e+11  1.359379e+09   \n",
       "3  CRÉDITO ROTATIVO TOTAL      2.093078e+11  1.969077e+11  6.328342e+09   \n",
       "4  CRÉDITO ROTATIVO TOTAL      2.438180e+11  2.273113e+11  6.333845e+09   \n",
       "\n",
       "           v2_3  ...  riesgo_a_c    riesgo_a_s  riesgo_b_c    riesgo_b_s  \\\n",
       "0  5.799188e+08  ...        6176  3.287887e+10         270  1.835206e+09   \n",
       "1  8.065651e+09  ...      125128  7.726664e+11        1840  1.174070e+10   \n",
       "2  8.458475e+08  ...        9723  1.004265e+11         324  2.920772e+09   \n",
       "3  2.236770e+09  ...       91873  1.961314e+11        4802  6.541005e+09   \n",
       "4  2.691830e+09  ...       32098  2.249046e+11         951  5.969179e+09   \n",
       "\n",
       "   riesgo_c_c    riesgo_c_s  riesgo_d_c    riesgo_d_s  riesgo_e_c  \\\n",
       "0         142  9.753431e+08         326  1.368695e+09          69   \n",
       "1        1486  9.872855e+09        1854  1.411182e+10        2469   \n",
       "2         207  1.936819e+09         165  1.623502e+09         144   \n",
       "3        2385  2.574771e+09        2515  3.677977e+09         160   \n",
       "4         848  5.034273e+09         521  3.607315e+09         520   \n",
       "\n",
       "     riesgo_e_s  \n",
       "0  5.930935e+08  \n",
       "1  1.846045e+10  \n",
       "2  1.544006e+09  \n",
       "3  3.825980e+08  \n",
       "4  4.302663e+09  \n",
       "\n",
       "[5 rows x 32 columns]"
      ]
     },
     "execution_count": 3,
     "metadata": {},
     "output_type": "execute_result"
    }
   ],
   "source": [
    "df.head()"
   ]
  },
  {
   "cell_type": "code",
   "execution_count": 8,
   "metadata": {},
   "outputs": [],
   "source": [
    "df['tipo_entidad'] = df['tipo_entidad'].astype('object')\n",
    "df['unicap'] = df['unicap'].astype('object')\n",
    "df['renglon'] = df['renglon'].astype('object')"
   ]
  },
  {
   "cell_type": "markdown",
   "metadata": {},
   "source": [
    "# 3. Correlaciones variables numéricas"
   ]
  },
  {
   "cell_type": "code",
   "execution_count": 15,
   "metadata": {},
   "outputs": [
    {
     "data": {
      "application/vnd.plotly.v1+json": {
       "config": {
        "plotlyServerURL": "https://plot.ly"
       },
       "data": [
        {
         "coloraxis": "coloraxis",
         "hovertemplate": "x: %{x}<br>y: %{y}<br>color: %{z}<extra></extra>",
         "name": "0",
         "texttemplate": "%{z}",
         "type": "heatmap",
         "x": [
          "saldo_a_la_fecha",
          "vigente",
          "v1_2",
          "v2_3",
          "v1_3",
          "v3_4",
          "v+4",
          "v3_6",
          "v+6",
          "v1_4",
          "v4_6",
          "v6_12",
          "v12_18",
          "v+12",
          "v+18",
          "clientes_mora+30d",
          "riesgo_a_c",
          "riesgo_a_s",
          "riesgo_b_c",
          "riesgo_b_s",
          "riesgo_c_c",
          "riesgo_c_s",
          "riesgo_d_c",
          "riesgo_d_s",
          "riesgo_e_c",
          "riesgo_e_s"
         ],
         "xaxis": "x",
         "y": [
          "saldo_a_la_fecha",
          "vigente",
          "v1_2",
          "v2_3",
          "v1_3",
          "v3_4",
          "v+4",
          "v3_6",
          "v+6",
          "v1_4",
          "v4_6",
          "v6_12",
          "v12_18",
          "v+12",
          "v+18",
          "clientes_mora+30d",
          "riesgo_a_c",
          "riesgo_a_s",
          "riesgo_b_c",
          "riesgo_b_s",
          "riesgo_c_c",
          "riesgo_c_s",
          "riesgo_d_c",
          "riesgo_d_s",
          "riesgo_e_c",
          "riesgo_e_s"
         ],
         "yaxis": "y",
         "z": [
          [
           1,
           0.9995476754643688,
           null,
           null,
           null,
           null,
           null,
           null,
           null,
           null,
           null,
           null,
           null,
           null,
           null,
           null,
           null,
           0.9954207437520981,
           null,
           0.7367341600100713,
           null,
           null,
           null,
           null,
           null,
           null
          ],
          [
           0.9995476754643688,
           1,
           null,
           null,
           null,
           null,
           null,
           null,
           null,
           null,
           null,
           null,
           null,
           null,
           null,
           null,
           null,
           0.9963274348430244,
           null,
           0.7270497684474835,
           null,
           null,
           null,
           null,
           null,
           null
          ],
          [
           null,
           null,
           1,
           0.9366826287047741,
           null,
           null,
           null,
           0.7407485576831709,
           null,
           null,
           null,
           null,
           null,
           null,
           null,
           null,
           null,
           null,
           null,
           null,
           null,
           null,
           null,
           null,
           null,
           null
          ],
          [
           null,
           null,
           0.9366826287047741,
           1,
           null,
           null,
           null,
           0.7666182033217162,
           null,
           null,
           null,
           null,
           null,
           null,
           null,
           null,
           null,
           null,
           null,
           null,
           null,
           null,
           null,
           null,
           null,
           null
          ],
          [
           null,
           null,
           null,
           null,
           1,
           null,
           null,
           null,
           null,
           null,
           null,
           null,
           null,
           null,
           null,
           null,
           null,
           null,
           null,
           null,
           null,
           null,
           null,
           null,
           null,
           null
          ],
          [
           null,
           null,
           null,
           null,
           null,
           1,
           0.87667097746498,
           null,
           null,
           null,
           null,
           null,
           null,
           null,
           null,
           null,
           null,
           null,
           null,
           null,
           null,
           null,
           null,
           null,
           null,
           null
          ],
          [
           null,
           null,
           null,
           null,
           null,
           0.87667097746498,
           1,
           null,
           null,
           null,
           null,
           null,
           null,
           null,
           null,
           null,
           null,
           null,
           null,
           null,
           null,
           null,
           null,
           null,
           null,
           null
          ],
          [
           null,
           null,
           0.7407485576831709,
           0.7666182033217162,
           null,
           null,
           null,
           1,
           null,
           null,
           null,
           null,
           null,
           null,
           null,
           null,
           null,
           null,
           null,
           null,
           null,
           null,
           null,
           0.7008789915054354,
           null,
           null
          ],
          [
           null,
           null,
           null,
           null,
           null,
           null,
           null,
           null,
           1,
           null,
           null,
           null,
           null,
           null,
           null,
           null,
           null,
           null,
           null,
           null,
           null,
           null,
           null,
           null,
           null,
           null
          ],
          [
           null,
           null,
           null,
           null,
           null,
           null,
           null,
           null,
           null,
           1,
           0.9282089111525613,
           null,
           0.872885476789026,
           null,
           null,
           null,
           null,
           null,
           null,
           null,
           null,
           null,
           null,
           null,
           null,
           null
          ],
          [
           null,
           null,
           null,
           null,
           null,
           null,
           null,
           null,
           null,
           0.9282089111525613,
           1,
           null,
           0.894811947626299,
           null,
           0.7197009163601487,
           null,
           null,
           null,
           null,
           null,
           null,
           null,
           null,
           null,
           null,
           null
          ],
          [
           null,
           null,
           null,
           null,
           null,
           null,
           null,
           null,
           null,
           null,
           null,
           1,
           null,
           null,
           null,
           null,
           null,
           null,
           null,
           null,
           null,
           null,
           null,
           null,
           null,
           null
          ],
          [
           null,
           null,
           null,
           null,
           null,
           null,
           null,
           null,
           null,
           0.872885476789026,
           0.894811947626299,
           null,
           1,
           null,
           0.8454411433372956,
           null,
           null,
           null,
           null,
           null,
           null,
           null,
           null,
           null,
           null,
           null
          ],
          [
           null,
           null,
           null,
           null,
           null,
           null,
           null,
           null,
           null,
           null,
           null,
           null,
           null,
           1,
           null,
           null,
           null,
           null,
           null,
           null,
           null,
           null,
           null,
           null,
           null,
           null
          ],
          [
           null,
           null,
           null,
           null,
           null,
           null,
           null,
           null,
           null,
           null,
           0.7197009163601487,
           null,
           0.8454411433372956,
           null,
           1,
           null,
           null,
           null,
           null,
           null,
           null,
           null,
           null,
           null,
           null,
           null
          ],
          [
           null,
           null,
           null,
           null,
           null,
           null,
           null,
           null,
           null,
           null,
           null,
           null,
           null,
           null,
           null,
           1,
           0.898094720813106,
           null,
           0.9258606036825646,
           null,
           null,
           null,
           0.9150630543740571,
           null,
           0.7994064301926158,
           null
          ],
          [
           null,
           null,
           null,
           null,
           null,
           null,
           null,
           null,
           null,
           null,
           null,
           null,
           null,
           null,
           null,
           0.898094720813106,
           1,
           null,
           0.9073028228173258,
           null,
           null,
           null,
           0.8547352326423944,
           null,
           0.7144299160049191,
           null
          ],
          [
           0.9954207437520981,
           0.9963274348430244,
           null,
           null,
           null,
           null,
           null,
           null,
           null,
           null,
           null,
           null,
           null,
           null,
           null,
           null,
           null,
           1,
           null,
           0.7090886226975057,
           null,
           null,
           null,
           null,
           null,
           null
          ],
          [
           null,
           null,
           null,
           null,
           null,
           null,
           null,
           null,
           null,
           null,
           null,
           null,
           null,
           null,
           null,
           0.9258606036825646,
           0.9073028228173258,
           null,
           1,
           null,
           null,
           null,
           0.878841264242775,
           null,
           null,
           null
          ],
          [
           0.7367341600100713,
           0.7270497684474835,
           null,
           null,
           null,
           null,
           null,
           null,
           null,
           null,
           null,
           null,
           null,
           null,
           null,
           null,
           null,
           0.7090886226975057,
           null,
           1,
           null,
           0.7494987114689052,
           null,
           0.7062353668123038,
           null,
           null
          ],
          [
           null,
           null,
           null,
           null,
           null,
           null,
           null,
           null,
           null,
           null,
           null,
           null,
           null,
           null,
           null,
           null,
           null,
           null,
           null,
           null,
           1,
           null,
           null,
           null,
           null,
           null
          ],
          [
           null,
           null,
           null,
           null,
           null,
           null,
           null,
           null,
           null,
           null,
           null,
           null,
           null,
           null,
           null,
           null,
           null,
           null,
           null,
           0.7494987114689052,
           null,
           1,
           null,
           null,
           null,
           null
          ],
          [
           null,
           null,
           null,
           null,
           null,
           null,
           null,
           null,
           null,
           null,
           null,
           null,
           null,
           null,
           null,
           0.9150630543740571,
           0.8547352326423944,
           null,
           0.878841264242775,
           null,
           null,
           null,
           1,
           null,
           null,
           null
          ],
          [
           null,
           null,
           null,
           null,
           null,
           null,
           null,
           0.7008789915054354,
           null,
           null,
           null,
           null,
           null,
           null,
           null,
           null,
           null,
           null,
           null,
           0.7062353668123038,
           null,
           null,
           null,
           1,
           null,
           null
          ],
          [
           null,
           null,
           null,
           null,
           null,
           null,
           null,
           null,
           null,
           null,
           null,
           null,
           null,
           null,
           null,
           0.7994064301926158,
           0.7144299160049191,
           null,
           null,
           null,
           null,
           null,
           null,
           null,
           1,
           null
          ],
          [
           null,
           null,
           null,
           null,
           null,
           null,
           null,
           null,
           null,
           null,
           null,
           null,
           null,
           null,
           null,
           null,
           null,
           null,
           null,
           null,
           null,
           null,
           null,
           null,
           null,
           1
          ]
         ]
        }
       ],
       "layout": {
        "coloraxis": {
         "colorscale": [
          [
           0,
           "#0d0887"
          ],
          [
           0.1111111111111111,
           "#46039f"
          ],
          [
           0.2222222222222222,
           "#7201a8"
          ],
          [
           0.3333333333333333,
           "#9c179e"
          ],
          [
           0.4444444444444444,
           "#bd3786"
          ],
          [
           0.5555555555555556,
           "#d8576b"
          ],
          [
           0.6666666666666666,
           "#ed7953"
          ],
          [
           0.7777777777777778,
           "#fb9f3a"
          ],
          [
           0.8888888888888888,
           "#fdca26"
          ],
          [
           1,
           "#f0f921"
          ]
         ]
        },
        "height": 1000,
        "margin": {
         "t": 60
        },
        "template": {
         "data": {
          "bar": [
           {
            "error_x": {
             "color": "#2a3f5f"
            },
            "error_y": {
             "color": "#2a3f5f"
            },
            "marker": {
             "line": {
              "color": "#E5ECF6",
              "width": 0.5
             },
             "pattern": {
              "fillmode": "overlay",
              "size": 10,
              "solidity": 0.2
             }
            },
            "type": "bar"
           }
          ],
          "barpolar": [
           {
            "marker": {
             "line": {
              "color": "#E5ECF6",
              "width": 0.5
             },
             "pattern": {
              "fillmode": "overlay",
              "size": 10,
              "solidity": 0.2
             }
            },
            "type": "barpolar"
           }
          ],
          "carpet": [
           {
            "aaxis": {
             "endlinecolor": "#2a3f5f",
             "gridcolor": "white",
             "linecolor": "white",
             "minorgridcolor": "white",
             "startlinecolor": "#2a3f5f"
            },
            "baxis": {
             "endlinecolor": "#2a3f5f",
             "gridcolor": "white",
             "linecolor": "white",
             "minorgridcolor": "white",
             "startlinecolor": "#2a3f5f"
            },
            "type": "carpet"
           }
          ],
          "choropleth": [
           {
            "colorbar": {
             "outlinewidth": 0,
             "ticks": ""
            },
            "type": "choropleth"
           }
          ],
          "contour": [
           {
            "colorbar": {
             "outlinewidth": 0,
             "ticks": ""
            },
            "colorscale": [
             [
              0,
              "#0d0887"
             ],
             [
              0.1111111111111111,
              "#46039f"
             ],
             [
              0.2222222222222222,
              "#7201a8"
             ],
             [
              0.3333333333333333,
              "#9c179e"
             ],
             [
              0.4444444444444444,
              "#bd3786"
             ],
             [
              0.5555555555555556,
              "#d8576b"
             ],
             [
              0.6666666666666666,
              "#ed7953"
             ],
             [
              0.7777777777777778,
              "#fb9f3a"
             ],
             [
              0.8888888888888888,
              "#fdca26"
             ],
             [
              1,
              "#f0f921"
             ]
            ],
            "type": "contour"
           }
          ],
          "contourcarpet": [
           {
            "colorbar": {
             "outlinewidth": 0,
             "ticks": ""
            },
            "type": "contourcarpet"
           }
          ],
          "heatmap": [
           {
            "colorbar": {
             "outlinewidth": 0,
             "ticks": ""
            },
            "colorscale": [
             [
              0,
              "#0d0887"
             ],
             [
              0.1111111111111111,
              "#46039f"
             ],
             [
              0.2222222222222222,
              "#7201a8"
             ],
             [
              0.3333333333333333,
              "#9c179e"
             ],
             [
              0.4444444444444444,
              "#bd3786"
             ],
             [
              0.5555555555555556,
              "#d8576b"
             ],
             [
              0.6666666666666666,
              "#ed7953"
             ],
             [
              0.7777777777777778,
              "#fb9f3a"
             ],
             [
              0.8888888888888888,
              "#fdca26"
             ],
             [
              1,
              "#f0f921"
             ]
            ],
            "type": "heatmap"
           }
          ],
          "heatmapgl": [
           {
            "colorbar": {
             "outlinewidth": 0,
             "ticks": ""
            },
            "colorscale": [
             [
              0,
              "#0d0887"
             ],
             [
              0.1111111111111111,
              "#46039f"
             ],
             [
              0.2222222222222222,
              "#7201a8"
             ],
             [
              0.3333333333333333,
              "#9c179e"
             ],
             [
              0.4444444444444444,
              "#bd3786"
             ],
             [
              0.5555555555555556,
              "#d8576b"
             ],
             [
              0.6666666666666666,
              "#ed7953"
             ],
             [
              0.7777777777777778,
              "#fb9f3a"
             ],
             [
              0.8888888888888888,
              "#fdca26"
             ],
             [
              1,
              "#f0f921"
             ]
            ],
            "type": "heatmapgl"
           }
          ],
          "histogram": [
           {
            "marker": {
             "pattern": {
              "fillmode": "overlay",
              "size": 10,
              "solidity": 0.2
             }
            },
            "type": "histogram"
           }
          ],
          "histogram2d": [
           {
            "colorbar": {
             "outlinewidth": 0,
             "ticks": ""
            },
            "colorscale": [
             [
              0,
              "#0d0887"
             ],
             [
              0.1111111111111111,
              "#46039f"
             ],
             [
              0.2222222222222222,
              "#7201a8"
             ],
             [
              0.3333333333333333,
              "#9c179e"
             ],
             [
              0.4444444444444444,
              "#bd3786"
             ],
             [
              0.5555555555555556,
              "#d8576b"
             ],
             [
              0.6666666666666666,
              "#ed7953"
             ],
             [
              0.7777777777777778,
              "#fb9f3a"
             ],
             [
              0.8888888888888888,
              "#fdca26"
             ],
             [
              1,
              "#f0f921"
             ]
            ],
            "type": "histogram2d"
           }
          ],
          "histogram2dcontour": [
           {
            "colorbar": {
             "outlinewidth": 0,
             "ticks": ""
            },
            "colorscale": [
             [
              0,
              "#0d0887"
             ],
             [
              0.1111111111111111,
              "#46039f"
             ],
             [
              0.2222222222222222,
              "#7201a8"
             ],
             [
              0.3333333333333333,
              "#9c179e"
             ],
             [
              0.4444444444444444,
              "#bd3786"
             ],
             [
              0.5555555555555556,
              "#d8576b"
             ],
             [
              0.6666666666666666,
              "#ed7953"
             ],
             [
              0.7777777777777778,
              "#fb9f3a"
             ],
             [
              0.8888888888888888,
              "#fdca26"
             ],
             [
              1,
              "#f0f921"
             ]
            ],
            "type": "histogram2dcontour"
           }
          ],
          "mesh3d": [
           {
            "colorbar": {
             "outlinewidth": 0,
             "ticks": ""
            },
            "type": "mesh3d"
           }
          ],
          "parcoords": [
           {
            "line": {
             "colorbar": {
              "outlinewidth": 0,
              "ticks": ""
             }
            },
            "type": "parcoords"
           }
          ],
          "pie": [
           {
            "automargin": true,
            "type": "pie"
           }
          ],
          "scatter": [
           {
            "fillpattern": {
             "fillmode": "overlay",
             "size": 10,
             "solidity": 0.2
            },
            "type": "scatter"
           }
          ],
          "scatter3d": [
           {
            "line": {
             "colorbar": {
              "outlinewidth": 0,
              "ticks": ""
             }
            },
            "marker": {
             "colorbar": {
              "outlinewidth": 0,
              "ticks": ""
             }
            },
            "type": "scatter3d"
           }
          ],
          "scattercarpet": [
           {
            "marker": {
             "colorbar": {
              "outlinewidth": 0,
              "ticks": ""
             }
            },
            "type": "scattercarpet"
           }
          ],
          "scattergeo": [
           {
            "marker": {
             "colorbar": {
              "outlinewidth": 0,
              "ticks": ""
             }
            },
            "type": "scattergeo"
           }
          ],
          "scattergl": [
           {
            "marker": {
             "colorbar": {
              "outlinewidth": 0,
              "ticks": ""
             }
            },
            "type": "scattergl"
           }
          ],
          "scattermapbox": [
           {
            "marker": {
             "colorbar": {
              "outlinewidth": 0,
              "ticks": ""
             }
            },
            "type": "scattermapbox"
           }
          ],
          "scatterpolar": [
           {
            "marker": {
             "colorbar": {
              "outlinewidth": 0,
              "ticks": ""
             }
            },
            "type": "scatterpolar"
           }
          ],
          "scatterpolargl": [
           {
            "marker": {
             "colorbar": {
              "outlinewidth": 0,
              "ticks": ""
             }
            },
            "type": "scatterpolargl"
           }
          ],
          "scatterternary": [
           {
            "marker": {
             "colorbar": {
              "outlinewidth": 0,
              "ticks": ""
             }
            },
            "type": "scatterternary"
           }
          ],
          "surface": [
           {
            "colorbar": {
             "outlinewidth": 0,
             "ticks": ""
            },
            "colorscale": [
             [
              0,
              "#0d0887"
             ],
             [
              0.1111111111111111,
              "#46039f"
             ],
             [
              0.2222222222222222,
              "#7201a8"
             ],
             [
              0.3333333333333333,
              "#9c179e"
             ],
             [
              0.4444444444444444,
              "#bd3786"
             ],
             [
              0.5555555555555556,
              "#d8576b"
             ],
             [
              0.6666666666666666,
              "#ed7953"
             ],
             [
              0.7777777777777778,
              "#fb9f3a"
             ],
             [
              0.8888888888888888,
              "#fdca26"
             ],
             [
              1,
              "#f0f921"
             ]
            ],
            "type": "surface"
           }
          ],
          "table": [
           {
            "cells": {
             "fill": {
              "color": "#EBF0F8"
             },
             "line": {
              "color": "white"
             }
            },
            "header": {
             "fill": {
              "color": "#C8D4E3"
             },
             "line": {
              "color": "white"
             }
            },
            "type": "table"
           }
          ]
         },
         "layout": {
          "annotationdefaults": {
           "arrowcolor": "#2a3f5f",
           "arrowhead": 0,
           "arrowwidth": 1
          },
          "autotypenumbers": "strict",
          "coloraxis": {
           "colorbar": {
            "outlinewidth": 0,
            "ticks": ""
           }
          },
          "colorscale": {
           "diverging": [
            [
             0,
             "#8e0152"
            ],
            [
             0.1,
             "#c51b7d"
            ],
            [
             0.2,
             "#de77ae"
            ],
            [
             0.3,
             "#f1b6da"
            ],
            [
             0.4,
             "#fde0ef"
            ],
            [
             0.5,
             "#f7f7f7"
            ],
            [
             0.6,
             "#e6f5d0"
            ],
            [
             0.7,
             "#b8e186"
            ],
            [
             0.8,
             "#7fbc41"
            ],
            [
             0.9,
             "#4d9221"
            ],
            [
             1,
             "#276419"
            ]
           ],
           "sequential": [
            [
             0,
             "#0d0887"
            ],
            [
             0.1111111111111111,
             "#46039f"
            ],
            [
             0.2222222222222222,
             "#7201a8"
            ],
            [
             0.3333333333333333,
             "#9c179e"
            ],
            [
             0.4444444444444444,
             "#bd3786"
            ],
            [
             0.5555555555555556,
             "#d8576b"
            ],
            [
             0.6666666666666666,
             "#ed7953"
            ],
            [
             0.7777777777777778,
             "#fb9f3a"
            ],
            [
             0.8888888888888888,
             "#fdca26"
            ],
            [
             1,
             "#f0f921"
            ]
           ],
           "sequentialminus": [
            [
             0,
             "#0d0887"
            ],
            [
             0.1111111111111111,
             "#46039f"
            ],
            [
             0.2222222222222222,
             "#7201a8"
            ],
            [
             0.3333333333333333,
             "#9c179e"
            ],
            [
             0.4444444444444444,
             "#bd3786"
            ],
            [
             0.5555555555555556,
             "#d8576b"
            ],
            [
             0.6666666666666666,
             "#ed7953"
            ],
            [
             0.7777777777777778,
             "#fb9f3a"
            ],
            [
             0.8888888888888888,
             "#fdca26"
            ],
            [
             1,
             "#f0f921"
            ]
           ]
          },
          "colorway": [
           "#636efa",
           "#EF553B",
           "#00cc96",
           "#ab63fa",
           "#FFA15A",
           "#19d3f3",
           "#FF6692",
           "#B6E880",
           "#FF97FF",
           "#FECB52"
          ],
          "font": {
           "color": "#2a3f5f"
          },
          "geo": {
           "bgcolor": "white",
           "lakecolor": "white",
           "landcolor": "#E5ECF6",
           "showlakes": true,
           "showland": true,
           "subunitcolor": "white"
          },
          "hoverlabel": {
           "align": "left"
          },
          "hovermode": "closest",
          "mapbox": {
           "style": "light"
          },
          "paper_bgcolor": "white",
          "plot_bgcolor": "#E5ECF6",
          "polar": {
           "angularaxis": {
            "gridcolor": "white",
            "linecolor": "white",
            "ticks": ""
           },
           "bgcolor": "#E5ECF6",
           "radialaxis": {
            "gridcolor": "white",
            "linecolor": "white",
            "ticks": ""
           }
          },
          "scene": {
           "xaxis": {
            "backgroundcolor": "#E5ECF6",
            "gridcolor": "white",
            "gridwidth": 2,
            "linecolor": "white",
            "showbackground": true,
            "ticks": "",
            "zerolinecolor": "white"
           },
           "yaxis": {
            "backgroundcolor": "#E5ECF6",
            "gridcolor": "white",
            "gridwidth": 2,
            "linecolor": "white",
            "showbackground": true,
            "ticks": "",
            "zerolinecolor": "white"
           },
           "zaxis": {
            "backgroundcolor": "#E5ECF6",
            "gridcolor": "white",
            "gridwidth": 2,
            "linecolor": "white",
            "showbackground": true,
            "ticks": "",
            "zerolinecolor": "white"
           }
          },
          "shapedefaults": {
           "line": {
            "color": "#2a3f5f"
           }
          },
          "ternary": {
           "aaxis": {
            "gridcolor": "white",
            "linecolor": "white",
            "ticks": ""
           },
           "baxis": {
            "gridcolor": "white",
            "linecolor": "white",
            "ticks": ""
           },
           "bgcolor": "#E5ECF6",
           "caxis": {
            "gridcolor": "white",
            "linecolor": "white",
            "ticks": ""
           }
          },
          "title": {
           "x": 0.05
          },
          "xaxis": {
           "automargin": true,
           "gridcolor": "white",
           "linecolor": "white",
           "ticks": "",
           "title": {
            "standoff": 15
           },
           "zerolinecolor": "white",
           "zerolinewidth": 2
          },
          "yaxis": {
           "automargin": true,
           "gridcolor": "white",
           "linecolor": "white",
           "ticks": "",
           "title": {
            "standoff": 15
           },
           "zerolinecolor": "white",
           "zerolinewidth": 2
          }
         }
        },
        "xaxis": {
         "anchor": "y",
         "constrain": "domain",
         "domain": [
          0,
          1
         ],
         "scaleanchor": "y"
        },
        "yaxis": {
         "anchor": "x",
         "autorange": "reversed",
         "constrain": "domain",
         "domain": [
          0,
          1
         ]
        }
       }
      }
     },
     "metadata": {},
     "output_type": "display_data"
    }
   ],
   "source": [
    "cols_num = df.select_dtypes(exclude='object')\n",
    "df_corr = cols_num.corr()\n",
    "fig = px.imshow(df_corr[(df_corr > 0.7) | (df_corr < -0.7)],  text_auto=True)\n",
    "fig.update_layout(height=1000)\n",
    "fig.show()"
   ]
  },
  {
   "cell_type": "markdown",
   "metadata": {},
   "source": [
    "El saldo a la fecha y el saldo vigente presentan una alta correlación. El saldo vigente representa el saldo luego de los abonos a cada una de las cuentas en cada mes. Por tanto, se decide descartar el saldo vigente.\n",
    "\n",
    "Las demás columnas, aunque tengan una alta correlación, se decide conservarlas porque representan características diferentes de las cuentas. Mes a mes cambia el tiempo que le queda a una cuenta para vencerse."
   ]
  }
 ],
 "metadata": {
  "kernelspec": {
   "display_name": "Python 3",
   "language": "python",
   "name": "python3"
  },
  "language_info": {
   "codemirror_mode": {
    "name": "ipython",
    "version": 3
   },
   "file_extension": ".py",
   "mimetype": "text/x-python",
   "name": "python",
   "nbconvert_exporter": "python",
   "pygments_lexer": "ipython3",
   "version": "3.11.4"
  },
  "orig_nbformat": 4
 },
 "nbformat": 4,
 "nbformat_minor": 2
}

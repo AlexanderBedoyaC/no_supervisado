{
 "cells": [
  {
   "cell_type": "markdown",
   "metadata": {},
   "source": [
    "# 1. Importar librerías"
   ]
  },
  {
   "cell_type": "code",
   "execution_count": 1,
   "metadata": {},
   "outputs": [
    {
     "data": {
      "text/plain": [
       "<module 'utils.utils' from 'c:\\\\Users\\\\USUARIO\\\\OneDrive - Universidad de Antioquia\\\\Aprendizaje\\\\Universidad\\\\2023-2\\\\Analítica II\\\\Caso Estudio No Supervisado\\\\no_supervisado\\\\utils\\\\utils.py'>"
      ]
     },
     "execution_count": 1,
     "metadata": {},
     "output_type": "execute_result"
    }
   ],
   "source": [
    "import pandas as pd\n",
    "import numpy as np\n",
    "import plotly.express as px\n",
    "pd.options.display.float_format = '{:.2f}'.format\n",
    "\n",
    "from importlib import reload\n",
    "import utils.utils as utils\n",
    "reload(utils)  # Recarga el módulo"
   ]
  },
  {
   "cell_type": "markdown",
   "metadata": {},
   "source": [
    "# 2. Importar base de datos"
   ]
  },
  {
   "cell_type": "code",
   "execution_count": 2,
   "metadata": {},
   "outputs": [],
   "source": [
    "df2 = pd.read_csv('datasets/data_limpio.csv')"
   ]
  },
  {
   "cell_type": "code",
   "execution_count": 3,
   "metadata": {},
   "outputs": [
    {
     "data": {
      "text/html": [
       "<div>\n",
       "<style scoped>\n",
       "    .dataframe tbody tr th:only-of-type {\n",
       "        vertical-align: middle;\n",
       "    }\n",
       "\n",
       "    .dataframe tbody tr th {\n",
       "        vertical-align: top;\n",
       "    }\n",
       "\n",
       "    .dataframe thead th {\n",
       "        text-align: right;\n",
       "    }\n",
       "</style>\n",
       "<table border=\"1\" class=\"dataframe\">\n",
       "  <thead>\n",
       "    <tr style=\"text-align: right;\">\n",
       "      <th></th>\n",
       "      <th>tipo_entidad</th>\n",
       "      <th>fecha_corte</th>\n",
       "      <th>unicap</th>\n",
       "      <th>desc_unicap</th>\n",
       "      <th>renglon</th>\n",
       "      <th>desc_renglon</th>\n",
       "      <th>saldo_a_la_fecha</th>\n",
       "      <th>vigente</th>\n",
       "      <th>clientes_mora+30d</th>\n",
       "      <th>riesgo_a_c</th>\n",
       "      <th>...</th>\n",
       "      <th>riesgo_b_s</th>\n",
       "      <th>riesgo_c_c</th>\n",
       "      <th>riesgo_c_s</th>\n",
       "      <th>riesgo_d_c</th>\n",
       "      <th>riesgo_d_s</th>\n",
       "      <th>riesgo_e_c</th>\n",
       "      <th>riesgo_e_s</th>\n",
       "      <th>venc1_6</th>\n",
       "      <th>venc6_12</th>\n",
       "      <th>venc+12</th>\n",
       "    </tr>\n",
       "  </thead>\n",
       "  <tbody>\n",
       "    <tr>\n",
       "      <th>0</th>\n",
       "      <td>ESTABLECIMIENTOS BANCARIOS</td>\n",
       "      <td>2015-01-31</td>\n",
       "      <td>1</td>\n",
       "      <td>CRÉDITO ROTATIVO</td>\n",
       "      <td>5</td>\n",
       "      <td>CRÉDITO ROTATIVO TOTAL</td>\n",
       "      <td>37651351298.00</td>\n",
       "      <td>34981440061.00</td>\n",
       "      <td>469</td>\n",
       "      <td>6176</td>\n",
       "      <td>...</td>\n",
       "      <td>1835206170.00</td>\n",
       "      <td>142</td>\n",
       "      <td>975343138.00</td>\n",
       "      <td>326</td>\n",
       "      <td>1368695340.00</td>\n",
       "      <td>69</td>\n",
       "      <td>593093538.00</td>\n",
       "      <td>2425836044.00</td>\n",
       "      <td>244075193.00</td>\n",
       "      <td>0.00</td>\n",
       "    </tr>\n",
       "    <tr>\n",
       "      <th>1</th>\n",
       "      <td>ESTABLECIMIENTOS BANCARIOS</td>\n",
       "      <td>2015-01-31</td>\n",
       "      <td>1</td>\n",
       "      <td>CRÉDITO ROTATIVO</td>\n",
       "      <td>5</td>\n",
       "      <td>CRÉDITO ROTATIVO TOTAL</td>\n",
       "      <td>826852228377.00</td>\n",
       "      <td>782016598064.00</td>\n",
       "      <td>5830</td>\n",
       "      <td>125128</td>\n",
       "      <td>...</td>\n",
       "      <td>11740703689.00</td>\n",
       "      <td>1486</td>\n",
       "      <td>9872854505.00</td>\n",
       "      <td>1854</td>\n",
       "      <td>14111818486.00</td>\n",
       "      <td>2469</td>\n",
       "      <td>18460447300.00</td>\n",
       "      <td>34361461982.00</td>\n",
       "      <td>10474168331.00</td>\n",
       "      <td>0.00</td>\n",
       "    </tr>\n",
       "    <tr>\n",
       "      <th>2</th>\n",
       "      <td>ESTABLECIMIENTOS BANCARIOS</td>\n",
       "      <td>2015-01-31</td>\n",
       "      <td>1</td>\n",
       "      <td>CRÉDITO ROTATIVO</td>\n",
       "      <td>5</td>\n",
       "      <td>CRÉDITO ROTATIVO TOTAL</td>\n",
       "      <td>108451564795.00</td>\n",
       "      <td>104345665139.00</td>\n",
       "      <td>425</td>\n",
       "      <td>9723</td>\n",
       "      <td>...</td>\n",
       "      <td>2920771751.00</td>\n",
       "      <td>207</td>\n",
       "      <td>1936819277.00</td>\n",
       "      <td>165</td>\n",
       "      <td>1623502258.00</td>\n",
       "      <td>144</td>\n",
       "      <td>1544005629.00</td>\n",
       "      <td>3441821351.00</td>\n",
       "      <td>664078305.00</td>\n",
       "      <td>0.00</td>\n",
       "    </tr>\n",
       "    <tr>\n",
       "      <th>3</th>\n",
       "      <td>ESTABLECIMIENTOS BANCARIOS</td>\n",
       "      <td>2015-01-31</td>\n",
       "      <td>1</td>\n",
       "      <td>CRÉDITO ROTATIVO</td>\n",
       "      <td>5</td>\n",
       "      <td>CRÉDITO ROTATIVO TOTAL</td>\n",
       "      <td>209307777744.00</td>\n",
       "      <td>196907738953.00</td>\n",
       "      <td>9361</td>\n",
       "      <td>91873</td>\n",
       "      <td>...</td>\n",
       "      <td>6541005114.00</td>\n",
       "      <td>2385</td>\n",
       "      <td>2574770601.00</td>\n",
       "      <td>2515</td>\n",
       "      <td>3677977262.00</td>\n",
       "      <td>160</td>\n",
       "      <td>382597983.00</td>\n",
       "      <td>12233133337.00</td>\n",
       "      <td>166905454.00</td>\n",
       "      <td>0.00</td>\n",
       "    </tr>\n",
       "    <tr>\n",
       "      <th>4</th>\n",
       "      <td>ESTABLECIMIENTOS BANCARIOS</td>\n",
       "      <td>2015-01-31</td>\n",
       "      <td>1</td>\n",
       "      <td>CRÉDITO ROTATIVO</td>\n",
       "      <td>5</td>\n",
       "      <td>CRÉDITO ROTATIVO TOTAL</td>\n",
       "      <td>243818014709.00</td>\n",
       "      <td>227311255658.00</td>\n",
       "      <td>2295</td>\n",
       "      <td>32098</td>\n",
       "      <td>...</td>\n",
       "      <td>5969178631.00</td>\n",
       "      <td>848</td>\n",
       "      <td>5034273159.00</td>\n",
       "      <td>521</td>\n",
       "      <td>3607315495.00</td>\n",
       "      <td>520</td>\n",
       "      <td>4302662628.00</td>\n",
       "      <td>12919067892.00</td>\n",
       "      <td>3587691159.00</td>\n",
       "      <td>0.00</td>\n",
       "    </tr>\n",
       "  </tbody>\n",
       "</table>\n",
       "<p>5 rows × 22 columns</p>\n",
       "</div>"
      ],
      "text/plain": [
       "                 tipo_entidad fecha_corte  unicap       desc_unicap  renglon  \\\n",
       "0  ESTABLECIMIENTOS BANCARIOS  2015-01-31       1  CRÉDITO ROTATIVO        5   \n",
       "1  ESTABLECIMIENTOS BANCARIOS  2015-01-31       1  CRÉDITO ROTATIVO        5   \n",
       "2  ESTABLECIMIENTOS BANCARIOS  2015-01-31       1  CRÉDITO ROTATIVO        5   \n",
       "3  ESTABLECIMIENTOS BANCARIOS  2015-01-31       1  CRÉDITO ROTATIVO        5   \n",
       "4  ESTABLECIMIENTOS BANCARIOS  2015-01-31       1  CRÉDITO ROTATIVO        5   \n",
       "\n",
       "             desc_renglon  saldo_a_la_fecha         vigente  \\\n",
       "0  CRÉDITO ROTATIVO TOTAL    37651351298.00  34981440061.00   \n",
       "1  CRÉDITO ROTATIVO TOTAL   826852228377.00 782016598064.00   \n",
       "2  CRÉDITO ROTATIVO TOTAL   108451564795.00 104345665139.00   \n",
       "3  CRÉDITO ROTATIVO TOTAL   209307777744.00 196907738953.00   \n",
       "4  CRÉDITO ROTATIVO TOTAL   243818014709.00 227311255658.00   \n",
       "\n",
       "   clientes_mora+30d  riesgo_a_c  ...     riesgo_b_s  riesgo_c_c  \\\n",
       "0                469        6176  ...  1835206170.00         142   \n",
       "1               5830      125128  ... 11740703689.00        1486   \n",
       "2                425        9723  ...  2920771751.00         207   \n",
       "3               9361       91873  ...  6541005114.00        2385   \n",
       "4               2295       32098  ...  5969178631.00         848   \n",
       "\n",
       "     riesgo_c_s  riesgo_d_c     riesgo_d_s  riesgo_e_c     riesgo_e_s  \\\n",
       "0  975343138.00         326  1368695340.00          69   593093538.00   \n",
       "1 9872854505.00        1854 14111818486.00        2469 18460447300.00   \n",
       "2 1936819277.00         165  1623502258.00         144  1544005629.00   \n",
       "3 2574770601.00        2515  3677977262.00         160   382597983.00   \n",
       "4 5034273159.00         521  3607315495.00         520  4302662628.00   \n",
       "\n",
       "         venc1_6       venc6_12  venc+12  \n",
       "0  2425836044.00   244075193.00     0.00  \n",
       "1 34361461982.00 10474168331.00     0.00  \n",
       "2  3441821351.00   664078305.00     0.00  \n",
       "3 12233133337.00   166905454.00     0.00  \n",
       "4 12919067892.00  3587691159.00     0.00  \n",
       "\n",
       "[5 rows x 22 columns]"
      ]
     },
     "execution_count": 3,
     "metadata": {},
     "output_type": "execute_result"
    }
   ],
   "source": [
    "df2.head()"
   ]
  },
  {
   "cell_type": "code",
   "execution_count": 4,
   "metadata": {},
   "outputs": [],
   "source": [
    "df2['unicap'] = df2['unicap'].astype('object')\n",
    "df2['renglon'] = df2['renglon'].astype('object')\n",
    "df2['fecha_corte'] = pd.to_datetime(df2['fecha_corte'])"
   ]
  },
  {
   "cell_type": "markdown",
   "metadata": {},
   "source": [
    "### Tomar una muestra de tamaño 5000"
   ]
  },
  {
   "cell_type": "code",
   "execution_count": 5,
   "metadata": {},
   "outputs": [
    {
     "data": {
      "application/vnd.plotly.v1+json": {
       "config": {
        "plotlyServerURL": "https://plot.ly"
       },
       "data": [
        {
         "alignmentgroup": "True",
         "hovertemplate": "variable=Frecuencia Absoluta<br>Total=%{x}<br>tipo_entidad=%{y}<br>Frecuencia Relativa=%{text}<extra></extra>",
         "legendgroup": "Frecuencia Absoluta",
         "marker": {
          "color": "#636efa",
          "pattern": {
           "shape": ""
          }
         },
         "name": "Frecuencia Absoluta",
         "offsetgroup": "Frecuencia Absoluta",
         "orientation": "h",
         "showlegend": true,
         "text": [
          "0.145 %",
          "2.661 %",
          "10.648 %",
          "17.182 %",
          "69.365 %"
         ],
         "textposition": "auto",
         "texttemplate": "%{x}",
         "type": "bar",
         "x": [
          117,
          2153,
          8614,
          13900,
          56116
         ],
         "xaxis": "x",
         "y": [
          "CORPORACIONES FINANCIERAS",
          "INSTITUCIONES OFICIALES ESPECIALES",
          "ENTIDADES COOPERATIVAS DE CARÁCTER FINANCIERO",
          "COMPAÑIAS DE FINANCIAMIENTO",
          "ESTABLECIMIENTOS BANCARIOS"
         ],
         "yaxis": "y"
        }
       ],
       "layout": {
        "barmode": "relative",
        "height": 400,
        "legend": {
         "title": {
          "text": "variable"
         },
         "tracegroupgap": 0
        },
        "showlegend": false,
        "template": {
         "data": {
          "bar": [
           {
            "error_x": {
             "color": "#2a3f5f"
            },
            "error_y": {
             "color": "#2a3f5f"
            },
            "marker": {
             "line": {
              "color": "#E5ECF6",
              "width": 0.5
             },
             "pattern": {
              "fillmode": "overlay",
              "size": 10,
              "solidity": 0.2
             }
            },
            "type": "bar"
           }
          ],
          "barpolar": [
           {
            "marker": {
             "line": {
              "color": "#E5ECF6",
              "width": 0.5
             },
             "pattern": {
              "fillmode": "overlay",
              "size": 10,
              "solidity": 0.2
             }
            },
            "type": "barpolar"
           }
          ],
          "carpet": [
           {
            "aaxis": {
             "endlinecolor": "#2a3f5f",
             "gridcolor": "white",
             "linecolor": "white",
             "minorgridcolor": "white",
             "startlinecolor": "#2a3f5f"
            },
            "baxis": {
             "endlinecolor": "#2a3f5f",
             "gridcolor": "white",
             "linecolor": "white",
             "minorgridcolor": "white",
             "startlinecolor": "#2a3f5f"
            },
            "type": "carpet"
           }
          ],
          "choropleth": [
           {
            "colorbar": {
             "outlinewidth": 0,
             "ticks": ""
            },
            "type": "choropleth"
           }
          ],
          "contour": [
           {
            "colorbar": {
             "outlinewidth": 0,
             "ticks": ""
            },
            "colorscale": [
             [
              0,
              "#0d0887"
             ],
             [
              0.1111111111111111,
              "#46039f"
             ],
             [
              0.2222222222222222,
              "#7201a8"
             ],
             [
              0.3333333333333333,
              "#9c179e"
             ],
             [
              0.4444444444444444,
              "#bd3786"
             ],
             [
              0.5555555555555556,
              "#d8576b"
             ],
             [
              0.6666666666666666,
              "#ed7953"
             ],
             [
              0.7777777777777778,
              "#fb9f3a"
             ],
             [
              0.8888888888888888,
              "#fdca26"
             ],
             [
              1,
              "#f0f921"
             ]
            ],
            "type": "contour"
           }
          ],
          "contourcarpet": [
           {
            "colorbar": {
             "outlinewidth": 0,
             "ticks": ""
            },
            "type": "contourcarpet"
           }
          ],
          "heatmap": [
           {
            "colorbar": {
             "outlinewidth": 0,
             "ticks": ""
            },
            "colorscale": [
             [
              0,
              "#0d0887"
             ],
             [
              0.1111111111111111,
              "#46039f"
             ],
             [
              0.2222222222222222,
              "#7201a8"
             ],
             [
              0.3333333333333333,
              "#9c179e"
             ],
             [
              0.4444444444444444,
              "#bd3786"
             ],
             [
              0.5555555555555556,
              "#d8576b"
             ],
             [
              0.6666666666666666,
              "#ed7953"
             ],
             [
              0.7777777777777778,
              "#fb9f3a"
             ],
             [
              0.8888888888888888,
              "#fdca26"
             ],
             [
              1,
              "#f0f921"
             ]
            ],
            "type": "heatmap"
           }
          ],
          "heatmapgl": [
           {
            "colorbar": {
             "outlinewidth": 0,
             "ticks": ""
            },
            "colorscale": [
             [
              0,
              "#0d0887"
             ],
             [
              0.1111111111111111,
              "#46039f"
             ],
             [
              0.2222222222222222,
              "#7201a8"
             ],
             [
              0.3333333333333333,
              "#9c179e"
             ],
             [
              0.4444444444444444,
              "#bd3786"
             ],
             [
              0.5555555555555556,
              "#d8576b"
             ],
             [
              0.6666666666666666,
              "#ed7953"
             ],
             [
              0.7777777777777778,
              "#fb9f3a"
             ],
             [
              0.8888888888888888,
              "#fdca26"
             ],
             [
              1,
              "#f0f921"
             ]
            ],
            "type": "heatmapgl"
           }
          ],
          "histogram": [
           {
            "marker": {
             "pattern": {
              "fillmode": "overlay",
              "size": 10,
              "solidity": 0.2
             }
            },
            "type": "histogram"
           }
          ],
          "histogram2d": [
           {
            "colorbar": {
             "outlinewidth": 0,
             "ticks": ""
            },
            "colorscale": [
             [
              0,
              "#0d0887"
             ],
             [
              0.1111111111111111,
              "#46039f"
             ],
             [
              0.2222222222222222,
              "#7201a8"
             ],
             [
              0.3333333333333333,
              "#9c179e"
             ],
             [
              0.4444444444444444,
              "#bd3786"
             ],
             [
              0.5555555555555556,
              "#d8576b"
             ],
             [
              0.6666666666666666,
              "#ed7953"
             ],
             [
              0.7777777777777778,
              "#fb9f3a"
             ],
             [
              0.8888888888888888,
              "#fdca26"
             ],
             [
              1,
              "#f0f921"
             ]
            ],
            "type": "histogram2d"
           }
          ],
          "histogram2dcontour": [
           {
            "colorbar": {
             "outlinewidth": 0,
             "ticks": ""
            },
            "colorscale": [
             [
              0,
              "#0d0887"
             ],
             [
              0.1111111111111111,
              "#46039f"
             ],
             [
              0.2222222222222222,
              "#7201a8"
             ],
             [
              0.3333333333333333,
              "#9c179e"
             ],
             [
              0.4444444444444444,
              "#bd3786"
             ],
             [
              0.5555555555555556,
              "#d8576b"
             ],
             [
              0.6666666666666666,
              "#ed7953"
             ],
             [
              0.7777777777777778,
              "#fb9f3a"
             ],
             [
              0.8888888888888888,
              "#fdca26"
             ],
             [
              1,
              "#f0f921"
             ]
            ],
            "type": "histogram2dcontour"
           }
          ],
          "mesh3d": [
           {
            "colorbar": {
             "outlinewidth": 0,
             "ticks": ""
            },
            "type": "mesh3d"
           }
          ],
          "parcoords": [
           {
            "line": {
             "colorbar": {
              "outlinewidth": 0,
              "ticks": ""
             }
            },
            "type": "parcoords"
           }
          ],
          "pie": [
           {
            "automargin": true,
            "type": "pie"
           }
          ],
          "scatter": [
           {
            "fillpattern": {
             "fillmode": "overlay",
             "size": 10,
             "solidity": 0.2
            },
            "type": "scatter"
           }
          ],
          "scatter3d": [
           {
            "line": {
             "colorbar": {
              "outlinewidth": 0,
              "ticks": ""
             }
            },
            "marker": {
             "colorbar": {
              "outlinewidth": 0,
              "ticks": ""
             }
            },
            "type": "scatter3d"
           }
          ],
          "scattercarpet": [
           {
            "marker": {
             "colorbar": {
              "outlinewidth": 0,
              "ticks": ""
             }
            },
            "type": "scattercarpet"
           }
          ],
          "scattergeo": [
           {
            "marker": {
             "colorbar": {
              "outlinewidth": 0,
              "ticks": ""
             }
            },
            "type": "scattergeo"
           }
          ],
          "scattergl": [
           {
            "marker": {
             "colorbar": {
              "outlinewidth": 0,
              "ticks": ""
             }
            },
            "type": "scattergl"
           }
          ],
          "scattermapbox": [
           {
            "marker": {
             "colorbar": {
              "outlinewidth": 0,
              "ticks": ""
             }
            },
            "type": "scattermapbox"
           }
          ],
          "scatterpolar": [
           {
            "marker": {
             "colorbar": {
              "outlinewidth": 0,
              "ticks": ""
             }
            },
            "type": "scatterpolar"
           }
          ],
          "scatterpolargl": [
           {
            "marker": {
             "colorbar": {
              "outlinewidth": 0,
              "ticks": ""
             }
            },
            "type": "scatterpolargl"
           }
          ],
          "scatterternary": [
           {
            "marker": {
             "colorbar": {
              "outlinewidth": 0,
              "ticks": ""
             }
            },
            "type": "scatterternary"
           }
          ],
          "surface": [
           {
            "colorbar": {
             "outlinewidth": 0,
             "ticks": ""
            },
            "colorscale": [
             [
              0,
              "#0d0887"
             ],
             [
              0.1111111111111111,
              "#46039f"
             ],
             [
              0.2222222222222222,
              "#7201a8"
             ],
             [
              0.3333333333333333,
              "#9c179e"
             ],
             [
              0.4444444444444444,
              "#bd3786"
             ],
             [
              0.5555555555555556,
              "#d8576b"
             ],
             [
              0.6666666666666666,
              "#ed7953"
             ],
             [
              0.7777777777777778,
              "#fb9f3a"
             ],
             [
              0.8888888888888888,
              "#fdca26"
             ],
             [
              1,
              "#f0f921"
             ]
            ],
            "type": "surface"
           }
          ],
          "table": [
           {
            "cells": {
             "fill": {
              "color": "#EBF0F8"
             },
             "line": {
              "color": "white"
             }
            },
            "header": {
             "fill": {
              "color": "#C8D4E3"
             },
             "line": {
              "color": "white"
             }
            },
            "type": "table"
           }
          ]
         },
         "layout": {
          "annotationdefaults": {
           "arrowcolor": "#2a3f5f",
           "arrowhead": 0,
           "arrowwidth": 1
          },
          "autotypenumbers": "strict",
          "coloraxis": {
           "colorbar": {
            "outlinewidth": 0,
            "ticks": ""
           }
          },
          "colorscale": {
           "diverging": [
            [
             0,
             "#8e0152"
            ],
            [
             0.1,
             "#c51b7d"
            ],
            [
             0.2,
             "#de77ae"
            ],
            [
             0.3,
             "#f1b6da"
            ],
            [
             0.4,
             "#fde0ef"
            ],
            [
             0.5,
             "#f7f7f7"
            ],
            [
             0.6,
             "#e6f5d0"
            ],
            [
             0.7,
             "#b8e186"
            ],
            [
             0.8,
             "#7fbc41"
            ],
            [
             0.9,
             "#4d9221"
            ],
            [
             1,
             "#276419"
            ]
           ],
           "sequential": [
            [
             0,
             "#0d0887"
            ],
            [
             0.1111111111111111,
             "#46039f"
            ],
            [
             0.2222222222222222,
             "#7201a8"
            ],
            [
             0.3333333333333333,
             "#9c179e"
            ],
            [
             0.4444444444444444,
             "#bd3786"
            ],
            [
             0.5555555555555556,
             "#d8576b"
            ],
            [
             0.6666666666666666,
             "#ed7953"
            ],
            [
             0.7777777777777778,
             "#fb9f3a"
            ],
            [
             0.8888888888888888,
             "#fdca26"
            ],
            [
             1,
             "#f0f921"
            ]
           ],
           "sequentialminus": [
            [
             0,
             "#0d0887"
            ],
            [
             0.1111111111111111,
             "#46039f"
            ],
            [
             0.2222222222222222,
             "#7201a8"
            ],
            [
             0.3333333333333333,
             "#9c179e"
            ],
            [
             0.4444444444444444,
             "#bd3786"
            ],
            [
             0.5555555555555556,
             "#d8576b"
            ],
            [
             0.6666666666666666,
             "#ed7953"
            ],
            [
             0.7777777777777778,
             "#fb9f3a"
            ],
            [
             0.8888888888888888,
             "#fdca26"
            ],
            [
             1,
             "#f0f921"
            ]
           ]
          },
          "colorway": [
           "#636efa",
           "#EF553B",
           "#00cc96",
           "#ab63fa",
           "#FFA15A",
           "#19d3f3",
           "#FF6692",
           "#B6E880",
           "#FF97FF",
           "#FECB52"
          ],
          "font": {
           "color": "#2a3f5f"
          },
          "geo": {
           "bgcolor": "white",
           "lakecolor": "white",
           "landcolor": "#E5ECF6",
           "showlakes": true,
           "showland": true,
           "subunitcolor": "white"
          },
          "hoverlabel": {
           "align": "left"
          },
          "hovermode": "closest",
          "mapbox": {
           "style": "light"
          },
          "paper_bgcolor": "white",
          "plot_bgcolor": "#E5ECF6",
          "polar": {
           "angularaxis": {
            "gridcolor": "white",
            "linecolor": "white",
            "ticks": ""
           },
           "bgcolor": "#E5ECF6",
           "radialaxis": {
            "gridcolor": "white",
            "linecolor": "white",
            "ticks": ""
           }
          },
          "scene": {
           "xaxis": {
            "backgroundcolor": "#E5ECF6",
            "gridcolor": "white",
            "gridwidth": 2,
            "linecolor": "white",
            "showbackground": true,
            "ticks": "",
            "zerolinecolor": "white"
           },
           "yaxis": {
            "backgroundcolor": "#E5ECF6",
            "gridcolor": "white",
            "gridwidth": 2,
            "linecolor": "white",
            "showbackground": true,
            "ticks": "",
            "zerolinecolor": "white"
           },
           "zaxis": {
            "backgroundcolor": "#E5ECF6",
            "gridcolor": "white",
            "gridwidth": 2,
            "linecolor": "white",
            "showbackground": true,
            "ticks": "",
            "zerolinecolor": "white"
           }
          },
          "shapedefaults": {
           "line": {
            "color": "#2a3f5f"
           }
          },
          "ternary": {
           "aaxis": {
            "gridcolor": "white",
            "linecolor": "white",
            "ticks": ""
           },
           "baxis": {
            "gridcolor": "white",
            "linecolor": "white",
            "ticks": ""
           },
           "bgcolor": "#E5ECF6",
           "caxis": {
            "gridcolor": "white",
            "linecolor": "white",
            "ticks": ""
           }
          },
          "title": {
           "x": 0.05
          },
          "xaxis": {
           "automargin": true,
           "gridcolor": "white",
           "linecolor": "white",
           "ticks": "",
           "title": {
            "standoff": 15
           },
           "zerolinecolor": "white",
           "zerolinewidth": 2
          },
          "yaxis": {
           "automargin": true,
           "gridcolor": "white",
           "linecolor": "white",
           "ticks": "",
           "title": {
            "standoff": 15
           },
           "zerolinecolor": "white",
           "zerolinewidth": 2
          }
         }
        },
        "title": {
         "text": "Tipo entidad"
        },
        "xaxis": {
         "anchor": "y",
         "domain": [
          0,
          1
         ],
         "title": {
          "text": "Total"
         }
        },
        "yaxis": {
         "anchor": "x",
         "domain": [
          0,
          1
         ],
         "title": {
          "text": "tipo_entidad"
         }
        }
       }
      }
     },
     "metadata": {},
     "output_type": "display_data"
    },
    {
     "data": {
      "text/html": [
       "<div>\n",
       "<style scoped>\n",
       "    .dataframe tbody tr th:only-of-type {\n",
       "        vertical-align: middle;\n",
       "    }\n",
       "\n",
       "    .dataframe tbody tr th {\n",
       "        vertical-align: top;\n",
       "    }\n",
       "\n",
       "    .dataframe thead th {\n",
       "        text-align: right;\n",
       "    }\n",
       "</style>\n",
       "<table border=\"1\" class=\"dataframe\">\n",
       "  <thead>\n",
       "    <tr style=\"text-align: right;\">\n",
       "      <th></th>\n",
       "      <th>tipo_entidad</th>\n",
       "      <th>Frecuencia Absoluta</th>\n",
       "      <th>Frecuencia Relativa</th>\n",
       "    </tr>\n",
       "  </thead>\n",
       "  <tbody>\n",
       "    <tr>\n",
       "      <th>3</th>\n",
       "      <td>ESTABLECIMIENTOS BANCARIOS</td>\n",
       "      <td>56116</td>\n",
       "      <td>69.365 %</td>\n",
       "    </tr>\n",
       "    <tr>\n",
       "      <th>0</th>\n",
       "      <td>COMPAÑIAS DE FINANCIAMIENTO</td>\n",
       "      <td>13900</td>\n",
       "      <td>17.182 %</td>\n",
       "    </tr>\n",
       "    <tr>\n",
       "      <th>2</th>\n",
       "      <td>ENTIDADES COOPERATIVAS DE CARÁCTER FINANCIERO</td>\n",
       "      <td>8614</td>\n",
       "      <td>10.648 %</td>\n",
       "    </tr>\n",
       "    <tr>\n",
       "      <th>4</th>\n",
       "      <td>INSTITUCIONES OFICIALES ESPECIALES</td>\n",
       "      <td>2153</td>\n",
       "      <td>2.661 %</td>\n",
       "    </tr>\n",
       "    <tr>\n",
       "      <th>1</th>\n",
       "      <td>CORPORACIONES FINANCIERAS</td>\n",
       "      <td>117</td>\n",
       "      <td>0.145 %</td>\n",
       "    </tr>\n",
       "  </tbody>\n",
       "</table>\n",
       "</div>"
      ],
      "text/plain": [
       "                                    tipo_entidad  Frecuencia Absoluta  \\\n",
       "3                     ESTABLECIMIENTOS BANCARIOS                56116   \n",
       "0                    COMPAÑIAS DE FINANCIAMIENTO                13900   \n",
       "2  ENTIDADES COOPERATIVAS DE CARÁCTER FINANCIERO                 8614   \n",
       "4             INSTITUCIONES OFICIALES ESPECIALES                 2153   \n",
       "1                      CORPORACIONES FINANCIERAS                  117   \n",
       "\n",
       "  Frecuencia Relativa  \n",
       "3            69.365 %  \n",
       "0            17.182 %  \n",
       "2            10.648 %  \n",
       "4             2.661 %  \n",
       "1             0.145 %  "
      ]
     },
     "execution_count": 5,
     "metadata": {},
     "output_type": "execute_result"
    }
   ],
   "source": [
    "utils.univariado_barras(df2, 'tipo_entidad', orientation='h')"
   ]
  },
  {
   "cell_type": "code",
   "execution_count": 6,
   "metadata": {},
   "outputs": [],
   "source": [
    "df = df2.sample(25000, random_state=123)"
   ]
  },
  {
   "cell_type": "code",
   "execution_count": 7,
   "metadata": {},
   "outputs": [
    {
     "data": {
      "application/vnd.plotly.v1+json": {
       "config": {
        "plotlyServerURL": "https://plot.ly"
       },
       "data": [
        {
         "alignmentgroup": "True",
         "hovertemplate": "variable=Frecuencia Absoluta<br>Total=%{x}<br>tipo_entidad=%{y}<br>Frecuencia Relativa=%{text}<extra></extra>",
         "legendgroup": "Frecuencia Absoluta",
         "marker": {
          "color": "#636efa",
          "pattern": {
           "shape": ""
          }
         },
         "name": "Frecuencia Absoluta",
         "offsetgroup": "Frecuencia Absoluta",
         "orientation": "h",
         "showlegend": true,
         "text": [
          "0.148 %",
          "2.588 %",
          "10.932 %",
          "17.112 %",
          "69.22 %"
         ],
         "textposition": "auto",
         "texttemplate": "%{x}",
         "type": "bar",
         "x": [
          37,
          647,
          2733,
          4278,
          17305
         ],
         "xaxis": "x",
         "y": [
          "CORPORACIONES FINANCIERAS",
          "INSTITUCIONES OFICIALES ESPECIALES",
          "ENTIDADES COOPERATIVAS DE CARÁCTER FINANCIERO",
          "COMPAÑIAS DE FINANCIAMIENTO",
          "ESTABLECIMIENTOS BANCARIOS"
         ],
         "yaxis": "y"
        }
       ],
       "layout": {
        "barmode": "relative",
        "height": 400,
        "legend": {
         "title": {
          "text": "variable"
         },
         "tracegroupgap": 0
        },
        "showlegend": false,
        "template": {
         "data": {
          "bar": [
           {
            "error_x": {
             "color": "#2a3f5f"
            },
            "error_y": {
             "color": "#2a3f5f"
            },
            "marker": {
             "line": {
              "color": "#E5ECF6",
              "width": 0.5
             },
             "pattern": {
              "fillmode": "overlay",
              "size": 10,
              "solidity": 0.2
             }
            },
            "type": "bar"
           }
          ],
          "barpolar": [
           {
            "marker": {
             "line": {
              "color": "#E5ECF6",
              "width": 0.5
             },
             "pattern": {
              "fillmode": "overlay",
              "size": 10,
              "solidity": 0.2
             }
            },
            "type": "barpolar"
           }
          ],
          "carpet": [
           {
            "aaxis": {
             "endlinecolor": "#2a3f5f",
             "gridcolor": "white",
             "linecolor": "white",
             "minorgridcolor": "white",
             "startlinecolor": "#2a3f5f"
            },
            "baxis": {
             "endlinecolor": "#2a3f5f",
             "gridcolor": "white",
             "linecolor": "white",
             "minorgridcolor": "white",
             "startlinecolor": "#2a3f5f"
            },
            "type": "carpet"
           }
          ],
          "choropleth": [
           {
            "colorbar": {
             "outlinewidth": 0,
             "ticks": ""
            },
            "type": "choropleth"
           }
          ],
          "contour": [
           {
            "colorbar": {
             "outlinewidth": 0,
             "ticks": ""
            },
            "colorscale": [
             [
              0,
              "#0d0887"
             ],
             [
              0.1111111111111111,
              "#46039f"
             ],
             [
              0.2222222222222222,
              "#7201a8"
             ],
             [
              0.3333333333333333,
              "#9c179e"
             ],
             [
              0.4444444444444444,
              "#bd3786"
             ],
             [
              0.5555555555555556,
              "#d8576b"
             ],
             [
              0.6666666666666666,
              "#ed7953"
             ],
             [
              0.7777777777777778,
              "#fb9f3a"
             ],
             [
              0.8888888888888888,
              "#fdca26"
             ],
             [
              1,
              "#f0f921"
             ]
            ],
            "type": "contour"
           }
          ],
          "contourcarpet": [
           {
            "colorbar": {
             "outlinewidth": 0,
             "ticks": ""
            },
            "type": "contourcarpet"
           }
          ],
          "heatmap": [
           {
            "colorbar": {
             "outlinewidth": 0,
             "ticks": ""
            },
            "colorscale": [
             [
              0,
              "#0d0887"
             ],
             [
              0.1111111111111111,
              "#46039f"
             ],
             [
              0.2222222222222222,
              "#7201a8"
             ],
             [
              0.3333333333333333,
              "#9c179e"
             ],
             [
              0.4444444444444444,
              "#bd3786"
             ],
             [
              0.5555555555555556,
              "#d8576b"
             ],
             [
              0.6666666666666666,
              "#ed7953"
             ],
             [
              0.7777777777777778,
              "#fb9f3a"
             ],
             [
              0.8888888888888888,
              "#fdca26"
             ],
             [
              1,
              "#f0f921"
             ]
            ],
            "type": "heatmap"
           }
          ],
          "heatmapgl": [
           {
            "colorbar": {
             "outlinewidth": 0,
             "ticks": ""
            },
            "colorscale": [
             [
              0,
              "#0d0887"
             ],
             [
              0.1111111111111111,
              "#46039f"
             ],
             [
              0.2222222222222222,
              "#7201a8"
             ],
             [
              0.3333333333333333,
              "#9c179e"
             ],
             [
              0.4444444444444444,
              "#bd3786"
             ],
             [
              0.5555555555555556,
              "#d8576b"
             ],
             [
              0.6666666666666666,
              "#ed7953"
             ],
             [
              0.7777777777777778,
              "#fb9f3a"
             ],
             [
              0.8888888888888888,
              "#fdca26"
             ],
             [
              1,
              "#f0f921"
             ]
            ],
            "type": "heatmapgl"
           }
          ],
          "histogram": [
           {
            "marker": {
             "pattern": {
              "fillmode": "overlay",
              "size": 10,
              "solidity": 0.2
             }
            },
            "type": "histogram"
           }
          ],
          "histogram2d": [
           {
            "colorbar": {
             "outlinewidth": 0,
             "ticks": ""
            },
            "colorscale": [
             [
              0,
              "#0d0887"
             ],
             [
              0.1111111111111111,
              "#46039f"
             ],
             [
              0.2222222222222222,
              "#7201a8"
             ],
             [
              0.3333333333333333,
              "#9c179e"
             ],
             [
              0.4444444444444444,
              "#bd3786"
             ],
             [
              0.5555555555555556,
              "#d8576b"
             ],
             [
              0.6666666666666666,
              "#ed7953"
             ],
             [
              0.7777777777777778,
              "#fb9f3a"
             ],
             [
              0.8888888888888888,
              "#fdca26"
             ],
             [
              1,
              "#f0f921"
             ]
            ],
            "type": "histogram2d"
           }
          ],
          "histogram2dcontour": [
           {
            "colorbar": {
             "outlinewidth": 0,
             "ticks": ""
            },
            "colorscale": [
             [
              0,
              "#0d0887"
             ],
             [
              0.1111111111111111,
              "#46039f"
             ],
             [
              0.2222222222222222,
              "#7201a8"
             ],
             [
              0.3333333333333333,
              "#9c179e"
             ],
             [
              0.4444444444444444,
              "#bd3786"
             ],
             [
              0.5555555555555556,
              "#d8576b"
             ],
             [
              0.6666666666666666,
              "#ed7953"
             ],
             [
              0.7777777777777778,
              "#fb9f3a"
             ],
             [
              0.8888888888888888,
              "#fdca26"
             ],
             [
              1,
              "#f0f921"
             ]
            ],
            "type": "histogram2dcontour"
           }
          ],
          "mesh3d": [
           {
            "colorbar": {
             "outlinewidth": 0,
             "ticks": ""
            },
            "type": "mesh3d"
           }
          ],
          "parcoords": [
           {
            "line": {
             "colorbar": {
              "outlinewidth": 0,
              "ticks": ""
             }
            },
            "type": "parcoords"
           }
          ],
          "pie": [
           {
            "automargin": true,
            "type": "pie"
           }
          ],
          "scatter": [
           {
            "fillpattern": {
             "fillmode": "overlay",
             "size": 10,
             "solidity": 0.2
            },
            "type": "scatter"
           }
          ],
          "scatter3d": [
           {
            "line": {
             "colorbar": {
              "outlinewidth": 0,
              "ticks": ""
             }
            },
            "marker": {
             "colorbar": {
              "outlinewidth": 0,
              "ticks": ""
             }
            },
            "type": "scatter3d"
           }
          ],
          "scattercarpet": [
           {
            "marker": {
             "colorbar": {
              "outlinewidth": 0,
              "ticks": ""
             }
            },
            "type": "scattercarpet"
           }
          ],
          "scattergeo": [
           {
            "marker": {
             "colorbar": {
              "outlinewidth": 0,
              "ticks": ""
             }
            },
            "type": "scattergeo"
           }
          ],
          "scattergl": [
           {
            "marker": {
             "colorbar": {
              "outlinewidth": 0,
              "ticks": ""
             }
            },
            "type": "scattergl"
           }
          ],
          "scattermapbox": [
           {
            "marker": {
             "colorbar": {
              "outlinewidth": 0,
              "ticks": ""
             }
            },
            "type": "scattermapbox"
           }
          ],
          "scatterpolar": [
           {
            "marker": {
             "colorbar": {
              "outlinewidth": 0,
              "ticks": ""
             }
            },
            "type": "scatterpolar"
           }
          ],
          "scatterpolargl": [
           {
            "marker": {
             "colorbar": {
              "outlinewidth": 0,
              "ticks": ""
             }
            },
            "type": "scatterpolargl"
           }
          ],
          "scatterternary": [
           {
            "marker": {
             "colorbar": {
              "outlinewidth": 0,
              "ticks": ""
             }
            },
            "type": "scatterternary"
           }
          ],
          "surface": [
           {
            "colorbar": {
             "outlinewidth": 0,
             "ticks": ""
            },
            "colorscale": [
             [
              0,
              "#0d0887"
             ],
             [
              0.1111111111111111,
              "#46039f"
             ],
             [
              0.2222222222222222,
              "#7201a8"
             ],
             [
              0.3333333333333333,
              "#9c179e"
             ],
             [
              0.4444444444444444,
              "#bd3786"
             ],
             [
              0.5555555555555556,
              "#d8576b"
             ],
             [
              0.6666666666666666,
              "#ed7953"
             ],
             [
              0.7777777777777778,
              "#fb9f3a"
             ],
             [
              0.8888888888888888,
              "#fdca26"
             ],
             [
              1,
              "#f0f921"
             ]
            ],
            "type": "surface"
           }
          ],
          "table": [
           {
            "cells": {
             "fill": {
              "color": "#EBF0F8"
             },
             "line": {
              "color": "white"
             }
            },
            "header": {
             "fill": {
              "color": "#C8D4E3"
             },
             "line": {
              "color": "white"
             }
            },
            "type": "table"
           }
          ]
         },
         "layout": {
          "annotationdefaults": {
           "arrowcolor": "#2a3f5f",
           "arrowhead": 0,
           "arrowwidth": 1
          },
          "autotypenumbers": "strict",
          "coloraxis": {
           "colorbar": {
            "outlinewidth": 0,
            "ticks": ""
           }
          },
          "colorscale": {
           "diverging": [
            [
             0,
             "#8e0152"
            ],
            [
             0.1,
             "#c51b7d"
            ],
            [
             0.2,
             "#de77ae"
            ],
            [
             0.3,
             "#f1b6da"
            ],
            [
             0.4,
             "#fde0ef"
            ],
            [
             0.5,
             "#f7f7f7"
            ],
            [
             0.6,
             "#e6f5d0"
            ],
            [
             0.7,
             "#b8e186"
            ],
            [
             0.8,
             "#7fbc41"
            ],
            [
             0.9,
             "#4d9221"
            ],
            [
             1,
             "#276419"
            ]
           ],
           "sequential": [
            [
             0,
             "#0d0887"
            ],
            [
             0.1111111111111111,
             "#46039f"
            ],
            [
             0.2222222222222222,
             "#7201a8"
            ],
            [
             0.3333333333333333,
             "#9c179e"
            ],
            [
             0.4444444444444444,
             "#bd3786"
            ],
            [
             0.5555555555555556,
             "#d8576b"
            ],
            [
             0.6666666666666666,
             "#ed7953"
            ],
            [
             0.7777777777777778,
             "#fb9f3a"
            ],
            [
             0.8888888888888888,
             "#fdca26"
            ],
            [
             1,
             "#f0f921"
            ]
           ],
           "sequentialminus": [
            [
             0,
             "#0d0887"
            ],
            [
             0.1111111111111111,
             "#46039f"
            ],
            [
             0.2222222222222222,
             "#7201a8"
            ],
            [
             0.3333333333333333,
             "#9c179e"
            ],
            [
             0.4444444444444444,
             "#bd3786"
            ],
            [
             0.5555555555555556,
             "#d8576b"
            ],
            [
             0.6666666666666666,
             "#ed7953"
            ],
            [
             0.7777777777777778,
             "#fb9f3a"
            ],
            [
             0.8888888888888888,
             "#fdca26"
            ],
            [
             1,
             "#f0f921"
            ]
           ]
          },
          "colorway": [
           "#636efa",
           "#EF553B",
           "#00cc96",
           "#ab63fa",
           "#FFA15A",
           "#19d3f3",
           "#FF6692",
           "#B6E880",
           "#FF97FF",
           "#FECB52"
          ],
          "font": {
           "color": "#2a3f5f"
          },
          "geo": {
           "bgcolor": "white",
           "lakecolor": "white",
           "landcolor": "#E5ECF6",
           "showlakes": true,
           "showland": true,
           "subunitcolor": "white"
          },
          "hoverlabel": {
           "align": "left"
          },
          "hovermode": "closest",
          "mapbox": {
           "style": "light"
          },
          "paper_bgcolor": "white",
          "plot_bgcolor": "#E5ECF6",
          "polar": {
           "angularaxis": {
            "gridcolor": "white",
            "linecolor": "white",
            "ticks": ""
           },
           "bgcolor": "#E5ECF6",
           "radialaxis": {
            "gridcolor": "white",
            "linecolor": "white",
            "ticks": ""
           }
          },
          "scene": {
           "xaxis": {
            "backgroundcolor": "#E5ECF6",
            "gridcolor": "white",
            "gridwidth": 2,
            "linecolor": "white",
            "showbackground": true,
            "ticks": "",
            "zerolinecolor": "white"
           },
           "yaxis": {
            "backgroundcolor": "#E5ECF6",
            "gridcolor": "white",
            "gridwidth": 2,
            "linecolor": "white",
            "showbackground": true,
            "ticks": "",
            "zerolinecolor": "white"
           },
           "zaxis": {
            "backgroundcolor": "#E5ECF6",
            "gridcolor": "white",
            "gridwidth": 2,
            "linecolor": "white",
            "showbackground": true,
            "ticks": "",
            "zerolinecolor": "white"
           }
          },
          "shapedefaults": {
           "line": {
            "color": "#2a3f5f"
           }
          },
          "ternary": {
           "aaxis": {
            "gridcolor": "white",
            "linecolor": "white",
            "ticks": ""
           },
           "baxis": {
            "gridcolor": "white",
            "linecolor": "white",
            "ticks": ""
           },
           "bgcolor": "#E5ECF6",
           "caxis": {
            "gridcolor": "white",
            "linecolor": "white",
            "ticks": ""
           }
          },
          "title": {
           "x": 0.05
          },
          "xaxis": {
           "automargin": true,
           "gridcolor": "white",
           "linecolor": "white",
           "ticks": "",
           "title": {
            "standoff": 15
           },
           "zerolinecolor": "white",
           "zerolinewidth": 2
          },
          "yaxis": {
           "automargin": true,
           "gridcolor": "white",
           "linecolor": "white",
           "ticks": "",
           "title": {
            "standoff": 15
           },
           "zerolinecolor": "white",
           "zerolinewidth": 2
          }
         }
        },
        "title": {
         "text": "Tipo entidad"
        },
        "xaxis": {
         "anchor": "y",
         "domain": [
          0,
          1
         ],
         "title": {
          "text": "Total"
         }
        },
        "yaxis": {
         "anchor": "x",
         "domain": [
          0,
          1
         ],
         "title": {
          "text": "tipo_entidad"
         }
        }
       }
      }
     },
     "metadata": {},
     "output_type": "display_data"
    },
    {
     "data": {
      "text/html": [
       "<div>\n",
       "<style scoped>\n",
       "    .dataframe tbody tr th:only-of-type {\n",
       "        vertical-align: middle;\n",
       "    }\n",
       "\n",
       "    .dataframe tbody tr th {\n",
       "        vertical-align: top;\n",
       "    }\n",
       "\n",
       "    .dataframe thead th {\n",
       "        text-align: right;\n",
       "    }\n",
       "</style>\n",
       "<table border=\"1\" class=\"dataframe\">\n",
       "  <thead>\n",
       "    <tr style=\"text-align: right;\">\n",
       "      <th></th>\n",
       "      <th>tipo_entidad</th>\n",
       "      <th>Frecuencia Absoluta</th>\n",
       "      <th>Frecuencia Relativa</th>\n",
       "    </tr>\n",
       "  </thead>\n",
       "  <tbody>\n",
       "    <tr>\n",
       "      <th>3</th>\n",
       "      <td>ESTABLECIMIENTOS BANCARIOS</td>\n",
       "      <td>17305</td>\n",
       "      <td>69.22 %</td>\n",
       "    </tr>\n",
       "    <tr>\n",
       "      <th>0</th>\n",
       "      <td>COMPAÑIAS DE FINANCIAMIENTO</td>\n",
       "      <td>4278</td>\n",
       "      <td>17.112 %</td>\n",
       "    </tr>\n",
       "    <tr>\n",
       "      <th>2</th>\n",
       "      <td>ENTIDADES COOPERATIVAS DE CARÁCTER FINANCIERO</td>\n",
       "      <td>2733</td>\n",
       "      <td>10.932 %</td>\n",
       "    </tr>\n",
       "    <tr>\n",
       "      <th>4</th>\n",
       "      <td>INSTITUCIONES OFICIALES ESPECIALES</td>\n",
       "      <td>647</td>\n",
       "      <td>2.588 %</td>\n",
       "    </tr>\n",
       "    <tr>\n",
       "      <th>1</th>\n",
       "      <td>CORPORACIONES FINANCIERAS</td>\n",
       "      <td>37</td>\n",
       "      <td>0.148 %</td>\n",
       "    </tr>\n",
       "  </tbody>\n",
       "</table>\n",
       "</div>"
      ],
      "text/plain": [
       "                                    tipo_entidad  Frecuencia Absoluta  \\\n",
       "3                     ESTABLECIMIENTOS BANCARIOS                17305   \n",
       "0                    COMPAÑIAS DE FINANCIAMIENTO                 4278   \n",
       "2  ENTIDADES COOPERATIVAS DE CARÁCTER FINANCIERO                 2733   \n",
       "4             INSTITUCIONES OFICIALES ESPECIALES                  647   \n",
       "1                      CORPORACIONES FINANCIERAS                   37   \n",
       "\n",
       "  Frecuencia Relativa  \n",
       "3             69.22 %  \n",
       "0            17.112 %  \n",
       "2            10.932 %  \n",
       "4             2.588 %  \n",
       "1             0.148 %  "
      ]
     },
     "execution_count": 7,
     "metadata": {},
     "output_type": "execute_result"
    }
   ],
   "source": [
    "utils.univariado_barras(df, 'tipo_entidad', orientation='h')"
   ]
  },
  {
   "cell_type": "markdown",
   "metadata": {},
   "source": [
    "# 3. Correlaciones variables numéricas"
   ]
  },
  {
   "cell_type": "code",
   "execution_count": 8,
   "metadata": {},
   "outputs": [
    {
     "data": {
      "application/vnd.plotly.v1+json": {
       "config": {
        "plotlyServerURL": "https://plot.ly"
       },
       "data": [
        {
         "coloraxis": "coloraxis",
         "hovertemplate": "x: %{x}<br>y: %{y}<br>color: %{z}<extra></extra>",
         "name": "0",
         "texttemplate": "%{z}",
         "type": "heatmap",
         "x": [
          "saldo_a_la_fecha",
          "vigente",
          "clientes_mora+30d",
          "riesgo_a_c",
          "riesgo_a_s",
          "riesgo_b_c",
          "riesgo_b_s",
          "riesgo_c_c",
          "riesgo_c_s",
          "riesgo_d_c",
          "riesgo_d_s",
          "riesgo_e_c",
          "riesgo_e_s",
          "venc1_6",
          "venc6_12",
          "venc+12"
         ],
         "xaxis": "x",
         "y": [
          "saldo_a_la_fecha",
          "vigente",
          "clientes_mora+30d",
          "riesgo_a_c",
          "riesgo_a_s",
          "riesgo_b_c",
          "riesgo_b_s",
          "riesgo_c_c",
          "riesgo_c_s",
          "riesgo_d_c",
          "riesgo_d_s",
          "riesgo_e_c",
          "riesgo_e_s",
          "venc1_6",
          "venc6_12",
          "venc+12"
         ],
         "yaxis": "y",
         "z": [
          [
           1,
           0.9995569945746221,
           null,
           null,
           0.9959449718580631,
           null,
           0.7438019974229019,
           null,
           null,
           null,
           null,
           null,
           null,
           null,
           null,
           null
          ],
          [
           0.9995569945746221,
           1,
           null,
           null,
           0.9968422409730118,
           null,
           0.7342305262980201,
           null,
           null,
           null,
           null,
           null,
           null,
           null,
           null,
           null
          ],
          [
           null,
           null,
           1,
           0.8923881772759737,
           null,
           0.9138435235993769,
           null,
           null,
           null,
           0.9071340405945283,
           null,
           0.7874047331554916,
           null,
           null,
           null,
           null
          ],
          [
           null,
           null,
           0.8923881772759737,
           1,
           null,
           0.9051708288901555,
           null,
           null,
           null,
           0.8585079836429811,
           null,
           null,
           null,
           null,
           null,
           null
          ],
          [
           0.9959449718580631,
           0.9968422409730118,
           null,
           null,
           1,
           null,
           0.7151401634993234,
           null,
           null,
           null,
           null,
           null,
           null,
           null,
           null,
           null
          ],
          [
           null,
           null,
           0.9138435235993769,
           0.9051708288901555,
           null,
           1,
           null,
           null,
           null,
           0.8842691099022422,
           null,
           null,
           null,
           null,
           null,
           null
          ],
          [
           0.7438019974229019,
           0.7342305262980201,
           null,
           null,
           0.7151401634993234,
           null,
           1,
           null,
           0.7663909768332732,
           null,
           0.7189592851194612,
           null,
           null,
           null,
           null,
           null
          ],
          [
           null,
           null,
           null,
           null,
           null,
           null,
           null,
           1,
           null,
           null,
           null,
           null,
           null,
           null,
           null,
           null
          ],
          [
           null,
           null,
           null,
           null,
           null,
           null,
           0.7663909768332732,
           null,
           1,
           null,
           null,
           null,
           null,
           null,
           null,
           null
          ],
          [
           null,
           null,
           0.9071340405945283,
           0.8585079836429811,
           null,
           0.8842691099022422,
           null,
           null,
           null,
           1,
           null,
           null,
           null,
           null,
           null,
           null
          ],
          [
           null,
           null,
           null,
           null,
           null,
           null,
           0.7189592851194612,
           null,
           null,
           null,
           1,
           null,
           null,
           0.7009298752356122,
           null,
           null
          ],
          [
           null,
           null,
           0.7874047331554916,
           null,
           null,
           null,
           null,
           null,
           null,
           null,
           null,
           1,
           null,
           null,
           null,
           null
          ],
          [
           null,
           null,
           null,
           null,
           null,
           null,
           null,
           null,
           null,
           null,
           null,
           null,
           1,
           null,
           null,
           null
          ],
          [
           null,
           null,
           null,
           null,
           null,
           null,
           null,
           null,
           null,
           null,
           0.7009298752356122,
           null,
           null,
           1,
           null,
           null
          ],
          [
           null,
           null,
           null,
           null,
           null,
           null,
           null,
           null,
           null,
           null,
           null,
           null,
           null,
           null,
           1,
           null
          ],
          [
           null,
           null,
           null,
           null,
           null,
           null,
           null,
           null,
           null,
           null,
           null,
           null,
           null,
           null,
           null,
           1
          ]
         ]
        }
       ],
       "layout": {
        "coloraxis": {
         "colorscale": [
          [
           0,
           "#0d0887"
          ],
          [
           0.1111111111111111,
           "#46039f"
          ],
          [
           0.2222222222222222,
           "#7201a8"
          ],
          [
           0.3333333333333333,
           "#9c179e"
          ],
          [
           0.4444444444444444,
           "#bd3786"
          ],
          [
           0.5555555555555556,
           "#d8576b"
          ],
          [
           0.6666666666666666,
           "#ed7953"
          ],
          [
           0.7777777777777778,
           "#fb9f3a"
          ],
          [
           0.8888888888888888,
           "#fdca26"
          ],
          [
           1,
           "#f0f921"
          ]
         ]
        },
        "height": 800,
        "margin": {
         "t": 60
        },
        "template": {
         "data": {
          "bar": [
           {
            "error_x": {
             "color": "#2a3f5f"
            },
            "error_y": {
             "color": "#2a3f5f"
            },
            "marker": {
             "line": {
              "color": "#E5ECF6",
              "width": 0.5
             },
             "pattern": {
              "fillmode": "overlay",
              "size": 10,
              "solidity": 0.2
             }
            },
            "type": "bar"
           }
          ],
          "barpolar": [
           {
            "marker": {
             "line": {
              "color": "#E5ECF6",
              "width": 0.5
             },
             "pattern": {
              "fillmode": "overlay",
              "size": 10,
              "solidity": 0.2
             }
            },
            "type": "barpolar"
           }
          ],
          "carpet": [
           {
            "aaxis": {
             "endlinecolor": "#2a3f5f",
             "gridcolor": "white",
             "linecolor": "white",
             "minorgridcolor": "white",
             "startlinecolor": "#2a3f5f"
            },
            "baxis": {
             "endlinecolor": "#2a3f5f",
             "gridcolor": "white",
             "linecolor": "white",
             "minorgridcolor": "white",
             "startlinecolor": "#2a3f5f"
            },
            "type": "carpet"
           }
          ],
          "choropleth": [
           {
            "colorbar": {
             "outlinewidth": 0,
             "ticks": ""
            },
            "type": "choropleth"
           }
          ],
          "contour": [
           {
            "colorbar": {
             "outlinewidth": 0,
             "ticks": ""
            },
            "colorscale": [
             [
              0,
              "#0d0887"
             ],
             [
              0.1111111111111111,
              "#46039f"
             ],
             [
              0.2222222222222222,
              "#7201a8"
             ],
             [
              0.3333333333333333,
              "#9c179e"
             ],
             [
              0.4444444444444444,
              "#bd3786"
             ],
             [
              0.5555555555555556,
              "#d8576b"
             ],
             [
              0.6666666666666666,
              "#ed7953"
             ],
             [
              0.7777777777777778,
              "#fb9f3a"
             ],
             [
              0.8888888888888888,
              "#fdca26"
             ],
             [
              1,
              "#f0f921"
             ]
            ],
            "type": "contour"
           }
          ],
          "contourcarpet": [
           {
            "colorbar": {
             "outlinewidth": 0,
             "ticks": ""
            },
            "type": "contourcarpet"
           }
          ],
          "heatmap": [
           {
            "colorbar": {
             "outlinewidth": 0,
             "ticks": ""
            },
            "colorscale": [
             [
              0,
              "#0d0887"
             ],
             [
              0.1111111111111111,
              "#46039f"
             ],
             [
              0.2222222222222222,
              "#7201a8"
             ],
             [
              0.3333333333333333,
              "#9c179e"
             ],
             [
              0.4444444444444444,
              "#bd3786"
             ],
             [
              0.5555555555555556,
              "#d8576b"
             ],
             [
              0.6666666666666666,
              "#ed7953"
             ],
             [
              0.7777777777777778,
              "#fb9f3a"
             ],
             [
              0.8888888888888888,
              "#fdca26"
             ],
             [
              1,
              "#f0f921"
             ]
            ],
            "type": "heatmap"
           }
          ],
          "heatmapgl": [
           {
            "colorbar": {
             "outlinewidth": 0,
             "ticks": ""
            },
            "colorscale": [
             [
              0,
              "#0d0887"
             ],
             [
              0.1111111111111111,
              "#46039f"
             ],
             [
              0.2222222222222222,
              "#7201a8"
             ],
             [
              0.3333333333333333,
              "#9c179e"
             ],
             [
              0.4444444444444444,
              "#bd3786"
             ],
             [
              0.5555555555555556,
              "#d8576b"
             ],
             [
              0.6666666666666666,
              "#ed7953"
             ],
             [
              0.7777777777777778,
              "#fb9f3a"
             ],
             [
              0.8888888888888888,
              "#fdca26"
             ],
             [
              1,
              "#f0f921"
             ]
            ],
            "type": "heatmapgl"
           }
          ],
          "histogram": [
           {
            "marker": {
             "pattern": {
              "fillmode": "overlay",
              "size": 10,
              "solidity": 0.2
             }
            },
            "type": "histogram"
           }
          ],
          "histogram2d": [
           {
            "colorbar": {
             "outlinewidth": 0,
             "ticks": ""
            },
            "colorscale": [
             [
              0,
              "#0d0887"
             ],
             [
              0.1111111111111111,
              "#46039f"
             ],
             [
              0.2222222222222222,
              "#7201a8"
             ],
             [
              0.3333333333333333,
              "#9c179e"
             ],
             [
              0.4444444444444444,
              "#bd3786"
             ],
             [
              0.5555555555555556,
              "#d8576b"
             ],
             [
              0.6666666666666666,
              "#ed7953"
             ],
             [
              0.7777777777777778,
              "#fb9f3a"
             ],
             [
              0.8888888888888888,
              "#fdca26"
             ],
             [
              1,
              "#f0f921"
             ]
            ],
            "type": "histogram2d"
           }
          ],
          "histogram2dcontour": [
           {
            "colorbar": {
             "outlinewidth": 0,
             "ticks": ""
            },
            "colorscale": [
             [
              0,
              "#0d0887"
             ],
             [
              0.1111111111111111,
              "#46039f"
             ],
             [
              0.2222222222222222,
              "#7201a8"
             ],
             [
              0.3333333333333333,
              "#9c179e"
             ],
             [
              0.4444444444444444,
              "#bd3786"
             ],
             [
              0.5555555555555556,
              "#d8576b"
             ],
             [
              0.6666666666666666,
              "#ed7953"
             ],
             [
              0.7777777777777778,
              "#fb9f3a"
             ],
             [
              0.8888888888888888,
              "#fdca26"
             ],
             [
              1,
              "#f0f921"
             ]
            ],
            "type": "histogram2dcontour"
           }
          ],
          "mesh3d": [
           {
            "colorbar": {
             "outlinewidth": 0,
             "ticks": ""
            },
            "type": "mesh3d"
           }
          ],
          "parcoords": [
           {
            "line": {
             "colorbar": {
              "outlinewidth": 0,
              "ticks": ""
             }
            },
            "type": "parcoords"
           }
          ],
          "pie": [
           {
            "automargin": true,
            "type": "pie"
           }
          ],
          "scatter": [
           {
            "fillpattern": {
             "fillmode": "overlay",
             "size": 10,
             "solidity": 0.2
            },
            "type": "scatter"
           }
          ],
          "scatter3d": [
           {
            "line": {
             "colorbar": {
              "outlinewidth": 0,
              "ticks": ""
             }
            },
            "marker": {
             "colorbar": {
              "outlinewidth": 0,
              "ticks": ""
             }
            },
            "type": "scatter3d"
           }
          ],
          "scattercarpet": [
           {
            "marker": {
             "colorbar": {
              "outlinewidth": 0,
              "ticks": ""
             }
            },
            "type": "scattercarpet"
           }
          ],
          "scattergeo": [
           {
            "marker": {
             "colorbar": {
              "outlinewidth": 0,
              "ticks": ""
             }
            },
            "type": "scattergeo"
           }
          ],
          "scattergl": [
           {
            "marker": {
             "colorbar": {
              "outlinewidth": 0,
              "ticks": ""
             }
            },
            "type": "scattergl"
           }
          ],
          "scattermapbox": [
           {
            "marker": {
             "colorbar": {
              "outlinewidth": 0,
              "ticks": ""
             }
            },
            "type": "scattermapbox"
           }
          ],
          "scatterpolar": [
           {
            "marker": {
             "colorbar": {
              "outlinewidth": 0,
              "ticks": ""
             }
            },
            "type": "scatterpolar"
           }
          ],
          "scatterpolargl": [
           {
            "marker": {
             "colorbar": {
              "outlinewidth": 0,
              "ticks": ""
             }
            },
            "type": "scatterpolargl"
           }
          ],
          "scatterternary": [
           {
            "marker": {
             "colorbar": {
              "outlinewidth": 0,
              "ticks": ""
             }
            },
            "type": "scatterternary"
           }
          ],
          "surface": [
           {
            "colorbar": {
             "outlinewidth": 0,
             "ticks": ""
            },
            "colorscale": [
             [
              0,
              "#0d0887"
             ],
             [
              0.1111111111111111,
              "#46039f"
             ],
             [
              0.2222222222222222,
              "#7201a8"
             ],
             [
              0.3333333333333333,
              "#9c179e"
             ],
             [
              0.4444444444444444,
              "#bd3786"
             ],
             [
              0.5555555555555556,
              "#d8576b"
             ],
             [
              0.6666666666666666,
              "#ed7953"
             ],
             [
              0.7777777777777778,
              "#fb9f3a"
             ],
             [
              0.8888888888888888,
              "#fdca26"
             ],
             [
              1,
              "#f0f921"
             ]
            ],
            "type": "surface"
           }
          ],
          "table": [
           {
            "cells": {
             "fill": {
              "color": "#EBF0F8"
             },
             "line": {
              "color": "white"
             }
            },
            "header": {
             "fill": {
              "color": "#C8D4E3"
             },
             "line": {
              "color": "white"
             }
            },
            "type": "table"
           }
          ]
         },
         "layout": {
          "annotationdefaults": {
           "arrowcolor": "#2a3f5f",
           "arrowhead": 0,
           "arrowwidth": 1
          },
          "autotypenumbers": "strict",
          "coloraxis": {
           "colorbar": {
            "outlinewidth": 0,
            "ticks": ""
           }
          },
          "colorscale": {
           "diverging": [
            [
             0,
             "#8e0152"
            ],
            [
             0.1,
             "#c51b7d"
            ],
            [
             0.2,
             "#de77ae"
            ],
            [
             0.3,
             "#f1b6da"
            ],
            [
             0.4,
             "#fde0ef"
            ],
            [
             0.5,
             "#f7f7f7"
            ],
            [
             0.6,
             "#e6f5d0"
            ],
            [
             0.7,
             "#b8e186"
            ],
            [
             0.8,
             "#7fbc41"
            ],
            [
             0.9,
             "#4d9221"
            ],
            [
             1,
             "#276419"
            ]
           ],
           "sequential": [
            [
             0,
             "#0d0887"
            ],
            [
             0.1111111111111111,
             "#46039f"
            ],
            [
             0.2222222222222222,
             "#7201a8"
            ],
            [
             0.3333333333333333,
             "#9c179e"
            ],
            [
             0.4444444444444444,
             "#bd3786"
            ],
            [
             0.5555555555555556,
             "#d8576b"
            ],
            [
             0.6666666666666666,
             "#ed7953"
            ],
            [
             0.7777777777777778,
             "#fb9f3a"
            ],
            [
             0.8888888888888888,
             "#fdca26"
            ],
            [
             1,
             "#f0f921"
            ]
           ],
           "sequentialminus": [
            [
             0,
             "#0d0887"
            ],
            [
             0.1111111111111111,
             "#46039f"
            ],
            [
             0.2222222222222222,
             "#7201a8"
            ],
            [
             0.3333333333333333,
             "#9c179e"
            ],
            [
             0.4444444444444444,
             "#bd3786"
            ],
            [
             0.5555555555555556,
             "#d8576b"
            ],
            [
             0.6666666666666666,
             "#ed7953"
            ],
            [
             0.7777777777777778,
             "#fb9f3a"
            ],
            [
             0.8888888888888888,
             "#fdca26"
            ],
            [
             1,
             "#f0f921"
            ]
           ]
          },
          "colorway": [
           "#636efa",
           "#EF553B",
           "#00cc96",
           "#ab63fa",
           "#FFA15A",
           "#19d3f3",
           "#FF6692",
           "#B6E880",
           "#FF97FF",
           "#FECB52"
          ],
          "font": {
           "color": "#2a3f5f"
          },
          "geo": {
           "bgcolor": "white",
           "lakecolor": "white",
           "landcolor": "#E5ECF6",
           "showlakes": true,
           "showland": true,
           "subunitcolor": "white"
          },
          "hoverlabel": {
           "align": "left"
          },
          "hovermode": "closest",
          "mapbox": {
           "style": "light"
          },
          "paper_bgcolor": "white",
          "plot_bgcolor": "#E5ECF6",
          "polar": {
           "angularaxis": {
            "gridcolor": "white",
            "linecolor": "white",
            "ticks": ""
           },
           "bgcolor": "#E5ECF6",
           "radialaxis": {
            "gridcolor": "white",
            "linecolor": "white",
            "ticks": ""
           }
          },
          "scene": {
           "xaxis": {
            "backgroundcolor": "#E5ECF6",
            "gridcolor": "white",
            "gridwidth": 2,
            "linecolor": "white",
            "showbackground": true,
            "ticks": "",
            "zerolinecolor": "white"
           },
           "yaxis": {
            "backgroundcolor": "#E5ECF6",
            "gridcolor": "white",
            "gridwidth": 2,
            "linecolor": "white",
            "showbackground": true,
            "ticks": "",
            "zerolinecolor": "white"
           },
           "zaxis": {
            "backgroundcolor": "#E5ECF6",
            "gridcolor": "white",
            "gridwidth": 2,
            "linecolor": "white",
            "showbackground": true,
            "ticks": "",
            "zerolinecolor": "white"
           }
          },
          "shapedefaults": {
           "line": {
            "color": "#2a3f5f"
           }
          },
          "ternary": {
           "aaxis": {
            "gridcolor": "white",
            "linecolor": "white",
            "ticks": ""
           },
           "baxis": {
            "gridcolor": "white",
            "linecolor": "white",
            "ticks": ""
           },
           "bgcolor": "#E5ECF6",
           "caxis": {
            "gridcolor": "white",
            "linecolor": "white",
            "ticks": ""
           }
          },
          "title": {
           "x": 0.05
          },
          "xaxis": {
           "automargin": true,
           "gridcolor": "white",
           "linecolor": "white",
           "ticks": "",
           "title": {
            "standoff": 15
           },
           "zerolinecolor": "white",
           "zerolinewidth": 2
          },
          "yaxis": {
           "automargin": true,
           "gridcolor": "white",
           "linecolor": "white",
           "ticks": "",
           "title": {
            "standoff": 15
           },
           "zerolinecolor": "white",
           "zerolinewidth": 2
          }
         }
        },
        "xaxis": {
         "anchor": "y",
         "constrain": "domain",
         "domain": [
          0,
          1
         ],
         "scaleanchor": "y"
        },
        "yaxis": {
         "anchor": "x",
         "autorange": "reversed",
         "constrain": "domain",
         "domain": [
          0,
          1
         ]
        }
       }
      }
     },
     "metadata": {},
     "output_type": "display_data"
    }
   ],
   "source": [
    "cols_num = df.select_dtypes(exclude=['object', 'datetime'])\n",
    "df_corr = cols_num.corr()\n",
    "fig = px.imshow(df_corr[(df_corr > 0.7) | (df_corr < -0.7)],  text_auto=True)\n",
    "fig.update_layout(height=800)\n",
    "fig.show()"
   ]
  },
  {
   "cell_type": "markdown",
   "metadata": {},
   "source": [
    "## ¿Por qué el saldo a la fecha y el saldo vigente presentan una correlación tan alta?\n",
    "\n",
    "El saldo a la fecha y el saldo vigente presentan una alta correlación. El saldo vigente representa el saldo luego de los abonos de los clientes a cada una de las cuentas en cada mes. Por tanto, se decide descartar el saldo vigente ya que saldo a la fecha y los abonos nos brindan la misma información."
   ]
  },
  {
   "cell_type": "code",
   "execution_count": 9,
   "metadata": {},
   "outputs": [],
   "source": [
    "df.drop('vigente', axis=1, inplace=True)"
   ]
  },
  {
   "cell_type": "markdown",
   "metadata": {},
   "source": [
    "## ¿Qué hacer con las correlaciones altas en algunos riesgos?"
   ]
  },
  {
   "cell_type": "code",
   "execution_count": 10,
   "metadata": {},
   "outputs": [
    {
     "data": {
      "application/vnd.plotly.v1+json": {
       "config": {
        "plotlyServerURL": "https://plot.ly"
       },
       "data": [
        {
         "hovertemplate": "variable=saldo_a_la_fecha<br>year_month=%{x}<br>value=%{y}<extra></extra>",
         "legendgroup": "saldo_a_la_fecha",
         "line": {
          "color": "#636efa",
          "dash": "solid"
         },
         "marker": {
          "symbol": "circle"
         },
         "mode": "lines",
         "name": "saldo_a_la_fecha",
         "orientation": "v",
         "showlegend": true,
         "type": "scatter",
         "x": [
          "2015-01-01T00:00:00",
          "2015-02-01T00:00:00",
          "2015-03-01T00:00:00",
          "2015-04-01T00:00:00",
          "2015-05-01T00:00:00",
          "2015-06-01T00:00:00",
          "2015-07-01T00:00:00",
          "2015-08-01T00:00:00",
          "2015-09-01T00:00:00",
          "2015-10-01T00:00:00",
          "2015-11-01T00:00:00",
          "2015-12-01T00:00:00",
          "2016-01-01T00:00:00",
          "2016-02-01T00:00:00",
          "2016-03-01T00:00:00",
          "2016-04-01T00:00:00",
          "2016-05-01T00:00:00",
          "2016-06-01T00:00:00",
          "2016-07-01T00:00:00",
          "2016-08-01T00:00:00",
          "2016-09-01T00:00:00",
          "2016-10-01T00:00:00",
          "2016-11-01T00:00:00",
          "2016-12-01T00:00:00",
          "2017-01-01T00:00:00",
          "2017-02-01T00:00:00",
          "2017-03-01T00:00:00",
          "2017-04-01T00:00:00",
          "2017-05-01T00:00:00",
          "2017-06-01T00:00:00",
          "2017-07-01T00:00:00",
          "2017-08-01T00:00:00",
          "2017-09-01T00:00:00",
          "2017-10-01T00:00:00",
          "2017-11-01T00:00:00",
          "2017-12-01T00:00:00",
          "2018-01-01T00:00:00",
          "2018-02-01T00:00:00",
          "2018-03-01T00:00:00",
          "2018-04-01T00:00:00",
          "2018-05-01T00:00:00",
          "2018-06-01T00:00:00",
          "2018-07-01T00:00:00",
          "2018-08-01T00:00:00",
          "2018-09-01T00:00:00",
          "2018-10-01T00:00:00",
          "2018-11-01T00:00:00",
          "2018-12-01T00:00:00",
          "2019-01-01T00:00:00",
          "2019-02-01T00:00:00",
          "2019-03-01T00:00:00",
          "2019-04-01T00:00:00",
          "2019-05-01T00:00:00",
          "2019-06-01T00:00:00",
          "2019-07-01T00:00:00",
          "2019-08-01T00:00:00",
          "2019-09-01T00:00:00",
          "2019-10-01T00:00:00",
          "2019-11-01T00:00:00",
          "2019-12-01T00:00:00",
          "2020-01-01T00:00:00",
          "2020-02-01T00:00:00",
          "2020-03-01T00:00:00",
          "2020-04-01T00:00:00",
          "2020-05-01T00:00:00",
          "2020-06-01T00:00:00",
          "2020-07-01T00:00:00",
          "2020-08-01T00:00:00",
          "2020-09-01T00:00:00",
          "2020-10-01T00:00:00",
          "2020-11-01T00:00:00",
          "2020-12-01T00:00:00",
          "2021-01-01T00:00:00",
          "2021-02-01T00:00:00",
          "2021-03-01T00:00:00",
          "2021-04-01T00:00:00",
          "2021-05-01T00:00:00",
          "2021-06-01T00:00:00",
          "2021-07-01T00:00:00",
          "2021-08-01T00:00:00",
          "2021-09-01T00:00:00",
          "2021-10-01T00:00:00",
          "2021-11-01T00:00:00",
          "2021-12-01T00:00:00",
          "2022-01-01T00:00:00",
          "2022-02-01T00:00:00",
          "2022-03-01T00:00:00",
          "2022-04-01T00:00:00",
          "2022-05-01T00:00:00",
          "2022-06-01T00:00:00",
          "2022-07-01T00:00:00",
          "2022-08-01T00:00:00",
          "2022-09-01T00:00:00",
          "2022-10-01T00:00:00",
          "2022-11-01T00:00:00",
          "2022-12-01T00:00:00",
          "2023-01-01T00:00:00",
          "2023-02-01T00:00:00",
          "2023-03-01T00:00:00",
          "2023-04-01T00:00:00",
          "2023-05-01T00:00:00",
          "2023-06-01T00:00:00",
          "2023-07-01T00:00:00"
         ],
         "xaxis": "x",
         "y": [
          530000009107.681,
          511154798935.4818,
          513446670845.252,
          492872236951.5394,
          615579420313.0046,
          641296263791.9099,
          437846251287.03064,
          794557627199.0962,
          486423728455.7379,
          468607272942.57965,
          472013438016.0633,
          566065652868.3376,
          576297117910.6332,
          624935792494.4664,
          538265537065.859,
          487783500435.98676,
          639909002519.8868,
          745186268718.3926,
          723155534480.0278,
          581359165734.6837,
          572218252227.5302,
          592372226056.4321,
          518042073640.2716,
          622277121789.397,
          736434410936.3347,
          774375516909.0642,
          629101569036.2128,
          596919502623.3489,
          785224170769.4618,
          642553213217.3138,
          564104369803.9963,
          709303068641.4192,
          696082141563.4612,
          735829322918.0504,
          711537839608.2062,
          630258530336.0706,
          879392917518.7148,
          801089112949.9922,
          672718735147.2847,
          700498593005.3984,
          548971803898.175,
          718895198639.8915,
          705996241650.673,
          824452888143.4833,
          743505896804.3859,
          779609744979.4647,
          727176168500.6943,
          703456171616.874,
          661375508132.5946,
          920931540487.104,
          775033236423.6578,
          755910220648.8794,
          874878785580.0305,
          779433795350.0039,
          732450491084.1528,
          893554837592.2305,
          576533933337.6917,
          798579320643.1823,
          530705306788.6506,
          630785752719.8301,
          849708720391.1478,
          793233151472.3827,
          962648032590.2161,
          931263589847.5726,
          722751247172.3027,
          979712610294.3008,
          868161170858.5018,
          909799843282.7941,
          667688275670.4867,
          878913666580.822,
          773865033747.3513,
          880477401964.381,
          907549092513.8864,
          782261974068.0869,
          892465384482.5845,
          862544778459.3967,
          1013763042929.444,
          874253492011.1278,
          890403439676.0822,
          672649867502.2694,
          1156621746484.6633,
          829260921015.2032,
          985533947187.2369,
          1153878634217.4978,
          959380873071.3485,
          814223401638.1018,
          963916368515.39,
          1073922902893.2858,
          877425074411.414,
          1000379438431.2686,
          1114290040173.1992,
          1002322405244.5059,
          1345093417989.6948,
          1201988156109.0024,
          1378714065140.2888,
          1239858916312.3171,
          1273694520476.9587,
          1187268855429.914,
          1179914898036.3523,
          1029192668781.7483,
          948555300026.7986,
          1162470434058.0493,
          1056536140217.0247
         ],
         "yaxis": "y"
        },
        {
         "hovertemplate": "variable=riesgo_a_s<br>year_month=%{x}<br>value=%{y}<extra></extra>",
         "legendgroup": "riesgo_a_s",
         "line": {
          "color": "#EF553B",
          "dash": "solid"
         },
         "marker": {
          "symbol": "circle"
         },
         "mode": "lines",
         "name": "riesgo_a_s",
         "orientation": "v",
         "showlegend": true,
         "type": "scatter",
         "x": [
          "2015-01-01T00:00:00",
          "2015-02-01T00:00:00",
          "2015-03-01T00:00:00",
          "2015-04-01T00:00:00",
          "2015-05-01T00:00:00",
          "2015-06-01T00:00:00",
          "2015-07-01T00:00:00",
          "2015-08-01T00:00:00",
          "2015-09-01T00:00:00",
          "2015-10-01T00:00:00",
          "2015-11-01T00:00:00",
          "2015-12-01T00:00:00",
          "2016-01-01T00:00:00",
          "2016-02-01T00:00:00",
          "2016-03-01T00:00:00",
          "2016-04-01T00:00:00",
          "2016-05-01T00:00:00",
          "2016-06-01T00:00:00",
          "2016-07-01T00:00:00",
          "2016-08-01T00:00:00",
          "2016-09-01T00:00:00",
          "2016-10-01T00:00:00",
          "2016-11-01T00:00:00",
          "2016-12-01T00:00:00",
          "2017-01-01T00:00:00",
          "2017-02-01T00:00:00",
          "2017-03-01T00:00:00",
          "2017-04-01T00:00:00",
          "2017-05-01T00:00:00",
          "2017-06-01T00:00:00",
          "2017-07-01T00:00:00",
          "2017-08-01T00:00:00",
          "2017-09-01T00:00:00",
          "2017-10-01T00:00:00",
          "2017-11-01T00:00:00",
          "2017-12-01T00:00:00",
          "2018-01-01T00:00:00",
          "2018-02-01T00:00:00",
          "2018-03-01T00:00:00",
          "2018-04-01T00:00:00",
          "2018-05-01T00:00:00",
          "2018-06-01T00:00:00",
          "2018-07-01T00:00:00",
          "2018-08-01T00:00:00",
          "2018-09-01T00:00:00",
          "2018-10-01T00:00:00",
          "2018-11-01T00:00:00",
          "2018-12-01T00:00:00",
          "2019-01-01T00:00:00",
          "2019-02-01T00:00:00",
          "2019-03-01T00:00:00",
          "2019-04-01T00:00:00",
          "2019-05-01T00:00:00",
          "2019-06-01T00:00:00",
          "2019-07-01T00:00:00",
          "2019-08-01T00:00:00",
          "2019-09-01T00:00:00",
          "2019-10-01T00:00:00",
          "2019-11-01T00:00:00",
          "2019-12-01T00:00:00",
          "2020-01-01T00:00:00",
          "2020-02-01T00:00:00",
          "2020-03-01T00:00:00",
          "2020-04-01T00:00:00",
          "2020-05-01T00:00:00",
          "2020-06-01T00:00:00",
          "2020-07-01T00:00:00",
          "2020-08-01T00:00:00",
          "2020-09-01T00:00:00",
          "2020-10-01T00:00:00",
          "2020-11-01T00:00:00",
          "2020-12-01T00:00:00",
          "2021-01-01T00:00:00",
          "2021-02-01T00:00:00",
          "2021-03-01T00:00:00",
          "2021-04-01T00:00:00",
          "2021-05-01T00:00:00",
          "2021-06-01T00:00:00",
          "2021-07-01T00:00:00",
          "2021-08-01T00:00:00",
          "2021-09-01T00:00:00",
          "2021-10-01T00:00:00",
          "2021-11-01T00:00:00",
          "2021-12-01T00:00:00",
          "2022-01-01T00:00:00",
          "2022-02-01T00:00:00",
          "2022-03-01T00:00:00",
          "2022-04-01T00:00:00",
          "2022-05-01T00:00:00",
          "2022-06-01T00:00:00",
          "2022-07-01T00:00:00",
          "2022-08-01T00:00:00",
          "2022-09-01T00:00:00",
          "2022-10-01T00:00:00",
          "2022-11-01T00:00:00",
          "2022-12-01T00:00:00",
          "2023-01-01T00:00:00",
          "2023-02-01T00:00:00",
          "2023-03-01T00:00:00",
          "2023-04-01T00:00:00",
          "2023-05-01T00:00:00",
          "2023-06-01T00:00:00",
          "2023-07-01T00:00:00"
         ],
         "xaxis": "x",
         "y": [
          500200760243.98706,
          473983578167.53033,
          466803872748.6626,
          452281154330.85065,
          574994308098.0046,
          588913456064.0472,
          407345351762.5977,
          737936080193.682,
          451596690531.4194,
          436297644481.5575,
          430147547755.3249,
          525410973954.78357,
          533425073066.76447,
          569738651359.0714,
          492048068596.3921,
          437746958136.19025,
          588223595089.4944,
          692077788373.4546,
          663914516380.5635,
          522299831311.6368,
          527308028729.1078,
          540417369343.47327,
          474500456095.76544,
          576093958174.3821,
          657184331548.0502,
          693306662534.0302,
          556810286381.6724,
          539888764380.6357,
          714074624124.729,
          579305007534.7615,
          493345103512.9091,
          640596607068.4847,
          599145725954.4897,
          661657960102.3309,
          621489121147.4298,
          549634337116.05493,
          783113912959.289,
          709958809559.1333,
          595693741797.8385,
          630741151728,
          476179449157.75836,
          634213762565.6473,
          623610912247.3158,
          734307983522.3755,
          654109521021.5685,
          671070067724.2075,
          644036774213.31,
          600300438226.103,
          578692690990.4672,
          829283333942.884,
          680216869769.9658,
          677380575038.0505,
          778482016927.9258,
          693101786423.5297,
          654101235174.8035,
          803484685292.9712,
          521295047660.48615,
          714277533453.894,
          480672358793.92773,
          547488058092.13513,
          761278810539.9435,
          705916912332.1646,
          882091083580.7076,
          850614772248.0441,
          643606028409.9962,
          875643080226.2439,
          765155246246.7736,
          820306764254.6638,
          589373331466.7611,
          788573821018.305,
          681655131315.1487,
          767239947367.1984,
          800343928286.5863,
          686751937439.227,
          776348271277.8788,
          772753423206.9958,
          872124970562.843,
          751952029925.8018,
          766462710407.5459,
          593219149050.0457,
          1033459752436.5902,
          714978737618.8326,
          889002607602.5743,
          1020749402361.5197,
          861977312297.4398,
          724188520461.5044,
          861106463994.8765,
          948669799895.8068,
          803190215951.3934,
          903042200264.7852,
          1025147679727.5109,
          901623405308.1198,
          1211274435065.149,
          1068185861167.6652,
          1250129184563.3113,
          1121958618387.0042,
          1155291053212.6372,
          1069166774592.5024,
          1058865556590.2347,
          928823773769.8583,
          850768458556.0898,
          1050124120058.6433,
          925006916526.2548
         ],
         "yaxis": "y"
        },
        {
         "hovertemplate": "variable=riesgo_b_s<br>year_month=%{x}<br>value=%{y}<extra></extra>",
         "legendgroup": "riesgo_b_s",
         "line": {
          "color": "#00cc96",
          "dash": "solid"
         },
         "marker": {
          "symbol": "circle"
         },
         "mode": "lines",
         "name": "riesgo_b_s",
         "orientation": "v",
         "showlegend": true,
         "type": "scatter",
         "x": [
          "2015-01-01T00:00:00",
          "2015-02-01T00:00:00",
          "2015-03-01T00:00:00",
          "2015-04-01T00:00:00",
          "2015-05-01T00:00:00",
          "2015-06-01T00:00:00",
          "2015-07-01T00:00:00",
          "2015-08-01T00:00:00",
          "2015-09-01T00:00:00",
          "2015-10-01T00:00:00",
          "2015-11-01T00:00:00",
          "2015-12-01T00:00:00",
          "2016-01-01T00:00:00",
          "2016-02-01T00:00:00",
          "2016-03-01T00:00:00",
          "2016-04-01T00:00:00",
          "2016-05-01T00:00:00",
          "2016-06-01T00:00:00",
          "2016-07-01T00:00:00",
          "2016-08-01T00:00:00",
          "2016-09-01T00:00:00",
          "2016-10-01T00:00:00",
          "2016-11-01T00:00:00",
          "2016-12-01T00:00:00",
          "2017-01-01T00:00:00",
          "2017-02-01T00:00:00",
          "2017-03-01T00:00:00",
          "2017-04-01T00:00:00",
          "2017-05-01T00:00:00",
          "2017-06-01T00:00:00",
          "2017-07-01T00:00:00",
          "2017-08-01T00:00:00",
          "2017-09-01T00:00:00",
          "2017-10-01T00:00:00",
          "2017-11-01T00:00:00",
          "2017-12-01T00:00:00",
          "2018-01-01T00:00:00",
          "2018-02-01T00:00:00",
          "2018-03-01T00:00:00",
          "2018-04-01T00:00:00",
          "2018-05-01T00:00:00",
          "2018-06-01T00:00:00",
          "2018-07-01T00:00:00",
          "2018-08-01T00:00:00",
          "2018-09-01T00:00:00",
          "2018-10-01T00:00:00",
          "2018-11-01T00:00:00",
          "2018-12-01T00:00:00",
          "2019-01-01T00:00:00",
          "2019-02-01T00:00:00",
          "2019-03-01T00:00:00",
          "2019-04-01T00:00:00",
          "2019-05-01T00:00:00",
          "2019-06-01T00:00:00",
          "2019-07-01T00:00:00",
          "2019-08-01T00:00:00",
          "2019-09-01T00:00:00",
          "2019-10-01T00:00:00",
          "2019-11-01T00:00:00",
          "2019-12-01T00:00:00",
          "2020-01-01T00:00:00",
          "2020-02-01T00:00:00",
          "2020-03-01T00:00:00",
          "2020-04-01T00:00:00",
          "2020-05-01T00:00:00",
          "2020-06-01T00:00:00",
          "2020-07-01T00:00:00",
          "2020-08-01T00:00:00",
          "2020-09-01T00:00:00",
          "2020-10-01T00:00:00",
          "2020-11-01T00:00:00",
          "2020-12-01T00:00:00",
          "2021-01-01T00:00:00",
          "2021-02-01T00:00:00",
          "2021-03-01T00:00:00",
          "2021-04-01T00:00:00",
          "2021-05-01T00:00:00",
          "2021-06-01T00:00:00",
          "2021-07-01T00:00:00",
          "2021-08-01T00:00:00",
          "2021-09-01T00:00:00",
          "2021-10-01T00:00:00",
          "2021-11-01T00:00:00",
          "2021-12-01T00:00:00",
          "2022-01-01T00:00:00",
          "2022-02-01T00:00:00",
          "2022-03-01T00:00:00",
          "2022-04-01T00:00:00",
          "2022-05-01T00:00:00",
          "2022-06-01T00:00:00",
          "2022-07-01T00:00:00",
          "2022-08-01T00:00:00",
          "2022-09-01T00:00:00",
          "2022-10-01T00:00:00",
          "2022-11-01T00:00:00",
          "2022-12-01T00:00:00",
          "2023-01-01T00:00:00",
          "2023-02-01T00:00:00",
          "2023-03-01T00:00:00",
          "2023-04-01T00:00:00",
          "2023-05-01T00:00:00",
          "2023-06-01T00:00:00",
          "2023-07-01T00:00:00"
         ],
         "xaxis": "x",
         "y": [
          13394798345.64224,
          16711136887.392712,
          15422212664.849594,
          13155685092.286306,
          16380306247.714952,
          17258483211.04721,
          10465708197.996168,
          19750876729.27615,
          12275407807.411291,
          14350425151.247787,
          13466763861.58228,
          13851543416.766233,
          14397283066.95753,
          16002101456.655462,
          17033512871.422907,
          14681253205.022123,
          18531170190.550945,
          21518270712.380165,
          21977476374.035713,
          15199519756.52564,
          17570308761.87069,
          18627893648.979424,
          14195297775.744856,
          16174231765.445692,
          25119884980.698746,
          30609081929.796227,
          20057633565.204254,
          22235911317.98062,
          25549339871.919846,
          19406489848.682007,
          22825512027.29091,
          26686105106.58515,
          28113844321.595917,
          26799201738.57194,
          27727545067.600876,
          19467086186.89412,
          30538036342.692017,
          27552324949.129414,
          21829200145.984615,
          18891462987.171314,
          20345352592.733334,
          24717973642.003876,
          24101725172.73308,
          21812876840.122677,
          24517705685.278008,
          27871554973.40664,
          20535862088.73799,
          23124850424.366413,
          20127564291.521236,
          25544422618.592,
          22078130972.737644,
          18902375435.9572,
          17927147750.24454,
          21527012157.32016,
          17906176184.593887,
          20366196693.55144,
          14179123971.913044,
          20468220474.491524,
          14221350579.453815,
          16845664007.96139,
          23331146839.282608,
          23110715685.720165,
          21810111474.690678,
          23866379136.960354,
          18177998762.015327,
          25528015273.06504,
          20637458005.981133,
          29534442707.07983,
          20691104718.070797,
          23508725043.097458,
          26244295433.07207,
          33238595596.555557,
          29281473794.97273,
          24679733681.468597,
          33228908555.311687,
          24406525457.19835,
          38955179931.33184,
          35150202824.242294,
          31505954788.357487,
          22637022935.15525,
          31690412236.02439,
          25887018722.310757,
          26690528674.17671,
          32453929465.030567,
          21031613505.912865,
          23848704260.469025,
          24839442418.88031,
          22660377456.30252,
          17639959662.967213,
          22777724169.355373,
          27110587472.294373,
          29658394897.319664,
          29131994612.977177,
          29890043138.52162,
          30242126099.772358,
          22248511310.57654,
          30638661125.791817,
          29747999434.092964,
          31794743714.284397,
          28124263463.99914,
          19771921808.874264,
          33467236720.57254,
          32278794125.569004
         ],
         "yaxis": "y"
        },
        {
         "hovertemplate": "variable=riesgo_c_s<br>year_month=%{x}<br>value=%{y}<extra></extra>",
         "legendgroup": "riesgo_c_s",
         "line": {
          "color": "#ab63fa",
          "dash": "solid"
         },
         "marker": {
          "symbol": "circle"
         },
         "mode": "lines",
         "name": "riesgo_c_s",
         "orientation": "v",
         "showlegend": true,
         "type": "scatter",
         "x": [
          "2015-01-01T00:00:00",
          "2015-02-01T00:00:00",
          "2015-03-01T00:00:00",
          "2015-04-01T00:00:00",
          "2015-05-01T00:00:00",
          "2015-06-01T00:00:00",
          "2015-07-01T00:00:00",
          "2015-08-01T00:00:00",
          "2015-09-01T00:00:00",
          "2015-10-01T00:00:00",
          "2015-11-01T00:00:00",
          "2015-12-01T00:00:00",
          "2016-01-01T00:00:00",
          "2016-02-01T00:00:00",
          "2016-03-01T00:00:00",
          "2016-04-01T00:00:00",
          "2016-05-01T00:00:00",
          "2016-06-01T00:00:00",
          "2016-07-01T00:00:00",
          "2016-08-01T00:00:00",
          "2016-09-01T00:00:00",
          "2016-10-01T00:00:00",
          "2016-11-01T00:00:00",
          "2016-12-01T00:00:00",
          "2017-01-01T00:00:00",
          "2017-02-01T00:00:00",
          "2017-03-01T00:00:00",
          "2017-04-01T00:00:00",
          "2017-05-01T00:00:00",
          "2017-06-01T00:00:00",
          "2017-07-01T00:00:00",
          "2017-08-01T00:00:00",
          "2017-09-01T00:00:00",
          "2017-10-01T00:00:00",
          "2017-11-01T00:00:00",
          "2017-12-01T00:00:00",
          "2018-01-01T00:00:00",
          "2018-02-01T00:00:00",
          "2018-03-01T00:00:00",
          "2018-04-01T00:00:00",
          "2018-05-01T00:00:00",
          "2018-06-01T00:00:00",
          "2018-07-01T00:00:00",
          "2018-08-01T00:00:00",
          "2018-09-01T00:00:00",
          "2018-10-01T00:00:00",
          "2018-11-01T00:00:00",
          "2018-12-01T00:00:00",
          "2019-01-01T00:00:00",
          "2019-02-01T00:00:00",
          "2019-03-01T00:00:00",
          "2019-04-01T00:00:00",
          "2019-05-01T00:00:00",
          "2019-06-01T00:00:00",
          "2019-07-01T00:00:00",
          "2019-08-01T00:00:00",
          "2019-09-01T00:00:00",
          "2019-10-01T00:00:00",
          "2019-11-01T00:00:00",
          "2019-12-01T00:00:00",
          "2020-01-01T00:00:00",
          "2020-02-01T00:00:00",
          "2020-03-01T00:00:00",
          "2020-04-01T00:00:00",
          "2020-05-01T00:00:00",
          "2020-06-01T00:00:00",
          "2020-07-01T00:00:00",
          "2020-08-01T00:00:00",
          "2020-09-01T00:00:00",
          "2020-10-01T00:00:00",
          "2020-11-01T00:00:00",
          "2020-12-01T00:00:00",
          "2021-01-01T00:00:00",
          "2021-02-01T00:00:00",
          "2021-03-01T00:00:00",
          "2021-04-01T00:00:00",
          "2021-05-01T00:00:00",
          "2021-06-01T00:00:00",
          "2021-07-01T00:00:00",
          "2021-08-01T00:00:00",
          "2021-09-01T00:00:00",
          "2021-10-01T00:00:00",
          "2021-11-01T00:00:00",
          "2021-12-01T00:00:00",
          "2022-01-01T00:00:00",
          "2022-02-01T00:00:00",
          "2022-03-01T00:00:00",
          "2022-04-01T00:00:00",
          "2022-05-01T00:00:00",
          "2022-06-01T00:00:00",
          "2022-07-01T00:00:00",
          "2022-08-01T00:00:00",
          "2022-09-01T00:00:00",
          "2022-10-01T00:00:00",
          "2022-11-01T00:00:00",
          "2022-12-01T00:00:00",
          "2023-01-01T00:00:00",
          "2023-02-01T00:00:00",
          "2023-03-01T00:00:00",
          "2023-04-01T00:00:00",
          "2023-05-01T00:00:00",
          "2023-06-01T00:00:00",
          "2023-07-01T00:00:00"
         ],
         "xaxis": "x",
         "y": [
          5791616037.681034,
          7719704718.54251,
          7322969705.113821,
          6666831438.1742735,
          8059935633.7336445,
          8140385250.592275,
          5607029208.5172415,
          11138337221.125523,
          7344389448.278226,
          5957183178.840708,
          7429101225.552743,
          8770724886.021645,
          8478897782.567568,
          11024919151.680672,
          8242639007.149779,
          8430055905.676991,
          9796145500.762264,
          10676815797.809917,
          10409351231.396826,
          9443006458.880342,
          9580079577.633621,
          10390344457.625515,
          6302175541.843621,
          10220682322.83146,
          13727966474.414227,
          18972305020.249058,
          11268780839.421276,
          12211174688.399225,
          18434858817.14504,
          11277430694.874477,
          14010767034.512728,
          16639089474.820961,
          18046218744.591835,
          15625526959.241007,
          27465770253.267544,
          18645707112.07843,
          23434450100.072243,
          30151117637.960785,
          21891414514.83077,
          15070853689.649403,
          20720218449.858334,
          16583781927.263565,
          18594650707.909775,
          18703181967.96654,
          16166273756.215767,
          19579877857.037346,
          16135906287.310043,
          14447544253.526718,
          14825124168.19305,
          18665117652.944,
          15576167022.756655,
          12513317279.171206,
          15057789503.09607,
          14268908739.134388,
          10829723542.78166,
          16180528355.11934,
          9015451803.312252,
          10248021405.79661,
          7780027451.248996,
          11817529168.72973,
          12712492992.626087,
          14741039237.395061,
          13193175655.5,
          15138140661.0837,
          9921958890.8659,
          20456838809.979675,
          17891408671.098114,
          18614418227.781513,
          17772643467.544247,
          15886634481.275423,
          16787667371.261261,
          20884569619.650795,
          19216904347.295456,
          16812132727.169083,
          19627134330.87446,
          13861527564.96281,
          24022516006.224216,
          20387457315.004406,
          19844611302.10628,
          13169809778.068493,
          20115129883.936584,
          13185130890.828686,
          19183761467.97992,
          22206822260.711792,
          12297993770.560165,
          18178109418.49115,
          16228557376.088802,
          14974841990.94958,
          11782591915.09836,
          12814930636.85124,
          14456047245.952381,
          14779353867.284035,
          18655394827.192055,
          21547235018.618084,
          19363667229.79708,
          13819142473.703499,
          20520090413.396732,
          15756981774.260288,
          21169306136.539566,
          14253261521.529818,
          13607700875.36789,
          19258305361.082577,
          20188063914.0355
         ],
         "yaxis": "y"
        },
        {
         "hovertemplate": "variable=riesgo_d_s<br>year_month=%{x}<br>value=%{y}<extra></extra>",
         "legendgroup": "riesgo_d_s",
         "line": {
          "color": "#FFA15A",
          "dash": "solid"
         },
         "marker": {
          "symbol": "circle"
         },
         "mode": "lines",
         "name": "riesgo_d_s",
         "orientation": "v",
         "showlegend": true,
         "type": "scatter",
         "x": [
          "2015-01-01T00:00:00",
          "2015-02-01T00:00:00",
          "2015-03-01T00:00:00",
          "2015-04-01T00:00:00",
          "2015-05-01T00:00:00",
          "2015-06-01T00:00:00",
          "2015-07-01T00:00:00",
          "2015-08-01T00:00:00",
          "2015-09-01T00:00:00",
          "2015-10-01T00:00:00",
          "2015-11-01T00:00:00",
          "2015-12-01T00:00:00",
          "2016-01-01T00:00:00",
          "2016-02-01T00:00:00",
          "2016-03-01T00:00:00",
          "2016-04-01T00:00:00",
          "2016-05-01T00:00:00",
          "2016-06-01T00:00:00",
          "2016-07-01T00:00:00",
          "2016-08-01T00:00:00",
          "2016-09-01T00:00:00",
          "2016-10-01T00:00:00",
          "2016-11-01T00:00:00",
          "2016-12-01T00:00:00",
          "2017-01-01T00:00:00",
          "2017-02-01T00:00:00",
          "2017-03-01T00:00:00",
          "2017-04-01T00:00:00",
          "2017-05-01T00:00:00",
          "2017-06-01T00:00:00",
          "2017-07-01T00:00:00",
          "2017-08-01T00:00:00",
          "2017-09-01T00:00:00",
          "2017-10-01T00:00:00",
          "2017-11-01T00:00:00",
          "2017-12-01T00:00:00",
          "2018-01-01T00:00:00",
          "2018-02-01T00:00:00",
          "2018-03-01T00:00:00",
          "2018-04-01T00:00:00",
          "2018-05-01T00:00:00",
          "2018-06-01T00:00:00",
          "2018-07-01T00:00:00",
          "2018-08-01T00:00:00",
          "2018-09-01T00:00:00",
          "2018-10-01T00:00:00",
          "2018-11-01T00:00:00",
          "2018-12-01T00:00:00",
          "2019-01-01T00:00:00",
          "2019-02-01T00:00:00",
          "2019-03-01T00:00:00",
          "2019-04-01T00:00:00",
          "2019-05-01T00:00:00",
          "2019-06-01T00:00:00",
          "2019-07-01T00:00:00",
          "2019-08-01T00:00:00",
          "2019-09-01T00:00:00",
          "2019-10-01T00:00:00",
          "2019-11-01T00:00:00",
          "2019-12-01T00:00:00",
          "2020-01-01T00:00:00",
          "2020-02-01T00:00:00",
          "2020-03-01T00:00:00",
          "2020-04-01T00:00:00",
          "2020-05-01T00:00:00",
          "2020-06-01T00:00:00",
          "2020-07-01T00:00:00",
          "2020-08-01T00:00:00",
          "2020-09-01T00:00:00",
          "2020-10-01T00:00:00",
          "2020-11-01T00:00:00",
          "2020-12-01T00:00:00",
          "2021-01-01T00:00:00",
          "2021-02-01T00:00:00",
          "2021-03-01T00:00:00",
          "2021-04-01T00:00:00",
          "2021-05-01T00:00:00",
          "2021-06-01T00:00:00",
          "2021-07-01T00:00:00",
          "2021-08-01T00:00:00",
          "2021-09-01T00:00:00",
          "2021-10-01T00:00:00",
          "2021-11-01T00:00:00",
          "2021-12-01T00:00:00",
          "2022-01-01T00:00:00",
          "2022-02-01T00:00:00",
          "2022-03-01T00:00:00",
          "2022-04-01T00:00:00",
          "2022-05-01T00:00:00",
          "2022-06-01T00:00:00",
          "2022-07-01T00:00:00",
          "2022-08-01T00:00:00",
          "2022-09-01T00:00:00",
          "2022-10-01T00:00:00",
          "2022-11-01T00:00:00",
          "2022-12-01T00:00:00",
          "2023-01-01T00:00:00",
          "2023-02-01T00:00:00",
          "2023-03-01T00:00:00",
          "2023-04-01T00:00:00",
          "2023-05-01T00:00:00",
          "2023-06-01T00:00:00",
          "2023-07-01T00:00:00"
         ],
         "xaxis": "x",
         "y": [
          5608532082.573276,
          7246228819.951417,
          8458643314.800813,
          7579473552.124481,
          8212729072.504673,
          9220385272.051502,
          6587782726.35249,
          9878032405.158997,
          7385098789.83871,
          8056624357.190266,
          8390246258.987342,
          9440420179.939394,
          8672939643.073359,
          10078429357.777311,
          9148797945.744493,
          8841552925.30531,
          10743451477.562263,
          11150800608.247934,
          11553947514.88889,
          8663548340.346153,
          9423366183.202587,
          10411320715.604939,
          8424909215.55967,
          11044314032.164795,
          11036504545.34728,
          12338837239.796227,
          11787738956.280851,
          11745173563.360466,
          13886743770.5,
          10062840020.732218,
          12660562240.516363,
          13827558775.19214,
          16376223077.518368,
          16064045709.327337,
          18079126575.60965,
          14972741246.254902,
          16633672252.326996,
          17902376864.77647,
          12664416045.246155,
          14291471794.290836,
          16717517870.2875,
          22767859115.031006,
          17797818621.345863,
          21141404498.438663,
          24336775513.59751,
          22169548707.53527,
          17168216016.965065,
          24181807143.671757,
          18846161591.594593,
          25125649360.4,
          21199587122.92015,
          18138491639.190662,
          21955860984.157204,
          21856862907.023716,
          22066573563.26201,
          29314871305.26749,
          14440099742.241106,
          23750046833.118645,
          13848176200.54217,
          16733834774.200771,
          23800076466.008698,
          18068348160.39506,
          18600394412.79661,
          19271882574.585903,
          15681901445.475096,
          23991125505.430893,
          22856162363.396225,
          18042473153.911766,
          12741144676.207964,
          19028532188.75424,
          16050652261.432432,
          24661331027.36111,
          20693498925.30909,
          21877872847.95169,
          22182754108.709957,
          19474867593.747932,
          25914847537.663677,
          25024106319.38326,
          25151636720.695652,
          14372165876.557077,
          23907729418.2,
          16531595085.011951,
          22848764306.08434,
          27486061766.689957,
          13220297774.875519,
          19869394277.721237,
          18047873012.135136,
          18257920242.886555,
          13765062293.397541,
          16845931778.202478,
          17172835309.852814,
          23292058114.93302,
          20816104477.657257,
          26050061113.728664,
          25524852506.384983,
          23167512256.1045,
          25938585746.75891,
          21624938352.23226,
          28917528681.409657,
          19182730980.581448,
          19016372449.36709,
          23008179658.97543,
          30469681925.07936
         ],
         "yaxis": "y"
        },
        {
         "hovertemplate": "variable=riesgo_e_s<br>year_month=%{x}<br>value=%{y}<extra></extra>",
         "legendgroup": "riesgo_e_s",
         "line": {
          "color": "#19d3f3",
          "dash": "solid"
         },
         "marker": {
          "symbol": "circle"
         },
         "mode": "lines",
         "name": "riesgo_e_s",
         "orientation": "v",
         "showlegend": true,
         "type": "scatter",
         "x": [
          "2015-01-01T00:00:00",
          "2015-02-01T00:00:00",
          "2015-03-01T00:00:00",
          "2015-04-01T00:00:00",
          "2015-05-01T00:00:00",
          "2015-06-01T00:00:00",
          "2015-07-01T00:00:00",
          "2015-08-01T00:00:00",
          "2015-09-01T00:00:00",
          "2015-10-01T00:00:00",
          "2015-11-01T00:00:00",
          "2015-12-01T00:00:00",
          "2016-01-01T00:00:00",
          "2016-02-01T00:00:00",
          "2016-03-01T00:00:00",
          "2016-04-01T00:00:00",
          "2016-05-01T00:00:00",
          "2016-06-01T00:00:00",
          "2016-07-01T00:00:00",
          "2016-08-01T00:00:00",
          "2016-09-01T00:00:00",
          "2016-10-01T00:00:00",
          "2016-11-01T00:00:00",
          "2016-12-01T00:00:00",
          "2017-01-01T00:00:00",
          "2017-02-01T00:00:00",
          "2017-03-01T00:00:00",
          "2017-04-01T00:00:00",
          "2017-05-01T00:00:00",
          "2017-06-01T00:00:00",
          "2017-07-01T00:00:00",
          "2017-08-01T00:00:00",
          "2017-09-01T00:00:00",
          "2017-10-01T00:00:00",
          "2017-11-01T00:00:00",
          "2017-12-01T00:00:00",
          "2018-01-01T00:00:00",
          "2018-02-01T00:00:00",
          "2018-03-01T00:00:00",
          "2018-04-01T00:00:00",
          "2018-05-01T00:00:00",
          "2018-06-01T00:00:00",
          "2018-07-01T00:00:00",
          "2018-08-01T00:00:00",
          "2018-09-01T00:00:00",
          "2018-10-01T00:00:00",
          "2018-11-01T00:00:00",
          "2018-12-01T00:00:00",
          "2019-01-01T00:00:00",
          "2019-02-01T00:00:00",
          "2019-03-01T00:00:00",
          "2019-04-01T00:00:00",
          "2019-05-01T00:00:00",
          "2019-06-01T00:00:00",
          "2019-07-01T00:00:00",
          "2019-08-01T00:00:00",
          "2019-09-01T00:00:00",
          "2019-10-01T00:00:00",
          "2019-11-01T00:00:00",
          "2019-12-01T00:00:00",
          "2020-01-01T00:00:00",
          "2020-02-01T00:00:00",
          "2020-03-01T00:00:00",
          "2020-04-01T00:00:00",
          "2020-05-01T00:00:00",
          "2020-06-01T00:00:00",
          "2020-07-01T00:00:00",
          "2020-08-01T00:00:00",
          "2020-09-01T00:00:00",
          "2020-10-01T00:00:00",
          "2020-11-01T00:00:00",
          "2020-12-01T00:00:00",
          "2021-01-01T00:00:00",
          "2021-02-01T00:00:00",
          "2021-03-01T00:00:00",
          "2021-04-01T00:00:00",
          "2021-05-01T00:00:00",
          "2021-06-01T00:00:00",
          "2021-07-01T00:00:00",
          "2021-08-01T00:00:00",
          "2021-09-01T00:00:00",
          "2021-10-01T00:00:00",
          "2021-11-01T00:00:00",
          "2021-12-01T00:00:00",
          "2022-01-01T00:00:00",
          "2022-02-01T00:00:00",
          "2022-03-01T00:00:00",
          "2022-04-01T00:00:00",
          "2022-05-01T00:00:00",
          "2022-06-01T00:00:00",
          "2022-07-01T00:00:00",
          "2022-08-01T00:00:00",
          "2022-09-01T00:00:00",
          "2022-10-01T00:00:00",
          "2022-11-01T00:00:00",
          "2022-12-01T00:00:00",
          "2023-01-01T00:00:00",
          "2023-02-01T00:00:00",
          "2023-03-01T00:00:00",
          "2023-04-01T00:00:00",
          "2023-05-01T00:00:00",
          "2023-06-01T00:00:00",
          "2023-07-01T00:00:00"
         ],
         "xaxis": "x",
         "y": [
          4405719833.504311,
          6224207765.769231,
          4535135011.715447,
          5513478538.26556,
          4337996285.607476,
          5713238695.506437,
          4147131953.402299,
          5591432951.945606,
          4368313465.443548,
          3945348879.9955754,
          5156600858.49789,
          4946121515.298701,
          5011750610.19305,
          5916732355.302521,
          5943402878.806168,
          4977481726.340708,
          7476522854.886792,
          6670569023.632232,
          9007422483.99603,
          4813305324.692307,
          6042953051.435345,
          6656195312.345679,
          5856007452.452675,
          7465932724.966292,
          7573502479.100418,
          7835737416.709434,
          7971458285.144681,
          6796930106.383721,
          8633053737.312977,
          8076149166.158996,
          8347343533.352727,
          8074874153.991266,
          11386325415.84898,
          10018878173.892086,
          9327292076.039474,
          9148800087.815687,
          12106121014.821293,
          11934430547.05098,
          8659943979.1,
          11020696699.796812,
          8611983792.745832,
          13534854235.852713,
          13405475273.578947,
          15291623093.6171,
          15153500871.585062,
          12540030064.502075,
          10483124079.65939,
          14959322422.79771,
          13213223308.88417,
          19560943655.66,
          14602932451.96578,
          13840202153.996109,
          16456378153.91703,
          13054618667.719368,
          15066560491.58952,
          19073472679.115227,
          10569768630.758894,
          14007299173.15678,
          9627893063.51004,
          12262033799.683397,
          16589033989.76087,
          15488235357.11111,
          24895502609.207626,
          16477614424.47577,
          12047755417.582375,
          24269598924.601627,
          18968917373.03019,
          18334489328.37815,
          14193017615.646017,
          20353128879.072033,
          17184363460.662163,
          20030245935.853176,
          29046515132.913635,
          14870012412.144928,
          28369208152.94372,
          21440551460.54132,
          21934586937.632286,
          23401244299.5022,
          21152667501.763287,
          19048541913.20548,
          32524675285.209755,
          27341245526.52988,
          21623142492.883533,
          33058843886.528385,
          29623887573.029045,
          23535018213.650444,
          24042396135.830116,
          29282274619.827732,
          18250691402.008198,
          28237610242.380165,
          23776950985.670994,
          22909276386.29895,
          30567137887.882298,
          24077377067.629414,
          28568985325.756855,
          22738625512.479626,
          25055010911.66653,
          23592930343.930576,
          17164262910.666162,
          21823697695.979637,
          21545118993.122997,
          26733057676.390232,
          19084553422.11996
         ],
         "yaxis": "y"
        }
       ],
       "layout": {
        "legend": {
         "title": {
          "text": "variable"
         },
         "tracegroupgap": 0
        },
        "margin": {
         "t": 60
        },
        "template": {
         "data": {
          "bar": [
           {
            "error_x": {
             "color": "#2a3f5f"
            },
            "error_y": {
             "color": "#2a3f5f"
            },
            "marker": {
             "line": {
              "color": "#E5ECF6",
              "width": 0.5
             },
             "pattern": {
              "fillmode": "overlay",
              "size": 10,
              "solidity": 0.2
             }
            },
            "type": "bar"
           }
          ],
          "barpolar": [
           {
            "marker": {
             "line": {
              "color": "#E5ECF6",
              "width": 0.5
             },
             "pattern": {
              "fillmode": "overlay",
              "size": 10,
              "solidity": 0.2
             }
            },
            "type": "barpolar"
           }
          ],
          "carpet": [
           {
            "aaxis": {
             "endlinecolor": "#2a3f5f",
             "gridcolor": "white",
             "linecolor": "white",
             "minorgridcolor": "white",
             "startlinecolor": "#2a3f5f"
            },
            "baxis": {
             "endlinecolor": "#2a3f5f",
             "gridcolor": "white",
             "linecolor": "white",
             "minorgridcolor": "white",
             "startlinecolor": "#2a3f5f"
            },
            "type": "carpet"
           }
          ],
          "choropleth": [
           {
            "colorbar": {
             "outlinewidth": 0,
             "ticks": ""
            },
            "type": "choropleth"
           }
          ],
          "contour": [
           {
            "colorbar": {
             "outlinewidth": 0,
             "ticks": ""
            },
            "colorscale": [
             [
              0,
              "#0d0887"
             ],
             [
              0.1111111111111111,
              "#46039f"
             ],
             [
              0.2222222222222222,
              "#7201a8"
             ],
             [
              0.3333333333333333,
              "#9c179e"
             ],
             [
              0.4444444444444444,
              "#bd3786"
             ],
             [
              0.5555555555555556,
              "#d8576b"
             ],
             [
              0.6666666666666666,
              "#ed7953"
             ],
             [
              0.7777777777777778,
              "#fb9f3a"
             ],
             [
              0.8888888888888888,
              "#fdca26"
             ],
             [
              1,
              "#f0f921"
             ]
            ],
            "type": "contour"
           }
          ],
          "contourcarpet": [
           {
            "colorbar": {
             "outlinewidth": 0,
             "ticks": ""
            },
            "type": "contourcarpet"
           }
          ],
          "heatmap": [
           {
            "colorbar": {
             "outlinewidth": 0,
             "ticks": ""
            },
            "colorscale": [
             [
              0,
              "#0d0887"
             ],
             [
              0.1111111111111111,
              "#46039f"
             ],
             [
              0.2222222222222222,
              "#7201a8"
             ],
             [
              0.3333333333333333,
              "#9c179e"
             ],
             [
              0.4444444444444444,
              "#bd3786"
             ],
             [
              0.5555555555555556,
              "#d8576b"
             ],
             [
              0.6666666666666666,
              "#ed7953"
             ],
             [
              0.7777777777777778,
              "#fb9f3a"
             ],
             [
              0.8888888888888888,
              "#fdca26"
             ],
             [
              1,
              "#f0f921"
             ]
            ],
            "type": "heatmap"
           }
          ],
          "heatmapgl": [
           {
            "colorbar": {
             "outlinewidth": 0,
             "ticks": ""
            },
            "colorscale": [
             [
              0,
              "#0d0887"
             ],
             [
              0.1111111111111111,
              "#46039f"
             ],
             [
              0.2222222222222222,
              "#7201a8"
             ],
             [
              0.3333333333333333,
              "#9c179e"
             ],
             [
              0.4444444444444444,
              "#bd3786"
             ],
             [
              0.5555555555555556,
              "#d8576b"
             ],
             [
              0.6666666666666666,
              "#ed7953"
             ],
             [
              0.7777777777777778,
              "#fb9f3a"
             ],
             [
              0.8888888888888888,
              "#fdca26"
             ],
             [
              1,
              "#f0f921"
             ]
            ],
            "type": "heatmapgl"
           }
          ],
          "histogram": [
           {
            "marker": {
             "pattern": {
              "fillmode": "overlay",
              "size": 10,
              "solidity": 0.2
             }
            },
            "type": "histogram"
           }
          ],
          "histogram2d": [
           {
            "colorbar": {
             "outlinewidth": 0,
             "ticks": ""
            },
            "colorscale": [
             [
              0,
              "#0d0887"
             ],
             [
              0.1111111111111111,
              "#46039f"
             ],
             [
              0.2222222222222222,
              "#7201a8"
             ],
             [
              0.3333333333333333,
              "#9c179e"
             ],
             [
              0.4444444444444444,
              "#bd3786"
             ],
             [
              0.5555555555555556,
              "#d8576b"
             ],
             [
              0.6666666666666666,
              "#ed7953"
             ],
             [
              0.7777777777777778,
              "#fb9f3a"
             ],
             [
              0.8888888888888888,
              "#fdca26"
             ],
             [
              1,
              "#f0f921"
             ]
            ],
            "type": "histogram2d"
           }
          ],
          "histogram2dcontour": [
           {
            "colorbar": {
             "outlinewidth": 0,
             "ticks": ""
            },
            "colorscale": [
             [
              0,
              "#0d0887"
             ],
             [
              0.1111111111111111,
              "#46039f"
             ],
             [
              0.2222222222222222,
              "#7201a8"
             ],
             [
              0.3333333333333333,
              "#9c179e"
             ],
             [
              0.4444444444444444,
              "#bd3786"
             ],
             [
              0.5555555555555556,
              "#d8576b"
             ],
             [
              0.6666666666666666,
              "#ed7953"
             ],
             [
              0.7777777777777778,
              "#fb9f3a"
             ],
             [
              0.8888888888888888,
              "#fdca26"
             ],
             [
              1,
              "#f0f921"
             ]
            ],
            "type": "histogram2dcontour"
           }
          ],
          "mesh3d": [
           {
            "colorbar": {
             "outlinewidth": 0,
             "ticks": ""
            },
            "type": "mesh3d"
           }
          ],
          "parcoords": [
           {
            "line": {
             "colorbar": {
              "outlinewidth": 0,
              "ticks": ""
             }
            },
            "type": "parcoords"
           }
          ],
          "pie": [
           {
            "automargin": true,
            "type": "pie"
           }
          ],
          "scatter": [
           {
            "fillpattern": {
             "fillmode": "overlay",
             "size": 10,
             "solidity": 0.2
            },
            "type": "scatter"
           }
          ],
          "scatter3d": [
           {
            "line": {
             "colorbar": {
              "outlinewidth": 0,
              "ticks": ""
             }
            },
            "marker": {
             "colorbar": {
              "outlinewidth": 0,
              "ticks": ""
             }
            },
            "type": "scatter3d"
           }
          ],
          "scattercarpet": [
           {
            "marker": {
             "colorbar": {
              "outlinewidth": 0,
              "ticks": ""
             }
            },
            "type": "scattercarpet"
           }
          ],
          "scattergeo": [
           {
            "marker": {
             "colorbar": {
              "outlinewidth": 0,
              "ticks": ""
             }
            },
            "type": "scattergeo"
           }
          ],
          "scattergl": [
           {
            "marker": {
             "colorbar": {
              "outlinewidth": 0,
              "ticks": ""
             }
            },
            "type": "scattergl"
           }
          ],
          "scattermapbox": [
           {
            "marker": {
             "colorbar": {
              "outlinewidth": 0,
              "ticks": ""
             }
            },
            "type": "scattermapbox"
           }
          ],
          "scatterpolar": [
           {
            "marker": {
             "colorbar": {
              "outlinewidth": 0,
              "ticks": ""
             }
            },
            "type": "scatterpolar"
           }
          ],
          "scatterpolargl": [
           {
            "marker": {
             "colorbar": {
              "outlinewidth": 0,
              "ticks": ""
             }
            },
            "type": "scatterpolargl"
           }
          ],
          "scatterternary": [
           {
            "marker": {
             "colorbar": {
              "outlinewidth": 0,
              "ticks": ""
             }
            },
            "type": "scatterternary"
           }
          ],
          "surface": [
           {
            "colorbar": {
             "outlinewidth": 0,
             "ticks": ""
            },
            "colorscale": [
             [
              0,
              "#0d0887"
             ],
             [
              0.1111111111111111,
              "#46039f"
             ],
             [
              0.2222222222222222,
              "#7201a8"
             ],
             [
              0.3333333333333333,
              "#9c179e"
             ],
             [
              0.4444444444444444,
              "#bd3786"
             ],
             [
              0.5555555555555556,
              "#d8576b"
             ],
             [
              0.6666666666666666,
              "#ed7953"
             ],
             [
              0.7777777777777778,
              "#fb9f3a"
             ],
             [
              0.8888888888888888,
              "#fdca26"
             ],
             [
              1,
              "#f0f921"
             ]
            ],
            "type": "surface"
           }
          ],
          "table": [
           {
            "cells": {
             "fill": {
              "color": "#EBF0F8"
             },
             "line": {
              "color": "white"
             }
            },
            "header": {
             "fill": {
              "color": "#C8D4E3"
             },
             "line": {
              "color": "white"
             }
            },
            "type": "table"
           }
          ]
         },
         "layout": {
          "annotationdefaults": {
           "arrowcolor": "#2a3f5f",
           "arrowhead": 0,
           "arrowwidth": 1
          },
          "autotypenumbers": "strict",
          "coloraxis": {
           "colorbar": {
            "outlinewidth": 0,
            "ticks": ""
           }
          },
          "colorscale": {
           "diverging": [
            [
             0,
             "#8e0152"
            ],
            [
             0.1,
             "#c51b7d"
            ],
            [
             0.2,
             "#de77ae"
            ],
            [
             0.3,
             "#f1b6da"
            ],
            [
             0.4,
             "#fde0ef"
            ],
            [
             0.5,
             "#f7f7f7"
            ],
            [
             0.6,
             "#e6f5d0"
            ],
            [
             0.7,
             "#b8e186"
            ],
            [
             0.8,
             "#7fbc41"
            ],
            [
             0.9,
             "#4d9221"
            ],
            [
             1,
             "#276419"
            ]
           ],
           "sequential": [
            [
             0,
             "#0d0887"
            ],
            [
             0.1111111111111111,
             "#46039f"
            ],
            [
             0.2222222222222222,
             "#7201a8"
            ],
            [
             0.3333333333333333,
             "#9c179e"
            ],
            [
             0.4444444444444444,
             "#bd3786"
            ],
            [
             0.5555555555555556,
             "#d8576b"
            ],
            [
             0.6666666666666666,
             "#ed7953"
            ],
            [
             0.7777777777777778,
             "#fb9f3a"
            ],
            [
             0.8888888888888888,
             "#fdca26"
            ],
            [
             1,
             "#f0f921"
            ]
           ],
           "sequentialminus": [
            [
             0,
             "#0d0887"
            ],
            [
             0.1111111111111111,
             "#46039f"
            ],
            [
             0.2222222222222222,
             "#7201a8"
            ],
            [
             0.3333333333333333,
             "#9c179e"
            ],
            [
             0.4444444444444444,
             "#bd3786"
            ],
            [
             0.5555555555555556,
             "#d8576b"
            ],
            [
             0.6666666666666666,
             "#ed7953"
            ],
            [
             0.7777777777777778,
             "#fb9f3a"
            ],
            [
             0.8888888888888888,
             "#fdca26"
            ],
            [
             1,
             "#f0f921"
            ]
           ]
          },
          "colorway": [
           "#636efa",
           "#EF553B",
           "#00cc96",
           "#ab63fa",
           "#FFA15A",
           "#19d3f3",
           "#FF6692",
           "#B6E880",
           "#FF97FF",
           "#FECB52"
          ],
          "font": {
           "color": "#2a3f5f"
          },
          "geo": {
           "bgcolor": "white",
           "lakecolor": "white",
           "landcolor": "#E5ECF6",
           "showlakes": true,
           "showland": true,
           "subunitcolor": "white"
          },
          "hoverlabel": {
           "align": "left"
          },
          "hovermode": "closest",
          "mapbox": {
           "style": "light"
          },
          "paper_bgcolor": "white",
          "plot_bgcolor": "#E5ECF6",
          "polar": {
           "angularaxis": {
            "gridcolor": "white",
            "linecolor": "white",
            "ticks": ""
           },
           "bgcolor": "#E5ECF6",
           "radialaxis": {
            "gridcolor": "white",
            "linecolor": "white",
            "ticks": ""
           }
          },
          "scene": {
           "xaxis": {
            "backgroundcolor": "#E5ECF6",
            "gridcolor": "white",
            "gridwidth": 2,
            "linecolor": "white",
            "showbackground": true,
            "ticks": "",
            "zerolinecolor": "white"
           },
           "yaxis": {
            "backgroundcolor": "#E5ECF6",
            "gridcolor": "white",
            "gridwidth": 2,
            "linecolor": "white",
            "showbackground": true,
            "ticks": "",
            "zerolinecolor": "white"
           },
           "zaxis": {
            "backgroundcolor": "#E5ECF6",
            "gridcolor": "white",
            "gridwidth": 2,
            "linecolor": "white",
            "showbackground": true,
            "ticks": "",
            "zerolinecolor": "white"
           }
          },
          "shapedefaults": {
           "line": {
            "color": "#2a3f5f"
           }
          },
          "ternary": {
           "aaxis": {
            "gridcolor": "white",
            "linecolor": "white",
            "ticks": ""
           },
           "baxis": {
            "gridcolor": "white",
            "linecolor": "white",
            "ticks": ""
           },
           "bgcolor": "#E5ECF6",
           "caxis": {
            "gridcolor": "white",
            "linecolor": "white",
            "ticks": ""
           }
          },
          "title": {
           "x": 0.05
          },
          "xaxis": {
           "automargin": true,
           "gridcolor": "white",
           "linecolor": "white",
           "ticks": "",
           "title": {
            "standoff": 15
           },
           "zerolinecolor": "white",
           "zerolinewidth": 2
          },
          "yaxis": {
           "automargin": true,
           "gridcolor": "white",
           "linecolor": "white",
           "ticks": "",
           "title": {
            "standoff": 15
           },
           "zerolinecolor": "white",
           "zerolinewidth": 2
          }
         }
        },
        "xaxis": {
         "anchor": "y",
         "domain": [
          0,
          1
         ],
         "title": {
          "text": "year_month"
         }
        },
        "yaxis": {
         "anchor": "x",
         "domain": [
          0,
          1
         ],
         "title": {
          "text": "value"
         }
        }
       }
      }
     },
     "metadata": {},
     "output_type": "display_data"
    }
   ],
   "source": [
    "df['year_month'] = pd.to_datetime(df.fecha_corte.apply(lambda x: str(x.year) + '-' + str(x.month) + '-' + '01'))\n",
    "base = df.groupby(['year_month'])[['saldo_a_la_fecha','riesgo_a_s','riesgo_b_s','riesgo_c_s','riesgo_d_s','riesgo_e_s']].mean()\n",
    "fig = px.line(base)\n",
    "fig.show()"
   ]
  },
  {
   "cell_type": "code",
   "execution_count": 11,
   "metadata": {},
   "outputs": [
    {
     "data": {
      "application/vnd.plotly.v1+json": {
       "config": {
        "plotlyServerURL": "https://plot.ly"
       },
       "data": [
        {
         "hovertemplate": "variable=riesgo_a_c<br>year_month=%{x}<br>value=%{y}<extra></extra>",
         "legendgroup": "riesgo_a_c",
         "line": {
          "color": "#636efa",
          "dash": "solid"
         },
         "marker": {
          "symbol": "circle"
         },
         "mode": "lines",
         "name": "riesgo_a_c",
         "orientation": "v",
         "showlegend": true,
         "type": "scatter",
         "x": [
          "2015-01-01T00:00:00",
          "2015-02-01T00:00:00",
          "2015-03-01T00:00:00",
          "2015-04-01T00:00:00",
          "2015-05-01T00:00:00",
          "2015-06-01T00:00:00",
          "2015-07-01T00:00:00",
          "2015-08-01T00:00:00",
          "2015-09-01T00:00:00",
          "2015-10-01T00:00:00",
          "2015-11-01T00:00:00",
          "2015-12-01T00:00:00",
          "2016-01-01T00:00:00",
          "2016-02-01T00:00:00",
          "2016-03-01T00:00:00",
          "2016-04-01T00:00:00",
          "2016-05-01T00:00:00",
          "2016-06-01T00:00:00",
          "2016-07-01T00:00:00",
          "2016-08-01T00:00:00",
          "2016-09-01T00:00:00",
          "2016-10-01T00:00:00",
          "2016-11-01T00:00:00",
          "2016-12-01T00:00:00",
          "2017-01-01T00:00:00",
          "2017-02-01T00:00:00",
          "2017-03-01T00:00:00",
          "2017-04-01T00:00:00",
          "2017-05-01T00:00:00",
          "2017-06-01T00:00:00",
          "2017-07-01T00:00:00",
          "2017-08-01T00:00:00",
          "2017-09-01T00:00:00",
          "2017-10-01T00:00:00",
          "2017-11-01T00:00:00",
          "2017-12-01T00:00:00",
          "2018-01-01T00:00:00",
          "2018-02-01T00:00:00",
          "2018-03-01T00:00:00",
          "2018-04-01T00:00:00",
          "2018-05-01T00:00:00",
          "2018-06-01T00:00:00",
          "2018-07-01T00:00:00",
          "2018-08-01T00:00:00",
          "2018-09-01T00:00:00",
          "2018-10-01T00:00:00",
          "2018-11-01T00:00:00",
          "2018-12-01T00:00:00",
          "2019-01-01T00:00:00",
          "2019-02-01T00:00:00",
          "2019-03-01T00:00:00",
          "2019-04-01T00:00:00",
          "2019-05-01T00:00:00",
          "2019-06-01T00:00:00",
          "2019-07-01T00:00:00",
          "2019-08-01T00:00:00",
          "2019-09-01T00:00:00",
          "2019-10-01T00:00:00",
          "2019-11-01T00:00:00",
          "2019-12-01T00:00:00",
          "2020-01-01T00:00:00",
          "2020-02-01T00:00:00",
          "2020-03-01T00:00:00",
          "2020-04-01T00:00:00",
          "2020-05-01T00:00:00",
          "2020-06-01T00:00:00",
          "2020-07-01T00:00:00",
          "2020-08-01T00:00:00",
          "2020-09-01T00:00:00",
          "2020-10-01T00:00:00",
          "2020-11-01T00:00:00",
          "2020-12-01T00:00:00",
          "2021-01-01T00:00:00",
          "2021-02-01T00:00:00",
          "2021-03-01T00:00:00",
          "2021-04-01T00:00:00",
          "2021-05-01T00:00:00",
          "2021-06-01T00:00:00",
          "2021-07-01T00:00:00",
          "2021-08-01T00:00:00",
          "2021-09-01T00:00:00",
          "2021-10-01T00:00:00",
          "2021-11-01T00:00:00",
          "2021-12-01T00:00:00",
          "2022-01-01T00:00:00",
          "2022-02-01T00:00:00",
          "2022-03-01T00:00:00",
          "2022-04-01T00:00:00",
          "2022-05-01T00:00:00",
          "2022-06-01T00:00:00",
          "2022-07-01T00:00:00",
          "2022-08-01T00:00:00",
          "2022-09-01T00:00:00",
          "2022-10-01T00:00:00",
          "2022-11-01T00:00:00",
          "2022-12-01T00:00:00",
          "2023-01-01T00:00:00",
          "2023-02-01T00:00:00",
          "2023-03-01T00:00:00",
          "2023-04-01T00:00:00",
          "2023-05-01T00:00:00",
          "2023-06-01T00:00:00",
          "2023-07-01T00:00:00"
         ],
         "xaxis": "x",
         "y": [
          33472.81465517241,
          28424.376518218625,
          35407.89430894309,
          42063.61825726141,
          43095.042056074766,
          32768.390557939914,
          26418.513409961684,
          27391.535564853555,
          32159.637096774193,
          41657.14601769912,
          37325.535864978905,
          40583.56277056277,
          31971.68725868726,
          27266.584033613446,
          29502.08370044053,
          37806.79203539823,
          30447.550943396225,
          41965.97107438016,
          42388.90476190476,
          37841.230769230766,
          26768.01724137931,
          23195.510288065845,
          31081.761316872427,
          34285.61048689138,
          30502.594142259415,
          23681.777358490566,
          41896.629787234044,
          33385.62790697674,
          33305.61832061069,
          25443.581589958158,
          22507.97818181818,
          28895.545851528383,
          30051.906122448978,
          37863.31654676259,
          31931.526315789473,
          49960.65882352941,
          23211.50570342205,
          30186.725490196077,
          19762.65,
          38640.52589641434,
          19427.854166666668,
          45487.073643410855,
          20589.612781954886,
          35233.14498141264,
          35045.17842323652,
          39659.08298755187,
          43067.43668122271,
          24531.408396946565,
          34750.359073359075,
          44801.408,
          32129.79847908745,
          31770.614785992217,
          46058.7903930131,
          35134.36363636364,
          31619.786026200873,
          27345.637860082305,
          27901.679841897232,
          47237.161016949154,
          39999.08032128514,
          33030.03861003861,
          32863.495652173915,
          52512.329218107,
          52765.83474576271,
          47408.97797356828,
          41280.82375478927,
          37547.223577235774,
          30031.369811320754,
          42386.43697478992,
          36131,
          26926.5593220339,
          29608.414414414416,
          31948.039682539682,
          35342.38181818182,
          30391.057971014492,
          35413.831168831166,
          42692.181818181816,
          29412.820627802692,
          26840.735682819384,
          30526.93236714976,
          26073.406392694065,
          43310.49268292683,
          35729.13545816733,
          42923.47791164659,
          35337.157205240175,
          22013.780082987552,
          31864.867256637168,
          45200.89189189189,
          34622.33193277311,
          52383.37704918033,
          33202.5,
          33926.51082251082,
          50537.07983193277,
          38802.834677419356,
          48005.1875,
          37716.04868913857,
          45986.35,
          38391.4314516129,
          42720.84362139917,
          34226.18534482759,
          24400.212669683257,
          37459.81012658228,
          44957.15625,
          32290
         ],
         "yaxis": "y"
        },
        {
         "hovertemplate": "variable=riesgo_b_c<br>year_month=%{x}<br>value=%{y}<extra></extra>",
         "legendgroup": "riesgo_b_c",
         "line": {
          "color": "#EF553B",
          "dash": "solid"
         },
         "marker": {
          "symbol": "circle"
         },
         "mode": "lines",
         "name": "riesgo_b_c",
         "orientation": "v",
         "showlegend": true,
         "type": "scatter",
         "x": [
          "2015-01-01T00:00:00",
          "2015-02-01T00:00:00",
          "2015-03-01T00:00:00",
          "2015-04-01T00:00:00",
          "2015-05-01T00:00:00",
          "2015-06-01T00:00:00",
          "2015-07-01T00:00:00",
          "2015-08-01T00:00:00",
          "2015-09-01T00:00:00",
          "2015-10-01T00:00:00",
          "2015-11-01T00:00:00",
          "2015-12-01T00:00:00",
          "2016-01-01T00:00:00",
          "2016-02-01T00:00:00",
          "2016-03-01T00:00:00",
          "2016-04-01T00:00:00",
          "2016-05-01T00:00:00",
          "2016-06-01T00:00:00",
          "2016-07-01T00:00:00",
          "2016-08-01T00:00:00",
          "2016-09-01T00:00:00",
          "2016-10-01T00:00:00",
          "2016-11-01T00:00:00",
          "2016-12-01T00:00:00",
          "2017-01-01T00:00:00",
          "2017-02-01T00:00:00",
          "2017-03-01T00:00:00",
          "2017-04-01T00:00:00",
          "2017-05-01T00:00:00",
          "2017-06-01T00:00:00",
          "2017-07-01T00:00:00",
          "2017-08-01T00:00:00",
          "2017-09-01T00:00:00",
          "2017-10-01T00:00:00",
          "2017-11-01T00:00:00",
          "2017-12-01T00:00:00",
          "2018-01-01T00:00:00",
          "2018-02-01T00:00:00",
          "2018-03-01T00:00:00",
          "2018-04-01T00:00:00",
          "2018-05-01T00:00:00",
          "2018-06-01T00:00:00",
          "2018-07-01T00:00:00",
          "2018-08-01T00:00:00",
          "2018-09-01T00:00:00",
          "2018-10-01T00:00:00",
          "2018-11-01T00:00:00",
          "2018-12-01T00:00:00",
          "2019-01-01T00:00:00",
          "2019-02-01T00:00:00",
          "2019-03-01T00:00:00",
          "2019-04-01T00:00:00",
          "2019-05-01T00:00:00",
          "2019-06-01T00:00:00",
          "2019-07-01T00:00:00",
          "2019-08-01T00:00:00",
          "2019-09-01T00:00:00",
          "2019-10-01T00:00:00",
          "2019-11-01T00:00:00",
          "2019-12-01T00:00:00",
          "2020-01-01T00:00:00",
          "2020-02-01T00:00:00",
          "2020-03-01T00:00:00",
          "2020-04-01T00:00:00",
          "2020-05-01T00:00:00",
          "2020-06-01T00:00:00",
          "2020-07-01T00:00:00",
          "2020-08-01T00:00:00",
          "2020-09-01T00:00:00",
          "2020-10-01T00:00:00",
          "2020-11-01T00:00:00",
          "2020-12-01T00:00:00",
          "2021-01-01T00:00:00",
          "2021-02-01T00:00:00",
          "2021-03-01T00:00:00",
          "2021-04-01T00:00:00",
          "2021-05-01T00:00:00",
          "2021-06-01T00:00:00",
          "2021-07-01T00:00:00",
          "2021-08-01T00:00:00",
          "2021-09-01T00:00:00",
          "2021-10-01T00:00:00",
          "2021-11-01T00:00:00",
          "2021-12-01T00:00:00",
          "2022-01-01T00:00:00",
          "2022-02-01T00:00:00",
          "2022-03-01T00:00:00",
          "2022-04-01T00:00:00",
          "2022-05-01T00:00:00",
          "2022-06-01T00:00:00",
          "2022-07-01T00:00:00",
          "2022-08-01T00:00:00",
          "2022-09-01T00:00:00",
          "2022-10-01T00:00:00",
          "2022-11-01T00:00:00",
          "2022-12-01T00:00:00",
          "2023-01-01T00:00:00",
          "2023-02-01T00:00:00",
          "2023-03-01T00:00:00",
          "2023-04-01T00:00:00",
          "2023-05-01T00:00:00",
          "2023-06-01T00:00:00",
          "2023-07-01T00:00:00"
         ],
         "xaxis": "x",
         "y": [
          1287.2370689655172,
          1046.923076923077,
          1703.178861788618,
          1472.1410788381743,
          1648.4859813084113,
          1344.6652360515022,
          842.7203065134099,
          792.9874476987447,
          1236.3185483870968,
          1783.1637168141592,
          1577.1012658227849,
          1486.4632034632034,
          1001.8610038610038,
          1037.9957983193278,
          1165.057268722467,
          1734.7477876106195,
          1013.222641509434,
          1589.698347107438,
          1939.0714285714287,
          1729.940170940171,
          891.125,
          721.6831275720165,
          1171.5020576131687,
          1187.3970037453184,
          875.0292887029289,
          651.1207547169811,
          1614.3021276595746,
          1330.1782945736434,
          1322.9236641221373,
          894.8702928870293,
          952.7563636363636,
          1007.7554585152839,
          1119.0326530612244,
          1588.8093525179856,
          1297.780701754386,
          1826.9254901960785,
          717.6653992395437,
          1135.9058823529413,
          912.3384615384615,
          1367.8884462151395,
          648.7916666666666,
          1712.0891472868218,
          618.3007518796992,
          1226.6840148698884,
          1421.3360995850621,
          1656.6141078838175,
          1307.6200873362445,
          836.4770992366413,
          1146.8610038610038,
          1494.84,
          1058.3079847908746,
          975.2412451361868,
          1244.3755458515284,
          993.7747035573123,
          955.7292576419214,
          668.2098765432099,
          897.7272727272727,
          1310.0338983050847,
          1310.9317269076305,
          927.8996138996139,
          908.5173913043478,
          1575.4156378600824,
          1580.1906779661017,
          1561.9603524229076,
          1312.176245210728,
          1173.5934959349593,
          889.8,
          2082.159663865546,
          1648.0353982300885,
          1105,
          1363.3918918918919,
          1223.9801587301588,
          1650.0454545454545,
          1205.7874396135267,
          1568.6623376623377,
          1599.4545454545455,
          1177.8744394618834,
          1146.7929515418502,
          1296.608695652174,
          997.8447488584475,
          1393.7219512195122,
          1214.5617529880478,
          1511.3453815261043,
          987.9039301310044,
          570.8008298755186,
          1084.075221238938,
          1322.065637065637,
          1196.18487394958,
          1576.844262295082,
          1041.9297520661157,
          857.1082251082252,
          1810.0588235294117,
          1334.7137096774193,
          1590.6291666666666,
          1210.876404494382,
          1340.3458333333333,
          1344.9516129032259,
          1402.5102880658437,
          1166.0086206896551,
          951.1809954751131,
          1365.5400843881857,
          1679.484375,
          1269.434262948207
         ],
         "yaxis": "y"
        },
        {
         "hovertemplate": "variable=riesgo_c_c<br>year_month=%{x}<br>value=%{y}<extra></extra>",
         "legendgroup": "riesgo_c_c",
         "line": {
          "color": "#00cc96",
          "dash": "solid"
         },
         "marker": {
          "symbol": "circle"
         },
         "mode": "lines",
         "name": "riesgo_c_c",
         "orientation": "v",
         "showlegend": true,
         "type": "scatter",
         "x": [
          "2015-01-01T00:00:00",
          "2015-02-01T00:00:00",
          "2015-03-01T00:00:00",
          "2015-04-01T00:00:00",
          "2015-05-01T00:00:00",
          "2015-06-01T00:00:00",
          "2015-07-01T00:00:00",
          "2015-08-01T00:00:00",
          "2015-09-01T00:00:00",
          "2015-10-01T00:00:00",
          "2015-11-01T00:00:00",
          "2015-12-01T00:00:00",
          "2016-01-01T00:00:00",
          "2016-02-01T00:00:00",
          "2016-03-01T00:00:00",
          "2016-04-01T00:00:00",
          "2016-05-01T00:00:00",
          "2016-06-01T00:00:00",
          "2016-07-01T00:00:00",
          "2016-08-01T00:00:00",
          "2016-09-01T00:00:00",
          "2016-10-01T00:00:00",
          "2016-11-01T00:00:00",
          "2016-12-01T00:00:00",
          "2017-01-01T00:00:00",
          "2017-02-01T00:00:00",
          "2017-03-01T00:00:00",
          "2017-04-01T00:00:00",
          "2017-05-01T00:00:00",
          "2017-06-01T00:00:00",
          "2017-07-01T00:00:00",
          "2017-08-01T00:00:00",
          "2017-09-01T00:00:00",
          "2017-10-01T00:00:00",
          "2017-11-01T00:00:00",
          "2017-12-01T00:00:00",
          "2018-01-01T00:00:00",
          "2018-02-01T00:00:00",
          "2018-03-01T00:00:00",
          "2018-04-01T00:00:00",
          "2018-05-01T00:00:00",
          "2018-06-01T00:00:00",
          "2018-07-01T00:00:00",
          "2018-08-01T00:00:00",
          "2018-09-01T00:00:00",
          "2018-10-01T00:00:00",
          "2018-11-01T00:00:00",
          "2018-12-01T00:00:00",
          "2019-01-01T00:00:00",
          "2019-02-01T00:00:00",
          "2019-03-01T00:00:00",
          "2019-04-01T00:00:00",
          "2019-05-01T00:00:00",
          "2019-06-01T00:00:00",
          "2019-07-01T00:00:00",
          "2019-08-01T00:00:00",
          "2019-09-01T00:00:00",
          "2019-10-01T00:00:00",
          "2019-11-01T00:00:00",
          "2019-12-01T00:00:00",
          "2020-01-01T00:00:00",
          "2020-02-01T00:00:00",
          "2020-03-01T00:00:00",
          "2020-04-01T00:00:00",
          "2020-05-01T00:00:00",
          "2020-06-01T00:00:00",
          "2020-07-01T00:00:00",
          "2020-08-01T00:00:00",
          "2020-09-01T00:00:00",
          "2020-10-01T00:00:00",
          "2020-11-01T00:00:00",
          "2020-12-01T00:00:00",
          "2021-01-01T00:00:00",
          "2021-02-01T00:00:00",
          "2021-03-01T00:00:00",
          "2021-04-01T00:00:00",
          "2021-05-01T00:00:00",
          "2021-06-01T00:00:00",
          "2021-07-01T00:00:00",
          "2021-08-01T00:00:00",
          "2021-09-01T00:00:00",
          "2021-10-01T00:00:00",
          "2021-11-01T00:00:00",
          "2021-12-01T00:00:00",
          "2022-01-01T00:00:00",
          "2022-02-01T00:00:00",
          "2022-03-01T00:00:00",
          "2022-04-01T00:00:00",
          "2022-05-01T00:00:00",
          "2022-06-01T00:00:00",
          "2022-07-01T00:00:00",
          "2022-08-01T00:00:00",
          "2022-09-01T00:00:00",
          "2022-10-01T00:00:00",
          "2022-11-01T00:00:00",
          "2022-12-01T00:00:00",
          "2023-01-01T00:00:00",
          "2023-02-01T00:00:00",
          "2023-03-01T00:00:00",
          "2023-04-01T00:00:00",
          "2023-05-01T00:00:00",
          "2023-06-01T00:00:00",
          "2023-07-01T00:00:00"
         ],
         "xaxis": "x",
         "y": [
          774.9568965517242,
          611.6315789473684,
          894.3252032520326,
          827.3360995850622,
          981.6915887850467,
          730.1630901287554,
          499.088122605364,
          533.5774058577406,
          721.641129032258,
          905.9115044247787,
          849.3417721518987,
          869.6320346320347,
          594.3513513513514,
          572.8319327731092,
          667.1674008810572,
          873.9203539823009,
          612.4566037735849,
          901.0661157024794,
          5739.039682539683,
          1581.162393162393,
          1200.3620689655172,
          1093.7283950617284,
          1323.0699588477366,
          2773.2134831460676,
          594.7196652719665,
          989.7433962264151,
          5698.889361702128,
          2131.9961240310076,
          786.4427480916031,
          1989.3138075313807,
          1649.8581818181817,
          1713.9213973799126,
          1480.7551020408164,
          5665.86690647482,
          1765.7763157894738,
          4769.976470588235,
          3067.5513307984793,
          581.8039215686274,
          473.69615384615383,
          763.2948207171315,
          375.2625,
          952.3333333333334,
          381.3157894736842,
          638.8438661710037,
          729.1991701244814,
          780.2904564315353,
          734.0655021834061,
          459.64885496183206,
          598.03861003861,
          834.696,
          562.6920152091254,
          585.7821011673152,
          748.2270742358079,
          613.4110671936759,
          478.07423580786025,
          431.74074074074076,
          467.3320158102767,
          725.2245762711865,
          721.0240963855422,
          590.8494208494209,
          551.3782608695652,
          957.6255144032922,
          909.292372881356,
          662.3876651982379,
          564.176245210728,
          609.5731707317074,
          361.92830188679244,
          541.3319327731092,
          1183.9601769911505,
          665.7669491525423,
          856.5990990990991,
          939.9761904761905,
          1072.7318181818182,
          975.7101449275362,
          1033.012987012987,
          1118.3719008264463,
          795.2331838565023,
          828.7797356828194,
          911.9806763285025,
          626.9543378995434,
          805.6292682926829,
          833.3784860557769,
          1063.9156626506024,
          756.1310043668122,
          395.09128630705396,
          585.3938053097345,
          895.6023166023166,
          738.0126050420168,
          1013.4713114754098,
          631.7438016528926,
          536.6580086580086,
          1052.2521008403362,
          762.3266129032259,
          1011.9375,
          784.8913857677902,
          907.3833333333333,
          917.6653225806451,
          968.9382716049382,
          818.1810344827586,
          677.0904977375566,
          876.0168776371308,
          1173.40234375,
          906.1155378486055
         ],
         "yaxis": "y"
        },
        {
         "hovertemplate": "variable=riesgo_d_c<br>year_month=%{x}<br>value=%{y}<extra></extra>",
         "legendgroup": "riesgo_d_c",
         "line": {
          "color": "#ab63fa",
          "dash": "solid"
         },
         "marker": {
          "symbol": "circle"
         },
         "mode": "lines",
         "name": "riesgo_d_c",
         "orientation": "v",
         "showlegend": true,
         "type": "scatter",
         "x": [
          "2015-01-01T00:00:00",
          "2015-02-01T00:00:00",
          "2015-03-01T00:00:00",
          "2015-04-01T00:00:00",
          "2015-05-01T00:00:00",
          "2015-06-01T00:00:00",
          "2015-07-01T00:00:00",
          "2015-08-01T00:00:00",
          "2015-09-01T00:00:00",
          "2015-10-01T00:00:00",
          "2015-11-01T00:00:00",
          "2015-12-01T00:00:00",
          "2016-01-01T00:00:00",
          "2016-02-01T00:00:00",
          "2016-03-01T00:00:00",
          "2016-04-01T00:00:00",
          "2016-05-01T00:00:00",
          "2016-06-01T00:00:00",
          "2016-07-01T00:00:00",
          "2016-08-01T00:00:00",
          "2016-09-01T00:00:00",
          "2016-10-01T00:00:00",
          "2016-11-01T00:00:00",
          "2016-12-01T00:00:00",
          "2017-01-01T00:00:00",
          "2017-02-01T00:00:00",
          "2017-03-01T00:00:00",
          "2017-04-01T00:00:00",
          "2017-05-01T00:00:00",
          "2017-06-01T00:00:00",
          "2017-07-01T00:00:00",
          "2017-08-01T00:00:00",
          "2017-09-01T00:00:00",
          "2017-10-01T00:00:00",
          "2017-11-01T00:00:00",
          "2017-12-01T00:00:00",
          "2018-01-01T00:00:00",
          "2018-02-01T00:00:00",
          "2018-03-01T00:00:00",
          "2018-04-01T00:00:00",
          "2018-05-01T00:00:00",
          "2018-06-01T00:00:00",
          "2018-07-01T00:00:00",
          "2018-08-01T00:00:00",
          "2018-09-01T00:00:00",
          "2018-10-01T00:00:00",
          "2018-11-01T00:00:00",
          "2018-12-01T00:00:00",
          "2019-01-01T00:00:00",
          "2019-02-01T00:00:00",
          "2019-03-01T00:00:00",
          "2019-04-01T00:00:00",
          "2019-05-01T00:00:00",
          "2019-06-01T00:00:00",
          "2019-07-01T00:00:00",
          "2019-08-01T00:00:00",
          "2019-09-01T00:00:00",
          "2019-10-01T00:00:00",
          "2019-11-01T00:00:00",
          "2019-12-01T00:00:00",
          "2020-01-01T00:00:00",
          "2020-02-01T00:00:00",
          "2020-03-01T00:00:00",
          "2020-04-01T00:00:00",
          "2020-05-01T00:00:00",
          "2020-06-01T00:00:00",
          "2020-07-01T00:00:00",
          "2020-08-01T00:00:00",
          "2020-09-01T00:00:00",
          "2020-10-01T00:00:00",
          "2020-11-01T00:00:00",
          "2020-12-01T00:00:00",
          "2021-01-01T00:00:00",
          "2021-02-01T00:00:00",
          "2021-03-01T00:00:00",
          "2021-04-01T00:00:00",
          "2021-05-01T00:00:00",
          "2021-06-01T00:00:00",
          "2021-07-01T00:00:00",
          "2021-08-01T00:00:00",
          "2021-09-01T00:00:00",
          "2021-10-01T00:00:00",
          "2021-11-01T00:00:00",
          "2021-12-01T00:00:00",
          "2022-01-01T00:00:00",
          "2022-02-01T00:00:00",
          "2022-03-01T00:00:00",
          "2022-04-01T00:00:00",
          "2022-05-01T00:00:00",
          "2022-06-01T00:00:00",
          "2022-07-01T00:00:00",
          "2022-08-01T00:00:00",
          "2022-09-01T00:00:00",
          "2022-10-01T00:00:00",
          "2022-11-01T00:00:00",
          "2022-12-01T00:00:00",
          "2023-01-01T00:00:00",
          "2023-02-01T00:00:00",
          "2023-03-01T00:00:00",
          "2023-04-01T00:00:00",
          "2023-05-01T00:00:00",
          "2023-06-01T00:00:00",
          "2023-07-01T00:00:00"
         ],
         "xaxis": "x",
         "y": [
          978.1681034482758,
          620.8259109311741,
          1188.2276422764228,
          968.0207468879668,
          1188.5,
          1013.6394849785407,
          638.6436781609195,
          567.9205020920502,
          858.858870967742,
          1248.986725663717,
          1090.2362869198312,
          1263.5151515151515,
          712.7065637065637,
          855.6008403361344,
          749.4889867841409,
          1239.3274336283187,
          766.2603773584906,
          1219.206611570248,
          1298.2579365079366,
          1187.8803418803418,
          717.2672413793103,
          536.5020576131687,
          836.5144032921811,
          945.501872659176,
          718.5564853556485,
          562.3132075471698,
          985.0851063829788,
          917.1821705426356,
          988.4732824427481,
          692.3849372384938,
          739.8618181818182,
          770.3711790393013,
          819.9755102040816,
          1206.5323741007194,
          1007.8333333333334,
          1528.1176470588234,
          650,
          779.6941176470589,
          660.4076923076923,
          1291.597609561753,
          552.275,
          1547.3565891472867,
          660.375939849624,
          996.8141263940521,
          996.7551867219917,
          1158.676348547718,
          1024.3187772925764,
          762.4923664122138,
          921.5559845559845,
          1277.916,
          786.022813688213,
          979.3929961089494,
          1053.4585152838429,
          998.3438735177865,
          773.6768558951965,
          616.9094650205761,
          768.5849802371541,
          1166.8983050847457,
          1000.5582329317269,
          866.1003861003861,
          758.0043478260869,
          1403.111111111111,
          1190.6483050847457,
          1063.339207048458,
          755.1685823754789,
          960.4959349593496,
          522.6150943396226,
          543.2521008403361,
          557.070796460177,
          794.1525423728814,
          815.8423423423424,
          1472.0039682539682,
          1322.1863636363637,
          1460.280193236715,
          1266.5194805194806,
          1444.892561983471,
          988.2062780269058,
          958.1497797356828,
          888.1932367149758,
          606.1780821917808,
          816.6439024390244,
          1006.6135458167331,
          1180.9357429718875,
          931.5589519650655,
          433.6970954356847,
          682.4867256637168,
          1038.3706563706564,
          932.9663865546219,
          1282.545081967213,
          929.7644628099174,
          719.2251082251082,
          1535.3697478991596,
          976.3064516129032,
          1327.9916666666666,
          1063.3520599250937,
          1300.4,
          1293.0604838709678,
          1145.4526748971193,
          1176.7974137931035,
          1014.2352941176471,
          1360.2489451476793,
          1750.18359375,
          1424.832669322709
         ],
         "yaxis": "y"
        },
        {
         "hovertemplate": "variable=riesgo_e_c<br>year_month=%{x}<br>value=%{y}<extra></extra>",
         "legendgroup": "riesgo_e_c",
         "line": {
          "color": "#FFA15A",
          "dash": "solid"
         },
         "marker": {
          "symbol": "circle"
         },
         "mode": "lines",
         "name": "riesgo_e_c",
         "orientation": "v",
         "showlegend": true,
         "type": "scatter",
         "x": [
          "2015-01-01T00:00:00",
          "2015-02-01T00:00:00",
          "2015-03-01T00:00:00",
          "2015-04-01T00:00:00",
          "2015-05-01T00:00:00",
          "2015-06-01T00:00:00",
          "2015-07-01T00:00:00",
          "2015-08-01T00:00:00",
          "2015-09-01T00:00:00",
          "2015-10-01T00:00:00",
          "2015-11-01T00:00:00",
          "2015-12-01T00:00:00",
          "2016-01-01T00:00:00",
          "2016-02-01T00:00:00",
          "2016-03-01T00:00:00",
          "2016-04-01T00:00:00",
          "2016-05-01T00:00:00",
          "2016-06-01T00:00:00",
          "2016-07-01T00:00:00",
          "2016-08-01T00:00:00",
          "2016-09-01T00:00:00",
          "2016-10-01T00:00:00",
          "2016-11-01T00:00:00",
          "2016-12-01T00:00:00",
          "2017-01-01T00:00:00",
          "2017-02-01T00:00:00",
          "2017-03-01T00:00:00",
          "2017-04-01T00:00:00",
          "2017-05-01T00:00:00",
          "2017-06-01T00:00:00",
          "2017-07-01T00:00:00",
          "2017-08-01T00:00:00",
          "2017-09-01T00:00:00",
          "2017-10-01T00:00:00",
          "2017-11-01T00:00:00",
          "2017-12-01T00:00:00",
          "2018-01-01T00:00:00",
          "2018-02-01T00:00:00",
          "2018-03-01T00:00:00",
          "2018-04-01T00:00:00",
          "2018-05-01T00:00:00",
          "2018-06-01T00:00:00",
          "2018-07-01T00:00:00",
          "2018-08-01T00:00:00",
          "2018-09-01T00:00:00",
          "2018-10-01T00:00:00",
          "2018-11-01T00:00:00",
          "2018-12-01T00:00:00",
          "2019-01-01T00:00:00",
          "2019-02-01T00:00:00",
          "2019-03-01T00:00:00",
          "2019-04-01T00:00:00",
          "2019-05-01T00:00:00",
          "2019-06-01T00:00:00",
          "2019-07-01T00:00:00",
          "2019-08-01T00:00:00",
          "2019-09-01T00:00:00",
          "2019-10-01T00:00:00",
          "2019-11-01T00:00:00",
          "2019-12-01T00:00:00",
          "2020-01-01T00:00:00",
          "2020-02-01T00:00:00",
          "2020-03-01T00:00:00",
          "2020-04-01T00:00:00",
          "2020-05-01T00:00:00",
          "2020-06-01T00:00:00",
          "2020-07-01T00:00:00",
          "2020-08-01T00:00:00",
          "2020-09-01T00:00:00",
          "2020-10-01T00:00:00",
          "2020-11-01T00:00:00",
          "2020-12-01T00:00:00",
          "2021-01-01T00:00:00",
          "2021-02-01T00:00:00",
          "2021-03-01T00:00:00",
          "2021-04-01T00:00:00",
          "2021-05-01T00:00:00",
          "2021-06-01T00:00:00",
          "2021-07-01T00:00:00",
          "2021-08-01T00:00:00",
          "2021-09-01T00:00:00",
          "2021-10-01T00:00:00",
          "2021-11-01T00:00:00",
          "2021-12-01T00:00:00",
          "2022-01-01T00:00:00",
          "2022-02-01T00:00:00",
          "2022-03-01T00:00:00",
          "2022-04-01T00:00:00",
          "2022-05-01T00:00:00",
          "2022-06-01T00:00:00",
          "2022-07-01T00:00:00",
          "2022-08-01T00:00:00",
          "2022-09-01T00:00:00",
          "2022-10-01T00:00:00",
          "2022-11-01T00:00:00",
          "2022-12-01T00:00:00",
          "2023-01-01T00:00:00",
          "2023-02-01T00:00:00",
          "2023-03-01T00:00:00",
          "2023-04-01T00:00:00",
          "2023-05-01T00:00:00",
          "2023-06-01T00:00:00",
          "2023-07-01T00:00:00"
         ],
         "xaxis": "x",
         "y": [
          678.198275862069,
          748.8623481781376,
          468.6260162601626,
          952.448132780083,
          764.7710280373832,
          676.4721030042919,
          489.32567049808426,
          588.531380753138,
          631.2137096774194,
          523.9115044247787,
          581.8185654008439,
          605.7186147186147,
          504.17760617760615,
          548.8529411764706,
          601.2599118942732,
          517.4513274336283,
          825.9169811320754,
          588.1487603305785,
          849.3769841269841,
          530.6111111111111,
          521.3534482758621,
          525.5432098765432,
          670.9958847736625,
          739.8951310861423,
          513.6569037656903,
          377.29811320754715,
          831.1106382978724,
          727.5581395348837,
          784.5648854961833,
          702.4267782426779,
          729.7381818181818,
          822.768558951965,
          953.8775510204082,
          892.2769784172662,
          728.578947368421,
          1248.1529411764707,
          720.8517110266159,
          969.1607843137255,
          604.3615384615384,
          1037.183266932271,
          747.825,
          1181.8372093023256,
          796.4586466165414,
          1096.8847583643123,
          1108.2448132780082,
          992.5352697095435,
          1107.0786026200874,
          964.7137404580153,
          994.2239382239383,
          1614.096,
          961.5969581749049,
          958.5097276264592,
          1269.117903930131,
          1126.2292490118577,
          898.589519650655,
          940.0576131687243,
          801.7075098814229,
          1081.843220338983,
          1115.6546184738957,
          941,
          906.6826086956522,
          1277.4732510288065,
          1654.7584745762713,
          1622.8458149779735,
          1118.360153256705,
          1369.7560975609756,
          1035.0188679245282,
          990.7478991596639,
          1481.3628318584072,
          1282.4661016949153,
          1372.4144144144145,
          937.4722222222222,
          1909.5727272727272,
          1119.0628019323672,
          1244.1904761904761,
          1476.1322314049587,
          1140.8520179372197,
          1100.9911894273127,
          1175.0579710144928,
          895.9908675799087,
          1376.3658536585365,
          1361.4780876494024,
          1574.4056224899598,
          1038.4323144104803,
          777.5352697095435,
          1132.6283185840707,
          1347.903474903475,
          1056.7268907563025,
          1347.360655737705,
          972.2231404958678,
          963.7445887445888,
          1213.2310924369747,
          1085.3951612903227,
          1406.25,
          1053.1647940074906,
          1022.5041666666667,
          979.7782258064516,
          1021.7777777777778,
          815.7155172413793,
          451.7330316742081,
          1042.7257383966244,
          1264.90625,
          1042.1912350597609
         ],
         "yaxis": "y"
        }
       ],
       "layout": {
        "legend": {
         "title": {
          "text": "variable"
         },
         "tracegroupgap": 0
        },
        "margin": {
         "t": 60
        },
        "template": {
         "data": {
          "bar": [
           {
            "error_x": {
             "color": "#2a3f5f"
            },
            "error_y": {
             "color": "#2a3f5f"
            },
            "marker": {
             "line": {
              "color": "#E5ECF6",
              "width": 0.5
             },
             "pattern": {
              "fillmode": "overlay",
              "size": 10,
              "solidity": 0.2
             }
            },
            "type": "bar"
           }
          ],
          "barpolar": [
           {
            "marker": {
             "line": {
              "color": "#E5ECF6",
              "width": 0.5
             },
             "pattern": {
              "fillmode": "overlay",
              "size": 10,
              "solidity": 0.2
             }
            },
            "type": "barpolar"
           }
          ],
          "carpet": [
           {
            "aaxis": {
             "endlinecolor": "#2a3f5f",
             "gridcolor": "white",
             "linecolor": "white",
             "minorgridcolor": "white",
             "startlinecolor": "#2a3f5f"
            },
            "baxis": {
             "endlinecolor": "#2a3f5f",
             "gridcolor": "white",
             "linecolor": "white",
             "minorgridcolor": "white",
             "startlinecolor": "#2a3f5f"
            },
            "type": "carpet"
           }
          ],
          "choropleth": [
           {
            "colorbar": {
             "outlinewidth": 0,
             "ticks": ""
            },
            "type": "choropleth"
           }
          ],
          "contour": [
           {
            "colorbar": {
             "outlinewidth": 0,
             "ticks": ""
            },
            "colorscale": [
             [
              0,
              "#0d0887"
             ],
             [
              0.1111111111111111,
              "#46039f"
             ],
             [
              0.2222222222222222,
              "#7201a8"
             ],
             [
              0.3333333333333333,
              "#9c179e"
             ],
             [
              0.4444444444444444,
              "#bd3786"
             ],
             [
              0.5555555555555556,
              "#d8576b"
             ],
             [
              0.6666666666666666,
              "#ed7953"
             ],
             [
              0.7777777777777778,
              "#fb9f3a"
             ],
             [
              0.8888888888888888,
              "#fdca26"
             ],
             [
              1,
              "#f0f921"
             ]
            ],
            "type": "contour"
           }
          ],
          "contourcarpet": [
           {
            "colorbar": {
             "outlinewidth": 0,
             "ticks": ""
            },
            "type": "contourcarpet"
           }
          ],
          "heatmap": [
           {
            "colorbar": {
             "outlinewidth": 0,
             "ticks": ""
            },
            "colorscale": [
             [
              0,
              "#0d0887"
             ],
             [
              0.1111111111111111,
              "#46039f"
             ],
             [
              0.2222222222222222,
              "#7201a8"
             ],
             [
              0.3333333333333333,
              "#9c179e"
             ],
             [
              0.4444444444444444,
              "#bd3786"
             ],
             [
              0.5555555555555556,
              "#d8576b"
             ],
             [
              0.6666666666666666,
              "#ed7953"
             ],
             [
              0.7777777777777778,
              "#fb9f3a"
             ],
             [
              0.8888888888888888,
              "#fdca26"
             ],
             [
              1,
              "#f0f921"
             ]
            ],
            "type": "heatmap"
           }
          ],
          "heatmapgl": [
           {
            "colorbar": {
             "outlinewidth": 0,
             "ticks": ""
            },
            "colorscale": [
             [
              0,
              "#0d0887"
             ],
             [
              0.1111111111111111,
              "#46039f"
             ],
             [
              0.2222222222222222,
              "#7201a8"
             ],
             [
              0.3333333333333333,
              "#9c179e"
             ],
             [
              0.4444444444444444,
              "#bd3786"
             ],
             [
              0.5555555555555556,
              "#d8576b"
             ],
             [
              0.6666666666666666,
              "#ed7953"
             ],
             [
              0.7777777777777778,
              "#fb9f3a"
             ],
             [
              0.8888888888888888,
              "#fdca26"
             ],
             [
              1,
              "#f0f921"
             ]
            ],
            "type": "heatmapgl"
           }
          ],
          "histogram": [
           {
            "marker": {
             "pattern": {
              "fillmode": "overlay",
              "size": 10,
              "solidity": 0.2
             }
            },
            "type": "histogram"
           }
          ],
          "histogram2d": [
           {
            "colorbar": {
             "outlinewidth": 0,
             "ticks": ""
            },
            "colorscale": [
             [
              0,
              "#0d0887"
             ],
             [
              0.1111111111111111,
              "#46039f"
             ],
             [
              0.2222222222222222,
              "#7201a8"
             ],
             [
              0.3333333333333333,
              "#9c179e"
             ],
             [
              0.4444444444444444,
              "#bd3786"
             ],
             [
              0.5555555555555556,
              "#d8576b"
             ],
             [
              0.6666666666666666,
              "#ed7953"
             ],
             [
              0.7777777777777778,
              "#fb9f3a"
             ],
             [
              0.8888888888888888,
              "#fdca26"
             ],
             [
              1,
              "#f0f921"
             ]
            ],
            "type": "histogram2d"
           }
          ],
          "histogram2dcontour": [
           {
            "colorbar": {
             "outlinewidth": 0,
             "ticks": ""
            },
            "colorscale": [
             [
              0,
              "#0d0887"
             ],
             [
              0.1111111111111111,
              "#46039f"
             ],
             [
              0.2222222222222222,
              "#7201a8"
             ],
             [
              0.3333333333333333,
              "#9c179e"
             ],
             [
              0.4444444444444444,
              "#bd3786"
             ],
             [
              0.5555555555555556,
              "#d8576b"
             ],
             [
              0.6666666666666666,
              "#ed7953"
             ],
             [
              0.7777777777777778,
              "#fb9f3a"
             ],
             [
              0.8888888888888888,
              "#fdca26"
             ],
             [
              1,
              "#f0f921"
             ]
            ],
            "type": "histogram2dcontour"
           }
          ],
          "mesh3d": [
           {
            "colorbar": {
             "outlinewidth": 0,
             "ticks": ""
            },
            "type": "mesh3d"
           }
          ],
          "parcoords": [
           {
            "line": {
             "colorbar": {
              "outlinewidth": 0,
              "ticks": ""
             }
            },
            "type": "parcoords"
           }
          ],
          "pie": [
           {
            "automargin": true,
            "type": "pie"
           }
          ],
          "scatter": [
           {
            "fillpattern": {
             "fillmode": "overlay",
             "size": 10,
             "solidity": 0.2
            },
            "type": "scatter"
           }
          ],
          "scatter3d": [
           {
            "line": {
             "colorbar": {
              "outlinewidth": 0,
              "ticks": ""
             }
            },
            "marker": {
             "colorbar": {
              "outlinewidth": 0,
              "ticks": ""
             }
            },
            "type": "scatter3d"
           }
          ],
          "scattercarpet": [
           {
            "marker": {
             "colorbar": {
              "outlinewidth": 0,
              "ticks": ""
             }
            },
            "type": "scattercarpet"
           }
          ],
          "scattergeo": [
           {
            "marker": {
             "colorbar": {
              "outlinewidth": 0,
              "ticks": ""
             }
            },
            "type": "scattergeo"
           }
          ],
          "scattergl": [
           {
            "marker": {
             "colorbar": {
              "outlinewidth": 0,
              "ticks": ""
             }
            },
            "type": "scattergl"
           }
          ],
          "scattermapbox": [
           {
            "marker": {
             "colorbar": {
              "outlinewidth": 0,
              "ticks": ""
             }
            },
            "type": "scattermapbox"
           }
          ],
          "scatterpolar": [
           {
            "marker": {
             "colorbar": {
              "outlinewidth": 0,
              "ticks": ""
             }
            },
            "type": "scatterpolar"
           }
          ],
          "scatterpolargl": [
           {
            "marker": {
             "colorbar": {
              "outlinewidth": 0,
              "ticks": ""
             }
            },
            "type": "scatterpolargl"
           }
          ],
          "scatterternary": [
           {
            "marker": {
             "colorbar": {
              "outlinewidth": 0,
              "ticks": ""
             }
            },
            "type": "scatterternary"
           }
          ],
          "surface": [
           {
            "colorbar": {
             "outlinewidth": 0,
             "ticks": ""
            },
            "colorscale": [
             [
              0,
              "#0d0887"
             ],
             [
              0.1111111111111111,
              "#46039f"
             ],
             [
              0.2222222222222222,
              "#7201a8"
             ],
             [
              0.3333333333333333,
              "#9c179e"
             ],
             [
              0.4444444444444444,
              "#bd3786"
             ],
             [
              0.5555555555555556,
              "#d8576b"
             ],
             [
              0.6666666666666666,
              "#ed7953"
             ],
             [
              0.7777777777777778,
              "#fb9f3a"
             ],
             [
              0.8888888888888888,
              "#fdca26"
             ],
             [
              1,
              "#f0f921"
             ]
            ],
            "type": "surface"
           }
          ],
          "table": [
           {
            "cells": {
             "fill": {
              "color": "#EBF0F8"
             },
             "line": {
              "color": "white"
             }
            },
            "header": {
             "fill": {
              "color": "#C8D4E3"
             },
             "line": {
              "color": "white"
             }
            },
            "type": "table"
           }
          ]
         },
         "layout": {
          "annotationdefaults": {
           "arrowcolor": "#2a3f5f",
           "arrowhead": 0,
           "arrowwidth": 1
          },
          "autotypenumbers": "strict",
          "coloraxis": {
           "colorbar": {
            "outlinewidth": 0,
            "ticks": ""
           }
          },
          "colorscale": {
           "diverging": [
            [
             0,
             "#8e0152"
            ],
            [
             0.1,
             "#c51b7d"
            ],
            [
             0.2,
             "#de77ae"
            ],
            [
             0.3,
             "#f1b6da"
            ],
            [
             0.4,
             "#fde0ef"
            ],
            [
             0.5,
             "#f7f7f7"
            ],
            [
             0.6,
             "#e6f5d0"
            ],
            [
             0.7,
             "#b8e186"
            ],
            [
             0.8,
             "#7fbc41"
            ],
            [
             0.9,
             "#4d9221"
            ],
            [
             1,
             "#276419"
            ]
           ],
           "sequential": [
            [
             0,
             "#0d0887"
            ],
            [
             0.1111111111111111,
             "#46039f"
            ],
            [
             0.2222222222222222,
             "#7201a8"
            ],
            [
             0.3333333333333333,
             "#9c179e"
            ],
            [
             0.4444444444444444,
             "#bd3786"
            ],
            [
             0.5555555555555556,
             "#d8576b"
            ],
            [
             0.6666666666666666,
             "#ed7953"
            ],
            [
             0.7777777777777778,
             "#fb9f3a"
            ],
            [
             0.8888888888888888,
             "#fdca26"
            ],
            [
             1,
             "#f0f921"
            ]
           ],
           "sequentialminus": [
            [
             0,
             "#0d0887"
            ],
            [
             0.1111111111111111,
             "#46039f"
            ],
            [
             0.2222222222222222,
             "#7201a8"
            ],
            [
             0.3333333333333333,
             "#9c179e"
            ],
            [
             0.4444444444444444,
             "#bd3786"
            ],
            [
             0.5555555555555556,
             "#d8576b"
            ],
            [
             0.6666666666666666,
             "#ed7953"
            ],
            [
             0.7777777777777778,
             "#fb9f3a"
            ],
            [
             0.8888888888888888,
             "#fdca26"
            ],
            [
             1,
             "#f0f921"
            ]
           ]
          },
          "colorway": [
           "#636efa",
           "#EF553B",
           "#00cc96",
           "#ab63fa",
           "#FFA15A",
           "#19d3f3",
           "#FF6692",
           "#B6E880",
           "#FF97FF",
           "#FECB52"
          ],
          "font": {
           "color": "#2a3f5f"
          },
          "geo": {
           "bgcolor": "white",
           "lakecolor": "white",
           "landcolor": "#E5ECF6",
           "showlakes": true,
           "showland": true,
           "subunitcolor": "white"
          },
          "hoverlabel": {
           "align": "left"
          },
          "hovermode": "closest",
          "mapbox": {
           "style": "light"
          },
          "paper_bgcolor": "white",
          "plot_bgcolor": "#E5ECF6",
          "polar": {
           "angularaxis": {
            "gridcolor": "white",
            "linecolor": "white",
            "ticks": ""
           },
           "bgcolor": "#E5ECF6",
           "radialaxis": {
            "gridcolor": "white",
            "linecolor": "white",
            "ticks": ""
           }
          },
          "scene": {
           "xaxis": {
            "backgroundcolor": "#E5ECF6",
            "gridcolor": "white",
            "gridwidth": 2,
            "linecolor": "white",
            "showbackground": true,
            "ticks": "",
            "zerolinecolor": "white"
           },
           "yaxis": {
            "backgroundcolor": "#E5ECF6",
            "gridcolor": "white",
            "gridwidth": 2,
            "linecolor": "white",
            "showbackground": true,
            "ticks": "",
            "zerolinecolor": "white"
           },
           "zaxis": {
            "backgroundcolor": "#E5ECF6",
            "gridcolor": "white",
            "gridwidth": 2,
            "linecolor": "white",
            "showbackground": true,
            "ticks": "",
            "zerolinecolor": "white"
           }
          },
          "shapedefaults": {
           "line": {
            "color": "#2a3f5f"
           }
          },
          "ternary": {
           "aaxis": {
            "gridcolor": "white",
            "linecolor": "white",
            "ticks": ""
           },
           "baxis": {
            "gridcolor": "white",
            "linecolor": "white",
            "ticks": ""
           },
           "bgcolor": "#E5ECF6",
           "caxis": {
            "gridcolor": "white",
            "linecolor": "white",
            "ticks": ""
           }
          },
          "title": {
           "x": 0.05
          },
          "xaxis": {
           "automargin": true,
           "gridcolor": "white",
           "linecolor": "white",
           "ticks": "",
           "title": {
            "standoff": 15
           },
           "zerolinecolor": "white",
           "zerolinewidth": 2
          },
          "yaxis": {
           "automargin": true,
           "gridcolor": "white",
           "linecolor": "white",
           "ticks": "",
           "title": {
            "standoff": 15
           },
           "zerolinecolor": "white",
           "zerolinewidth": 2
          }
         }
        },
        "xaxis": {
         "anchor": "y",
         "domain": [
          0,
          1
         ],
         "title": {
          "text": "year_month"
         }
        },
        "yaxis": {
         "anchor": "x",
         "domain": [
          0,
          1
         ],
         "title": {
          "text": "value"
         }
        }
       }
      }
     },
     "metadata": {},
     "output_type": "display_data"
    }
   ],
   "source": [
    "base2 = df.groupby(['year_month'])[['riesgo_a_c','riesgo_b_c','riesgo_c_c','riesgo_d_c','riesgo_e_c']].mean()\n",
    "fig = px.line(base2)\n",
    "fig.show()"
   ]
  },
  {
   "cell_type": "markdown",
   "metadata": {},
   "source": [
    "La gran mayoría de los clientes tienen obligaciones catalogadas como de riesgo a, que es la categoría de menos riesgo para las entidades. Dado que las columnas saldo por riesgo representan cada una el saldo total de cuentas que hay de dichos riesgos y la gran mayoría son de riesgos a, hay una correlación casi de 100% entre el saldo de cuentas de riesgo a y el saldo total a la fecha, se puede observar que varían casi que igual en el tiempo. Dicho lo anterior, se decide conservar el saldo total a la fecha y descartar las columnas de saldo por riesgos. Las columnas de número de clientes por riesgos también representa muy bien la frecuencia e importancia de cada riesgos."
   ]
  },
  {
   "cell_type": "code",
   "execution_count": 12,
   "metadata": {},
   "outputs": [],
   "source": [
    "df.drop(['riesgo_a_s', 'riesgo_b_s', 'riesgo_c_s', 'riesgo_d_s', 'riesgo_e_s'], axis=1, inplace=True)"
   ]
  },
  {
   "cell_type": "markdown",
   "metadata": {},
   "source": [
    "## ¿Qué hacer con las correlaciones altas de los riesgos con el número de clientes con más de 1 mes en mora?"
   ]
  },
  {
   "cell_type": "code",
   "execution_count": 13,
   "metadata": {},
   "outputs": [
    {
     "data": {
      "application/vnd.plotly.v1+json": {
       "config": {
        "plotlyServerURL": "https://plot.ly"
       },
       "data": [
        {
         "dimensions": [
          {
           "axis": {
            "matches": true
           },
           "label": "clientes_mora+30d",
           "values": [
            2385.9655172413795,
            1994.5182186234817,
            2487.979674796748,
            2642.1659751037346,
            2858.6682242990655,
            2357.218884120172,
            1572.8850574712644,
            1600.4435146443514,
            2091.0403225806454,
            2609.022123893805,
            2458.240506329114,
            2420.4588744588746,
            1740.7374517374517,
            1830.7100840336134,
            1978.1101321585902,
            2533.4159292035397,
            2098.9396226415092,
            2690.9462809917354,
            3071.0198412698414,
            2664.8760683760684,
            1762.375,
            1438.0329218106997,
            2271.4362139917694,
            2341.696629213483,
            1787.008368200837,
            1476.3471698113208,
            2760.1659574468085,
            2578.468992248062,
            2650.3702290076335,
            2005.7280334728034,
            2052.050909090909,
            2083.004366812227,
            2347.9632653061226,
            2855.776978417266,
            2424.938596491228,
            3569.2313725490194,
            1812.4106463878327,
            2480.764705882353,
            2248.730769230769,
            2964.4143426294822,
            1587.0625,
            3400.375968992248,
            1699.421052631579,
            2453.724907063197,
            2579.3651452282156,
            2755.3485477178424,
            3025.6986899563317,
            1965.0916030534352,
            2090.6679536679535,
            3383.004,
            2141.3079847908743,
            2250.0505836575876,
            2993.9825327510916,
            2601.1422924901185,
            2076.1441048034935,
            1894.7489711934156,
            1993.7747035573123,
            2714.3686440677966,
            2892.714859437751,
            2115.2162162162163,
            2159.3739130434783,
            3476.427983539095,
            3502.6525423728813,
            2859.8105726872245,
            2061.6743295019155,
            2360.29674796748,
            1525.1962264150943,
            2420.563025210084,
            3164.6106194690265,
            2531.2457627118642,
            2892.689189189189,
            2878.6785714285716,
            3553.668181818182,
            3081.864734299517,
            2866.848484848485,
            3365.8884297520663,
            2499.825112107623,
            2452.5022026431716,
            2374.710144927536,
            1736.8447488584475,
            2334.1463414634145,
            2498.1235059760957,
            3251.5381526104416,
            2293.5414847161574,
            1487.759336099585,
            2042.283185840708,
            2778.4054054054054,
            2663.781512605042,
            3346.405737704918,
            2484.2520661157023,
            1948.095238095238,
            3896.9033613445376,
            2760.2620967741937,
            3496.825,
            2707.0337078651687,
            2948.3875,
            3057.9435483870966,
            3080.5102880658437,
            2868.2456896551726,
            2301.814479638009,
            3412.0210970464136,
            4264.8984375,
            3291.2988047808767
           ]
          },
          {
           "axis": {
            "matches": true
           },
           "label": "riesgo_a_c",
           "values": [
            33472.81465517241,
            28424.376518218625,
            35407.89430894309,
            42063.61825726141,
            43095.042056074766,
            32768.390557939914,
            26418.513409961684,
            27391.535564853555,
            32159.637096774193,
            41657.14601769912,
            37325.535864978905,
            40583.56277056277,
            31971.68725868726,
            27266.584033613446,
            29502.08370044053,
            37806.79203539823,
            30447.550943396225,
            41965.97107438016,
            42388.90476190476,
            37841.230769230766,
            26768.01724137931,
            23195.510288065845,
            31081.761316872427,
            34285.61048689138,
            30502.594142259415,
            23681.777358490566,
            41896.629787234044,
            33385.62790697674,
            33305.61832061069,
            25443.581589958158,
            22507.97818181818,
            28895.545851528383,
            30051.906122448978,
            37863.31654676259,
            31931.526315789473,
            49960.65882352941,
            23211.50570342205,
            30186.725490196077,
            19762.65,
            38640.52589641434,
            19427.854166666668,
            45487.073643410855,
            20589.612781954886,
            35233.14498141264,
            35045.17842323652,
            39659.08298755187,
            43067.43668122271,
            24531.408396946565,
            34750.359073359075,
            44801.408,
            32129.79847908745,
            31770.614785992217,
            46058.7903930131,
            35134.36363636364,
            31619.786026200873,
            27345.637860082305,
            27901.679841897232,
            47237.161016949154,
            39999.08032128514,
            33030.03861003861,
            32863.495652173915,
            52512.329218107,
            52765.83474576271,
            47408.97797356828,
            41280.82375478927,
            37547.223577235774,
            30031.369811320754,
            42386.43697478992,
            36131,
            26926.5593220339,
            29608.414414414416,
            31948.039682539682,
            35342.38181818182,
            30391.057971014492,
            35413.831168831166,
            42692.181818181816,
            29412.820627802692,
            26840.735682819384,
            30526.93236714976,
            26073.406392694065,
            43310.49268292683,
            35729.13545816733,
            42923.47791164659,
            35337.157205240175,
            22013.780082987552,
            31864.867256637168,
            45200.89189189189,
            34622.33193277311,
            52383.37704918033,
            33202.5,
            33926.51082251082,
            50537.07983193277,
            38802.834677419356,
            48005.1875,
            37716.04868913857,
            45986.35,
            38391.4314516129,
            42720.84362139917,
            34226.18534482759,
            24400.212669683257,
            37459.81012658228,
            44957.15625,
            32290
           ]
          },
          {
           "axis": {
            "matches": true
           },
           "label": "riesgo_b_c",
           "values": [
            1287.2370689655172,
            1046.923076923077,
            1703.178861788618,
            1472.1410788381743,
            1648.4859813084113,
            1344.6652360515022,
            842.7203065134099,
            792.9874476987447,
            1236.3185483870968,
            1783.1637168141592,
            1577.1012658227849,
            1486.4632034632034,
            1001.8610038610038,
            1037.9957983193278,
            1165.057268722467,
            1734.7477876106195,
            1013.222641509434,
            1589.698347107438,
            1939.0714285714287,
            1729.940170940171,
            891.125,
            721.6831275720165,
            1171.5020576131687,
            1187.3970037453184,
            875.0292887029289,
            651.1207547169811,
            1614.3021276595746,
            1330.1782945736434,
            1322.9236641221373,
            894.8702928870293,
            952.7563636363636,
            1007.7554585152839,
            1119.0326530612244,
            1588.8093525179856,
            1297.780701754386,
            1826.9254901960785,
            717.6653992395437,
            1135.9058823529413,
            912.3384615384615,
            1367.8884462151395,
            648.7916666666666,
            1712.0891472868218,
            618.3007518796992,
            1226.6840148698884,
            1421.3360995850621,
            1656.6141078838175,
            1307.6200873362445,
            836.4770992366413,
            1146.8610038610038,
            1494.84,
            1058.3079847908746,
            975.2412451361868,
            1244.3755458515284,
            993.7747035573123,
            955.7292576419214,
            668.2098765432099,
            897.7272727272727,
            1310.0338983050847,
            1310.9317269076305,
            927.8996138996139,
            908.5173913043478,
            1575.4156378600824,
            1580.1906779661017,
            1561.9603524229076,
            1312.176245210728,
            1173.5934959349593,
            889.8,
            2082.159663865546,
            1648.0353982300885,
            1105,
            1363.3918918918919,
            1223.9801587301588,
            1650.0454545454545,
            1205.7874396135267,
            1568.6623376623377,
            1599.4545454545455,
            1177.8744394618834,
            1146.7929515418502,
            1296.608695652174,
            997.8447488584475,
            1393.7219512195122,
            1214.5617529880478,
            1511.3453815261043,
            987.9039301310044,
            570.8008298755186,
            1084.075221238938,
            1322.065637065637,
            1196.18487394958,
            1576.844262295082,
            1041.9297520661157,
            857.1082251082252,
            1810.0588235294117,
            1334.7137096774193,
            1590.6291666666666,
            1210.876404494382,
            1340.3458333333333,
            1344.9516129032259,
            1402.5102880658437,
            1166.0086206896551,
            951.1809954751131,
            1365.5400843881857,
            1679.484375,
            1269.434262948207
           ]
          },
          {
           "axis": {
            "matches": true
           },
           "label": "riesgo_c_c",
           "values": [
            774.9568965517242,
            611.6315789473684,
            894.3252032520326,
            827.3360995850622,
            981.6915887850467,
            730.1630901287554,
            499.088122605364,
            533.5774058577406,
            721.641129032258,
            905.9115044247787,
            849.3417721518987,
            869.6320346320347,
            594.3513513513514,
            572.8319327731092,
            667.1674008810572,
            873.9203539823009,
            612.4566037735849,
            901.0661157024794,
            5739.039682539683,
            1581.162393162393,
            1200.3620689655172,
            1093.7283950617284,
            1323.0699588477366,
            2773.2134831460676,
            594.7196652719665,
            989.7433962264151,
            5698.889361702128,
            2131.9961240310076,
            786.4427480916031,
            1989.3138075313807,
            1649.8581818181817,
            1713.9213973799126,
            1480.7551020408164,
            5665.86690647482,
            1765.7763157894738,
            4769.976470588235,
            3067.5513307984793,
            581.8039215686274,
            473.69615384615383,
            763.2948207171315,
            375.2625,
            952.3333333333334,
            381.3157894736842,
            638.8438661710037,
            729.1991701244814,
            780.2904564315353,
            734.0655021834061,
            459.64885496183206,
            598.03861003861,
            834.696,
            562.6920152091254,
            585.7821011673152,
            748.2270742358079,
            613.4110671936759,
            478.07423580786025,
            431.74074074074076,
            467.3320158102767,
            725.2245762711865,
            721.0240963855422,
            590.8494208494209,
            551.3782608695652,
            957.6255144032922,
            909.292372881356,
            662.3876651982379,
            564.176245210728,
            609.5731707317074,
            361.92830188679244,
            541.3319327731092,
            1183.9601769911505,
            665.7669491525423,
            856.5990990990991,
            939.9761904761905,
            1072.7318181818182,
            975.7101449275362,
            1033.012987012987,
            1118.3719008264463,
            795.2331838565023,
            828.7797356828194,
            911.9806763285025,
            626.9543378995434,
            805.6292682926829,
            833.3784860557769,
            1063.9156626506024,
            756.1310043668122,
            395.09128630705396,
            585.3938053097345,
            895.6023166023166,
            738.0126050420168,
            1013.4713114754098,
            631.7438016528926,
            536.6580086580086,
            1052.2521008403362,
            762.3266129032259,
            1011.9375,
            784.8913857677902,
            907.3833333333333,
            917.6653225806451,
            968.9382716049382,
            818.1810344827586,
            677.0904977375566,
            876.0168776371308,
            1173.40234375,
            906.1155378486055
           ]
          },
          {
           "axis": {
            "matches": true
           },
           "label": "riesgo_d_c",
           "values": [
            978.1681034482758,
            620.8259109311741,
            1188.2276422764228,
            968.0207468879668,
            1188.5,
            1013.6394849785407,
            638.6436781609195,
            567.9205020920502,
            858.858870967742,
            1248.986725663717,
            1090.2362869198312,
            1263.5151515151515,
            712.7065637065637,
            855.6008403361344,
            749.4889867841409,
            1239.3274336283187,
            766.2603773584906,
            1219.206611570248,
            1298.2579365079366,
            1187.8803418803418,
            717.2672413793103,
            536.5020576131687,
            836.5144032921811,
            945.501872659176,
            718.5564853556485,
            562.3132075471698,
            985.0851063829788,
            917.1821705426356,
            988.4732824427481,
            692.3849372384938,
            739.8618181818182,
            770.3711790393013,
            819.9755102040816,
            1206.5323741007194,
            1007.8333333333334,
            1528.1176470588234,
            650,
            779.6941176470589,
            660.4076923076923,
            1291.597609561753,
            552.275,
            1547.3565891472867,
            660.375939849624,
            996.8141263940521,
            996.7551867219917,
            1158.676348547718,
            1024.3187772925764,
            762.4923664122138,
            921.5559845559845,
            1277.916,
            786.022813688213,
            979.3929961089494,
            1053.4585152838429,
            998.3438735177865,
            773.6768558951965,
            616.9094650205761,
            768.5849802371541,
            1166.8983050847457,
            1000.5582329317269,
            866.1003861003861,
            758.0043478260869,
            1403.111111111111,
            1190.6483050847457,
            1063.339207048458,
            755.1685823754789,
            960.4959349593496,
            522.6150943396226,
            543.2521008403361,
            557.070796460177,
            794.1525423728814,
            815.8423423423424,
            1472.0039682539682,
            1322.1863636363637,
            1460.280193236715,
            1266.5194805194806,
            1444.892561983471,
            988.2062780269058,
            958.1497797356828,
            888.1932367149758,
            606.1780821917808,
            816.6439024390244,
            1006.6135458167331,
            1180.9357429718875,
            931.5589519650655,
            433.6970954356847,
            682.4867256637168,
            1038.3706563706564,
            932.9663865546219,
            1282.545081967213,
            929.7644628099174,
            719.2251082251082,
            1535.3697478991596,
            976.3064516129032,
            1327.9916666666666,
            1063.3520599250937,
            1300.4,
            1293.0604838709678,
            1145.4526748971193,
            1176.7974137931035,
            1014.2352941176471,
            1360.2489451476793,
            1750.18359375,
            1424.832669322709
           ]
          },
          {
           "axis": {
            "matches": true
           },
           "label": "riesgo_e_c",
           "values": [
            678.198275862069,
            748.8623481781376,
            468.6260162601626,
            952.448132780083,
            764.7710280373832,
            676.4721030042919,
            489.32567049808426,
            588.531380753138,
            631.2137096774194,
            523.9115044247787,
            581.8185654008439,
            605.7186147186147,
            504.17760617760615,
            548.8529411764706,
            601.2599118942732,
            517.4513274336283,
            825.9169811320754,
            588.1487603305785,
            849.3769841269841,
            530.6111111111111,
            521.3534482758621,
            525.5432098765432,
            670.9958847736625,
            739.8951310861423,
            513.6569037656903,
            377.29811320754715,
            831.1106382978724,
            727.5581395348837,
            784.5648854961833,
            702.4267782426779,
            729.7381818181818,
            822.768558951965,
            953.8775510204082,
            892.2769784172662,
            728.578947368421,
            1248.1529411764707,
            720.8517110266159,
            969.1607843137255,
            604.3615384615384,
            1037.183266932271,
            747.825,
            1181.8372093023256,
            796.4586466165414,
            1096.8847583643123,
            1108.2448132780082,
            992.5352697095435,
            1107.0786026200874,
            964.7137404580153,
            994.2239382239383,
            1614.096,
            961.5969581749049,
            958.5097276264592,
            1269.117903930131,
            1126.2292490118577,
            898.589519650655,
            940.0576131687243,
            801.7075098814229,
            1081.843220338983,
            1115.6546184738957,
            941,
            906.6826086956522,
            1277.4732510288065,
            1654.7584745762713,
            1622.8458149779735,
            1118.360153256705,
            1369.7560975609756,
            1035.0188679245282,
            990.7478991596639,
            1481.3628318584072,
            1282.4661016949153,
            1372.4144144144145,
            937.4722222222222,
            1909.5727272727272,
            1119.0628019323672,
            1244.1904761904761,
            1476.1322314049587,
            1140.8520179372197,
            1100.9911894273127,
            1175.0579710144928,
            895.9908675799087,
            1376.3658536585365,
            1361.4780876494024,
            1574.4056224899598,
            1038.4323144104803,
            777.5352697095435,
            1132.6283185840707,
            1347.903474903475,
            1056.7268907563025,
            1347.360655737705,
            972.2231404958678,
            963.7445887445888,
            1213.2310924369747,
            1085.3951612903227,
            1406.25,
            1053.1647940074906,
            1022.5041666666667,
            979.7782258064516,
            1021.7777777777778,
            815.7155172413793,
            451.7330316742081,
            1042.7257383966244,
            1264.90625,
            1042.1912350597609
           ]
          }
         ],
         "hovertemplate": "%{xaxis.title.text}=%{x}<br>%{yaxis.title.text}=%{y}<extra></extra>",
         "legendgroup": "",
         "marker": {
          "color": "#636efa",
          "symbol": "circle"
         },
         "name": "",
         "showlegend": false,
         "type": "splom"
        }
       ],
       "layout": {
        "dragmode": "select",
        "height": 800,
        "legend": {
         "tracegroupgap": 0
        },
        "margin": {
         "t": 60
        },
        "template": {
         "data": {
          "bar": [
           {
            "error_x": {
             "color": "#2a3f5f"
            },
            "error_y": {
             "color": "#2a3f5f"
            },
            "marker": {
             "line": {
              "color": "#E5ECF6",
              "width": 0.5
             },
             "pattern": {
              "fillmode": "overlay",
              "size": 10,
              "solidity": 0.2
             }
            },
            "type": "bar"
           }
          ],
          "barpolar": [
           {
            "marker": {
             "line": {
              "color": "#E5ECF6",
              "width": 0.5
             },
             "pattern": {
              "fillmode": "overlay",
              "size": 10,
              "solidity": 0.2
             }
            },
            "type": "barpolar"
           }
          ],
          "carpet": [
           {
            "aaxis": {
             "endlinecolor": "#2a3f5f",
             "gridcolor": "white",
             "linecolor": "white",
             "minorgridcolor": "white",
             "startlinecolor": "#2a3f5f"
            },
            "baxis": {
             "endlinecolor": "#2a3f5f",
             "gridcolor": "white",
             "linecolor": "white",
             "minorgridcolor": "white",
             "startlinecolor": "#2a3f5f"
            },
            "type": "carpet"
           }
          ],
          "choropleth": [
           {
            "colorbar": {
             "outlinewidth": 0,
             "ticks": ""
            },
            "type": "choropleth"
           }
          ],
          "contour": [
           {
            "colorbar": {
             "outlinewidth": 0,
             "ticks": ""
            },
            "colorscale": [
             [
              0,
              "#0d0887"
             ],
             [
              0.1111111111111111,
              "#46039f"
             ],
             [
              0.2222222222222222,
              "#7201a8"
             ],
             [
              0.3333333333333333,
              "#9c179e"
             ],
             [
              0.4444444444444444,
              "#bd3786"
             ],
             [
              0.5555555555555556,
              "#d8576b"
             ],
             [
              0.6666666666666666,
              "#ed7953"
             ],
             [
              0.7777777777777778,
              "#fb9f3a"
             ],
             [
              0.8888888888888888,
              "#fdca26"
             ],
             [
              1,
              "#f0f921"
             ]
            ],
            "type": "contour"
           }
          ],
          "contourcarpet": [
           {
            "colorbar": {
             "outlinewidth": 0,
             "ticks": ""
            },
            "type": "contourcarpet"
           }
          ],
          "heatmap": [
           {
            "colorbar": {
             "outlinewidth": 0,
             "ticks": ""
            },
            "colorscale": [
             [
              0,
              "#0d0887"
             ],
             [
              0.1111111111111111,
              "#46039f"
             ],
             [
              0.2222222222222222,
              "#7201a8"
             ],
             [
              0.3333333333333333,
              "#9c179e"
             ],
             [
              0.4444444444444444,
              "#bd3786"
             ],
             [
              0.5555555555555556,
              "#d8576b"
             ],
             [
              0.6666666666666666,
              "#ed7953"
             ],
             [
              0.7777777777777778,
              "#fb9f3a"
             ],
             [
              0.8888888888888888,
              "#fdca26"
             ],
             [
              1,
              "#f0f921"
             ]
            ],
            "type": "heatmap"
           }
          ],
          "heatmapgl": [
           {
            "colorbar": {
             "outlinewidth": 0,
             "ticks": ""
            },
            "colorscale": [
             [
              0,
              "#0d0887"
             ],
             [
              0.1111111111111111,
              "#46039f"
             ],
             [
              0.2222222222222222,
              "#7201a8"
             ],
             [
              0.3333333333333333,
              "#9c179e"
             ],
             [
              0.4444444444444444,
              "#bd3786"
             ],
             [
              0.5555555555555556,
              "#d8576b"
             ],
             [
              0.6666666666666666,
              "#ed7953"
             ],
             [
              0.7777777777777778,
              "#fb9f3a"
             ],
             [
              0.8888888888888888,
              "#fdca26"
             ],
             [
              1,
              "#f0f921"
             ]
            ],
            "type": "heatmapgl"
           }
          ],
          "histogram": [
           {
            "marker": {
             "pattern": {
              "fillmode": "overlay",
              "size": 10,
              "solidity": 0.2
             }
            },
            "type": "histogram"
           }
          ],
          "histogram2d": [
           {
            "colorbar": {
             "outlinewidth": 0,
             "ticks": ""
            },
            "colorscale": [
             [
              0,
              "#0d0887"
             ],
             [
              0.1111111111111111,
              "#46039f"
             ],
             [
              0.2222222222222222,
              "#7201a8"
             ],
             [
              0.3333333333333333,
              "#9c179e"
             ],
             [
              0.4444444444444444,
              "#bd3786"
             ],
             [
              0.5555555555555556,
              "#d8576b"
             ],
             [
              0.6666666666666666,
              "#ed7953"
             ],
             [
              0.7777777777777778,
              "#fb9f3a"
             ],
             [
              0.8888888888888888,
              "#fdca26"
             ],
             [
              1,
              "#f0f921"
             ]
            ],
            "type": "histogram2d"
           }
          ],
          "histogram2dcontour": [
           {
            "colorbar": {
             "outlinewidth": 0,
             "ticks": ""
            },
            "colorscale": [
             [
              0,
              "#0d0887"
             ],
             [
              0.1111111111111111,
              "#46039f"
             ],
             [
              0.2222222222222222,
              "#7201a8"
             ],
             [
              0.3333333333333333,
              "#9c179e"
             ],
             [
              0.4444444444444444,
              "#bd3786"
             ],
             [
              0.5555555555555556,
              "#d8576b"
             ],
             [
              0.6666666666666666,
              "#ed7953"
             ],
             [
              0.7777777777777778,
              "#fb9f3a"
             ],
             [
              0.8888888888888888,
              "#fdca26"
             ],
             [
              1,
              "#f0f921"
             ]
            ],
            "type": "histogram2dcontour"
           }
          ],
          "mesh3d": [
           {
            "colorbar": {
             "outlinewidth": 0,
             "ticks": ""
            },
            "type": "mesh3d"
           }
          ],
          "parcoords": [
           {
            "line": {
             "colorbar": {
              "outlinewidth": 0,
              "ticks": ""
             }
            },
            "type": "parcoords"
           }
          ],
          "pie": [
           {
            "automargin": true,
            "type": "pie"
           }
          ],
          "scatter": [
           {
            "fillpattern": {
             "fillmode": "overlay",
             "size": 10,
             "solidity": 0.2
            },
            "type": "scatter"
           }
          ],
          "scatter3d": [
           {
            "line": {
             "colorbar": {
              "outlinewidth": 0,
              "ticks": ""
             }
            },
            "marker": {
             "colorbar": {
              "outlinewidth": 0,
              "ticks": ""
             }
            },
            "type": "scatter3d"
           }
          ],
          "scattercarpet": [
           {
            "marker": {
             "colorbar": {
              "outlinewidth": 0,
              "ticks": ""
             }
            },
            "type": "scattercarpet"
           }
          ],
          "scattergeo": [
           {
            "marker": {
             "colorbar": {
              "outlinewidth": 0,
              "ticks": ""
             }
            },
            "type": "scattergeo"
           }
          ],
          "scattergl": [
           {
            "marker": {
             "colorbar": {
              "outlinewidth": 0,
              "ticks": ""
             }
            },
            "type": "scattergl"
           }
          ],
          "scattermapbox": [
           {
            "marker": {
             "colorbar": {
              "outlinewidth": 0,
              "ticks": ""
             }
            },
            "type": "scattermapbox"
           }
          ],
          "scatterpolar": [
           {
            "marker": {
             "colorbar": {
              "outlinewidth": 0,
              "ticks": ""
             }
            },
            "type": "scatterpolar"
           }
          ],
          "scatterpolargl": [
           {
            "marker": {
             "colorbar": {
              "outlinewidth": 0,
              "ticks": ""
             }
            },
            "type": "scatterpolargl"
           }
          ],
          "scatterternary": [
           {
            "marker": {
             "colorbar": {
              "outlinewidth": 0,
              "ticks": ""
             }
            },
            "type": "scatterternary"
           }
          ],
          "surface": [
           {
            "colorbar": {
             "outlinewidth": 0,
             "ticks": ""
            },
            "colorscale": [
             [
              0,
              "#0d0887"
             ],
             [
              0.1111111111111111,
              "#46039f"
             ],
             [
              0.2222222222222222,
              "#7201a8"
             ],
             [
              0.3333333333333333,
              "#9c179e"
             ],
             [
              0.4444444444444444,
              "#bd3786"
             ],
             [
              0.5555555555555556,
              "#d8576b"
             ],
             [
              0.6666666666666666,
              "#ed7953"
             ],
             [
              0.7777777777777778,
              "#fb9f3a"
             ],
             [
              0.8888888888888888,
              "#fdca26"
             ],
             [
              1,
              "#f0f921"
             ]
            ],
            "type": "surface"
           }
          ],
          "table": [
           {
            "cells": {
             "fill": {
              "color": "#EBF0F8"
             },
             "line": {
              "color": "white"
             }
            },
            "header": {
             "fill": {
              "color": "#C8D4E3"
             },
             "line": {
              "color": "white"
             }
            },
            "type": "table"
           }
          ]
         },
         "layout": {
          "annotationdefaults": {
           "arrowcolor": "#2a3f5f",
           "arrowhead": 0,
           "arrowwidth": 1
          },
          "autotypenumbers": "strict",
          "coloraxis": {
           "colorbar": {
            "outlinewidth": 0,
            "ticks": ""
           }
          },
          "colorscale": {
           "diverging": [
            [
             0,
             "#8e0152"
            ],
            [
             0.1,
             "#c51b7d"
            ],
            [
             0.2,
             "#de77ae"
            ],
            [
             0.3,
             "#f1b6da"
            ],
            [
             0.4,
             "#fde0ef"
            ],
            [
             0.5,
             "#f7f7f7"
            ],
            [
             0.6,
             "#e6f5d0"
            ],
            [
             0.7,
             "#b8e186"
            ],
            [
             0.8,
             "#7fbc41"
            ],
            [
             0.9,
             "#4d9221"
            ],
            [
             1,
             "#276419"
            ]
           ],
           "sequential": [
            [
             0,
             "#0d0887"
            ],
            [
             0.1111111111111111,
             "#46039f"
            ],
            [
             0.2222222222222222,
             "#7201a8"
            ],
            [
             0.3333333333333333,
             "#9c179e"
            ],
            [
             0.4444444444444444,
             "#bd3786"
            ],
            [
             0.5555555555555556,
             "#d8576b"
            ],
            [
             0.6666666666666666,
             "#ed7953"
            ],
            [
             0.7777777777777778,
             "#fb9f3a"
            ],
            [
             0.8888888888888888,
             "#fdca26"
            ],
            [
             1,
             "#f0f921"
            ]
           ],
           "sequentialminus": [
            [
             0,
             "#0d0887"
            ],
            [
             0.1111111111111111,
             "#46039f"
            ],
            [
             0.2222222222222222,
             "#7201a8"
            ],
            [
             0.3333333333333333,
             "#9c179e"
            ],
            [
             0.4444444444444444,
             "#bd3786"
            ],
            [
             0.5555555555555556,
             "#d8576b"
            ],
            [
             0.6666666666666666,
             "#ed7953"
            ],
            [
             0.7777777777777778,
             "#fb9f3a"
            ],
            [
             0.8888888888888888,
             "#fdca26"
            ],
            [
             1,
             "#f0f921"
            ]
           ]
          },
          "colorway": [
           "#636efa",
           "#EF553B",
           "#00cc96",
           "#ab63fa",
           "#FFA15A",
           "#19d3f3",
           "#FF6692",
           "#B6E880",
           "#FF97FF",
           "#FECB52"
          ],
          "font": {
           "color": "#2a3f5f"
          },
          "geo": {
           "bgcolor": "white",
           "lakecolor": "white",
           "landcolor": "#E5ECF6",
           "showlakes": true,
           "showland": true,
           "subunitcolor": "white"
          },
          "hoverlabel": {
           "align": "left"
          },
          "hovermode": "closest",
          "mapbox": {
           "style": "light"
          },
          "paper_bgcolor": "white",
          "plot_bgcolor": "#E5ECF6",
          "polar": {
           "angularaxis": {
            "gridcolor": "white",
            "linecolor": "white",
            "ticks": ""
           },
           "bgcolor": "#E5ECF6",
           "radialaxis": {
            "gridcolor": "white",
            "linecolor": "white",
            "ticks": ""
           }
          },
          "scene": {
           "xaxis": {
            "backgroundcolor": "#E5ECF6",
            "gridcolor": "white",
            "gridwidth": 2,
            "linecolor": "white",
            "showbackground": true,
            "ticks": "",
            "zerolinecolor": "white"
           },
           "yaxis": {
            "backgroundcolor": "#E5ECF6",
            "gridcolor": "white",
            "gridwidth": 2,
            "linecolor": "white",
            "showbackground": true,
            "ticks": "",
            "zerolinecolor": "white"
           },
           "zaxis": {
            "backgroundcolor": "#E5ECF6",
            "gridcolor": "white",
            "gridwidth": 2,
            "linecolor": "white",
            "showbackground": true,
            "ticks": "",
            "zerolinecolor": "white"
           }
          },
          "shapedefaults": {
           "line": {
            "color": "#2a3f5f"
           }
          },
          "ternary": {
           "aaxis": {
            "gridcolor": "white",
            "linecolor": "white",
            "ticks": ""
           },
           "baxis": {
            "gridcolor": "white",
            "linecolor": "white",
            "ticks": ""
           },
           "bgcolor": "#E5ECF6",
           "caxis": {
            "gridcolor": "white",
            "linecolor": "white",
            "ticks": ""
           }
          },
          "title": {
           "x": 0.05
          },
          "xaxis": {
           "automargin": true,
           "gridcolor": "white",
           "linecolor": "white",
           "ticks": "",
           "title": {
            "standoff": 15
           },
           "zerolinecolor": "white",
           "zerolinewidth": 2
          },
          "yaxis": {
           "automargin": true,
           "gridcolor": "white",
           "linecolor": "white",
           "ticks": "",
           "title": {
            "standoff": 15
           },
           "zerolinecolor": "white",
           "zerolinewidth": 2
          }
         }
        }
       }
      }
     },
     "metadata": {},
     "output_type": "display_data"
    }
   ],
   "source": [
    "base3 = df.groupby(['year_month'])[['clientes_mora+30d','riesgo_a_c','riesgo_b_c','riesgo_c_c','riesgo_d_c','riesgo_e_c']].mean()\n",
    "fig = px.scatter_matrix(base3)\n",
    "fig.update_layout(height=800)\n",
    "fig.show()"
   ]
  },
  {
   "cell_type": "markdown",
   "metadata": {},
   "source": [
    "Dado que esta variable presenta una alta correlación con otras 4 variables, se decide descartarla."
   ]
  },
  {
   "cell_type": "code",
   "execution_count": 14,
   "metadata": {},
   "outputs": [],
   "source": [
    "df.drop(['clientes_mora+30d'], axis=1, inplace=True)"
   ]
  },
  {
   "cell_type": "markdown",
   "metadata": {},
   "source": [
    "## Observar correlación"
   ]
  },
  {
   "cell_type": "code",
   "execution_count": 15,
   "metadata": {},
   "outputs": [
    {
     "data": {
      "application/vnd.plotly.v1+json": {
       "config": {
        "plotlyServerURL": "https://plot.ly"
       },
       "data": [
        {
         "coloraxis": "coloraxis",
         "hovertemplate": "x: %{x}<br>y: %{y}<br>color: %{z}<extra></extra>",
         "name": "0",
         "texttemplate": "%{z}",
         "type": "heatmap",
         "x": [
          "saldo_a_la_fecha",
          "riesgo_a_c",
          "riesgo_b_c",
          "riesgo_c_c",
          "riesgo_d_c",
          "riesgo_e_c",
          "venc1_6",
          "venc6_12",
          "venc+12"
         ],
         "xaxis": "x",
         "y": [
          "saldo_a_la_fecha",
          "riesgo_a_c",
          "riesgo_b_c",
          "riesgo_c_c",
          "riesgo_d_c",
          "riesgo_e_c",
          "venc1_6",
          "venc6_12",
          "venc+12"
         ],
         "yaxis": "y",
         "z": [
          [
           1,
           0.3269239560738917,
           0.23452714052993173,
           0.07706443696820196,
           0.2743535033369977,
           0.23898923590810242,
           0.6451562944944267,
           0.6627221838785448,
           0.5910098845297135
          ],
          [
           0.3269239560738917,
           1,
           0.9051708288901555,
           0.2700065161232211,
           0.8585079836429811,
           0.6877371226152185,
           0.4918933881181545,
           0.22730131910365842,
           -0.02955366339582121
          ],
          [
           0.23452714052993173,
           0.9051708288901555,
           1,
           0.29760825295056825,
           0.8842691099022422,
           0.6369488762669242,
           0.4601390747674803,
           0.14480335919712478,
           -0.017152880155320887
          ],
          [
           0.07706443696820196,
           0.2700065161232211,
           0.29760825295056825,
           1,
           0.23970400757001623,
           0.3465052752161709,
           0.17888979917747658,
           0.04126678891720368,
           -0.008206745772711889
          ],
          [
           0.2743535033369977,
           0.8585079836429811,
           0.8842691099022422,
           0.23970400757001623,
           1,
           0.5645007859280736,
           0.5408833133688247,
           0.20334023506799226,
           -0.010255983756977873
          ],
          [
           0.23898923590810242,
           0.6877371226152185,
           0.6369488762669242,
           0.3465052752161709,
           0.5645007859280736,
           1,
           0.4170157991473809,
           0.27637130318656883,
           -0.023368270363667856
          ],
          [
           0.6451562944944267,
           0.4918933881181545,
           0.4601390747674803,
           0.17888979917747658,
           0.5408833133688247,
           0.4170157991473809,
           1,
           0.4828413435227426,
           0.2797448616724079
          ],
          [
           0.6627221838785448,
           0.22730131910365842,
           0.14480335919712478,
           0.04126678891720368,
           0.20334023506799226,
           0.27637130318656883,
           0.4828413435227426,
           1,
           0.4053016891293669
          ],
          [
           0.5910098845297135,
           -0.02955366339582121,
           -0.017152880155320887,
           -0.008206745772711889,
           -0.010255983756977873,
           -0.023368270363667856,
           0.2797448616724079,
           0.4053016891293669,
           1
          ]
         ]
        }
       ],
       "layout": {
        "coloraxis": {
         "colorscale": [
          [
           0,
           "#0d0887"
          ],
          [
           0.1111111111111111,
           "#46039f"
          ],
          [
           0.2222222222222222,
           "#7201a8"
          ],
          [
           0.3333333333333333,
           "#9c179e"
          ],
          [
           0.4444444444444444,
           "#bd3786"
          ],
          [
           0.5555555555555556,
           "#d8576b"
          ],
          [
           0.6666666666666666,
           "#ed7953"
          ],
          [
           0.7777777777777778,
           "#fb9f3a"
          ],
          [
           0.8888888888888888,
           "#fdca26"
          ],
          [
           1,
           "#f0f921"
          ]
         ]
        },
        "height": 1000,
        "margin": {
         "t": 60
        },
        "template": {
         "data": {
          "bar": [
           {
            "error_x": {
             "color": "#2a3f5f"
            },
            "error_y": {
             "color": "#2a3f5f"
            },
            "marker": {
             "line": {
              "color": "#E5ECF6",
              "width": 0.5
             },
             "pattern": {
              "fillmode": "overlay",
              "size": 10,
              "solidity": 0.2
             }
            },
            "type": "bar"
           }
          ],
          "barpolar": [
           {
            "marker": {
             "line": {
              "color": "#E5ECF6",
              "width": 0.5
             },
             "pattern": {
              "fillmode": "overlay",
              "size": 10,
              "solidity": 0.2
             }
            },
            "type": "barpolar"
           }
          ],
          "carpet": [
           {
            "aaxis": {
             "endlinecolor": "#2a3f5f",
             "gridcolor": "white",
             "linecolor": "white",
             "minorgridcolor": "white",
             "startlinecolor": "#2a3f5f"
            },
            "baxis": {
             "endlinecolor": "#2a3f5f",
             "gridcolor": "white",
             "linecolor": "white",
             "minorgridcolor": "white",
             "startlinecolor": "#2a3f5f"
            },
            "type": "carpet"
           }
          ],
          "choropleth": [
           {
            "colorbar": {
             "outlinewidth": 0,
             "ticks": ""
            },
            "type": "choropleth"
           }
          ],
          "contour": [
           {
            "colorbar": {
             "outlinewidth": 0,
             "ticks": ""
            },
            "colorscale": [
             [
              0,
              "#0d0887"
             ],
             [
              0.1111111111111111,
              "#46039f"
             ],
             [
              0.2222222222222222,
              "#7201a8"
             ],
             [
              0.3333333333333333,
              "#9c179e"
             ],
             [
              0.4444444444444444,
              "#bd3786"
             ],
             [
              0.5555555555555556,
              "#d8576b"
             ],
             [
              0.6666666666666666,
              "#ed7953"
             ],
             [
              0.7777777777777778,
              "#fb9f3a"
             ],
             [
              0.8888888888888888,
              "#fdca26"
             ],
             [
              1,
              "#f0f921"
             ]
            ],
            "type": "contour"
           }
          ],
          "contourcarpet": [
           {
            "colorbar": {
             "outlinewidth": 0,
             "ticks": ""
            },
            "type": "contourcarpet"
           }
          ],
          "heatmap": [
           {
            "colorbar": {
             "outlinewidth": 0,
             "ticks": ""
            },
            "colorscale": [
             [
              0,
              "#0d0887"
             ],
             [
              0.1111111111111111,
              "#46039f"
             ],
             [
              0.2222222222222222,
              "#7201a8"
             ],
             [
              0.3333333333333333,
              "#9c179e"
             ],
             [
              0.4444444444444444,
              "#bd3786"
             ],
             [
              0.5555555555555556,
              "#d8576b"
             ],
             [
              0.6666666666666666,
              "#ed7953"
             ],
             [
              0.7777777777777778,
              "#fb9f3a"
             ],
             [
              0.8888888888888888,
              "#fdca26"
             ],
             [
              1,
              "#f0f921"
             ]
            ],
            "type": "heatmap"
           }
          ],
          "heatmapgl": [
           {
            "colorbar": {
             "outlinewidth": 0,
             "ticks": ""
            },
            "colorscale": [
             [
              0,
              "#0d0887"
             ],
             [
              0.1111111111111111,
              "#46039f"
             ],
             [
              0.2222222222222222,
              "#7201a8"
             ],
             [
              0.3333333333333333,
              "#9c179e"
             ],
             [
              0.4444444444444444,
              "#bd3786"
             ],
             [
              0.5555555555555556,
              "#d8576b"
             ],
             [
              0.6666666666666666,
              "#ed7953"
             ],
             [
              0.7777777777777778,
              "#fb9f3a"
             ],
             [
              0.8888888888888888,
              "#fdca26"
             ],
             [
              1,
              "#f0f921"
             ]
            ],
            "type": "heatmapgl"
           }
          ],
          "histogram": [
           {
            "marker": {
             "pattern": {
              "fillmode": "overlay",
              "size": 10,
              "solidity": 0.2
             }
            },
            "type": "histogram"
           }
          ],
          "histogram2d": [
           {
            "colorbar": {
             "outlinewidth": 0,
             "ticks": ""
            },
            "colorscale": [
             [
              0,
              "#0d0887"
             ],
             [
              0.1111111111111111,
              "#46039f"
             ],
             [
              0.2222222222222222,
              "#7201a8"
             ],
             [
              0.3333333333333333,
              "#9c179e"
             ],
             [
              0.4444444444444444,
              "#bd3786"
             ],
             [
              0.5555555555555556,
              "#d8576b"
             ],
             [
              0.6666666666666666,
              "#ed7953"
             ],
             [
              0.7777777777777778,
              "#fb9f3a"
             ],
             [
              0.8888888888888888,
              "#fdca26"
             ],
             [
              1,
              "#f0f921"
             ]
            ],
            "type": "histogram2d"
           }
          ],
          "histogram2dcontour": [
           {
            "colorbar": {
             "outlinewidth": 0,
             "ticks": ""
            },
            "colorscale": [
             [
              0,
              "#0d0887"
             ],
             [
              0.1111111111111111,
              "#46039f"
             ],
             [
              0.2222222222222222,
              "#7201a8"
             ],
             [
              0.3333333333333333,
              "#9c179e"
             ],
             [
              0.4444444444444444,
              "#bd3786"
             ],
             [
              0.5555555555555556,
              "#d8576b"
             ],
             [
              0.6666666666666666,
              "#ed7953"
             ],
             [
              0.7777777777777778,
              "#fb9f3a"
             ],
             [
              0.8888888888888888,
              "#fdca26"
             ],
             [
              1,
              "#f0f921"
             ]
            ],
            "type": "histogram2dcontour"
           }
          ],
          "mesh3d": [
           {
            "colorbar": {
             "outlinewidth": 0,
             "ticks": ""
            },
            "type": "mesh3d"
           }
          ],
          "parcoords": [
           {
            "line": {
             "colorbar": {
              "outlinewidth": 0,
              "ticks": ""
             }
            },
            "type": "parcoords"
           }
          ],
          "pie": [
           {
            "automargin": true,
            "type": "pie"
           }
          ],
          "scatter": [
           {
            "fillpattern": {
             "fillmode": "overlay",
             "size": 10,
             "solidity": 0.2
            },
            "type": "scatter"
           }
          ],
          "scatter3d": [
           {
            "line": {
             "colorbar": {
              "outlinewidth": 0,
              "ticks": ""
             }
            },
            "marker": {
             "colorbar": {
              "outlinewidth": 0,
              "ticks": ""
             }
            },
            "type": "scatter3d"
           }
          ],
          "scattercarpet": [
           {
            "marker": {
             "colorbar": {
              "outlinewidth": 0,
              "ticks": ""
             }
            },
            "type": "scattercarpet"
           }
          ],
          "scattergeo": [
           {
            "marker": {
             "colorbar": {
              "outlinewidth": 0,
              "ticks": ""
             }
            },
            "type": "scattergeo"
           }
          ],
          "scattergl": [
           {
            "marker": {
             "colorbar": {
              "outlinewidth": 0,
              "ticks": ""
             }
            },
            "type": "scattergl"
           }
          ],
          "scattermapbox": [
           {
            "marker": {
             "colorbar": {
              "outlinewidth": 0,
              "ticks": ""
             }
            },
            "type": "scattermapbox"
           }
          ],
          "scatterpolar": [
           {
            "marker": {
             "colorbar": {
              "outlinewidth": 0,
              "ticks": ""
             }
            },
            "type": "scatterpolar"
           }
          ],
          "scatterpolargl": [
           {
            "marker": {
             "colorbar": {
              "outlinewidth": 0,
              "ticks": ""
             }
            },
            "type": "scatterpolargl"
           }
          ],
          "scatterternary": [
           {
            "marker": {
             "colorbar": {
              "outlinewidth": 0,
              "ticks": ""
             }
            },
            "type": "scatterternary"
           }
          ],
          "surface": [
           {
            "colorbar": {
             "outlinewidth": 0,
             "ticks": ""
            },
            "colorscale": [
             [
              0,
              "#0d0887"
             ],
             [
              0.1111111111111111,
              "#46039f"
             ],
             [
              0.2222222222222222,
              "#7201a8"
             ],
             [
              0.3333333333333333,
              "#9c179e"
             ],
             [
              0.4444444444444444,
              "#bd3786"
             ],
             [
              0.5555555555555556,
              "#d8576b"
             ],
             [
              0.6666666666666666,
              "#ed7953"
             ],
             [
              0.7777777777777778,
              "#fb9f3a"
             ],
             [
              0.8888888888888888,
              "#fdca26"
             ],
             [
              1,
              "#f0f921"
             ]
            ],
            "type": "surface"
           }
          ],
          "table": [
           {
            "cells": {
             "fill": {
              "color": "#EBF0F8"
             },
             "line": {
              "color": "white"
             }
            },
            "header": {
             "fill": {
              "color": "#C8D4E3"
             },
             "line": {
              "color": "white"
             }
            },
            "type": "table"
           }
          ]
         },
         "layout": {
          "annotationdefaults": {
           "arrowcolor": "#2a3f5f",
           "arrowhead": 0,
           "arrowwidth": 1
          },
          "autotypenumbers": "strict",
          "coloraxis": {
           "colorbar": {
            "outlinewidth": 0,
            "ticks": ""
           }
          },
          "colorscale": {
           "diverging": [
            [
             0,
             "#8e0152"
            ],
            [
             0.1,
             "#c51b7d"
            ],
            [
             0.2,
             "#de77ae"
            ],
            [
             0.3,
             "#f1b6da"
            ],
            [
             0.4,
             "#fde0ef"
            ],
            [
             0.5,
             "#f7f7f7"
            ],
            [
             0.6,
             "#e6f5d0"
            ],
            [
             0.7,
             "#b8e186"
            ],
            [
             0.8,
             "#7fbc41"
            ],
            [
             0.9,
             "#4d9221"
            ],
            [
             1,
             "#276419"
            ]
           ],
           "sequential": [
            [
             0,
             "#0d0887"
            ],
            [
             0.1111111111111111,
             "#46039f"
            ],
            [
             0.2222222222222222,
             "#7201a8"
            ],
            [
             0.3333333333333333,
             "#9c179e"
            ],
            [
             0.4444444444444444,
             "#bd3786"
            ],
            [
             0.5555555555555556,
             "#d8576b"
            ],
            [
             0.6666666666666666,
             "#ed7953"
            ],
            [
             0.7777777777777778,
             "#fb9f3a"
            ],
            [
             0.8888888888888888,
             "#fdca26"
            ],
            [
             1,
             "#f0f921"
            ]
           ],
           "sequentialminus": [
            [
             0,
             "#0d0887"
            ],
            [
             0.1111111111111111,
             "#46039f"
            ],
            [
             0.2222222222222222,
             "#7201a8"
            ],
            [
             0.3333333333333333,
             "#9c179e"
            ],
            [
             0.4444444444444444,
             "#bd3786"
            ],
            [
             0.5555555555555556,
             "#d8576b"
            ],
            [
             0.6666666666666666,
             "#ed7953"
            ],
            [
             0.7777777777777778,
             "#fb9f3a"
            ],
            [
             0.8888888888888888,
             "#fdca26"
            ],
            [
             1,
             "#f0f921"
            ]
           ]
          },
          "colorway": [
           "#636efa",
           "#EF553B",
           "#00cc96",
           "#ab63fa",
           "#FFA15A",
           "#19d3f3",
           "#FF6692",
           "#B6E880",
           "#FF97FF",
           "#FECB52"
          ],
          "font": {
           "color": "#2a3f5f"
          },
          "geo": {
           "bgcolor": "white",
           "lakecolor": "white",
           "landcolor": "#E5ECF6",
           "showlakes": true,
           "showland": true,
           "subunitcolor": "white"
          },
          "hoverlabel": {
           "align": "left"
          },
          "hovermode": "closest",
          "mapbox": {
           "style": "light"
          },
          "paper_bgcolor": "white",
          "plot_bgcolor": "#E5ECF6",
          "polar": {
           "angularaxis": {
            "gridcolor": "white",
            "linecolor": "white",
            "ticks": ""
           },
           "bgcolor": "#E5ECF6",
           "radialaxis": {
            "gridcolor": "white",
            "linecolor": "white",
            "ticks": ""
           }
          },
          "scene": {
           "xaxis": {
            "backgroundcolor": "#E5ECF6",
            "gridcolor": "white",
            "gridwidth": 2,
            "linecolor": "white",
            "showbackground": true,
            "ticks": "",
            "zerolinecolor": "white"
           },
           "yaxis": {
            "backgroundcolor": "#E5ECF6",
            "gridcolor": "white",
            "gridwidth": 2,
            "linecolor": "white",
            "showbackground": true,
            "ticks": "",
            "zerolinecolor": "white"
           },
           "zaxis": {
            "backgroundcolor": "#E5ECF6",
            "gridcolor": "white",
            "gridwidth": 2,
            "linecolor": "white",
            "showbackground": true,
            "ticks": "",
            "zerolinecolor": "white"
           }
          },
          "shapedefaults": {
           "line": {
            "color": "#2a3f5f"
           }
          },
          "ternary": {
           "aaxis": {
            "gridcolor": "white",
            "linecolor": "white",
            "ticks": ""
           },
           "baxis": {
            "gridcolor": "white",
            "linecolor": "white",
            "ticks": ""
           },
           "bgcolor": "#E5ECF6",
           "caxis": {
            "gridcolor": "white",
            "linecolor": "white",
            "ticks": ""
           }
          },
          "title": {
           "x": 0.05
          },
          "xaxis": {
           "automargin": true,
           "gridcolor": "white",
           "linecolor": "white",
           "ticks": "",
           "title": {
            "standoff": 15
           },
           "zerolinecolor": "white",
           "zerolinewidth": 2
          },
          "yaxis": {
           "automargin": true,
           "gridcolor": "white",
           "linecolor": "white",
           "ticks": "",
           "title": {
            "standoff": 15
           },
           "zerolinecolor": "white",
           "zerolinewidth": 2
          }
         }
        },
        "xaxis": {
         "anchor": "y",
         "constrain": "domain",
         "domain": [
          0,
          1
         ],
         "scaleanchor": "y"
        },
        "yaxis": {
         "anchor": "x",
         "autorange": "reversed",
         "constrain": "domain",
         "domain": [
          0,
          1
         ]
        }
       }
      }
     },
     "metadata": {},
     "output_type": "display_data"
    }
   ],
   "source": [
    "cols_num = df.select_dtypes(exclude=['object', 'datetime'])\n",
    "df_corr = cols_num.corr()\n",
    "fig = px.imshow(df_corr,  text_auto=True)\n",
    "fig.update_layout(height=1000)\n",
    "fig.show()"
   ]
  },
  {
   "cell_type": "markdown",
   "metadata": {},
   "source": [
    "# 4. Variables categóricas"
   ]
  },
  {
   "cell_type": "code",
   "execution_count": 16,
   "metadata": {},
   "outputs": [
    {
     "name": "stdout",
     "output_type": "stream",
     "text": [
      "<class 'pandas.core.frame.DataFrame'>\n",
      "Index: 25000 entries, 19012 to 42578\n",
      "Data columns (total 5 columns):\n",
      " #   Column        Non-Null Count  Dtype \n",
      "---  ------        --------------  ----- \n",
      " 0   tipo_entidad  25000 non-null  object\n",
      " 1   unicap        25000 non-null  object\n",
      " 2   desc_unicap   25000 non-null  object\n",
      " 3   renglon       25000 non-null  object\n",
      " 4   desc_renglon  25000 non-null  object\n",
      "dtypes: object(5)\n",
      "memory usage: 1.1+ MB\n"
     ]
    }
   ],
   "source": [
    "df_cat = df.select_dtypes(include='object')\n",
    "df_cat.info()"
   ]
  },
  {
   "cell_type": "code",
   "execution_count": 17,
   "metadata": {},
   "outputs": [
    {
     "name": "stdout",
     "output_type": "stream",
     "text": [
      "tipo_entidad vs desc_unicap: 0.0\n",
      "tipo_entidad vs desc_renglon: 0.0\n",
      "desc_renglon vs desc_unicap: 0.0\n"
     ]
    }
   ],
   "source": [
    "from scipy.stats import chi2_contingency\n",
    "tabla_contingencia1 = pd.crosstab(df['tipo_entidad'], df['desc_unicap'])\n",
    "tabla_contingencia2 = pd.crosstab(df['tipo_entidad'], df['desc_renglon'])\n",
    "tabla_contingencia3 = pd.crosstab(df['desc_renglon'], df['desc_unicap'])\n",
    "chi21, p1, _, _ = chi2_contingency(tabla_contingencia1)\n",
    "chi22, p2, _, _ = chi2_contingency(tabla_contingencia2)\n",
    "chi23, p3, _, _ = chi2_contingency(tabla_contingencia3)\n",
    "\n",
    "print('tipo_entidad vs desc_unicap:', p1)\n",
    "print('tipo_entidad vs desc_renglon:', p2)\n",
    "print('desc_renglon vs desc_unicap:', p3)"
   ]
  },
  {
   "cell_type": "markdown",
   "metadata": {},
   "source": [
    "Las tres variables presentan correlación, ya que es p-valor de las pruebas chi cuadrado fue menor a 0.05.\n",
    "\n",
    "El tipo de entidad son los clusters a los que queremos llegar con el análisis, por tanto, esta no se tiene en cuenta para descartarla por su correlación. Decidimos eliminar unicap, ya que renglon son categorías dentro de cada categoría de unicap, por tanto, contiene información más detallada sobre los tipos de productos."
   ]
  },
  {
   "cell_type": "code",
   "execution_count": 18,
   "metadata": {},
   "outputs": [],
   "source": [
    "df.drop(['unicap','desc_unicap'], axis=1, inplace=True)"
   ]
  },
  {
   "cell_type": "markdown",
   "metadata": {},
   "source": [
    "# 5. Exportar data sin correlación"
   ]
  },
  {
   "cell_type": "code",
   "execution_count": 19,
   "metadata": {},
   "outputs": [],
   "source": [
    "df.to_csv('datasets/data_no_corr.csv', index=False)"
   ]
  }
 ],
 "metadata": {
  "kernelspec": {
   "display_name": "Python 3",
   "language": "python",
   "name": "python3"
  },
  "language_info": {
   "codemirror_mode": {
    "name": "ipython",
    "version": 3
   },
   "file_extension": ".py",
   "mimetype": "text/x-python",
   "name": "python",
   "nbconvert_exporter": "python",
   "pygments_lexer": "ipython3",
   "version": "3.11.4"
  },
  "orig_nbformat": 4
 },
 "nbformat": 4,
 "nbformat_minor": 2
}

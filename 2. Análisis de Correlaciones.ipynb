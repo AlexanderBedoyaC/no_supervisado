{
 "cells": [
  {
   "cell_type": "markdown",
   "metadata": {},
   "source": [
    "# 1. Importar librerías"
   ]
  },
  {
   "cell_type": "code",
   "execution_count": 191,
   "metadata": {},
   "outputs": [],
   "source": [
    "import pandas as pd\n",
    "import numpy as np\n",
    "import plotly.express as px\n",
    "pd.options.display.float_format = '{:.2f}'.format"
   ]
  },
  {
   "cell_type": "markdown",
   "metadata": {},
   "source": [
    "# 2. Importar base de datos"
   ]
  },
  {
   "cell_type": "code",
   "execution_count": 192,
   "metadata": {},
   "outputs": [],
   "source": [
    "df = pd.read_csv('datasets/data_limpio.csv')"
   ]
  },
  {
   "cell_type": "code",
   "execution_count": 178,
   "metadata": {},
   "outputs": [
    {
     "data": {
      "text/html": [
       "<div>\n",
       "<style scoped>\n",
       "    .dataframe tbody tr th:only-of-type {\n",
       "        vertical-align: middle;\n",
       "    }\n",
       "\n",
       "    .dataframe tbody tr th {\n",
       "        vertical-align: top;\n",
       "    }\n",
       "\n",
       "    .dataframe thead th {\n",
       "        text-align: right;\n",
       "    }\n",
       "</style>\n",
       "<table border=\"1\" class=\"dataframe\">\n",
       "  <thead>\n",
       "    <tr style=\"text-align: right;\">\n",
       "      <th></th>\n",
       "      <th>tipo_entidad</th>\n",
       "      <th>fecha_corte</th>\n",
       "      <th>unicap</th>\n",
       "      <th>desc_unicap</th>\n",
       "      <th>renglon</th>\n",
       "      <th>desc_renglon</th>\n",
       "      <th>saldo_a_la_fecha</th>\n",
       "      <th>vigente</th>\n",
       "      <th>v1_2</th>\n",
       "      <th>v2_3</th>\n",
       "      <th>...</th>\n",
       "      <th>riesgo_a_c</th>\n",
       "      <th>riesgo_a_s</th>\n",
       "      <th>riesgo_b_c</th>\n",
       "      <th>riesgo_b_s</th>\n",
       "      <th>riesgo_c_c</th>\n",
       "      <th>riesgo_c_s</th>\n",
       "      <th>riesgo_d_c</th>\n",
       "      <th>riesgo_d_s</th>\n",
       "      <th>riesgo_e_c</th>\n",
       "      <th>riesgo_e_s</th>\n",
       "    </tr>\n",
       "  </thead>\n",
       "  <tbody>\n",
       "    <tr>\n",
       "      <th>0</th>\n",
       "      <td>1</td>\n",
       "      <td>2015-01-31</td>\n",
       "      <td>1</td>\n",
       "      <td>CRÉDITO ROTATIVO</td>\n",
       "      <td>5</td>\n",
       "      <td>CRÉDITO ROTATIVO TOTAL</td>\n",
       "      <td>37651351298.00</td>\n",
       "      <td>34981440061.00</td>\n",
       "      <td>768061743.00</td>\n",
       "      <td>579918756.00</td>\n",
       "      <td>...</td>\n",
       "      <td>6176</td>\n",
       "      <td>32878868826.00</td>\n",
       "      <td>270</td>\n",
       "      <td>1835206170.00</td>\n",
       "      <td>142</td>\n",
       "      <td>975343138.00</td>\n",
       "      <td>326</td>\n",
       "      <td>1368695340.00</td>\n",
       "      <td>69</td>\n",
       "      <td>593093538.00</td>\n",
       "    </tr>\n",
       "    <tr>\n",
       "      <th>1</th>\n",
       "      <td>1</td>\n",
       "      <td>2015-01-31</td>\n",
       "      <td>1</td>\n",
       "      <td>CRÉDITO ROTATIVO</td>\n",
       "      <td>5</td>\n",
       "      <td>CRÉDITO ROTATIVO TOTAL</td>\n",
       "      <td>826852228377.00</td>\n",
       "      <td>782016598064.00</td>\n",
       "      <td>9271463391.00</td>\n",
       "      <td>8065650992.00</td>\n",
       "      <td>...</td>\n",
       "      <td>125128</td>\n",
       "      <td>772666404396.00</td>\n",
       "      <td>1840</td>\n",
       "      <td>11740703689.00</td>\n",
       "      <td>1486</td>\n",
       "      <td>9872854505.00</td>\n",
       "      <td>1854</td>\n",
       "      <td>14111818486.00</td>\n",
       "      <td>2469</td>\n",
       "      <td>18460447300.00</td>\n",
       "    </tr>\n",
       "    <tr>\n",
       "      <th>2</th>\n",
       "      <td>1</td>\n",
       "      <td>2015-01-31</td>\n",
       "      <td>1</td>\n",
       "      <td>CRÉDITO ROTATIVO</td>\n",
       "      <td>5</td>\n",
       "      <td>CRÉDITO ROTATIVO TOTAL</td>\n",
       "      <td>108451564795.00</td>\n",
       "      <td>104345665139.00</td>\n",
       "      <td>1359378501.00</td>\n",
       "      <td>845847453.00</td>\n",
       "      <td>...</td>\n",
       "      <td>9723</td>\n",
       "      <td>100426465880.00</td>\n",
       "      <td>324</td>\n",
       "      <td>2920771751.00</td>\n",
       "      <td>207</td>\n",
       "      <td>1936819277.00</td>\n",
       "      <td>165</td>\n",
       "      <td>1623502258.00</td>\n",
       "      <td>144</td>\n",
       "      <td>1544005629.00</td>\n",
       "    </tr>\n",
       "    <tr>\n",
       "      <th>3</th>\n",
       "      <td>1</td>\n",
       "      <td>2015-01-31</td>\n",
       "      <td>1</td>\n",
       "      <td>CRÉDITO ROTATIVO</td>\n",
       "      <td>5</td>\n",
       "      <td>CRÉDITO ROTATIVO TOTAL</td>\n",
       "      <td>209307777744.00</td>\n",
       "      <td>196907738953.00</td>\n",
       "      <td>6328341960.00</td>\n",
       "      <td>2236769512.00</td>\n",
       "      <td>...</td>\n",
       "      <td>91873</td>\n",
       "      <td>196131426784.00</td>\n",
       "      <td>4802</td>\n",
       "      <td>6541005114.00</td>\n",
       "      <td>2385</td>\n",
       "      <td>2574770601.00</td>\n",
       "      <td>2515</td>\n",
       "      <td>3677977262.00</td>\n",
       "      <td>160</td>\n",
       "      <td>382597983.00</td>\n",
       "    </tr>\n",
       "    <tr>\n",
       "      <th>4</th>\n",
       "      <td>1</td>\n",
       "      <td>2015-01-31</td>\n",
       "      <td>1</td>\n",
       "      <td>CRÉDITO ROTATIVO</td>\n",
       "      <td>5</td>\n",
       "      <td>CRÉDITO ROTATIVO TOTAL</td>\n",
       "      <td>243818014709.00</td>\n",
       "      <td>227311255658.00</td>\n",
       "      <td>6333845197.00</td>\n",
       "      <td>2691829784.00</td>\n",
       "      <td>...</td>\n",
       "      <td>32098</td>\n",
       "      <td>224904584796.00</td>\n",
       "      <td>951</td>\n",
       "      <td>5969178631.00</td>\n",
       "      <td>848</td>\n",
       "      <td>5034273159.00</td>\n",
       "      <td>521</td>\n",
       "      <td>3607315495.00</td>\n",
       "      <td>520</td>\n",
       "      <td>4302662628.00</td>\n",
       "    </tr>\n",
       "  </tbody>\n",
       "</table>\n",
       "<p>5 rows × 32 columns</p>\n",
       "</div>"
      ],
      "text/plain": [
       "   tipo_entidad fecha_corte  unicap       desc_unicap  renglon  \\\n",
       "0             1  2015-01-31       1  CRÉDITO ROTATIVO        5   \n",
       "1             1  2015-01-31       1  CRÉDITO ROTATIVO        5   \n",
       "2             1  2015-01-31       1  CRÉDITO ROTATIVO        5   \n",
       "3             1  2015-01-31       1  CRÉDITO ROTATIVO        5   \n",
       "4             1  2015-01-31       1  CRÉDITO ROTATIVO        5   \n",
       "\n",
       "             desc_renglon  saldo_a_la_fecha         vigente          v1_2  \\\n",
       "0  CRÉDITO ROTATIVO TOTAL    37651351298.00  34981440061.00  768061743.00   \n",
       "1  CRÉDITO ROTATIVO TOTAL   826852228377.00 782016598064.00 9271463391.00   \n",
       "2  CRÉDITO ROTATIVO TOTAL   108451564795.00 104345665139.00 1359378501.00   \n",
       "3  CRÉDITO ROTATIVO TOTAL   209307777744.00 196907738953.00 6328341960.00   \n",
       "4  CRÉDITO ROTATIVO TOTAL   243818014709.00 227311255658.00 6333845197.00   \n",
       "\n",
       "           v2_3  ...  riesgo_a_c      riesgo_a_s  riesgo_b_c     riesgo_b_s  \\\n",
       "0  579918756.00  ...        6176  32878868826.00         270  1835206170.00   \n",
       "1 8065650992.00  ...      125128 772666404396.00        1840 11740703689.00   \n",
       "2  845847453.00  ...        9723 100426465880.00         324  2920771751.00   \n",
       "3 2236769512.00  ...       91873 196131426784.00        4802  6541005114.00   \n",
       "4 2691829784.00  ...       32098 224904584796.00         951  5969178631.00   \n",
       "\n",
       "   riesgo_c_c    riesgo_c_s  riesgo_d_c     riesgo_d_s  riesgo_e_c  \\\n",
       "0         142  975343138.00         326  1368695340.00          69   \n",
       "1        1486 9872854505.00        1854 14111818486.00        2469   \n",
       "2         207 1936819277.00         165  1623502258.00         144   \n",
       "3        2385 2574770601.00        2515  3677977262.00         160   \n",
       "4         848 5034273159.00         521  3607315495.00         520   \n",
       "\n",
       "      riesgo_e_s  \n",
       "0   593093538.00  \n",
       "1 18460447300.00  \n",
       "2  1544005629.00  \n",
       "3   382597983.00  \n",
       "4  4302662628.00  \n",
       "\n",
       "[5 rows x 32 columns]"
      ]
     },
     "execution_count": 178,
     "metadata": {},
     "output_type": "execute_result"
    }
   ],
   "source": [
    "df.head()"
   ]
  },
  {
   "cell_type": "code",
   "execution_count": 193,
   "metadata": {},
   "outputs": [],
   "source": [
    "df['tipo_entidad'] = df['tipo_entidad'].astype('object')\n",
    "df['unicap'] = df['unicap'].astype('object')\n",
    "df['renglon'] = df['renglon'].astype('object')\n",
    "df['fecha_corte'] = pd.to_datetime(df['fecha_corte'])"
   ]
  },
  {
   "cell_type": "markdown",
   "metadata": {},
   "source": [
    "# 3. Correlaciones variables numéricas"
   ]
  },
  {
   "cell_type": "code",
   "execution_count": 194,
   "metadata": {},
   "outputs": [
    {
     "data": {
      "application/vnd.plotly.v1+json": {
       "config": {
        "plotlyServerURL": "https://plot.ly"
       },
       "data": [
        {
         "coloraxis": "coloraxis",
         "hovertemplate": "x: %{x}<br>y: %{y}<br>color: %{z}<extra></extra>",
         "name": "0",
         "texttemplate": "%{z}",
         "type": "heatmap",
         "x": [
          "saldo_a_la_fecha",
          "vigente",
          "v1_2",
          "v2_3",
          "v1_3",
          "v3_4",
          "v+4",
          "v3_6",
          "v+6",
          "v1_4",
          "v4_6",
          "v6_12",
          "v12_18",
          "v+12",
          "v+18",
          "clientes_mora+30d",
          "riesgo_a_c",
          "riesgo_a_s",
          "riesgo_b_c",
          "riesgo_b_s",
          "riesgo_c_c",
          "riesgo_c_s",
          "riesgo_d_c",
          "riesgo_d_s",
          "riesgo_e_c",
          "riesgo_e_s"
         ],
         "xaxis": "x",
         "y": [
          "saldo_a_la_fecha",
          "vigente",
          "v1_2",
          "v2_3",
          "v1_3",
          "v3_4",
          "v+4",
          "v3_6",
          "v+6",
          "v1_4",
          "v4_6",
          "v6_12",
          "v12_18",
          "v+12",
          "v+18",
          "clientes_mora+30d",
          "riesgo_a_c",
          "riesgo_a_s",
          "riesgo_b_c",
          "riesgo_b_s",
          "riesgo_c_c",
          "riesgo_c_s",
          "riesgo_d_c",
          "riesgo_d_s",
          "riesgo_e_c",
          "riesgo_e_s"
         ],
         "yaxis": "y",
         "z": [
          [
           1,
           0.9995461514042857,
           null,
           null,
           null,
           null,
           null,
           null,
           null,
           null,
           null,
           null,
           null,
           null,
           null,
           null,
           null,
           0.9959949551810136,
           null,
           0.737053368775663,
           null,
           null,
           null,
           null,
           null,
           0.700845087837532
          ],
          [
           0.9995461514042857,
           1,
           null,
           null,
           null,
           null,
           null,
           null,
           null,
           null,
           null,
           null,
           null,
           null,
           null,
           null,
           null,
           0.996899233820982,
           null,
           0.7273323137517338,
           null,
           null,
           null,
           null,
           null,
           null
          ],
          [
           null,
           null,
           1,
           0.9366232884600176,
           null,
           null,
           null,
           0.7404508139902657,
           null,
           null,
           null,
           null,
           null,
           null,
           null,
           null,
           null,
           null,
           null,
           null,
           null,
           null,
           null,
           null,
           null,
           null
          ],
          [
           null,
           null,
           0.9366232884600176,
           1,
           null,
           null,
           null,
           0.7663736055784315,
           null,
           null,
           null,
           null,
           null,
           null,
           null,
           null,
           null,
           null,
           null,
           null,
           null,
           null,
           null,
           null,
           null,
           null
          ],
          [
           null,
           null,
           null,
           null,
           1,
           null,
           null,
           null,
           null,
           null,
           null,
           null,
           null,
           null,
           null,
           null,
           null,
           null,
           null,
           null,
           null,
           null,
           null,
           null,
           null,
           null
          ],
          [
           null,
           null,
           null,
           null,
           null,
           1,
           0.8766516932294566,
           null,
           null,
           null,
           null,
           null,
           null,
           null,
           null,
           null,
           null,
           null,
           null,
           null,
           null,
           null,
           null,
           null,
           null,
           null
          ],
          [
           null,
           null,
           null,
           null,
           null,
           0.8766516932294566,
           1,
           null,
           null,
           null,
           null,
           null,
           null,
           null,
           null,
           null,
           null,
           null,
           null,
           null,
           null,
           null,
           null,
           null,
           null,
           null
          ],
          [
           null,
           null,
           0.7404508139902657,
           0.7663736055784315,
           null,
           null,
           null,
           1,
           null,
           null,
           null,
           null,
           null,
           null,
           null,
           null,
           null,
           null,
           null,
           null,
           null,
           null,
           null,
           0.7014009528139326,
           null,
           null
          ],
          [
           null,
           null,
           null,
           null,
           null,
           null,
           null,
           null,
           1,
           null,
           null,
           null,
           null,
           null,
           null,
           null,
           null,
           null,
           null,
           null,
           null,
           null,
           null,
           null,
           null,
           null
          ],
          [
           null,
           null,
           null,
           null,
           null,
           null,
           null,
           null,
           null,
           1,
           0.928171280508537,
           null,
           0.872821327321826,
           null,
           null,
           null,
           null,
           null,
           null,
           null,
           null,
           null,
           null,
           null,
           null,
           null
          ],
          [
           null,
           null,
           null,
           null,
           null,
           null,
           null,
           null,
           null,
           0.928171280508537,
           1,
           null,
           0.8947591139485073,
           null,
           0.7195865716483951,
           null,
           null,
           null,
           null,
           null,
           null,
           null,
           null,
           null,
           null,
           null
          ],
          [
           null,
           null,
           null,
           null,
           null,
           null,
           null,
           null,
           null,
           null,
           null,
           1,
           null,
           null,
           null,
           null,
           null,
           null,
           null,
           null,
           null,
           null,
           null,
           null,
           null,
           null
          ],
          [
           null,
           null,
           null,
           null,
           null,
           null,
           null,
           null,
           null,
           0.872821327321826,
           0.8947591139485073,
           null,
           1,
           null,
           0.8453816252308544,
           null,
           null,
           null,
           null,
           null,
           null,
           null,
           null,
           null,
           null,
           null
          ],
          [
           null,
           null,
           null,
           null,
           null,
           null,
           null,
           null,
           null,
           null,
           null,
           null,
           null,
           1,
           null,
           null,
           null,
           null,
           null,
           null,
           null,
           null,
           null,
           null,
           null,
           null
          ],
          [
           null,
           null,
           null,
           null,
           null,
           null,
           null,
           null,
           null,
           null,
           0.7195865716483951,
           null,
           0.8453816252308544,
           null,
           1,
           null,
           null,
           null,
           null,
           null,
           null,
           null,
           null,
           null,
           null,
           null
          ],
          [
           null,
           null,
           null,
           null,
           null,
           null,
           null,
           null,
           null,
           null,
           null,
           null,
           null,
           null,
           null,
           1,
           0.8983747592088073,
           null,
           0.9201426105232997,
           null,
           null,
           null,
           0.9094104204290051,
           null,
           0.7894373921948799,
           null
          ],
          [
           null,
           null,
           null,
           null,
           null,
           null,
           null,
           null,
           null,
           null,
           null,
           null,
           null,
           null,
           null,
           0.8983747592088073,
           1,
           null,
           0.906977401373857,
           null,
           null,
           null,
           0.8519658105817,
           null,
           0.7017619566768922,
           null
          ],
          [
           0.9959949551810136,
           0.996899233820982,
           null,
           null,
           null,
           null,
           null,
           null,
           null,
           null,
           null,
           null,
           null,
           null,
           null,
           null,
           null,
           1,
           null,
           0.7082829887335513,
           null,
           null,
           null,
           null,
           null,
           null
          ],
          [
           null,
           null,
           null,
           null,
           null,
           null,
           null,
           null,
           null,
           null,
           null,
           null,
           null,
           null,
           null,
           0.9201426105232997,
           0.906977401373857,
           null,
           1,
           null,
           null,
           null,
           0.8713265936050959,
           null,
           null,
           null
          ],
          [
           0.737053368775663,
           0.7273323137517338,
           null,
           null,
           null,
           null,
           null,
           null,
           null,
           null,
           null,
           null,
           null,
           null,
           null,
           null,
           null,
           0.7082829887335513,
           null,
           1,
           null,
           0.7489161162146505,
           null,
           0.7054212950573004,
           null,
           null
          ],
          [
           null,
           null,
           null,
           null,
           null,
           null,
           null,
           null,
           null,
           null,
           null,
           null,
           null,
           null,
           null,
           null,
           null,
           null,
           null,
           null,
           1,
           null,
           null,
           null,
           null,
           null
          ],
          [
           null,
           null,
           null,
           null,
           null,
           null,
           null,
           null,
           null,
           null,
           null,
           null,
           null,
           null,
           null,
           null,
           null,
           null,
           null,
           0.7489161162146505,
           null,
           1,
           null,
           null,
           null,
           null
          ],
          [
           null,
           null,
           null,
           null,
           null,
           null,
           null,
           null,
           null,
           null,
           null,
           null,
           null,
           null,
           null,
           0.9094104204290051,
           0.8519658105817,
           null,
           0.8713265936050959,
           null,
           null,
           null,
           1,
           null,
           null,
           null
          ],
          [
           null,
           null,
           null,
           null,
           null,
           null,
           null,
           0.7014009528139326,
           null,
           null,
           null,
           null,
           null,
           null,
           null,
           null,
           null,
           null,
           null,
           0.7054212950573004,
           null,
           null,
           null,
           1,
           null,
           null
          ],
          [
           null,
           null,
           null,
           null,
           null,
           null,
           null,
           null,
           null,
           null,
           null,
           null,
           null,
           null,
           null,
           0.7894373921948799,
           0.7017619566768922,
           null,
           null,
           null,
           null,
           null,
           null,
           null,
           1,
           null
          ],
          [
           0.700845087837532,
           null,
           null,
           null,
           null,
           null,
           null,
           null,
           null,
           null,
           null,
           null,
           null,
           null,
           null,
           null,
           null,
           null,
           null,
           null,
           null,
           null,
           null,
           null,
           null,
           1
          ]
         ]
        }
       ],
       "layout": {
        "coloraxis": {
         "colorscale": [
          [
           0,
           "#0d0887"
          ],
          [
           0.1111111111111111,
           "#46039f"
          ],
          [
           0.2222222222222222,
           "#7201a8"
          ],
          [
           0.3333333333333333,
           "#9c179e"
          ],
          [
           0.4444444444444444,
           "#bd3786"
          ],
          [
           0.5555555555555556,
           "#d8576b"
          ],
          [
           0.6666666666666666,
           "#ed7953"
          ],
          [
           0.7777777777777778,
           "#fb9f3a"
          ],
          [
           0.8888888888888888,
           "#fdca26"
          ],
          [
           1,
           "#f0f921"
          ]
         ]
        },
        "height": 1000,
        "margin": {
         "t": 60
        },
        "template": {
         "data": {
          "bar": [
           {
            "error_x": {
             "color": "#2a3f5f"
            },
            "error_y": {
             "color": "#2a3f5f"
            },
            "marker": {
             "line": {
              "color": "#E5ECF6",
              "width": 0.5
             },
             "pattern": {
              "fillmode": "overlay",
              "size": 10,
              "solidity": 0.2
             }
            },
            "type": "bar"
           }
          ],
          "barpolar": [
           {
            "marker": {
             "line": {
              "color": "#E5ECF6",
              "width": 0.5
             },
             "pattern": {
              "fillmode": "overlay",
              "size": 10,
              "solidity": 0.2
             }
            },
            "type": "barpolar"
           }
          ],
          "carpet": [
           {
            "aaxis": {
             "endlinecolor": "#2a3f5f",
             "gridcolor": "white",
             "linecolor": "white",
             "minorgridcolor": "white",
             "startlinecolor": "#2a3f5f"
            },
            "baxis": {
             "endlinecolor": "#2a3f5f",
             "gridcolor": "white",
             "linecolor": "white",
             "minorgridcolor": "white",
             "startlinecolor": "#2a3f5f"
            },
            "type": "carpet"
           }
          ],
          "choropleth": [
           {
            "colorbar": {
             "outlinewidth": 0,
             "ticks": ""
            },
            "type": "choropleth"
           }
          ],
          "contour": [
           {
            "colorbar": {
             "outlinewidth": 0,
             "ticks": ""
            },
            "colorscale": [
             [
              0,
              "#0d0887"
             ],
             [
              0.1111111111111111,
              "#46039f"
             ],
             [
              0.2222222222222222,
              "#7201a8"
             ],
             [
              0.3333333333333333,
              "#9c179e"
             ],
             [
              0.4444444444444444,
              "#bd3786"
             ],
             [
              0.5555555555555556,
              "#d8576b"
             ],
             [
              0.6666666666666666,
              "#ed7953"
             ],
             [
              0.7777777777777778,
              "#fb9f3a"
             ],
             [
              0.8888888888888888,
              "#fdca26"
             ],
             [
              1,
              "#f0f921"
             ]
            ],
            "type": "contour"
           }
          ],
          "contourcarpet": [
           {
            "colorbar": {
             "outlinewidth": 0,
             "ticks": ""
            },
            "type": "contourcarpet"
           }
          ],
          "heatmap": [
           {
            "colorbar": {
             "outlinewidth": 0,
             "ticks": ""
            },
            "colorscale": [
             [
              0,
              "#0d0887"
             ],
             [
              0.1111111111111111,
              "#46039f"
             ],
             [
              0.2222222222222222,
              "#7201a8"
             ],
             [
              0.3333333333333333,
              "#9c179e"
             ],
             [
              0.4444444444444444,
              "#bd3786"
             ],
             [
              0.5555555555555556,
              "#d8576b"
             ],
             [
              0.6666666666666666,
              "#ed7953"
             ],
             [
              0.7777777777777778,
              "#fb9f3a"
             ],
             [
              0.8888888888888888,
              "#fdca26"
             ],
             [
              1,
              "#f0f921"
             ]
            ],
            "type": "heatmap"
           }
          ],
          "heatmapgl": [
           {
            "colorbar": {
             "outlinewidth": 0,
             "ticks": ""
            },
            "colorscale": [
             [
              0,
              "#0d0887"
             ],
             [
              0.1111111111111111,
              "#46039f"
             ],
             [
              0.2222222222222222,
              "#7201a8"
             ],
             [
              0.3333333333333333,
              "#9c179e"
             ],
             [
              0.4444444444444444,
              "#bd3786"
             ],
             [
              0.5555555555555556,
              "#d8576b"
             ],
             [
              0.6666666666666666,
              "#ed7953"
             ],
             [
              0.7777777777777778,
              "#fb9f3a"
             ],
             [
              0.8888888888888888,
              "#fdca26"
             ],
             [
              1,
              "#f0f921"
             ]
            ],
            "type": "heatmapgl"
           }
          ],
          "histogram": [
           {
            "marker": {
             "pattern": {
              "fillmode": "overlay",
              "size": 10,
              "solidity": 0.2
             }
            },
            "type": "histogram"
           }
          ],
          "histogram2d": [
           {
            "colorbar": {
             "outlinewidth": 0,
             "ticks": ""
            },
            "colorscale": [
             [
              0,
              "#0d0887"
             ],
             [
              0.1111111111111111,
              "#46039f"
             ],
             [
              0.2222222222222222,
              "#7201a8"
             ],
             [
              0.3333333333333333,
              "#9c179e"
             ],
             [
              0.4444444444444444,
              "#bd3786"
             ],
             [
              0.5555555555555556,
              "#d8576b"
             ],
             [
              0.6666666666666666,
              "#ed7953"
             ],
             [
              0.7777777777777778,
              "#fb9f3a"
             ],
             [
              0.8888888888888888,
              "#fdca26"
             ],
             [
              1,
              "#f0f921"
             ]
            ],
            "type": "histogram2d"
           }
          ],
          "histogram2dcontour": [
           {
            "colorbar": {
             "outlinewidth": 0,
             "ticks": ""
            },
            "colorscale": [
             [
              0,
              "#0d0887"
             ],
             [
              0.1111111111111111,
              "#46039f"
             ],
             [
              0.2222222222222222,
              "#7201a8"
             ],
             [
              0.3333333333333333,
              "#9c179e"
             ],
             [
              0.4444444444444444,
              "#bd3786"
             ],
             [
              0.5555555555555556,
              "#d8576b"
             ],
             [
              0.6666666666666666,
              "#ed7953"
             ],
             [
              0.7777777777777778,
              "#fb9f3a"
             ],
             [
              0.8888888888888888,
              "#fdca26"
             ],
             [
              1,
              "#f0f921"
             ]
            ],
            "type": "histogram2dcontour"
           }
          ],
          "mesh3d": [
           {
            "colorbar": {
             "outlinewidth": 0,
             "ticks": ""
            },
            "type": "mesh3d"
           }
          ],
          "parcoords": [
           {
            "line": {
             "colorbar": {
              "outlinewidth": 0,
              "ticks": ""
             }
            },
            "type": "parcoords"
           }
          ],
          "pie": [
           {
            "automargin": true,
            "type": "pie"
           }
          ],
          "scatter": [
           {
            "fillpattern": {
             "fillmode": "overlay",
             "size": 10,
             "solidity": 0.2
            },
            "type": "scatter"
           }
          ],
          "scatter3d": [
           {
            "line": {
             "colorbar": {
              "outlinewidth": 0,
              "ticks": ""
             }
            },
            "marker": {
             "colorbar": {
              "outlinewidth": 0,
              "ticks": ""
             }
            },
            "type": "scatter3d"
           }
          ],
          "scattercarpet": [
           {
            "marker": {
             "colorbar": {
              "outlinewidth": 0,
              "ticks": ""
             }
            },
            "type": "scattercarpet"
           }
          ],
          "scattergeo": [
           {
            "marker": {
             "colorbar": {
              "outlinewidth": 0,
              "ticks": ""
             }
            },
            "type": "scattergeo"
           }
          ],
          "scattergl": [
           {
            "marker": {
             "colorbar": {
              "outlinewidth": 0,
              "ticks": ""
             }
            },
            "type": "scattergl"
           }
          ],
          "scattermapbox": [
           {
            "marker": {
             "colorbar": {
              "outlinewidth": 0,
              "ticks": ""
             }
            },
            "type": "scattermapbox"
           }
          ],
          "scatterpolar": [
           {
            "marker": {
             "colorbar": {
              "outlinewidth": 0,
              "ticks": ""
             }
            },
            "type": "scatterpolar"
           }
          ],
          "scatterpolargl": [
           {
            "marker": {
             "colorbar": {
              "outlinewidth": 0,
              "ticks": ""
             }
            },
            "type": "scatterpolargl"
           }
          ],
          "scatterternary": [
           {
            "marker": {
             "colorbar": {
              "outlinewidth": 0,
              "ticks": ""
             }
            },
            "type": "scatterternary"
           }
          ],
          "surface": [
           {
            "colorbar": {
             "outlinewidth": 0,
             "ticks": ""
            },
            "colorscale": [
             [
              0,
              "#0d0887"
             ],
             [
              0.1111111111111111,
              "#46039f"
             ],
             [
              0.2222222222222222,
              "#7201a8"
             ],
             [
              0.3333333333333333,
              "#9c179e"
             ],
             [
              0.4444444444444444,
              "#bd3786"
             ],
             [
              0.5555555555555556,
              "#d8576b"
             ],
             [
              0.6666666666666666,
              "#ed7953"
             ],
             [
              0.7777777777777778,
              "#fb9f3a"
             ],
             [
              0.8888888888888888,
              "#fdca26"
             ],
             [
              1,
              "#f0f921"
             ]
            ],
            "type": "surface"
           }
          ],
          "table": [
           {
            "cells": {
             "fill": {
              "color": "#EBF0F8"
             },
             "line": {
              "color": "white"
             }
            },
            "header": {
             "fill": {
              "color": "#C8D4E3"
             },
             "line": {
              "color": "white"
             }
            },
            "type": "table"
           }
          ]
         },
         "layout": {
          "annotationdefaults": {
           "arrowcolor": "#2a3f5f",
           "arrowhead": 0,
           "arrowwidth": 1
          },
          "autotypenumbers": "strict",
          "coloraxis": {
           "colorbar": {
            "outlinewidth": 0,
            "ticks": ""
           }
          },
          "colorscale": {
           "diverging": [
            [
             0,
             "#8e0152"
            ],
            [
             0.1,
             "#c51b7d"
            ],
            [
             0.2,
             "#de77ae"
            ],
            [
             0.3,
             "#f1b6da"
            ],
            [
             0.4,
             "#fde0ef"
            ],
            [
             0.5,
             "#f7f7f7"
            ],
            [
             0.6,
             "#e6f5d0"
            ],
            [
             0.7,
             "#b8e186"
            ],
            [
             0.8,
             "#7fbc41"
            ],
            [
             0.9,
             "#4d9221"
            ],
            [
             1,
             "#276419"
            ]
           ],
           "sequential": [
            [
             0,
             "#0d0887"
            ],
            [
             0.1111111111111111,
             "#46039f"
            ],
            [
             0.2222222222222222,
             "#7201a8"
            ],
            [
             0.3333333333333333,
             "#9c179e"
            ],
            [
             0.4444444444444444,
             "#bd3786"
            ],
            [
             0.5555555555555556,
             "#d8576b"
            ],
            [
             0.6666666666666666,
             "#ed7953"
            ],
            [
             0.7777777777777778,
             "#fb9f3a"
            ],
            [
             0.8888888888888888,
             "#fdca26"
            ],
            [
             1,
             "#f0f921"
            ]
           ],
           "sequentialminus": [
            [
             0,
             "#0d0887"
            ],
            [
             0.1111111111111111,
             "#46039f"
            ],
            [
             0.2222222222222222,
             "#7201a8"
            ],
            [
             0.3333333333333333,
             "#9c179e"
            ],
            [
             0.4444444444444444,
             "#bd3786"
            ],
            [
             0.5555555555555556,
             "#d8576b"
            ],
            [
             0.6666666666666666,
             "#ed7953"
            ],
            [
             0.7777777777777778,
             "#fb9f3a"
            ],
            [
             0.8888888888888888,
             "#fdca26"
            ],
            [
             1,
             "#f0f921"
            ]
           ]
          },
          "colorway": [
           "#636efa",
           "#EF553B",
           "#00cc96",
           "#ab63fa",
           "#FFA15A",
           "#19d3f3",
           "#FF6692",
           "#B6E880",
           "#FF97FF",
           "#FECB52"
          ],
          "font": {
           "color": "#2a3f5f"
          },
          "geo": {
           "bgcolor": "white",
           "lakecolor": "white",
           "landcolor": "#E5ECF6",
           "showlakes": true,
           "showland": true,
           "subunitcolor": "white"
          },
          "hoverlabel": {
           "align": "left"
          },
          "hovermode": "closest",
          "mapbox": {
           "style": "light"
          },
          "paper_bgcolor": "white",
          "plot_bgcolor": "#E5ECF6",
          "polar": {
           "angularaxis": {
            "gridcolor": "white",
            "linecolor": "white",
            "ticks": ""
           },
           "bgcolor": "#E5ECF6",
           "radialaxis": {
            "gridcolor": "white",
            "linecolor": "white",
            "ticks": ""
           }
          },
          "scene": {
           "xaxis": {
            "backgroundcolor": "#E5ECF6",
            "gridcolor": "white",
            "gridwidth": 2,
            "linecolor": "white",
            "showbackground": true,
            "ticks": "",
            "zerolinecolor": "white"
           },
           "yaxis": {
            "backgroundcolor": "#E5ECF6",
            "gridcolor": "white",
            "gridwidth": 2,
            "linecolor": "white",
            "showbackground": true,
            "ticks": "",
            "zerolinecolor": "white"
           },
           "zaxis": {
            "backgroundcolor": "#E5ECF6",
            "gridcolor": "white",
            "gridwidth": 2,
            "linecolor": "white",
            "showbackground": true,
            "ticks": "",
            "zerolinecolor": "white"
           }
          },
          "shapedefaults": {
           "line": {
            "color": "#2a3f5f"
           }
          },
          "ternary": {
           "aaxis": {
            "gridcolor": "white",
            "linecolor": "white",
            "ticks": ""
           },
           "baxis": {
            "gridcolor": "white",
            "linecolor": "white",
            "ticks": ""
           },
           "bgcolor": "#E5ECF6",
           "caxis": {
            "gridcolor": "white",
            "linecolor": "white",
            "ticks": ""
           }
          },
          "title": {
           "x": 0.05
          },
          "xaxis": {
           "automargin": true,
           "gridcolor": "white",
           "linecolor": "white",
           "ticks": "",
           "title": {
            "standoff": 15
           },
           "zerolinecolor": "white",
           "zerolinewidth": 2
          },
          "yaxis": {
           "automargin": true,
           "gridcolor": "white",
           "linecolor": "white",
           "ticks": "",
           "title": {
            "standoff": 15
           },
           "zerolinecolor": "white",
           "zerolinewidth": 2
          }
         }
        },
        "xaxis": {
         "anchor": "y",
         "constrain": "domain",
         "domain": [
          0,
          1
         ],
         "scaleanchor": "y"
        },
        "yaxis": {
         "anchor": "x",
         "autorange": "reversed",
         "constrain": "domain",
         "domain": [
          0,
          1
         ]
        }
       }
      }
     },
     "metadata": {},
     "output_type": "display_data"
    }
   ],
   "source": [
    "cols_num = df.select_dtypes(exclude=['object', 'datetime'])\n",
    "df_corr = cols_num.corr()\n",
    "fig = px.imshow(df_corr[(df_corr > 0.7) | (df_corr < -0.7)],  text_auto=True)\n",
    "fig.update_layout(height=1000)\n",
    "fig.show()"
   ]
  },
  {
   "cell_type": "markdown",
   "metadata": {},
   "source": [
    "## ¿Por qué el saldo a la fecha y el saldo vigente presentan una correlación tan alta?\n",
    "\n",
    "El saldo a la fecha y el saldo vigente presentan una alta correlación. El saldo vigente representa el saldo luego de los abonos de los clientes a cada una de las cuentas en cada mes. Por tanto, se decide descartar el saldo vigente ya que saldo a la fecha y los abonos nos brindan la misma información."
   ]
  },
  {
   "cell_type": "code",
   "execution_count": 195,
   "metadata": {},
   "outputs": [],
   "source": [
    "df.drop('vigente', axis=1, inplace=True)"
   ]
  },
  {
   "cell_type": "markdown",
   "metadata": {},
   "source": [
    "## ¿Qué hacer con las altas correlaciones en los rangos de vencimiento?\n",
    "\n",
    "Las demás columnas, aunque tengan una alta correlación, se decide conservarlas porque representan características diferentes de las cuentas. Mes a mes cambia el tiempo que lleva una cuenta vencida. Algunos rangos de vencimiento se traslapan, esto puede ser porque cada entidad maneja diferentes estrategias de cobranza dependiendo del tipo de producto y por tanto estipula diferentes rangos para establecer el tiempo que lleva una cuenta vencida.\n",
    "\n",
    "Una entidad, dependiendo del riesgo, para un producto implementa una estrategia para cuentas de 1 a 3 meses vencidas, mientras que para otro producto aplica una estrategia si la cuenta tiene entre 1 y 2 meses vencida y otra estrategia si la cuenta tiene entre 2 y 3 meses vencida."
   ]
  },
  {
   "cell_type": "code",
   "execution_count": 196,
   "metadata": {},
   "outputs": [
    {
     "data": {
      "text/html": [
       "<div>\n",
       "<style scoped>\n",
       "    .dataframe tbody tr th:only-of-type {\n",
       "        vertical-align: middle;\n",
       "    }\n",
       "\n",
       "    .dataframe tbody tr th {\n",
       "        vertical-align: top;\n",
       "    }\n",
       "\n",
       "    .dataframe thead tr th {\n",
       "        text-align: left;\n",
       "    }\n",
       "</style>\n",
       "<table border=\"1\" class=\"dataframe\">\n",
       "  <thead>\n",
       "    <tr>\n",
       "      <th></th>\n",
       "      <th>1</th>\n",
       "    </tr>\n",
       "    <tr>\n",
       "      <th></th>\n",
       "      <th>CARTERA COMERCIAL CORPORATIVO</th>\n",
       "    </tr>\n",
       "  </thead>\n",
       "  <tbody>\n",
       "    <tr>\n",
       "      <th>v2_3</th>\n",
       "      <td>0.00</td>\n",
       "    </tr>\n",
       "    <tr>\n",
       "      <th>v1_3</th>\n",
       "      <td>30243146591518.68</td>\n",
       "    </tr>\n",
       "    <tr>\n",
       "      <th>v3_4</th>\n",
       "      <td>0.00</td>\n",
       "    </tr>\n",
       "    <tr>\n",
       "      <th>v+4</th>\n",
       "      <td>0.00</td>\n",
       "    </tr>\n",
       "    <tr>\n",
       "      <th>v3_6</th>\n",
       "      <td>33059046066284.94</td>\n",
       "    </tr>\n",
       "    <tr>\n",
       "      <th>v+6</th>\n",
       "      <td>0.00</td>\n",
       "    </tr>\n",
       "    <tr>\n",
       "      <th>v1_4</th>\n",
       "      <td>0.00</td>\n",
       "    </tr>\n",
       "    <tr>\n",
       "      <th>v4_6</th>\n",
       "      <td>0.00</td>\n",
       "    </tr>\n",
       "    <tr>\n",
       "      <th>v6_12</th>\n",
       "      <td>43874611086107.93</td>\n",
       "    </tr>\n",
       "    <tr>\n",
       "      <th>v12_18</th>\n",
       "      <td>0.00</td>\n",
       "    </tr>\n",
       "    <tr>\n",
       "      <th>v+12</th>\n",
       "      <td>101300012203792.48</td>\n",
       "    </tr>\n",
       "    <tr>\n",
       "      <th>v+18</th>\n",
       "      <td>0.00</td>\n",
       "    </tr>\n",
       "    <tr>\n",
       "      <th>clientes_mora+30d</th>\n",
       "      <td>36600.00</td>\n",
       "    </tr>\n",
       "  </tbody>\n",
       "</table>\n",
       "</div>"
      ],
      "text/plain": [
       "                                              1\n",
       "                  CARTERA COMERCIAL CORPORATIVO\n",
       "v2_3                                       0.00\n",
       "v1_3                          30243146591518.68\n",
       "v3_4                                       0.00\n",
       "v+4                                        0.00\n",
       "v3_6                          33059046066284.94\n",
       "v+6                                        0.00\n",
       "v1_4                                       0.00\n",
       "v4_6                                       0.00\n",
       "v6_12                         43874611086107.93\n",
       "v12_18                                     0.00\n",
       "v+12                         101300012203792.48\n",
       "v+18                                       0.00\n",
       "clientes_mora+30d                      36600.00"
      ]
     },
     "execution_count": 196,
     "metadata": {},
     "output_type": "execute_result"
    }
   ],
   "source": [
    "cols_mora = df.iloc[:,8:21].columns\n",
    "df.groupby(['tipo_entidad', 'desc_unicap'])[cols_mora].sum().iloc[1,:].to_frame()"
   ]
  },
  {
   "cell_type": "markdown",
   "metadata": {},
   "source": [
    "Por ejemplo, una entidad de tipo 1, para carteras comerciales corporativas clasifica las cuentas cuentas vencidad de 1 a 3 meses, de 3 a 6 meses, de 6 a 12 meses y más de 12 meses."
   ]
  },
  {
   "cell_type": "code",
   "execution_count": 197,
   "metadata": {},
   "outputs": [
    {
     "data": {
      "text/html": [
       "<div>\n",
       "<style scoped>\n",
       "    .dataframe tbody tr th:only-of-type {\n",
       "        vertical-align: middle;\n",
       "    }\n",
       "\n",
       "    .dataframe tbody tr th {\n",
       "        vertical-align: top;\n",
       "    }\n",
       "\n",
       "    .dataframe thead tr th {\n",
       "        text-align: left;\n",
       "    }\n",
       "</style>\n",
       "<table border=\"1\" class=\"dataframe\">\n",
       "  <thead>\n",
       "    <tr>\n",
       "      <th></th>\n",
       "      <th>1</th>\n",
       "    </tr>\n",
       "    <tr>\n",
       "      <th></th>\n",
       "      <th>CONSUMO BAJO MONTO</th>\n",
       "    </tr>\n",
       "  </thead>\n",
       "  <tbody>\n",
       "    <tr>\n",
       "      <th>v2_3</th>\n",
       "      <td>201552646764.76</td>\n",
       "    </tr>\n",
       "    <tr>\n",
       "      <th>v1_3</th>\n",
       "      <td>0.00</td>\n",
       "    </tr>\n",
       "    <tr>\n",
       "      <th>v3_4</th>\n",
       "      <td>0.00</td>\n",
       "    </tr>\n",
       "    <tr>\n",
       "      <th>v+4</th>\n",
       "      <td>0.00</td>\n",
       "    </tr>\n",
       "    <tr>\n",
       "      <th>v3_6</th>\n",
       "      <td>424888748982.12</td>\n",
       "    </tr>\n",
       "    <tr>\n",
       "      <th>v+6</th>\n",
       "      <td>132232049561.69</td>\n",
       "    </tr>\n",
       "    <tr>\n",
       "      <th>v1_4</th>\n",
       "      <td>0.00</td>\n",
       "    </tr>\n",
       "    <tr>\n",
       "      <th>v4_6</th>\n",
       "      <td>0.00</td>\n",
       "    </tr>\n",
       "    <tr>\n",
       "      <th>v6_12</th>\n",
       "      <td>0.00</td>\n",
       "    </tr>\n",
       "    <tr>\n",
       "      <th>v12_18</th>\n",
       "      <td>0.00</td>\n",
       "    </tr>\n",
       "    <tr>\n",
       "      <th>v+12</th>\n",
       "      <td>0.00</td>\n",
       "    </tr>\n",
       "    <tr>\n",
       "      <th>v+18</th>\n",
       "      <td>0.00</td>\n",
       "    </tr>\n",
       "    <tr>\n",
       "      <th>clientes_mora+30d</th>\n",
       "      <td>1352916.00</td>\n",
       "    </tr>\n",
       "  </tbody>\n",
       "</table>\n",
       "</div>"
      ],
      "text/plain": [
       "                                   1\n",
       "                  CONSUMO BAJO MONTO\n",
       "v2_3                 201552646764.76\n",
       "v1_3                            0.00\n",
       "v3_4                            0.00\n",
       "v+4                             0.00\n",
       "v3_6                 424888748982.12\n",
       "v+6                  132232049561.69\n",
       "v1_4                            0.00\n",
       "v4_6                            0.00\n",
       "v6_12                           0.00\n",
       "v12_18                          0.00\n",
       "v+12                            0.00\n",
       "v+18                            0.00\n",
       "clientes_mora+30d         1352916.00"
      ]
     },
     "execution_count": 197,
     "metadata": {},
     "output_type": "execute_result"
    }
   ],
   "source": [
    "df.groupby(['tipo_entidad', 'desc_unicap'])[cols_mora].sum().iloc[10,:].to_frame()"
   ]
  },
  {
   "cell_type": "markdown",
   "metadata": {},
   "source": [
    "Mientras que la misma entidad, para cuentas de consumos de bajo monto, las clasifica de 1 a 2 meses, de 2 a 3 meses, de 3 a 6 meses y más de 6 meses.\n",
    "\n",
    "Decidimos trabajar con todas las variables y observar los resultados obtenidos con reducción de dimensionalidad."
   ]
  },
  {
   "cell_type": "markdown",
   "metadata": {},
   "source": [
    "## ¿Qué hacer con las correlaciones altas en algunos riesgos?"
   ]
  },
  {
   "cell_type": "code",
   "execution_count": 198,
   "metadata": {},
   "outputs": [
    {
     "data": {
      "application/vnd.plotly.v1+json": {
       "config": {
        "plotlyServerURL": "https://plot.ly"
       },
       "data": [
        {
         "hovertemplate": "variable=saldo_a_la_fecha<br>year_month=%{x}<br>value=%{y}<extra></extra>",
         "legendgroup": "saldo_a_la_fecha",
         "line": {
          "color": "#636efa",
          "dash": "solid"
         },
         "marker": {
          "symbol": "circle"
         },
         "mode": "lines",
         "name": "saldo_a_la_fecha",
         "orientation": "v",
         "showlegend": true,
         "type": "scatter",
         "x": [
          "2015-01-01T00:00:00",
          "2015-02-01T00:00:00",
          "2015-03-01T00:00:00",
          "2015-04-01T00:00:00",
          "2015-05-01T00:00:00",
          "2015-06-01T00:00:00",
          "2015-07-01T00:00:00",
          "2015-08-01T00:00:00",
          "2015-09-01T00:00:00",
          "2015-10-01T00:00:00",
          "2015-11-01T00:00:00",
          "2015-12-01T00:00:00",
          "2016-01-01T00:00:00",
          "2016-02-01T00:00:00",
          "2016-03-01T00:00:00",
          "2016-04-01T00:00:00",
          "2016-05-01T00:00:00",
          "2016-06-01T00:00:00",
          "2016-07-01T00:00:00",
          "2016-08-01T00:00:00",
          "2016-09-01T00:00:00",
          "2016-10-01T00:00:00",
          "2016-11-01T00:00:00",
          "2016-12-01T00:00:00",
          "2017-01-01T00:00:00",
          "2017-02-01T00:00:00",
          "2017-03-01T00:00:00",
          "2017-04-01T00:00:00",
          "2017-05-01T00:00:00",
          "2017-06-01T00:00:00",
          "2017-07-01T00:00:00",
          "2017-08-01T00:00:00",
          "2017-09-01T00:00:00",
          "2017-10-01T00:00:00",
          "2017-11-01T00:00:00",
          "2017-12-01T00:00:00",
          "2018-01-01T00:00:00",
          "2018-02-01T00:00:00",
          "2018-03-01T00:00:00",
          "2018-04-01T00:00:00",
          "2018-05-01T00:00:00",
          "2018-06-01T00:00:00",
          "2018-07-01T00:00:00",
          "2018-08-01T00:00:00",
          "2018-09-01T00:00:00",
          "2018-10-01T00:00:00",
          "2018-11-01T00:00:00",
          "2018-12-01T00:00:00",
          "2019-01-01T00:00:00",
          "2019-02-01T00:00:00",
          "2019-03-01T00:00:00",
          "2019-04-01T00:00:00",
          "2019-05-01T00:00:00",
          "2019-06-01T00:00:00",
          "2019-07-01T00:00:00",
          "2019-08-01T00:00:00",
          "2019-09-01T00:00:00",
          "2019-10-01T00:00:00",
          "2019-11-01T00:00:00",
          "2019-12-01T00:00:00",
          "2020-01-01T00:00:00",
          "2020-02-01T00:00:00",
          "2020-03-01T00:00:00",
          "2020-04-01T00:00:00",
          "2020-05-01T00:00:00",
          "2020-06-01T00:00:00",
          "2020-07-01T00:00:00",
          "2020-08-01T00:00:00",
          "2020-09-01T00:00:00",
          "2020-10-01T00:00:00",
          "2020-11-01T00:00:00",
          "2020-12-01T00:00:00",
          "2021-01-01T00:00:00",
          "2021-02-01T00:00:00",
          "2021-03-01T00:00:00",
          "2021-04-01T00:00:00",
          "2021-05-01T00:00:00",
          "2021-06-01T00:00:00",
          "2021-07-01T00:00:00",
          "2021-08-01T00:00:00",
          "2021-09-01T00:00:00",
          "2021-10-01T00:00:00",
          "2021-11-01T00:00:00",
          "2021-12-01T00:00:00",
          "2022-01-01T00:00:00",
          "2022-02-01T00:00:00",
          "2022-03-01T00:00:00",
          "2022-04-01T00:00:00",
          "2022-05-01T00:00:00",
          "2022-06-01T00:00:00",
          "2022-07-01T00:00:00",
          "2022-08-01T00:00:00",
          "2022-09-01T00:00:00",
          "2022-10-01T00:00:00",
          "2022-11-01T00:00:00",
          "2022-12-01T00:00:00",
          "2023-01-01T00:00:00",
          "2023-02-01T00:00:00",
          "2023-03-01T00:00:00",
          "2023-04-01T00:00:00",
          "2023-05-01T00:00:00",
          "2023-06-01T00:00:00",
          "2023-07-01T00:00:00"
         ],
         "xaxis": "x",
         "y": [
          551566109717.0066,
          551269160125.8651,
          554605829011.8138,
          558697747599.2327,
          566638671913.1372,
          573864701247.4469,
          582831794303.1333,
          591033799561.6128,
          593277848048.1512,
          605732304045.9395,
          615342267549.574,
          615444520794.3918,
          603344012222.5674,
          609753485246.813,
          617058950905.4635,
          618927953578.9448,
          626960717064.0765,
          632241644539.0126,
          636106220586.2594,
          633712205063.0646,
          633951139826.2448,
          646664023214.8175,
          655600153322.881,
          652026615981.9105,
          645421079620.7373,
          650909526104.2257,
          655638257358.4901,
          661966294423.6304,
          666113210257.1295,
          674241537387.6243,
          675605730078.5773,
          678432489006.2736,
          682519051297.9556,
          685475444500.8358,
          689932669173.0074,
          696512363544.8883,
          688417511659.9028,
          722247886658.3951,
          696785165078.5701,
          699653745509.5963,
          704789015088.3558,
          720773788498.9613,
          719207749499.1793,
          720805063051.541,
          726232930527.1072,
          735433723010.3496,
          742830179708.533,
          747809414578.7045,
          740825992046.7142,
          756103729604.8932,
          765078538088.6499,
          775241705659.2697,
          783544807880.6337,
          787987093493.6865,
          791628566970.7719,
          797801926103.8555,
          807982696029.2589,
          812866046442.6992,
          822716967076.275,
          821220305645.4835,
          824023370794.5153,
          845227608723.7905,
          866506211300.4141,
          871836973256.0116,
          870986151619.9768,
          869379928617.4493,
          863162798699.274,
          877063239281.1307,
          876879079921.8746,
          881080979441.2382,
          886393154092.7966,
          883168591353.9475,
          888393829785.3427,
          894089541437.1442,
          896007355559.843,
          900014761872.9829,
          906511425632.0303,
          914690333349.0132,
          922190468185.7058,
          932372862278.2351,
          940279545768.7048,
          948653768070.5328,
          964630227258.1815,
          961699785180.6172,
          964915087165.2201,
          981961305238.3763,
          992371987396.2649,
          1004305737806.1527,
          1019318012677.2781,
          1038341964970.636,
          1046555697785.8695,
          1061509772236.3193,
          1072513781881.0803,
          1085545044399.4933,
          1096146601087.494,
          1103175445310.1008,
          1101278808012.7473,
          1104451743753.365,
          1105482046065.884,
          1113057446057.0457,
          1116670845730.5063,
          1119175396354.5889,
          1110365338835.4565
         ],
         "yaxis": "y"
        },
        {
         "hovertemplate": "variable=riesgo_a_s<br>year_month=%{x}<br>value=%{y}<extra></extra>",
         "legendgroup": "riesgo_a_s",
         "line": {
          "color": "#EF553B",
          "dash": "solid"
         },
         "marker": {
          "symbol": "circle"
         },
         "mode": "lines",
         "name": "riesgo_a_s",
         "orientation": "v",
         "showlegend": true,
         "type": "scatter",
         "x": [
          "2015-01-01T00:00:00",
          "2015-02-01T00:00:00",
          "2015-03-01T00:00:00",
          "2015-04-01T00:00:00",
          "2015-05-01T00:00:00",
          "2015-06-01T00:00:00",
          "2015-07-01T00:00:00",
          "2015-08-01T00:00:00",
          "2015-09-01T00:00:00",
          "2015-10-01T00:00:00",
          "2015-11-01T00:00:00",
          "2015-12-01T00:00:00",
          "2016-01-01T00:00:00",
          "2016-02-01T00:00:00",
          "2016-03-01T00:00:00",
          "2016-04-01T00:00:00",
          "2016-05-01T00:00:00",
          "2016-06-01T00:00:00",
          "2016-07-01T00:00:00",
          "2016-08-01T00:00:00",
          "2016-09-01T00:00:00",
          "2016-10-01T00:00:00",
          "2016-11-01T00:00:00",
          "2016-12-01T00:00:00",
          "2017-01-01T00:00:00",
          "2017-02-01T00:00:00",
          "2017-03-01T00:00:00",
          "2017-04-01T00:00:00",
          "2017-05-01T00:00:00",
          "2017-06-01T00:00:00",
          "2017-07-01T00:00:00",
          "2017-08-01T00:00:00",
          "2017-09-01T00:00:00",
          "2017-10-01T00:00:00",
          "2017-11-01T00:00:00",
          "2017-12-01T00:00:00",
          "2018-01-01T00:00:00",
          "2018-02-01T00:00:00",
          "2018-03-01T00:00:00",
          "2018-04-01T00:00:00",
          "2018-05-01T00:00:00",
          "2018-06-01T00:00:00",
          "2018-07-01T00:00:00",
          "2018-08-01T00:00:00",
          "2018-09-01T00:00:00",
          "2018-10-01T00:00:00",
          "2018-11-01T00:00:00",
          "2018-12-01T00:00:00",
          "2019-01-01T00:00:00",
          "2019-02-01T00:00:00",
          "2019-03-01T00:00:00",
          "2019-04-01T00:00:00",
          "2019-05-01T00:00:00",
          "2019-06-01T00:00:00",
          "2019-07-01T00:00:00",
          "2019-08-01T00:00:00",
          "2019-09-01T00:00:00",
          "2019-10-01T00:00:00",
          "2019-11-01T00:00:00",
          "2019-12-01T00:00:00",
          "2020-01-01T00:00:00",
          "2020-02-01T00:00:00",
          "2020-03-01T00:00:00",
          "2020-04-01T00:00:00",
          "2020-05-01T00:00:00",
          "2020-06-01T00:00:00",
          "2020-07-01T00:00:00",
          "2020-08-01T00:00:00",
          "2020-09-01T00:00:00",
          "2020-10-01T00:00:00",
          "2020-11-01T00:00:00",
          "2020-12-01T00:00:00",
          "2021-01-01T00:00:00",
          "2021-02-01T00:00:00",
          "2021-03-01T00:00:00",
          "2021-04-01T00:00:00",
          "2021-05-01T00:00:00",
          "2021-06-01T00:00:00",
          "2021-07-01T00:00:00",
          "2021-08-01T00:00:00",
          "2021-09-01T00:00:00",
          "2021-10-01T00:00:00",
          "2021-11-01T00:00:00",
          "2021-12-01T00:00:00",
          "2022-01-01T00:00:00",
          "2022-02-01T00:00:00",
          "2022-03-01T00:00:00",
          "2022-04-01T00:00:00",
          "2022-05-01T00:00:00",
          "2022-06-01T00:00:00",
          "2022-07-01T00:00:00",
          "2022-08-01T00:00:00",
          "2022-09-01T00:00:00",
          "2022-10-01T00:00:00",
          "2022-11-01T00:00:00",
          "2022-12-01T00:00:00",
          "2023-01-01T00:00:00",
          "2023-02-01T00:00:00",
          "2023-03-01T00:00:00",
          "2023-04-01T00:00:00",
          "2023-05-01T00:00:00",
          "2023-06-01T00:00:00",
          "2023-07-01T00:00:00"
         ],
         "xaxis": "x",
         "y": [
          510111138972.9094,
          509848088026.1025,
          512876832017.9474,
          516640018520.32904,
          523917023388.8282,
          529393373857.6697,
          538863058212.44745,
          546918411235.7236,
          549032123432.67346,
          560233706356.0206,
          568584178841.9705,
          568815301839.2522,
          554769251584.4053,
          560676733096.0474,
          566410039334.0931,
          568363257440.1895,
          574718387897.5258,
          578766477835.0503,
          581293953374.9586,
          579063585598.9391,
          579762239952.885,
          590036285665.9838,
          595341689863.5026,
          592408518068.3156,
          581402417192.3625,
          585064606981.3268,
          588536103152.5913,
          593131142758.0989,
          595383828040.7657,
          601698621159.8479,
          601884680256.9098,
          604050100081.13,
          607846213164.774,
          610195479918.0345,
          612443617841.5216,
          617989515244.5819,
          608575588233.519,
          638771459789.0425,
          615373510643.5295,
          618262780731.1608,
          622648378790.762,
          635826311673.2684,
          634543161108.7422,
          635941755392.0211,
          641277392455.1198,
          649421398444.6093,
          656785492762.3175,
          662099758086.884,
          655628399491.6981,
          671131456582.8077,
          679915749307.1537,
          689118766473.9937,
          698423665097.3853,
          700886694371.9657,
          704093634303.3384,
          710828550517.5044,
          720329715003.8744,
          724648553531.519,
          733288852521.5615,
          734679766690.752,
          737004486248.6294,
          756168373861.937,
          775649066222.0974,
          778923003446.4268,
          781477427702.7339,
          781093888221.9923,
          777290324426.5916,
          784995721534.7595,
          782172548581.0653,
          780099538417.4895,
          779127937848.4567,
          764968083446.0342,
          767939342172.0529,
          775301126804.918,
          779752936323.4353,
          785679471751.3096,
          793358993934.2675,
          802564748415.9314,
          812510784189.5713,
          824605366853.8071,
          833995500645.3597,
          842095308343.7566,
          860139445919.2026,
          861962618396.543,
          864300008062.0469,
          881724766332.8828,
          892866955140.2338,
          905037651153.6029,
          919975970708.8525,
          936972945703.8977,
          945418039269.7041,
          961515548716.4877,
          972515733236.6769,
          983359345561.7852,
          992085818391.6375,
          999431236843.4335,
          996382318687.0459,
          997252059717.6322,
          995651740517.0907,
          1000681154580.3423,
          1003369077819.4498,
          1003804784171.5968,
          993148494587.2095
         ],
         "yaxis": "y"
        },
        {
         "hovertemplate": "variable=riesgo_b_s<br>year_month=%{x}<br>value=%{y}<extra></extra>",
         "legendgroup": "riesgo_b_s",
         "line": {
          "color": "#00cc96",
          "dash": "solid"
         },
         "marker": {
          "symbol": "circle"
         },
         "mode": "lines",
         "name": "riesgo_b_s",
         "orientation": "v",
         "showlegend": true,
         "type": "scatter",
         "x": [
          "2015-01-01T00:00:00",
          "2015-02-01T00:00:00",
          "2015-03-01T00:00:00",
          "2015-04-01T00:00:00",
          "2015-05-01T00:00:00",
          "2015-06-01T00:00:00",
          "2015-07-01T00:00:00",
          "2015-08-01T00:00:00",
          "2015-09-01T00:00:00",
          "2015-10-01T00:00:00",
          "2015-11-01T00:00:00",
          "2015-12-01T00:00:00",
          "2016-01-01T00:00:00",
          "2016-02-01T00:00:00",
          "2016-03-01T00:00:00",
          "2016-04-01T00:00:00",
          "2016-05-01T00:00:00",
          "2016-06-01T00:00:00",
          "2016-07-01T00:00:00",
          "2016-08-01T00:00:00",
          "2016-09-01T00:00:00",
          "2016-10-01T00:00:00",
          "2016-11-01T00:00:00",
          "2016-12-01T00:00:00",
          "2017-01-01T00:00:00",
          "2017-02-01T00:00:00",
          "2017-03-01T00:00:00",
          "2017-04-01T00:00:00",
          "2017-05-01T00:00:00",
          "2017-06-01T00:00:00",
          "2017-07-01T00:00:00",
          "2017-08-01T00:00:00",
          "2017-09-01T00:00:00",
          "2017-10-01T00:00:00",
          "2017-11-01T00:00:00",
          "2017-12-01T00:00:00",
          "2018-01-01T00:00:00",
          "2018-02-01T00:00:00",
          "2018-03-01T00:00:00",
          "2018-04-01T00:00:00",
          "2018-05-01T00:00:00",
          "2018-06-01T00:00:00",
          "2018-07-01T00:00:00",
          "2018-08-01T00:00:00",
          "2018-09-01T00:00:00",
          "2018-10-01T00:00:00",
          "2018-11-01T00:00:00",
          "2018-12-01T00:00:00",
          "2019-01-01T00:00:00",
          "2019-02-01T00:00:00",
          "2019-03-01T00:00:00",
          "2019-04-01T00:00:00",
          "2019-05-01T00:00:00",
          "2019-06-01T00:00:00",
          "2019-07-01T00:00:00",
          "2019-08-01T00:00:00",
          "2019-09-01T00:00:00",
          "2019-10-01T00:00:00",
          "2019-11-01T00:00:00",
          "2019-12-01T00:00:00",
          "2020-01-01T00:00:00",
          "2020-02-01T00:00:00",
          "2020-03-01T00:00:00",
          "2020-04-01T00:00:00",
          "2020-05-01T00:00:00",
          "2020-06-01T00:00:00",
          "2020-07-01T00:00:00",
          "2020-08-01T00:00:00",
          "2020-09-01T00:00:00",
          "2020-10-01T00:00:00",
          "2020-11-01T00:00:00",
          "2020-12-01T00:00:00",
          "2021-01-01T00:00:00",
          "2021-02-01T00:00:00",
          "2021-03-01T00:00:00",
          "2021-04-01T00:00:00",
          "2021-05-01T00:00:00",
          "2021-06-01T00:00:00",
          "2021-07-01T00:00:00",
          "2021-08-01T00:00:00",
          "2021-09-01T00:00:00",
          "2021-10-01T00:00:00",
          "2021-11-01T00:00:00",
          "2021-12-01T00:00:00",
          "2022-01-01T00:00:00",
          "2022-02-01T00:00:00",
          "2022-03-01T00:00:00",
          "2022-04-01T00:00:00",
          "2022-05-01T00:00:00",
          "2022-06-01T00:00:00",
          "2022-07-01T00:00:00",
          "2022-08-01T00:00:00",
          "2022-09-01T00:00:00",
          "2022-10-01T00:00:00",
          "2022-11-01T00:00:00",
          "2022-12-01T00:00:00",
          "2023-01-01T00:00:00",
          "2023-02-01T00:00:00",
          "2023-03-01T00:00:00",
          "2023-04-01T00:00:00",
          "2023-05-01T00:00:00",
          "2023-06-01T00:00:00",
          "2023-07-01T00:00:00"
         ],
         "xaxis": "x",
         "y": [
          15516568393.700787,
          15227811124.761349,
          14981417833.28498,
          15154483698.57969,
          15043359175.570513,
          15841700771.510883,
          15202352054.310257,
          15364055294.10828,
          15595983322.418043,
          16415721442.160875,
          16055103014.674389,
          16005767882.421255,
          15624067731.69576,
          15651925173.778055,
          16302633689.224182,
          15942039634.125471,
          17161161528.720201,
          17685622944.403774,
          18245510135.110275,
          17882554698.79379,
          17345281719.1199,
          18373506330.29875,
          20510045163.7594,
          18715322687.644722,
          22969610993.440197,
          23519622442.001232,
          23479930589.307407,
          23945000322.38319,
          24875966359.53514,
          24930567272.20272,
          25233704249.299133,
          24967585968.497524,
          24523240120.72716,
          24355733114.467903,
          23763370667.685574,
          21896539845.301487,
          22867680199.428043,
          23357600058.841698,
          23267814251.62039,
          21781278264.02454,
          21892403612.54233,
          22667871215.549313,
          22173283550.81071,
          22178501326.603233,
          21521569210.538654,
          22118355108.141075,
          21307271561.155666,
          20337242952.826683,
          20651698267.58882,
          21224763777.06658,
          20934117617.93577,
          20790466328.037975,
          19546749576.47782,
          21299650788.01142,
          21573613481.560204,
          20539764320.2801,
          20809674291.402283,
          21312511604.878174,
          21905456183.93156,
          19943173867.641773,
          21184235794.205585,
          21987645683.43059,
          21845687782.789745,
          24630080580.996143,
          21557839959.213367,
          20320193758.308086,
          19457759016.56338,
          24771155633.91765,
          24684075051.60052,
          26790063027.75,
          27912584802.788715,
          34934411048.0105,
          35685837158.007935,
          34823049453.29233,
          34875836150.6095,
          32868434665.220028,
          32574081984.249012,
          31395796149.9248,
          29972049019.154354,
          28618731791.524437,
          27911798628.636364,
          28241713013.646053,
          25889870769.02763,
          23554284826.8737,
          24262696668.020832,
          23932192300.789062,
          23807527105.618183,
          22891385430.552395,
          23355832989.79043,
          24816877800.340675,
          25673006189.90181,
          23771364878.244694,
          23231749228.95471,
          24134498118.22459,
          25541751444.45641,
          25152577352.33348,
          25345338128.47955,
          26686766600.30775,
          28218157370.076717,
          28925805066.06896,
          27453684188.959167,
          28928877835.156677,
          31023075564.19987
         ],
         "yaxis": "y"
        },
        {
         "hovertemplate": "variable=riesgo_c_s<br>year_month=%{x}<br>value=%{y}<extra></extra>",
         "legendgroup": "riesgo_c_s",
         "line": {
          "color": "#ab63fa",
          "dash": "solid"
         },
         "marker": {
          "symbol": "circle"
         },
         "mode": "lines",
         "name": "riesgo_c_s",
         "orientation": "v",
         "showlegend": true,
         "type": "scatter",
         "x": [
          "2015-01-01T00:00:00",
          "2015-02-01T00:00:00",
          "2015-03-01T00:00:00",
          "2015-04-01T00:00:00",
          "2015-05-01T00:00:00",
          "2015-06-01T00:00:00",
          "2015-07-01T00:00:00",
          "2015-08-01T00:00:00",
          "2015-09-01T00:00:00",
          "2015-10-01T00:00:00",
          "2015-11-01T00:00:00",
          "2015-12-01T00:00:00",
          "2016-01-01T00:00:00",
          "2016-02-01T00:00:00",
          "2016-03-01T00:00:00",
          "2016-04-01T00:00:00",
          "2016-05-01T00:00:00",
          "2016-06-01T00:00:00",
          "2016-07-01T00:00:00",
          "2016-08-01T00:00:00",
          "2016-09-01T00:00:00",
          "2016-10-01T00:00:00",
          "2016-11-01T00:00:00",
          "2016-12-01T00:00:00",
          "2017-01-01T00:00:00",
          "2017-02-01T00:00:00",
          "2017-03-01T00:00:00",
          "2017-04-01T00:00:00",
          "2017-05-01T00:00:00",
          "2017-06-01T00:00:00",
          "2017-07-01T00:00:00",
          "2017-08-01T00:00:00",
          "2017-09-01T00:00:00",
          "2017-10-01T00:00:00",
          "2017-11-01T00:00:00",
          "2017-12-01T00:00:00",
          "2018-01-01T00:00:00",
          "2018-02-01T00:00:00",
          "2018-03-01T00:00:00",
          "2018-04-01T00:00:00",
          "2018-05-01T00:00:00",
          "2018-06-01T00:00:00",
          "2018-07-01T00:00:00",
          "2018-08-01T00:00:00",
          "2018-09-01T00:00:00",
          "2018-10-01T00:00:00",
          "2018-11-01T00:00:00",
          "2018-12-01T00:00:00",
          "2019-01-01T00:00:00",
          "2019-02-01T00:00:00",
          "2019-03-01T00:00:00",
          "2019-04-01T00:00:00",
          "2019-05-01T00:00:00",
          "2019-06-01T00:00:00",
          "2019-07-01T00:00:00",
          "2019-08-01T00:00:00",
          "2019-09-01T00:00:00",
          "2019-10-01T00:00:00",
          "2019-11-01T00:00:00",
          "2019-12-01T00:00:00",
          "2020-01-01T00:00:00",
          "2020-02-01T00:00:00",
          "2020-03-01T00:00:00",
          "2020-04-01T00:00:00",
          "2020-05-01T00:00:00",
          "2020-06-01T00:00:00",
          "2020-07-01T00:00:00",
          "2020-08-01T00:00:00",
          "2020-09-01T00:00:00",
          "2020-10-01T00:00:00",
          "2020-11-01T00:00:00",
          "2020-12-01T00:00:00",
          "2021-01-01T00:00:00",
          "2021-02-01T00:00:00",
          "2021-03-01T00:00:00",
          "2021-04-01T00:00:00",
          "2021-05-01T00:00:00",
          "2021-06-01T00:00:00",
          "2021-07-01T00:00:00",
          "2021-08-01T00:00:00",
          "2021-09-01T00:00:00",
          "2021-10-01T00:00:00",
          "2021-11-01T00:00:00",
          "2021-12-01T00:00:00",
          "2022-01-01T00:00:00",
          "2022-02-01T00:00:00",
          "2022-03-01T00:00:00",
          "2022-04-01T00:00:00",
          "2022-05-01T00:00:00",
          "2022-06-01T00:00:00",
          "2022-07-01T00:00:00",
          "2022-08-01T00:00:00",
          "2022-09-01T00:00:00",
          "2022-10-01T00:00:00",
          "2022-11-01T00:00:00",
          "2022-12-01T00:00:00",
          "2023-01-01T00:00:00",
          "2023-02-01T00:00:00",
          "2023-03-01T00:00:00",
          "2023-04-01T00:00:00",
          "2023-05-01T00:00:00",
          "2023-06-01T00:00:00",
          "2023-07-01T00:00:00"
         ],
         "xaxis": "x",
         "y": [
          7062682998.562992,
          7231984675.1608305,
          7318487520.233633,
          7261048064.249357,
          7577106565.794871,
          8099044328.317542,
          8064251271.4,
          8114521129.717197,
          8267168524.969504,
          8377427374.119691,
          8902571532.615187,
          9494413522.895006,
          9426628418.917706,
          9618527410.67207,
          9933409099.95592,
          9719638494.057716,
          9940139902.32246,
          10485201236.469183,
          10856005813.997494,
          10918193263.001242,
          10793072849.896168,
          11056844857.40375,
          11770852795.20802,
          12620479049.859627,
          12529985271.184958,
          13454522613.325523,
          14231188493.528395,
          14755780464.96539,
          14904417478.38471,
          15679430485.568604,
          15924242389.6267,
          15353707868.059406,
          15417625374.865433,
          15482894696.34321,
          17173846076.406904,
          18169042416.663773,
          19082835262.763836,
          19983129379.50708,
          18919014145.027027,
          19662227754.57914,
          19016374122.693253,
          19062812024.11735,
          19148903502.777084,
          18800499065.458954,
          18437299700.79925,
          18037965025.123596,
          18504525524.039852,
          15606527469.917706,
          14301942580.160248,
          14881922692.324121,
          15159101734.256927,
          15061864145.656961,
          14907020430.751585,
          15142380695.388325,
          14695964303.870722,
          14738432071.258554,
          14359837027.701777,
          13203281785.172588,
          13434268247.471483,
          12904030704.092405,
          12717404253.974619,
          13366167317.03856,
          14195952690.842308,
          14068689587.11054,
          14007982565.628534,
          14203904356.478819,
          13455803072.021767,
          13681606975.704575,
          16232201047.519583,
          17813081594.89267,
          20277200224.122047,
          20150524416.519684,
          19945964358.37566,
          20244487110.161377,
          19175821382.312664,
          19528579054.204216,
          19077217248.557312,
          18741289753.26781,
          17889503847.771767,
          17510778587.40951,
          17203810658.674572,
          17136962846.853947,
          17269664700.742104,
          16231305863.260416,
          15836755276.354166,
          15695069899.455729,
          15454736774.94935,
          15486103114.45925,
          15215196745.571798,
          15327925327.73316,
          14963707950.11757,
          15114200205.754255,
          14859876599.157497,
          15283965868.64093,
          15879021727.491484,
          15883006620.516922,
          16179609854.314201,
          16814465819.418741,
          17584256982.267868,
          18257948650.50191,
          18382039062.12466,
          18582305036.651695,
          18063274041.770958
         ],
         "yaxis": "y"
        },
        {
         "hovertemplate": "variable=riesgo_d_s<br>year_month=%{x}<br>value=%{y}<extra></extra>",
         "legendgroup": "riesgo_d_s",
         "line": {
          "color": "#FFA15A",
          "dash": "solid"
         },
         "marker": {
          "symbol": "circle"
         },
         "mode": "lines",
         "name": "riesgo_d_s",
         "orientation": "v",
         "showlegend": true,
         "type": "scatter",
         "x": [
          "2015-01-01T00:00:00",
          "2015-02-01T00:00:00",
          "2015-03-01T00:00:00",
          "2015-04-01T00:00:00",
          "2015-05-01T00:00:00",
          "2015-06-01T00:00:00",
          "2015-07-01T00:00:00",
          "2015-08-01T00:00:00",
          "2015-09-01T00:00:00",
          "2015-10-01T00:00:00",
          "2015-11-01T00:00:00",
          "2015-12-01T00:00:00",
          "2016-01-01T00:00:00",
          "2016-02-01T00:00:00",
          "2016-03-01T00:00:00",
          "2016-04-01T00:00:00",
          "2016-05-01T00:00:00",
          "2016-06-01T00:00:00",
          "2016-07-01T00:00:00",
          "2016-08-01T00:00:00",
          "2016-09-01T00:00:00",
          "2016-10-01T00:00:00",
          "2016-11-01T00:00:00",
          "2016-12-01T00:00:00",
          "2017-01-01T00:00:00",
          "2017-02-01T00:00:00",
          "2017-03-01T00:00:00",
          "2017-04-01T00:00:00",
          "2017-05-01T00:00:00",
          "2017-06-01T00:00:00",
          "2017-07-01T00:00:00",
          "2017-08-01T00:00:00",
          "2017-09-01T00:00:00",
          "2017-10-01T00:00:00",
          "2017-11-01T00:00:00",
          "2017-12-01T00:00:00",
          "2018-01-01T00:00:00",
          "2018-02-01T00:00:00",
          "2018-03-01T00:00:00",
          "2018-04-01T00:00:00",
          "2018-05-01T00:00:00",
          "2018-06-01T00:00:00",
          "2018-07-01T00:00:00",
          "2018-08-01T00:00:00",
          "2018-09-01T00:00:00",
          "2018-10-01T00:00:00",
          "2018-11-01T00:00:00",
          "2018-12-01T00:00:00",
          "2019-01-01T00:00:00",
          "2019-02-01T00:00:00",
          "2019-03-01T00:00:00",
          "2019-04-01T00:00:00",
          "2019-05-01T00:00:00",
          "2019-06-01T00:00:00",
          "2019-07-01T00:00:00",
          "2019-08-01T00:00:00",
          "2019-09-01T00:00:00",
          "2019-10-01T00:00:00",
          "2019-11-01T00:00:00",
          "2019-12-01T00:00:00",
          "2020-01-01T00:00:00",
          "2020-02-01T00:00:00",
          "2020-03-01T00:00:00",
          "2020-04-01T00:00:00",
          "2020-05-01T00:00:00",
          "2020-06-01T00:00:00",
          "2020-07-01T00:00:00",
          "2020-08-01T00:00:00",
          "2020-09-01T00:00:00",
          "2020-10-01T00:00:00",
          "2020-11-01T00:00:00",
          "2020-12-01T00:00:00",
          "2021-01-01T00:00:00",
          "2021-02-01T00:00:00",
          "2021-03-01T00:00:00",
          "2021-04-01T00:00:00",
          "2021-05-01T00:00:00",
          "2021-06-01T00:00:00",
          "2021-07-01T00:00:00",
          "2021-08-01T00:00:00",
          "2021-09-01T00:00:00",
          "2021-10-01T00:00:00",
          "2021-11-01T00:00:00",
          "2021-12-01T00:00:00",
          "2022-01-01T00:00:00",
          "2022-02-01T00:00:00",
          "2022-03-01T00:00:00",
          "2022-04-01T00:00:00",
          "2022-05-01T00:00:00",
          "2022-06-01T00:00:00",
          "2022-07-01T00:00:00",
          "2022-08-01T00:00:00",
          "2022-09-01T00:00:00",
          "2022-10-01T00:00:00",
          "2022-11-01T00:00:00",
          "2022-12-01T00:00:00",
          "2023-01-01T00:00:00",
          "2023-02-01T00:00:00",
          "2023-03-01T00:00:00",
          "2023-04-01T00:00:00",
          "2023-05-01T00:00:00",
          "2023-06-01T00:00:00",
          "2023-07-01T00:00:00"
         ],
         "xaxis": "x",
         "y": [
          7904671111.897637,
          7709862148.574578,
          7660862132.363286,
          8034067072.982005,
          8388951850.110256,
          8623114218.464788,
          8806775825.676924,
          8683486614.440763,
          8644376570.792885,
          8867414343.917631,
          8972779048.04247,
          9097277597.37644,
          8624746082.703241,
          8823882827.55611,
          9168014816.036524,
          9567028469.04266,
          9865721881.919699,
          9962475131.730818,
          9971960793.006266,
          9814584975.212421,
          9927677451.336218,
          10217265620.12125,
          10585011012.3396,
          10510148843.597515,
          10419628400.528976,
          10571073053.729963,
          10596866227.990124,
          11089944096.716934,
          11534583263.987669,
          12168836519.159456,
          12272122142.351051,
          13297654503.230198,
          13641259230.360495,
          13812457097.149384,
          14640099996.200987,
          16208479136.094294,
          15262738607.936039,
          16127959705.075933,
          16125198737.079853,
          16849386672.74724,
          17347631468.61227,
          18839650305.009987,
          18540048381.196762,
          18503043766.100746,
          18549860489.589775,
          18203938326.64919,
          18330197003.45579,
          21391700383.442642,
          21206708507.185093,
          21335049706.056534,
          21555524498.236774,
          22551395994.930378,
          22653023717.628643,
          22848273396.82995,
          22610122767.191383,
          22379068820.542458,
          22697078269.23858,
          23735548490.931473,
          23495849349.397972,
          22593160549.088608,
          22235074010.41878,
          19900594738.600258,
          20680230329.214104,
          20147445156.66324,
          19677882264.979435,
          19192637939.45443,
          18249602509.90141,
          18688776495.41438,
          18514154819.23368,
          20436538388.671467,
          23129238388.51837,
          25827227849.842518,
          25619439681.632275,
          24395025417.181217,
          22791723762.493404,
          22547993408.88274,
          21977552097.902504,
          21961579220.209763,
          21637085108.633244,
          20913007873.84016,
          20351939459.090908,
          20025053959.58421,
          19976684607.061844,
          19051452976.509113,
          18747998187.041668,
          18700545178.104168,
          17958204398.69091,
          18283310954.01423,
          18717728126.64295,
          18664522983.220207,
          18757400881.426357,
          18813209899.550724,
          18997830390.46164,
          19507432488.033356,
          19897415838.354206,
          21033727283.244225,
          21430050111.91594,
          21854510009.217358,
          22621026224.363327,
          23662528966.422173,
          25654121901.487278,
          26265687476.389603,
          26528649337.72663
         ],
         "yaxis": "y"
        },
        {
         "hovertemplate": "variable=riesgo_e_s<br>year_month=%{x}<br>value=%{y}<extra></extra>",
         "legendgroup": "riesgo_e_s",
         "line": {
          "color": "#19d3f3",
          "dash": "solid"
         },
         "marker": {
          "symbol": "circle"
         },
         "mode": "lines",
         "name": "riesgo_e_s",
         "orientation": "v",
         "showlegend": true,
         "type": "scatter",
         "x": [
          "2015-01-01T00:00:00",
          "2015-02-01T00:00:00",
          "2015-03-01T00:00:00",
          "2015-04-01T00:00:00",
          "2015-05-01T00:00:00",
          "2015-06-01T00:00:00",
          "2015-07-01T00:00:00",
          "2015-08-01T00:00:00",
          "2015-09-01T00:00:00",
          "2015-10-01T00:00:00",
          "2015-11-01T00:00:00",
          "2015-12-01T00:00:00",
          "2016-01-01T00:00:00",
          "2016-02-01T00:00:00",
          "2016-03-01T00:00:00",
          "2016-04-01T00:00:00",
          "2016-05-01T00:00:00",
          "2016-06-01T00:00:00",
          "2016-07-01T00:00:00",
          "2016-08-01T00:00:00",
          "2016-09-01T00:00:00",
          "2016-10-01T00:00:00",
          "2016-11-01T00:00:00",
          "2016-12-01T00:00:00",
          "2017-01-01T00:00:00",
          "2017-02-01T00:00:00",
          "2017-03-01T00:00:00",
          "2017-04-01T00:00:00",
          "2017-05-01T00:00:00",
          "2017-06-01T00:00:00",
          "2017-07-01T00:00:00",
          "2017-08-01T00:00:00",
          "2017-09-01T00:00:00",
          "2017-10-01T00:00:00",
          "2017-11-01T00:00:00",
          "2017-12-01T00:00:00",
          "2018-01-01T00:00:00",
          "2018-02-01T00:00:00",
          "2018-03-01T00:00:00",
          "2018-04-01T00:00:00",
          "2018-05-01T00:00:00",
          "2018-06-01T00:00:00",
          "2018-07-01T00:00:00",
          "2018-08-01T00:00:00",
          "2018-09-01T00:00:00",
          "2018-10-01T00:00:00",
          "2018-11-01T00:00:00",
          "2018-12-01T00:00:00",
          "2019-01-01T00:00:00",
          "2019-02-01T00:00:00",
          "2019-03-01T00:00:00",
          "2019-04-01T00:00:00",
          "2019-05-01T00:00:00",
          "2019-06-01T00:00:00",
          "2019-07-01T00:00:00",
          "2019-08-01T00:00:00",
          "2019-09-01T00:00:00",
          "2019-10-01T00:00:00",
          "2019-11-01T00:00:00",
          "2019-12-01T00:00:00",
          "2020-01-01T00:00:00",
          "2020-02-01T00:00:00",
          "2020-03-01T00:00:00",
          "2020-04-01T00:00:00",
          "2020-05-01T00:00:00",
          "2020-06-01T00:00:00",
          "2020-07-01T00:00:00",
          "2020-08-01T00:00:00",
          "2020-09-01T00:00:00",
          "2020-10-01T00:00:00",
          "2020-11-01T00:00:00",
          "2020-12-01T00:00:00",
          "2021-01-01T00:00:00",
          "2021-02-01T00:00:00",
          "2021-03-01T00:00:00",
          "2021-04-01T00:00:00",
          "2021-05-01T00:00:00",
          "2021-06-01T00:00:00",
          "2021-07-01T00:00:00",
          "2021-08-01T00:00:00",
          "2021-09-01T00:00:00",
          "2021-10-01T00:00:00",
          "2021-11-01T00:00:00",
          "2021-12-01T00:00:00",
          "2022-01-01T00:00:00",
          "2022-02-01T00:00:00",
          "2022-03-01T00:00:00",
          "2022-04-01T00:00:00",
          "2022-05-01T00:00:00",
          "2022-06-01T00:00:00",
          "2022-07-01T00:00:00",
          "2022-08-01T00:00:00",
          "2022-09-01T00:00:00",
          "2022-10-01T00:00:00",
          "2022-11-01T00:00:00",
          "2022-12-01T00:00:00",
          "2023-01-01T00:00:00",
          "2023-02-01T00:00:00",
          "2023-03-01T00:00:00",
          "2023-04-01T00:00:00",
          "2023-05-01T00:00:00",
          "2023-06-01T00:00:00",
          "2023-07-01T00:00:00"
         ],
         "xaxis": "x",
         "y": [
          5054859411.064304,
          5048428605.656291,
          5070539742.732991,
          5033903120.478149,
          4957160809.4512825,
          5124578159.599232,
          5090432319.892307,
          5187859544.342675,
          5272327746.526049,
          5437739338.104247,
          5518198221.72072,
          5648284889.629962,
          5677410880.936409,
          5866873072.743142,
          5939851767.246851,
          6021185637.89335,
          6065206235.66123,
          5953261217.369811,
          6284742850.255639,
          6500707249.771428,
          6560692013.134734,
          7088422314.2975,
          7155844771.835839,
          7389385880.946584,
          7598807580.0419235,
          7642787955.368681,
          7753371615.720987,
          7820614111.081582,
          7995383326.717632,
          8111924421.67738,
          8530836841.639061,
          8856231914.377476,
          9047225286.976543,
          9478239245.269136,
          9547118350.057953,
          9732232838.094294,
          10129580538.439114,
          10778169954.99614,
          10371712318.203932,
          10278052850.674847,
          10850497504.48589,
          10965497803.147316,
          11325506335.109589,
          11741540971.033583,
          12637382792.562344,
          13624017906.686642,
          13550091638.992529,
          13869798814.40025,
          14473689881.590061,
          14777419947.257538,
          14569585332.767002,
          14576659456.196203,
          14706676708.375158,
          14292684779.417513,
          15024843005.368822,
          15563277930.621038,
          15737685806.968273,
          15789184990.562183,
          16193203288.234474,
          16184284183.481012,
          16931262367.960659,
          19634705874.088688,
          19940918337.089745,
          20220571258.493572,
          20547182143.96915,
          20771926654.057766,
          20912759739.9283,
          20750226752.253593,
          20879687512.208878,
          21170584086.69895,
          20759426210.569553,
          21963038174.740158,
          23748227886.247353,
          23681338763.198414,
          23660030475.109497,
          23718863430.160736,
          23883863571.49012,
          24150813232.067284,
          24070845323.580475,
          24468719896.09643,
          24500560628.496708,
          24594742541.451317,
          24514785307.303947,
          24022429814.682293,
          24578259921.99349,
          24230071392.177082,
          24253649327.332466,
          24459554090.382923,
          23514608569.007763,
          23502204436.278496,
          23302331604.498707,
          23486019785.161125,
          23818718654.06996,
          23875072442.74471,
          23143102793.634697,
          22209975725.733868,
          22692079939.203453,
          22729589750.93959,
          22470487918.18471,
          22598224732.89574,
          22900300889.362694,
          22735928034.181053,
          22981168263.80356
         ],
         "yaxis": "y"
        }
       ],
       "layout": {
        "legend": {
         "title": {
          "text": "variable"
         },
         "tracegroupgap": 0
        },
        "margin": {
         "t": 60
        },
        "template": {
         "data": {
          "bar": [
           {
            "error_x": {
             "color": "#2a3f5f"
            },
            "error_y": {
             "color": "#2a3f5f"
            },
            "marker": {
             "line": {
              "color": "#E5ECF6",
              "width": 0.5
             },
             "pattern": {
              "fillmode": "overlay",
              "size": 10,
              "solidity": 0.2
             }
            },
            "type": "bar"
           }
          ],
          "barpolar": [
           {
            "marker": {
             "line": {
              "color": "#E5ECF6",
              "width": 0.5
             },
             "pattern": {
              "fillmode": "overlay",
              "size": 10,
              "solidity": 0.2
             }
            },
            "type": "barpolar"
           }
          ],
          "carpet": [
           {
            "aaxis": {
             "endlinecolor": "#2a3f5f",
             "gridcolor": "white",
             "linecolor": "white",
             "minorgridcolor": "white",
             "startlinecolor": "#2a3f5f"
            },
            "baxis": {
             "endlinecolor": "#2a3f5f",
             "gridcolor": "white",
             "linecolor": "white",
             "minorgridcolor": "white",
             "startlinecolor": "#2a3f5f"
            },
            "type": "carpet"
           }
          ],
          "choropleth": [
           {
            "colorbar": {
             "outlinewidth": 0,
             "ticks": ""
            },
            "type": "choropleth"
           }
          ],
          "contour": [
           {
            "colorbar": {
             "outlinewidth": 0,
             "ticks": ""
            },
            "colorscale": [
             [
              0,
              "#0d0887"
             ],
             [
              0.1111111111111111,
              "#46039f"
             ],
             [
              0.2222222222222222,
              "#7201a8"
             ],
             [
              0.3333333333333333,
              "#9c179e"
             ],
             [
              0.4444444444444444,
              "#bd3786"
             ],
             [
              0.5555555555555556,
              "#d8576b"
             ],
             [
              0.6666666666666666,
              "#ed7953"
             ],
             [
              0.7777777777777778,
              "#fb9f3a"
             ],
             [
              0.8888888888888888,
              "#fdca26"
             ],
             [
              1,
              "#f0f921"
             ]
            ],
            "type": "contour"
           }
          ],
          "contourcarpet": [
           {
            "colorbar": {
             "outlinewidth": 0,
             "ticks": ""
            },
            "type": "contourcarpet"
           }
          ],
          "heatmap": [
           {
            "colorbar": {
             "outlinewidth": 0,
             "ticks": ""
            },
            "colorscale": [
             [
              0,
              "#0d0887"
             ],
             [
              0.1111111111111111,
              "#46039f"
             ],
             [
              0.2222222222222222,
              "#7201a8"
             ],
             [
              0.3333333333333333,
              "#9c179e"
             ],
             [
              0.4444444444444444,
              "#bd3786"
             ],
             [
              0.5555555555555556,
              "#d8576b"
             ],
             [
              0.6666666666666666,
              "#ed7953"
             ],
             [
              0.7777777777777778,
              "#fb9f3a"
             ],
             [
              0.8888888888888888,
              "#fdca26"
             ],
             [
              1,
              "#f0f921"
             ]
            ],
            "type": "heatmap"
           }
          ],
          "heatmapgl": [
           {
            "colorbar": {
             "outlinewidth": 0,
             "ticks": ""
            },
            "colorscale": [
             [
              0,
              "#0d0887"
             ],
             [
              0.1111111111111111,
              "#46039f"
             ],
             [
              0.2222222222222222,
              "#7201a8"
             ],
             [
              0.3333333333333333,
              "#9c179e"
             ],
             [
              0.4444444444444444,
              "#bd3786"
             ],
             [
              0.5555555555555556,
              "#d8576b"
             ],
             [
              0.6666666666666666,
              "#ed7953"
             ],
             [
              0.7777777777777778,
              "#fb9f3a"
             ],
             [
              0.8888888888888888,
              "#fdca26"
             ],
             [
              1,
              "#f0f921"
             ]
            ],
            "type": "heatmapgl"
           }
          ],
          "histogram": [
           {
            "marker": {
             "pattern": {
              "fillmode": "overlay",
              "size": 10,
              "solidity": 0.2
             }
            },
            "type": "histogram"
           }
          ],
          "histogram2d": [
           {
            "colorbar": {
             "outlinewidth": 0,
             "ticks": ""
            },
            "colorscale": [
             [
              0,
              "#0d0887"
             ],
             [
              0.1111111111111111,
              "#46039f"
             ],
             [
              0.2222222222222222,
              "#7201a8"
             ],
             [
              0.3333333333333333,
              "#9c179e"
             ],
             [
              0.4444444444444444,
              "#bd3786"
             ],
             [
              0.5555555555555556,
              "#d8576b"
             ],
             [
              0.6666666666666666,
              "#ed7953"
             ],
             [
              0.7777777777777778,
              "#fb9f3a"
             ],
             [
              0.8888888888888888,
              "#fdca26"
             ],
             [
              1,
              "#f0f921"
             ]
            ],
            "type": "histogram2d"
           }
          ],
          "histogram2dcontour": [
           {
            "colorbar": {
             "outlinewidth": 0,
             "ticks": ""
            },
            "colorscale": [
             [
              0,
              "#0d0887"
             ],
             [
              0.1111111111111111,
              "#46039f"
             ],
             [
              0.2222222222222222,
              "#7201a8"
             ],
             [
              0.3333333333333333,
              "#9c179e"
             ],
             [
              0.4444444444444444,
              "#bd3786"
             ],
             [
              0.5555555555555556,
              "#d8576b"
             ],
             [
              0.6666666666666666,
              "#ed7953"
             ],
             [
              0.7777777777777778,
              "#fb9f3a"
             ],
             [
              0.8888888888888888,
              "#fdca26"
             ],
             [
              1,
              "#f0f921"
             ]
            ],
            "type": "histogram2dcontour"
           }
          ],
          "mesh3d": [
           {
            "colorbar": {
             "outlinewidth": 0,
             "ticks": ""
            },
            "type": "mesh3d"
           }
          ],
          "parcoords": [
           {
            "line": {
             "colorbar": {
              "outlinewidth": 0,
              "ticks": ""
             }
            },
            "type": "parcoords"
           }
          ],
          "pie": [
           {
            "automargin": true,
            "type": "pie"
           }
          ],
          "scatter": [
           {
            "fillpattern": {
             "fillmode": "overlay",
             "size": 10,
             "solidity": 0.2
            },
            "type": "scatter"
           }
          ],
          "scatter3d": [
           {
            "line": {
             "colorbar": {
              "outlinewidth": 0,
              "ticks": ""
             }
            },
            "marker": {
             "colorbar": {
              "outlinewidth": 0,
              "ticks": ""
             }
            },
            "type": "scatter3d"
           }
          ],
          "scattercarpet": [
           {
            "marker": {
             "colorbar": {
              "outlinewidth": 0,
              "ticks": ""
             }
            },
            "type": "scattercarpet"
           }
          ],
          "scattergeo": [
           {
            "marker": {
             "colorbar": {
              "outlinewidth": 0,
              "ticks": ""
             }
            },
            "type": "scattergeo"
           }
          ],
          "scattergl": [
           {
            "marker": {
             "colorbar": {
              "outlinewidth": 0,
              "ticks": ""
             }
            },
            "type": "scattergl"
           }
          ],
          "scattermapbox": [
           {
            "marker": {
             "colorbar": {
              "outlinewidth": 0,
              "ticks": ""
             }
            },
            "type": "scattermapbox"
           }
          ],
          "scatterpolar": [
           {
            "marker": {
             "colorbar": {
              "outlinewidth": 0,
              "ticks": ""
             }
            },
            "type": "scatterpolar"
           }
          ],
          "scatterpolargl": [
           {
            "marker": {
             "colorbar": {
              "outlinewidth": 0,
              "ticks": ""
             }
            },
            "type": "scatterpolargl"
           }
          ],
          "scatterternary": [
           {
            "marker": {
             "colorbar": {
              "outlinewidth": 0,
              "ticks": ""
             }
            },
            "type": "scatterternary"
           }
          ],
          "surface": [
           {
            "colorbar": {
             "outlinewidth": 0,
             "ticks": ""
            },
            "colorscale": [
             [
              0,
              "#0d0887"
             ],
             [
              0.1111111111111111,
              "#46039f"
             ],
             [
              0.2222222222222222,
              "#7201a8"
             ],
             [
              0.3333333333333333,
              "#9c179e"
             ],
             [
              0.4444444444444444,
              "#bd3786"
             ],
             [
              0.5555555555555556,
              "#d8576b"
             ],
             [
              0.6666666666666666,
              "#ed7953"
             ],
             [
              0.7777777777777778,
              "#fb9f3a"
             ],
             [
              0.8888888888888888,
              "#fdca26"
             ],
             [
              1,
              "#f0f921"
             ]
            ],
            "type": "surface"
           }
          ],
          "table": [
           {
            "cells": {
             "fill": {
              "color": "#EBF0F8"
             },
             "line": {
              "color": "white"
             }
            },
            "header": {
             "fill": {
              "color": "#C8D4E3"
             },
             "line": {
              "color": "white"
             }
            },
            "type": "table"
           }
          ]
         },
         "layout": {
          "annotationdefaults": {
           "arrowcolor": "#2a3f5f",
           "arrowhead": 0,
           "arrowwidth": 1
          },
          "autotypenumbers": "strict",
          "coloraxis": {
           "colorbar": {
            "outlinewidth": 0,
            "ticks": ""
           }
          },
          "colorscale": {
           "diverging": [
            [
             0,
             "#8e0152"
            ],
            [
             0.1,
             "#c51b7d"
            ],
            [
             0.2,
             "#de77ae"
            ],
            [
             0.3,
             "#f1b6da"
            ],
            [
             0.4,
             "#fde0ef"
            ],
            [
             0.5,
             "#f7f7f7"
            ],
            [
             0.6,
             "#e6f5d0"
            ],
            [
             0.7,
             "#b8e186"
            ],
            [
             0.8,
             "#7fbc41"
            ],
            [
             0.9,
             "#4d9221"
            ],
            [
             1,
             "#276419"
            ]
           ],
           "sequential": [
            [
             0,
             "#0d0887"
            ],
            [
             0.1111111111111111,
             "#46039f"
            ],
            [
             0.2222222222222222,
             "#7201a8"
            ],
            [
             0.3333333333333333,
             "#9c179e"
            ],
            [
             0.4444444444444444,
             "#bd3786"
            ],
            [
             0.5555555555555556,
             "#d8576b"
            ],
            [
             0.6666666666666666,
             "#ed7953"
            ],
            [
             0.7777777777777778,
             "#fb9f3a"
            ],
            [
             0.8888888888888888,
             "#fdca26"
            ],
            [
             1,
             "#f0f921"
            ]
           ],
           "sequentialminus": [
            [
             0,
             "#0d0887"
            ],
            [
             0.1111111111111111,
             "#46039f"
            ],
            [
             0.2222222222222222,
             "#7201a8"
            ],
            [
             0.3333333333333333,
             "#9c179e"
            ],
            [
             0.4444444444444444,
             "#bd3786"
            ],
            [
             0.5555555555555556,
             "#d8576b"
            ],
            [
             0.6666666666666666,
             "#ed7953"
            ],
            [
             0.7777777777777778,
             "#fb9f3a"
            ],
            [
             0.8888888888888888,
             "#fdca26"
            ],
            [
             1,
             "#f0f921"
            ]
           ]
          },
          "colorway": [
           "#636efa",
           "#EF553B",
           "#00cc96",
           "#ab63fa",
           "#FFA15A",
           "#19d3f3",
           "#FF6692",
           "#B6E880",
           "#FF97FF",
           "#FECB52"
          ],
          "font": {
           "color": "#2a3f5f"
          },
          "geo": {
           "bgcolor": "white",
           "lakecolor": "white",
           "landcolor": "#E5ECF6",
           "showlakes": true,
           "showland": true,
           "subunitcolor": "white"
          },
          "hoverlabel": {
           "align": "left"
          },
          "hovermode": "closest",
          "mapbox": {
           "style": "light"
          },
          "paper_bgcolor": "white",
          "plot_bgcolor": "#E5ECF6",
          "polar": {
           "angularaxis": {
            "gridcolor": "white",
            "linecolor": "white",
            "ticks": ""
           },
           "bgcolor": "#E5ECF6",
           "radialaxis": {
            "gridcolor": "white",
            "linecolor": "white",
            "ticks": ""
           }
          },
          "scene": {
           "xaxis": {
            "backgroundcolor": "#E5ECF6",
            "gridcolor": "white",
            "gridwidth": 2,
            "linecolor": "white",
            "showbackground": true,
            "ticks": "",
            "zerolinecolor": "white"
           },
           "yaxis": {
            "backgroundcolor": "#E5ECF6",
            "gridcolor": "white",
            "gridwidth": 2,
            "linecolor": "white",
            "showbackground": true,
            "ticks": "",
            "zerolinecolor": "white"
           },
           "zaxis": {
            "backgroundcolor": "#E5ECF6",
            "gridcolor": "white",
            "gridwidth": 2,
            "linecolor": "white",
            "showbackground": true,
            "ticks": "",
            "zerolinecolor": "white"
           }
          },
          "shapedefaults": {
           "line": {
            "color": "#2a3f5f"
           }
          },
          "ternary": {
           "aaxis": {
            "gridcolor": "white",
            "linecolor": "white",
            "ticks": ""
           },
           "baxis": {
            "gridcolor": "white",
            "linecolor": "white",
            "ticks": ""
           },
           "bgcolor": "#E5ECF6",
           "caxis": {
            "gridcolor": "white",
            "linecolor": "white",
            "ticks": ""
           }
          },
          "title": {
           "x": 0.05
          },
          "xaxis": {
           "automargin": true,
           "gridcolor": "white",
           "linecolor": "white",
           "ticks": "",
           "title": {
            "standoff": 15
           },
           "zerolinecolor": "white",
           "zerolinewidth": 2
          },
          "yaxis": {
           "automargin": true,
           "gridcolor": "white",
           "linecolor": "white",
           "ticks": "",
           "title": {
            "standoff": 15
           },
           "zerolinecolor": "white",
           "zerolinewidth": 2
          }
         }
        },
        "xaxis": {
         "anchor": "y",
         "domain": [
          0,
          1
         ],
         "title": {
          "text": "year_month"
         }
        },
        "yaxis": {
         "anchor": "x",
         "domain": [
          0,
          1
         ],
         "title": {
          "text": "value"
         }
        }
       }
      }
     },
     "metadata": {},
     "output_type": "display_data"
    }
   ],
   "source": [
    "df['year_month'] = pd.to_datetime(df.fecha_corte.apply(lambda x: str(x.year) + '-' + str(x.month) + '-' + '01'))\n",
    "base = df.groupby(['year_month'])[['saldo_a_la_fecha','riesgo_a_s','riesgo_b_s','riesgo_c_s','riesgo_d_s','riesgo_e_s']].mean()\n",
    "fig = px.line(base)\n",
    "fig.show()"
   ]
  },
  {
   "cell_type": "code",
   "execution_count": 199,
   "metadata": {},
   "outputs": [
    {
     "data": {
      "application/vnd.plotly.v1+json": {
       "config": {
        "plotlyServerURL": "https://plot.ly"
       },
       "data": [
        {
         "hovertemplate": "variable=riesgo_a_c<br>year_month=%{x}<br>value=%{y}<extra></extra>",
         "legendgroup": "riesgo_a_c",
         "line": {
          "color": "#636efa",
          "dash": "solid"
         },
         "marker": {
          "symbol": "circle"
         },
         "mode": "lines",
         "name": "riesgo_a_c",
         "orientation": "v",
         "showlegend": true,
         "type": "scatter",
         "x": [
          "2015-01-01T00:00:00",
          "2015-02-01T00:00:00",
          "2015-03-01T00:00:00",
          "2015-04-01T00:00:00",
          "2015-05-01T00:00:00",
          "2015-06-01T00:00:00",
          "2015-07-01T00:00:00",
          "2015-08-01T00:00:00",
          "2015-09-01T00:00:00",
          "2015-10-01T00:00:00",
          "2015-11-01T00:00:00",
          "2015-12-01T00:00:00",
          "2016-01-01T00:00:00",
          "2016-02-01T00:00:00",
          "2016-03-01T00:00:00",
          "2016-04-01T00:00:00",
          "2016-05-01T00:00:00",
          "2016-06-01T00:00:00",
          "2016-07-01T00:00:00",
          "2016-08-01T00:00:00",
          "2016-09-01T00:00:00",
          "2016-10-01T00:00:00",
          "2016-11-01T00:00:00",
          "2016-12-01T00:00:00",
          "2017-01-01T00:00:00",
          "2017-02-01T00:00:00",
          "2017-03-01T00:00:00",
          "2017-04-01T00:00:00",
          "2017-05-01T00:00:00",
          "2017-06-01T00:00:00",
          "2017-07-01T00:00:00",
          "2017-08-01T00:00:00",
          "2017-09-01T00:00:00",
          "2017-10-01T00:00:00",
          "2017-11-01T00:00:00",
          "2017-12-01T00:00:00",
          "2018-01-01T00:00:00",
          "2018-02-01T00:00:00",
          "2018-03-01T00:00:00",
          "2018-04-01T00:00:00",
          "2018-05-01T00:00:00",
          "2018-06-01T00:00:00",
          "2018-07-01T00:00:00",
          "2018-08-01T00:00:00",
          "2018-09-01T00:00:00",
          "2018-10-01T00:00:00",
          "2018-11-01T00:00:00",
          "2018-12-01T00:00:00",
          "2019-01-01T00:00:00",
          "2019-02-01T00:00:00",
          "2019-03-01T00:00:00",
          "2019-04-01T00:00:00",
          "2019-05-01T00:00:00",
          "2019-06-01T00:00:00",
          "2019-07-01T00:00:00",
          "2019-08-01T00:00:00",
          "2019-09-01T00:00:00",
          "2019-10-01T00:00:00",
          "2019-11-01T00:00:00",
          "2019-12-01T00:00:00",
          "2020-01-01T00:00:00",
          "2020-02-01T00:00:00",
          "2020-03-01T00:00:00",
          "2020-04-01T00:00:00",
          "2020-05-01T00:00:00",
          "2020-06-01T00:00:00",
          "2020-07-01T00:00:00",
          "2020-08-01T00:00:00",
          "2020-09-01T00:00:00",
          "2020-10-01T00:00:00",
          "2020-11-01T00:00:00",
          "2020-12-01T00:00:00",
          "2021-01-01T00:00:00",
          "2021-02-01T00:00:00",
          "2021-03-01T00:00:00",
          "2021-04-01T00:00:00",
          "2021-05-01T00:00:00",
          "2021-06-01T00:00:00",
          "2021-07-01T00:00:00",
          "2021-08-01T00:00:00",
          "2021-09-01T00:00:00",
          "2021-10-01T00:00:00",
          "2021-11-01T00:00:00",
          "2021-12-01T00:00:00",
          "2022-01-01T00:00:00",
          "2022-02-01T00:00:00",
          "2022-03-01T00:00:00",
          "2022-04-01T00:00:00",
          "2022-05-01T00:00:00",
          "2022-06-01T00:00:00",
          "2022-07-01T00:00:00",
          "2022-08-01T00:00:00",
          "2022-09-01T00:00:00",
          "2022-10-01T00:00:00",
          "2022-11-01T00:00:00",
          "2022-12-01T00:00:00",
          "2023-01-01T00:00:00",
          "2023-02-01T00:00:00",
          "2023-03-01T00:00:00",
          "2023-04-01T00:00:00",
          "2023-05-01T00:00:00",
          "2023-06-01T00:00:00",
          "2023-07-01T00:00:00"
         ],
         "xaxis": "x",
         "y": [
          35478.77690288714,
          35719.91569390402,
          35665.869062901154,
          35790.325192802055,
          35774.12564102564,
          35815.06145966709,
          36110.820512820515,
          36085.14522292994,
          36170.05209656925,
          36822.43371943372,
          36776.17374517374,
          36829.52112676056,
          32344.375311720698,
          32100.31920199501,
          32408.56297229219,
          32209.47929736512,
          32516.352572145544,
          32876.29559748428,
          32648.515037593985,
          32565.162732919256,
          32533.029666254635,
          33031.075,
          32045.696741854637,
          31907.747826086958,
          31597.44512946979,
          31594.19358816276,
          31682.827160493827,
          31596.410383189123,
          31628.800246609124,
          31756.57849196539,
          31835.407911001235,
          31946.336633663366,
          31934.153086419752,
          31979.04938271605,
          32127.70160295931,
          32335.053349875932,
          31938.11193111931,
          33381.79922779923,
          31833.512285012286,
          31941.806134969323,
          31956.99263803681,
          32286.322097378277,
          32295.114570361147,
          32321.672885572138,
          32373.71072319202,
          32519.757802746568,
          32686.08094645081,
          32799.18952618454,
          32651.05590062112,
          34193.00753768844,
          34463.05793450882,
          34828.49746835443,
          35139.126742712295,
          35241.20812182741,
          35403.8948035488,
          35300.532319391634,
          35591.140862944165,
          35762.1269035533,
          35960.65525982256,
          36198.881012658225,
          36158.3730964467,
          36672.25835475578,
          36434.47948717949,
          36247.77892030848,
          35840.85989717224,
          35662.38125802311,
          35239.12419974392,
          35184.82352941176,
          34716.10313315927,
          34223.76178010471,
          34025.84120734908,
          33631.94619422572,
          33544.73941798942,
          33624.300264550264,
          33694.08575197889,
          33525.729907773384,
          33613.089591567856,
          33840.82189973615,
          34226.543535620054,
          34824.40819022457,
          34435.88669301713,
          34833.94078947369,
          35348.43947368421,
          35231.3515625,
          35422.787760416664,
          35935.059895833336,
          36204.52337662338,
          36586.05433376455,
          37133.49029754204,
          37473.76683937824,
          37700.70542635659,
          38265.65200517464,
          38609.0670967742,
          38891.583225806455,
          39336.25161290322,
          39288.24484536082,
          39277.60824742268,
          39153.66238767651,
          38773.64184852375,
          38625.45827984596,
          38513.95892169448,
          38328.04236200257,
          37938.51530612245
         ],
         "yaxis": "y"
        },
        {
         "hovertemplate": "variable=riesgo_b_c<br>year_month=%{x}<br>value=%{y}<extra></extra>",
         "legendgroup": "riesgo_b_c",
         "line": {
          "color": "#EF553B",
          "dash": "solid"
         },
         "marker": {
          "symbol": "circle"
         },
         "mode": "lines",
         "name": "riesgo_b_c",
         "orientation": "v",
         "showlegend": true,
         "type": "scatter",
         "x": [
          "2015-01-01T00:00:00",
          "2015-02-01T00:00:00",
          "2015-03-01T00:00:00",
          "2015-04-01T00:00:00",
          "2015-05-01T00:00:00",
          "2015-06-01T00:00:00",
          "2015-07-01T00:00:00",
          "2015-08-01T00:00:00",
          "2015-09-01T00:00:00",
          "2015-10-01T00:00:00",
          "2015-11-01T00:00:00",
          "2015-12-01T00:00:00",
          "2016-01-01T00:00:00",
          "2016-02-01T00:00:00",
          "2016-03-01T00:00:00",
          "2016-04-01T00:00:00",
          "2016-05-01T00:00:00",
          "2016-06-01T00:00:00",
          "2016-07-01T00:00:00",
          "2016-08-01T00:00:00",
          "2016-09-01T00:00:00",
          "2016-10-01T00:00:00",
          "2016-11-01T00:00:00",
          "2016-12-01T00:00:00",
          "2017-01-01T00:00:00",
          "2017-02-01T00:00:00",
          "2017-03-01T00:00:00",
          "2017-04-01T00:00:00",
          "2017-05-01T00:00:00",
          "2017-06-01T00:00:00",
          "2017-07-01T00:00:00",
          "2017-08-01T00:00:00",
          "2017-09-01T00:00:00",
          "2017-10-01T00:00:00",
          "2017-11-01T00:00:00",
          "2017-12-01T00:00:00",
          "2018-01-01T00:00:00",
          "2018-02-01T00:00:00",
          "2018-03-01T00:00:00",
          "2018-04-01T00:00:00",
          "2018-05-01T00:00:00",
          "2018-06-01T00:00:00",
          "2018-07-01T00:00:00",
          "2018-08-01T00:00:00",
          "2018-09-01T00:00:00",
          "2018-10-01T00:00:00",
          "2018-11-01T00:00:00",
          "2018-12-01T00:00:00",
          "2019-01-01T00:00:00",
          "2019-02-01T00:00:00",
          "2019-03-01T00:00:00",
          "2019-04-01T00:00:00",
          "2019-05-01T00:00:00",
          "2019-06-01T00:00:00",
          "2019-07-01T00:00:00",
          "2019-08-01T00:00:00",
          "2019-09-01T00:00:00",
          "2019-10-01T00:00:00",
          "2019-11-01T00:00:00",
          "2019-12-01T00:00:00",
          "2020-01-01T00:00:00",
          "2020-02-01T00:00:00",
          "2020-03-01T00:00:00",
          "2020-04-01T00:00:00",
          "2020-05-01T00:00:00",
          "2020-06-01T00:00:00",
          "2020-07-01T00:00:00",
          "2020-08-01T00:00:00",
          "2020-09-01T00:00:00",
          "2020-10-01T00:00:00",
          "2020-11-01T00:00:00",
          "2020-12-01T00:00:00",
          "2021-01-01T00:00:00",
          "2021-02-01T00:00:00",
          "2021-03-01T00:00:00",
          "2021-04-01T00:00:00",
          "2021-05-01T00:00:00",
          "2021-06-01T00:00:00",
          "2021-07-01T00:00:00",
          "2021-08-01T00:00:00",
          "2021-09-01T00:00:00",
          "2021-10-01T00:00:00",
          "2021-11-01T00:00:00",
          "2021-12-01T00:00:00",
          "2022-01-01T00:00:00",
          "2022-02-01T00:00:00",
          "2022-03-01T00:00:00",
          "2022-04-01T00:00:00",
          "2022-05-01T00:00:00",
          "2022-06-01T00:00:00",
          "2022-07-01T00:00:00",
          "2022-08-01T00:00:00",
          "2022-09-01T00:00:00",
          "2022-10-01T00:00:00",
          "2022-11-01T00:00:00",
          "2022-12-01T00:00:00",
          "2023-01-01T00:00:00",
          "2023-02-01T00:00:00",
          "2023-03-01T00:00:00",
          "2023-04-01T00:00:00",
          "2023-05-01T00:00:00",
          "2023-06-01T00:00:00",
          "2023-07-01T00:00:00"
         ],
         "xaxis": "x",
         "y": [
          1281.9265091863517,
          1374.31906614786,
          1372.237483953787,
          1400.6182519280205,
          1392.826923076923,
          1377.0921895006402,
          1309.929487179487,
          1297.9286624203821,
          1318.143583227446,
          1361.870012870013,
          1415.4208494208494,
          1325.0012804097312,
          1054.1596009975062,
          1162.0349127182044,
          1179.7607052896726,
          1180.6612296110413,
          1200.4805520702635,
          1188.3572327044026,
          1213.6315789473683,
          1179.5254658385093,
          1147.9505562422744,
          1212.63,
          1229.4298245614036,
          1132.982608695652,
          1103.6313193588162,
          1216.1035758323058,
          1218.146913580247,
          1282.7589616810878,
          1287.5030826140567,
          1217.231149567367,
          1206.0358467243511,
          1179.1522277227723,
          1204.1802469135803,
          1225.4777777777779,
          1242.2983970406906,
          1150.893300248139,
          1131.7330873308733,
          1241.7747747747749,
          1165.054054054054,
          1148.1815950920245,
          1122.801226993865,
          1102.398252184769,
          1073.6824408468244,
          1062.7226368159204,
          1092.5224438902744,
          1098.1210986267165,
          1077.3586550435866,
          992.5536159600997,
          997.7403726708075,
          1132.7713567839196,
          1127.1536523929472,
          1147.487341772152,
          1013.9746514575412,
          1045.4644670050761,
          1018.0468948035488,
          985.8441064638783,
          1032.0799492385786,
          1040.222081218274,
          1091.936628643853,
          970.273417721519,
          1016.0469543147208,
          1096.1632390745501,
          1071.9705128205128,
          1256.9922879177377,
          1155.3470437017995,
          1006.9383825417201,
          971.8258642765685,
          1639.3437908496733,
          1605.2454308093995,
          1767.4960732984293,
          1634.6312335958005,
          1497.3897637795276,
          1489.5251322751324,
          1452.0899470899471,
          1451.3878627968338,
          1411.3860342555995,
          1391.8880105401845,
          1359.6029023746703,
          1280.655672823219,
          1247.6036988110964,
          1164.3715415019763,
          1201.792105263158,
          1183.9013157894738,
          1030.703125,
          1116.78515625,
          1137.859375,
          1109.409090909091,
          1118.9767141009056,
          1132.5316946959897,
          1149.7422279792745,
          1177.9315245478035,
          1163.606727037516,
          1197.0283870967742,
          1249.2903225806451,
          1316.4748387096774,
          1272.7177835051546,
          1312.9059278350514,
          1428.5545571245186,
          1438.2682926829268,
          1442.216944801027,
          1460.5044929396663,
          1376.9075738125803,
          1364.4604591836735
         ],
         "yaxis": "y"
        },
        {
         "hovertemplate": "variable=riesgo_c_c<br>year_month=%{x}<br>value=%{y}<extra></extra>",
         "legendgroup": "riesgo_c_c",
         "line": {
          "color": "#00cc96",
          "dash": "solid"
         },
         "marker": {
          "symbol": "circle"
         },
         "mode": "lines",
         "name": "riesgo_c_c",
         "orientation": "v",
         "showlegend": true,
         "type": "scatter",
         "x": [
          "2015-01-01T00:00:00",
          "2015-02-01T00:00:00",
          "2015-03-01T00:00:00",
          "2015-04-01T00:00:00",
          "2015-05-01T00:00:00",
          "2015-06-01T00:00:00",
          "2015-07-01T00:00:00",
          "2015-08-01T00:00:00",
          "2015-09-01T00:00:00",
          "2015-10-01T00:00:00",
          "2015-11-01T00:00:00",
          "2015-12-01T00:00:00",
          "2016-01-01T00:00:00",
          "2016-02-01T00:00:00",
          "2016-03-01T00:00:00",
          "2016-04-01T00:00:00",
          "2016-05-01T00:00:00",
          "2016-06-01T00:00:00",
          "2016-07-01T00:00:00",
          "2016-08-01T00:00:00",
          "2016-09-01T00:00:00",
          "2016-10-01T00:00:00",
          "2016-11-01T00:00:00",
          "2016-12-01T00:00:00",
          "2017-01-01T00:00:00",
          "2017-02-01T00:00:00",
          "2017-03-01T00:00:00",
          "2017-04-01T00:00:00",
          "2017-05-01T00:00:00",
          "2017-06-01T00:00:00",
          "2017-07-01T00:00:00",
          "2017-08-01T00:00:00",
          "2017-09-01T00:00:00",
          "2017-10-01T00:00:00",
          "2017-11-01T00:00:00",
          "2017-12-01T00:00:00",
          "2018-01-01T00:00:00",
          "2018-02-01T00:00:00",
          "2018-03-01T00:00:00",
          "2018-04-01T00:00:00",
          "2018-05-01T00:00:00",
          "2018-06-01T00:00:00",
          "2018-07-01T00:00:00",
          "2018-08-01T00:00:00",
          "2018-09-01T00:00:00",
          "2018-10-01T00:00:00",
          "2018-11-01T00:00:00",
          "2018-12-01T00:00:00",
          "2019-01-01T00:00:00",
          "2019-02-01T00:00:00",
          "2019-03-01T00:00:00",
          "2019-04-01T00:00:00",
          "2019-05-01T00:00:00",
          "2019-06-01T00:00:00",
          "2019-07-01T00:00:00",
          "2019-08-01T00:00:00",
          "2019-09-01T00:00:00",
          "2019-10-01T00:00:00",
          "2019-11-01T00:00:00",
          "2019-12-01T00:00:00",
          "2020-01-01T00:00:00",
          "2020-02-01T00:00:00",
          "2020-03-01T00:00:00",
          "2020-04-01T00:00:00",
          "2020-05-01T00:00:00",
          "2020-06-01T00:00:00",
          "2020-07-01T00:00:00",
          "2020-08-01T00:00:00",
          "2020-09-01T00:00:00",
          "2020-10-01T00:00:00",
          "2020-11-01T00:00:00",
          "2020-12-01T00:00:00",
          "2021-01-01T00:00:00",
          "2021-02-01T00:00:00",
          "2021-03-01T00:00:00",
          "2021-04-01T00:00:00",
          "2021-05-01T00:00:00",
          "2021-06-01T00:00:00",
          "2021-07-01T00:00:00",
          "2021-08-01T00:00:00",
          "2021-09-01T00:00:00",
          "2021-10-01T00:00:00",
          "2021-11-01T00:00:00",
          "2021-12-01T00:00:00",
          "2022-01-01T00:00:00",
          "2022-02-01T00:00:00",
          "2022-03-01T00:00:00",
          "2022-04-01T00:00:00",
          "2022-05-01T00:00:00",
          "2022-06-01T00:00:00",
          "2022-07-01T00:00:00",
          "2022-08-01T00:00:00",
          "2022-09-01T00:00:00",
          "2022-10-01T00:00:00",
          "2022-11-01T00:00:00",
          "2022-12-01T00:00:00",
          "2023-01-01T00:00:00",
          "2023-02-01T00:00:00",
          "2023-03-01T00:00:00",
          "2023-04-01T00:00:00",
          "2023-05-01T00:00:00",
          "2023-06-01T00:00:00",
          "2023-07-01T00:00:00"
         ],
         "xaxis": "x",
         "y": [
          736.2467191601049,
          717.0985732814527,
          754.8831835686777,
          784.4460154241646,
          825.1474358974359,
          779.2624839948784,
          734.4807692307693,
          737.4242038216561,
          745.4980940279543,
          765.003861003861,
          796.7232947232948,
          736.562099871959,
          597.4738154613466,
          593.3241895261846,
          650.6385390428212,
          645.8720200752823,
          683.7691342534505,
          681.8628930817611,
          2644.219298245614,
          2646.7068322981368,
          2628.6242274412857,
          2660.24375,
          2680.7593984962405,
          2622.383850931677,
          2594.225647348952,
          2615.696670776819,
          2702.511111111111,
          2746.63782447466,
          2734.446362515413,
          2764.027194066749,
          2726.875154511743,
          2742.607673267327,
          2763.661728395062,
          2724.6,
          2737.2268803945744,
          2747.2022332506203,
          2713.6838868388686,
          668.6473616473617,
          650.2567567567568,
          651.5582822085889,
          631.3141104294479,
          635.2297128589263,
          606.3412204234122,
          586.9950248756219,
          591.0074812967581,
          579.3383270911361,
          603.5529265255293,
          558.3703241895262,
          540.9875776397515,
          595.3819095477387,
          609.2405541561712,
          620.5481012658228,
          623.0557667934094,
          626.1345177664974,
          595.4714828897338,
          616.9936628643853,
          621.6269035532995,
          633.3756345177665,
          649.6907477820025,
          636.7253164556962,
          618.5507614213197,
          641.2596401028278,
          619.2910256410256,
          563.2429305912597,
          567.9845758354755,
          534.1386392811296,
          472.6734955185659,
          543.6601307189543,
          975.892950391645,
          1051.3534031413612,
          1295.9146981627296,
          1176.528871391076,
          1013.4060846560847,
          1016.8822751322751,
          932.1952506596306,
          925.3280632411067,
          884.7971014492754,
          889.0250659630607,
          841.3707124010554,
          791.9894319682959,
          740.1989459815546,
          735.1802631578947,
          755.9947368421052,
          696.3111979166666,
          667.796875,
          701.1536458333334,
          700.6922077922078,
          712.228978007762,
          707.2238033635188,
          722.9961139896373,
          726.2441860465116,
          739.3415265200517,
          757.323870967742,
          781.4154838709677,
          848.5393548387096,
          848.3234536082474,
          863.854381443299,
          921.3722721437741,
          958.5519897304237,
          1014.7458279845956,
          979.8831835686777,
          986.3812580231065,
          946.6670918367347
         ],
         "yaxis": "y"
        },
        {
         "hovertemplate": "variable=riesgo_d_c<br>year_month=%{x}<br>value=%{y}<extra></extra>",
         "legendgroup": "riesgo_d_c",
         "line": {
          "color": "#ab63fa",
          "dash": "solid"
         },
         "marker": {
          "symbol": "circle"
         },
         "mode": "lines",
         "name": "riesgo_d_c",
         "orientation": "v",
         "showlegend": true,
         "type": "scatter",
         "x": [
          "2015-01-01T00:00:00",
          "2015-02-01T00:00:00",
          "2015-03-01T00:00:00",
          "2015-04-01T00:00:00",
          "2015-05-01T00:00:00",
          "2015-06-01T00:00:00",
          "2015-07-01T00:00:00",
          "2015-08-01T00:00:00",
          "2015-09-01T00:00:00",
          "2015-10-01T00:00:00",
          "2015-11-01T00:00:00",
          "2015-12-01T00:00:00",
          "2016-01-01T00:00:00",
          "2016-02-01T00:00:00",
          "2016-03-01T00:00:00",
          "2016-04-01T00:00:00",
          "2016-05-01T00:00:00",
          "2016-06-01T00:00:00",
          "2016-07-01T00:00:00",
          "2016-08-01T00:00:00",
          "2016-09-01T00:00:00",
          "2016-10-01T00:00:00",
          "2016-11-01T00:00:00",
          "2016-12-01T00:00:00",
          "2017-01-01T00:00:00",
          "2017-02-01T00:00:00",
          "2017-03-01T00:00:00",
          "2017-04-01T00:00:00",
          "2017-05-01T00:00:00",
          "2017-06-01T00:00:00",
          "2017-07-01T00:00:00",
          "2017-08-01T00:00:00",
          "2017-09-01T00:00:00",
          "2017-10-01T00:00:00",
          "2017-11-01T00:00:00",
          "2017-12-01T00:00:00",
          "2018-01-01T00:00:00",
          "2018-02-01T00:00:00",
          "2018-03-01T00:00:00",
          "2018-04-01T00:00:00",
          "2018-05-01T00:00:00",
          "2018-06-01T00:00:00",
          "2018-07-01T00:00:00",
          "2018-08-01T00:00:00",
          "2018-09-01T00:00:00",
          "2018-10-01T00:00:00",
          "2018-11-01T00:00:00",
          "2018-12-01T00:00:00",
          "2019-01-01T00:00:00",
          "2019-02-01T00:00:00",
          "2019-03-01T00:00:00",
          "2019-04-01T00:00:00",
          "2019-05-01T00:00:00",
          "2019-06-01T00:00:00",
          "2019-07-01T00:00:00",
          "2019-08-01T00:00:00",
          "2019-09-01T00:00:00",
          "2019-10-01T00:00:00",
          "2019-11-01T00:00:00",
          "2019-12-01T00:00:00",
          "2020-01-01T00:00:00",
          "2020-02-01T00:00:00",
          "2020-03-01T00:00:00",
          "2020-04-01T00:00:00",
          "2020-05-01T00:00:00",
          "2020-06-01T00:00:00",
          "2020-07-01T00:00:00",
          "2020-08-01T00:00:00",
          "2020-09-01T00:00:00",
          "2020-10-01T00:00:00",
          "2020-11-01T00:00:00",
          "2020-12-01T00:00:00",
          "2021-01-01T00:00:00",
          "2021-02-01T00:00:00",
          "2021-03-01T00:00:00",
          "2021-04-01T00:00:00",
          "2021-05-01T00:00:00",
          "2021-06-01T00:00:00",
          "2021-07-01T00:00:00",
          "2021-08-01T00:00:00",
          "2021-09-01T00:00:00",
          "2021-10-01T00:00:00",
          "2021-11-01T00:00:00",
          "2021-12-01T00:00:00",
          "2022-01-01T00:00:00",
          "2022-02-01T00:00:00",
          "2022-03-01T00:00:00",
          "2022-04-01T00:00:00",
          "2022-05-01T00:00:00",
          "2022-06-01T00:00:00",
          "2022-07-01T00:00:00",
          "2022-08-01T00:00:00",
          "2022-09-01T00:00:00",
          "2022-10-01T00:00:00",
          "2022-11-01T00:00:00",
          "2022-12-01T00:00:00",
          "2023-01-01T00:00:00",
          "2023-02-01T00:00:00",
          "2023-03-01T00:00:00",
          "2023-04-01T00:00:00",
          "2023-05-01T00:00:00",
          "2023-06-01T00:00:00",
          "2023-07-01T00:00:00"
         ],
         "xaxis": "x",
         "y": [
          952.5629921259842,
          954.970168612192,
          916.8472400513479,
          944.9164524421594,
          974.7294871794871,
          1046.1843790012804,
          1018.3038461538462,
          952.5235668789809,
          914.9733163913596,
          926.5160875160875,
          990.2921492921492,
          1016.9001280409731,
          744.1234413965087,
          782.7007481296758,
          755.0768261964736,
          808.5457967377666,
          828.9962358845671,
          886.3132075471698,
          866.7907268170426,
          814.223602484472,
          809.7540173053152,
          771.395,
          832.6140350877193,
          822.3490683229813,
          801.6633785450061,
          822.1911220715167,
          768.1432098765432,
          859.264524103832,
          895.2429099876696,
          948.1186650185414,
          921.7156983930779,
          866.7772277227723,
          834.6172839506173,
          913.0222222222222,
          943.3020961775586,
          964.7952853598015,
          919.5793357933579,
          966.6280566280566,
          942.7542997542997,
          1003.6895705521472,
          1006.1067484662576,
          1065.789013732834,
          960.7459526774595,
          902.5907960199005,
          864.0548628428928,
          931.4207240948814,
          935.3374844333748,
          948.7743142144639,
          874.6335403726708,
          943.0665829145729,
          926.6612090680101,
          1033.5050632911393,
          1034.5538656527249,
          1065.6598984771574,
          921.0671736375158,
          889.4879594423321,
          876.5862944162436,
          977.9289340101523,
          927.9556400506971,
          943.1025316455696,
          895.7664974619289,
          920.6645244215938,
          927.8435897435897,
          899.9408740359897,
          794.1195372750643,
          724.5905006418485,
          620.7272727272727,
          579.7450980392157,
          535.2493472584856,
          889.3979057591623,
          1221.762467191601,
          1597.1981627296589,
          1556.2460317460318,
          1438.9563492063492,
          1178.617414248021,
          1064.725955204216,
          1051.5428194993412,
          1006.467018469657,
          926.4182058047494,
          872.782034346103,
          827.2727272727273,
          832.3144736842105,
          843.7565789473684,
          827.70703125,
          790.36328125,
          822.9036458333334,
          824.2038961038961,
          843.5213454075032,
          907.0879689521346,
          931.4002590673575,
          951.5219638242894,
          948.496765847348,
          989.8116129032258,
          1024.8774193548388,
          1071.4541935483871,
          1170.8324742268042,
          1214.9948453608247,
          1267.8754813863927,
          1326.5391527599486,
          1408.0064184852374,
          1512.976893453145,
          1559.1668806161747,
          1534.5727040816328
         ],
         "yaxis": "y"
        },
        {
         "hovertemplate": "variable=riesgo_e_c<br>year_month=%{x}<br>value=%{y}<extra></extra>",
         "legendgroup": "riesgo_e_c",
         "line": {
          "color": "#FFA15A",
          "dash": "solid"
         },
         "marker": {
          "symbol": "circle"
         },
         "mode": "lines",
         "name": "riesgo_e_c",
         "orientation": "v",
         "showlegend": true,
         "type": "scatter",
         "x": [
          "2015-01-01T00:00:00",
          "2015-02-01T00:00:00",
          "2015-03-01T00:00:00",
          "2015-04-01T00:00:00",
          "2015-05-01T00:00:00",
          "2015-06-01T00:00:00",
          "2015-07-01T00:00:00",
          "2015-08-01T00:00:00",
          "2015-09-01T00:00:00",
          "2015-10-01T00:00:00",
          "2015-11-01T00:00:00",
          "2015-12-01T00:00:00",
          "2016-01-01T00:00:00",
          "2016-02-01T00:00:00",
          "2016-03-01T00:00:00",
          "2016-04-01T00:00:00",
          "2016-05-01T00:00:00",
          "2016-06-01T00:00:00",
          "2016-07-01T00:00:00",
          "2016-08-01T00:00:00",
          "2016-09-01T00:00:00",
          "2016-10-01T00:00:00",
          "2016-11-01T00:00:00",
          "2016-12-01T00:00:00",
          "2017-01-01T00:00:00",
          "2017-02-01T00:00:00",
          "2017-03-01T00:00:00",
          "2017-04-01T00:00:00",
          "2017-05-01T00:00:00",
          "2017-06-01T00:00:00",
          "2017-07-01T00:00:00",
          "2017-08-01T00:00:00",
          "2017-09-01T00:00:00",
          "2017-10-01T00:00:00",
          "2017-11-01T00:00:00",
          "2017-12-01T00:00:00",
          "2018-01-01T00:00:00",
          "2018-02-01T00:00:00",
          "2018-03-01T00:00:00",
          "2018-04-01T00:00:00",
          "2018-05-01T00:00:00",
          "2018-06-01T00:00:00",
          "2018-07-01T00:00:00",
          "2018-08-01T00:00:00",
          "2018-09-01T00:00:00",
          "2018-10-01T00:00:00",
          "2018-11-01T00:00:00",
          "2018-12-01T00:00:00",
          "2019-01-01T00:00:00",
          "2019-02-01T00:00:00",
          "2019-03-01T00:00:00",
          "2019-04-01T00:00:00",
          "2019-05-01T00:00:00",
          "2019-06-01T00:00:00",
          "2019-07-01T00:00:00",
          "2019-08-01T00:00:00",
          "2019-09-01T00:00:00",
          "2019-10-01T00:00:00",
          "2019-11-01T00:00:00",
          "2019-12-01T00:00:00",
          "2020-01-01T00:00:00",
          "2020-02-01T00:00:00",
          "2020-03-01T00:00:00",
          "2020-04-01T00:00:00",
          "2020-05-01T00:00:00",
          "2020-06-01T00:00:00",
          "2020-07-01T00:00:00",
          "2020-08-01T00:00:00",
          "2020-09-01T00:00:00",
          "2020-10-01T00:00:00",
          "2020-11-01T00:00:00",
          "2020-12-01T00:00:00",
          "2021-01-01T00:00:00",
          "2021-02-01T00:00:00",
          "2021-03-01T00:00:00",
          "2021-04-01T00:00:00",
          "2021-05-01T00:00:00",
          "2021-06-01T00:00:00",
          "2021-07-01T00:00:00",
          "2021-08-01T00:00:00",
          "2021-09-01T00:00:00",
          "2021-10-01T00:00:00",
          "2021-11-01T00:00:00",
          "2021-12-01T00:00:00",
          "2022-01-01T00:00:00",
          "2022-02-01T00:00:00",
          "2022-03-01T00:00:00",
          "2022-04-01T00:00:00",
          "2022-05-01T00:00:00",
          "2022-06-01T00:00:00",
          "2022-07-01T00:00:00",
          "2022-08-01T00:00:00",
          "2022-09-01T00:00:00",
          "2022-10-01T00:00:00",
          "2022-11-01T00:00:00",
          "2022-12-01T00:00:00",
          "2023-01-01T00:00:00",
          "2023-02-01T00:00:00",
          "2023-03-01T00:00:00",
          "2023-04-01T00:00:00",
          "2023-05-01T00:00:00",
          "2023-06-01T00:00:00",
          "2023-07-01T00:00:00"
         ],
         "xaxis": "x",
         "y": [
          684.6181102362204,
          673.1141374837873,
          668.7265725288831,
          662.8393316195372,
          658.123076923077,
          642.0921895006402,
          661.6871794871795,
          692.5019108280255,
          689.1321473951715,
          682.5752895752896,
          673.1428571428571,
          680.864276568502,
          619.1321695760598,
          635.8229426433916,
          636.948362720403,
          616.0639899623588,
          614.0915934755333,
          583.8955974842768,
          621.2005012531329,
          678.2124223602484,
          658.4820766378244,
          744.64625,
          699.0175438596491,
          709.9664596273292,
          738.8298397040691,
          727.5721331689273,
          743.7234567901235,
          733.1940667490729,
          750.8323057953145,
          752.6971569839308,
          832.3510506798517,
          859.4764851485148,
          874.9987654320988,
          800.7543209876543,
          806.6029593094944,
          812.7431761786601,
          893.2976629766298,
          904.1994851994853,
          828.9398034398034,
          813.9374233128834,
          849.3042944785276,
          860.6729088639202,
          954.4283935242839,
          1010.2313432835821,
          998.0461346633416,
          971.2047440699126,
          972.6475716064757,
          964.6857855361596,
          1054.903105590062,
          1056.8706030150754,
          1065.0994962216625,
          1022.4405063291139,
          1025.0798479087453,
          1024.4352791878173,
          1184.4093789607098,
          1135.9936628643852,
          1120.021573604061,
          1020.8781725888325,
          1089.4131812420785,
          1063.1215189873417,
          1132.75,
          1127.6606683804628,
          1127.7192307692308,
          1205.1349614395888,
          1237.8303341902313,
          1215.4518613607188,
          1238.6901408450703,
          1233.9150326797385,
          1204.0026109660575,
          1166.3874345549739,
          1072.711286089239,
          1073.9107611548557,
          1346.3558201058202,
          1227.2830687830688,
          1226.3430079155673,
          1276.4690382081687,
          1243.5942028985507,
          1156.2691292875988,
          1181.6635883905012,
          1188.6103038309116,
          1159.3675889328063,
          1146.8486842105262,
          1119.217105263158,
          1053.2526041666667,
          1098.6966145833333,
          1070.35546875,
          1050.7662337662337,
          1057.2238033635188,
          1044.9003880983182,
          1018.6282383419689,
          1044.828165374677,
          1066.8706338939198,
          1065.9406451612904,
          1070.5445161290322,
          1037.9148387096775,
          1004.2577319587629,
          1086.583762886598,
          1088.6970474967907,
          1105.4492939666238,
          1117.8485237483953,
          1144.9987163029525,
          1128.1386392811296,
          1186.204081632653
         ],
         "yaxis": "y"
        }
       ],
       "layout": {
        "legend": {
         "title": {
          "text": "variable"
         },
         "tracegroupgap": 0
        },
        "margin": {
         "t": 60
        },
        "template": {
         "data": {
          "bar": [
           {
            "error_x": {
             "color": "#2a3f5f"
            },
            "error_y": {
             "color": "#2a3f5f"
            },
            "marker": {
             "line": {
              "color": "#E5ECF6",
              "width": 0.5
             },
             "pattern": {
              "fillmode": "overlay",
              "size": 10,
              "solidity": 0.2
             }
            },
            "type": "bar"
           }
          ],
          "barpolar": [
           {
            "marker": {
             "line": {
              "color": "#E5ECF6",
              "width": 0.5
             },
             "pattern": {
              "fillmode": "overlay",
              "size": 10,
              "solidity": 0.2
             }
            },
            "type": "barpolar"
           }
          ],
          "carpet": [
           {
            "aaxis": {
             "endlinecolor": "#2a3f5f",
             "gridcolor": "white",
             "linecolor": "white",
             "minorgridcolor": "white",
             "startlinecolor": "#2a3f5f"
            },
            "baxis": {
             "endlinecolor": "#2a3f5f",
             "gridcolor": "white",
             "linecolor": "white",
             "minorgridcolor": "white",
             "startlinecolor": "#2a3f5f"
            },
            "type": "carpet"
           }
          ],
          "choropleth": [
           {
            "colorbar": {
             "outlinewidth": 0,
             "ticks": ""
            },
            "type": "choropleth"
           }
          ],
          "contour": [
           {
            "colorbar": {
             "outlinewidth": 0,
             "ticks": ""
            },
            "colorscale": [
             [
              0,
              "#0d0887"
             ],
             [
              0.1111111111111111,
              "#46039f"
             ],
             [
              0.2222222222222222,
              "#7201a8"
             ],
             [
              0.3333333333333333,
              "#9c179e"
             ],
             [
              0.4444444444444444,
              "#bd3786"
             ],
             [
              0.5555555555555556,
              "#d8576b"
             ],
             [
              0.6666666666666666,
              "#ed7953"
             ],
             [
              0.7777777777777778,
              "#fb9f3a"
             ],
             [
              0.8888888888888888,
              "#fdca26"
             ],
             [
              1,
              "#f0f921"
             ]
            ],
            "type": "contour"
           }
          ],
          "contourcarpet": [
           {
            "colorbar": {
             "outlinewidth": 0,
             "ticks": ""
            },
            "type": "contourcarpet"
           }
          ],
          "heatmap": [
           {
            "colorbar": {
             "outlinewidth": 0,
             "ticks": ""
            },
            "colorscale": [
             [
              0,
              "#0d0887"
             ],
             [
              0.1111111111111111,
              "#46039f"
             ],
             [
              0.2222222222222222,
              "#7201a8"
             ],
             [
              0.3333333333333333,
              "#9c179e"
             ],
             [
              0.4444444444444444,
              "#bd3786"
             ],
             [
              0.5555555555555556,
              "#d8576b"
             ],
             [
              0.6666666666666666,
              "#ed7953"
             ],
             [
              0.7777777777777778,
              "#fb9f3a"
             ],
             [
              0.8888888888888888,
              "#fdca26"
             ],
             [
              1,
              "#f0f921"
             ]
            ],
            "type": "heatmap"
           }
          ],
          "heatmapgl": [
           {
            "colorbar": {
             "outlinewidth": 0,
             "ticks": ""
            },
            "colorscale": [
             [
              0,
              "#0d0887"
             ],
             [
              0.1111111111111111,
              "#46039f"
             ],
             [
              0.2222222222222222,
              "#7201a8"
             ],
             [
              0.3333333333333333,
              "#9c179e"
             ],
             [
              0.4444444444444444,
              "#bd3786"
             ],
             [
              0.5555555555555556,
              "#d8576b"
             ],
             [
              0.6666666666666666,
              "#ed7953"
             ],
             [
              0.7777777777777778,
              "#fb9f3a"
             ],
             [
              0.8888888888888888,
              "#fdca26"
             ],
             [
              1,
              "#f0f921"
             ]
            ],
            "type": "heatmapgl"
           }
          ],
          "histogram": [
           {
            "marker": {
             "pattern": {
              "fillmode": "overlay",
              "size": 10,
              "solidity": 0.2
             }
            },
            "type": "histogram"
           }
          ],
          "histogram2d": [
           {
            "colorbar": {
             "outlinewidth": 0,
             "ticks": ""
            },
            "colorscale": [
             [
              0,
              "#0d0887"
             ],
             [
              0.1111111111111111,
              "#46039f"
             ],
             [
              0.2222222222222222,
              "#7201a8"
             ],
             [
              0.3333333333333333,
              "#9c179e"
             ],
             [
              0.4444444444444444,
              "#bd3786"
             ],
             [
              0.5555555555555556,
              "#d8576b"
             ],
             [
              0.6666666666666666,
              "#ed7953"
             ],
             [
              0.7777777777777778,
              "#fb9f3a"
             ],
             [
              0.8888888888888888,
              "#fdca26"
             ],
             [
              1,
              "#f0f921"
             ]
            ],
            "type": "histogram2d"
           }
          ],
          "histogram2dcontour": [
           {
            "colorbar": {
             "outlinewidth": 0,
             "ticks": ""
            },
            "colorscale": [
             [
              0,
              "#0d0887"
             ],
             [
              0.1111111111111111,
              "#46039f"
             ],
             [
              0.2222222222222222,
              "#7201a8"
             ],
             [
              0.3333333333333333,
              "#9c179e"
             ],
             [
              0.4444444444444444,
              "#bd3786"
             ],
             [
              0.5555555555555556,
              "#d8576b"
             ],
             [
              0.6666666666666666,
              "#ed7953"
             ],
             [
              0.7777777777777778,
              "#fb9f3a"
             ],
             [
              0.8888888888888888,
              "#fdca26"
             ],
             [
              1,
              "#f0f921"
             ]
            ],
            "type": "histogram2dcontour"
           }
          ],
          "mesh3d": [
           {
            "colorbar": {
             "outlinewidth": 0,
             "ticks": ""
            },
            "type": "mesh3d"
           }
          ],
          "parcoords": [
           {
            "line": {
             "colorbar": {
              "outlinewidth": 0,
              "ticks": ""
             }
            },
            "type": "parcoords"
           }
          ],
          "pie": [
           {
            "automargin": true,
            "type": "pie"
           }
          ],
          "scatter": [
           {
            "fillpattern": {
             "fillmode": "overlay",
             "size": 10,
             "solidity": 0.2
            },
            "type": "scatter"
           }
          ],
          "scatter3d": [
           {
            "line": {
             "colorbar": {
              "outlinewidth": 0,
              "ticks": ""
             }
            },
            "marker": {
             "colorbar": {
              "outlinewidth": 0,
              "ticks": ""
             }
            },
            "type": "scatter3d"
           }
          ],
          "scattercarpet": [
           {
            "marker": {
             "colorbar": {
              "outlinewidth": 0,
              "ticks": ""
             }
            },
            "type": "scattercarpet"
           }
          ],
          "scattergeo": [
           {
            "marker": {
             "colorbar": {
              "outlinewidth": 0,
              "ticks": ""
             }
            },
            "type": "scattergeo"
           }
          ],
          "scattergl": [
           {
            "marker": {
             "colorbar": {
              "outlinewidth": 0,
              "ticks": ""
             }
            },
            "type": "scattergl"
           }
          ],
          "scattermapbox": [
           {
            "marker": {
             "colorbar": {
              "outlinewidth": 0,
              "ticks": ""
             }
            },
            "type": "scattermapbox"
           }
          ],
          "scatterpolar": [
           {
            "marker": {
             "colorbar": {
              "outlinewidth": 0,
              "ticks": ""
             }
            },
            "type": "scatterpolar"
           }
          ],
          "scatterpolargl": [
           {
            "marker": {
             "colorbar": {
              "outlinewidth": 0,
              "ticks": ""
             }
            },
            "type": "scatterpolargl"
           }
          ],
          "scatterternary": [
           {
            "marker": {
             "colorbar": {
              "outlinewidth": 0,
              "ticks": ""
             }
            },
            "type": "scatterternary"
           }
          ],
          "surface": [
           {
            "colorbar": {
             "outlinewidth": 0,
             "ticks": ""
            },
            "colorscale": [
             [
              0,
              "#0d0887"
             ],
             [
              0.1111111111111111,
              "#46039f"
             ],
             [
              0.2222222222222222,
              "#7201a8"
             ],
             [
              0.3333333333333333,
              "#9c179e"
             ],
             [
              0.4444444444444444,
              "#bd3786"
             ],
             [
              0.5555555555555556,
              "#d8576b"
             ],
             [
              0.6666666666666666,
              "#ed7953"
             ],
             [
              0.7777777777777778,
              "#fb9f3a"
             ],
             [
              0.8888888888888888,
              "#fdca26"
             ],
             [
              1,
              "#f0f921"
             ]
            ],
            "type": "surface"
           }
          ],
          "table": [
           {
            "cells": {
             "fill": {
              "color": "#EBF0F8"
             },
             "line": {
              "color": "white"
             }
            },
            "header": {
             "fill": {
              "color": "#C8D4E3"
             },
             "line": {
              "color": "white"
             }
            },
            "type": "table"
           }
          ]
         },
         "layout": {
          "annotationdefaults": {
           "arrowcolor": "#2a3f5f",
           "arrowhead": 0,
           "arrowwidth": 1
          },
          "autotypenumbers": "strict",
          "coloraxis": {
           "colorbar": {
            "outlinewidth": 0,
            "ticks": ""
           }
          },
          "colorscale": {
           "diverging": [
            [
             0,
             "#8e0152"
            ],
            [
             0.1,
             "#c51b7d"
            ],
            [
             0.2,
             "#de77ae"
            ],
            [
             0.3,
             "#f1b6da"
            ],
            [
             0.4,
             "#fde0ef"
            ],
            [
             0.5,
             "#f7f7f7"
            ],
            [
             0.6,
             "#e6f5d0"
            ],
            [
             0.7,
             "#b8e186"
            ],
            [
             0.8,
             "#7fbc41"
            ],
            [
             0.9,
             "#4d9221"
            ],
            [
             1,
             "#276419"
            ]
           ],
           "sequential": [
            [
             0,
             "#0d0887"
            ],
            [
             0.1111111111111111,
             "#46039f"
            ],
            [
             0.2222222222222222,
             "#7201a8"
            ],
            [
             0.3333333333333333,
             "#9c179e"
            ],
            [
             0.4444444444444444,
             "#bd3786"
            ],
            [
             0.5555555555555556,
             "#d8576b"
            ],
            [
             0.6666666666666666,
             "#ed7953"
            ],
            [
             0.7777777777777778,
             "#fb9f3a"
            ],
            [
             0.8888888888888888,
             "#fdca26"
            ],
            [
             1,
             "#f0f921"
            ]
           ],
           "sequentialminus": [
            [
             0,
             "#0d0887"
            ],
            [
             0.1111111111111111,
             "#46039f"
            ],
            [
             0.2222222222222222,
             "#7201a8"
            ],
            [
             0.3333333333333333,
             "#9c179e"
            ],
            [
             0.4444444444444444,
             "#bd3786"
            ],
            [
             0.5555555555555556,
             "#d8576b"
            ],
            [
             0.6666666666666666,
             "#ed7953"
            ],
            [
             0.7777777777777778,
             "#fb9f3a"
            ],
            [
             0.8888888888888888,
             "#fdca26"
            ],
            [
             1,
             "#f0f921"
            ]
           ]
          },
          "colorway": [
           "#636efa",
           "#EF553B",
           "#00cc96",
           "#ab63fa",
           "#FFA15A",
           "#19d3f3",
           "#FF6692",
           "#B6E880",
           "#FF97FF",
           "#FECB52"
          ],
          "font": {
           "color": "#2a3f5f"
          },
          "geo": {
           "bgcolor": "white",
           "lakecolor": "white",
           "landcolor": "#E5ECF6",
           "showlakes": true,
           "showland": true,
           "subunitcolor": "white"
          },
          "hoverlabel": {
           "align": "left"
          },
          "hovermode": "closest",
          "mapbox": {
           "style": "light"
          },
          "paper_bgcolor": "white",
          "plot_bgcolor": "#E5ECF6",
          "polar": {
           "angularaxis": {
            "gridcolor": "white",
            "linecolor": "white",
            "ticks": ""
           },
           "bgcolor": "#E5ECF6",
           "radialaxis": {
            "gridcolor": "white",
            "linecolor": "white",
            "ticks": ""
           }
          },
          "scene": {
           "xaxis": {
            "backgroundcolor": "#E5ECF6",
            "gridcolor": "white",
            "gridwidth": 2,
            "linecolor": "white",
            "showbackground": true,
            "ticks": "",
            "zerolinecolor": "white"
           },
           "yaxis": {
            "backgroundcolor": "#E5ECF6",
            "gridcolor": "white",
            "gridwidth": 2,
            "linecolor": "white",
            "showbackground": true,
            "ticks": "",
            "zerolinecolor": "white"
           },
           "zaxis": {
            "backgroundcolor": "#E5ECF6",
            "gridcolor": "white",
            "gridwidth": 2,
            "linecolor": "white",
            "showbackground": true,
            "ticks": "",
            "zerolinecolor": "white"
           }
          },
          "shapedefaults": {
           "line": {
            "color": "#2a3f5f"
           }
          },
          "ternary": {
           "aaxis": {
            "gridcolor": "white",
            "linecolor": "white",
            "ticks": ""
           },
           "baxis": {
            "gridcolor": "white",
            "linecolor": "white",
            "ticks": ""
           },
           "bgcolor": "#E5ECF6",
           "caxis": {
            "gridcolor": "white",
            "linecolor": "white",
            "ticks": ""
           }
          },
          "title": {
           "x": 0.05
          },
          "xaxis": {
           "automargin": true,
           "gridcolor": "white",
           "linecolor": "white",
           "ticks": "",
           "title": {
            "standoff": 15
           },
           "zerolinecolor": "white",
           "zerolinewidth": 2
          },
          "yaxis": {
           "automargin": true,
           "gridcolor": "white",
           "linecolor": "white",
           "ticks": "",
           "title": {
            "standoff": 15
           },
           "zerolinecolor": "white",
           "zerolinewidth": 2
          }
         }
        },
        "xaxis": {
         "anchor": "y",
         "domain": [
          0,
          1
         ],
         "title": {
          "text": "year_month"
         }
        },
        "yaxis": {
         "anchor": "x",
         "domain": [
          0,
          1
         ],
         "title": {
          "text": "value"
         }
        }
       }
      }
     },
     "metadata": {},
     "output_type": "display_data"
    }
   ],
   "source": [
    "base2 = df.groupby(['year_month'])[['riesgo_a_c','riesgo_b_c','riesgo_c_c','riesgo_d_c','riesgo_e_c']].mean()\n",
    "fig = px.line(base2)\n",
    "fig.show()"
   ]
  },
  {
   "cell_type": "markdown",
   "metadata": {},
   "source": [
    "La gran mayoría de los clientes tienen obligaciones catalogadas como de riesgo a, que es la categoría de menos riesgo para las entidades. Dado que las columnas saldo por riesgo representan cada una el saldo total de cuentas que hay de dichos riesgos y la gran mayoría son de riesgos a, hay una correlación casi de 100% entre el saldo de cuentas de riesgo a y el saldo total a la fecha, se puede observar que varían casi que igual en el tiempo. Dicho lo anterior, se decide conservar el saldo total a la fecha y descartar las columnas de saldo por riesgos. Las columnas de número de clientes por riesgos también representa muy bien la frecuencia e importancia de cada riesgos."
   ]
  },
  {
   "cell_type": "code",
   "execution_count": 200,
   "metadata": {},
   "outputs": [],
   "source": [
    "df.drop(['riesgo_a_s', 'riesgo_b_s', 'riesgo_c_s', 'riesgo_d_s', 'riesgo_e_s'], axis=1, inplace=True)"
   ]
  },
  {
   "cell_type": "markdown",
   "metadata": {},
   "source": [
    "## ¿Qué hacer con las correlaciones altas de los riesgos con el número de clientes con más de 1 mes en mora?"
   ]
  },
  {
   "cell_type": "code",
   "execution_count": 201,
   "metadata": {},
   "outputs": [
    {
     "data": {
      "application/vnd.plotly.v1+json": {
       "config": {
        "plotlyServerURL": "https://plot.ly"
       },
       "data": [
        {
         "dimensions": [
          {
           "axis": {
            "matches": true
           },
           "label": "clientes_mora+30d",
           "values": [
            2290.741469816273,
            2336.219195849546,
            2313.07702182285,
            2398.293059125964,
            2435.269230769231,
            2423.440460947503,
            2294.9410256410256,
            2286.3821656050955,
            2256.595933926302,
            2290.108108108108,
            2405.015444015444,
            2280.706786171575,
            1910.5074812967582,
            2006.7493765586034,
            2064.212846347607,
            2090.158092848181,
            2179.085319949812,
            2132.335849056604,
            2176.563909774436,
            2164.7478260869566,
            2120.4004944375774,
            2227.1675,
            2313.6754385964914,
            2150.3515527950312,
            2138.8175092478423,
            2249.027127003699,
            2274.3802469135803,
            2449.1297898640296,
            2479.31196054254,
            2452.922126081582,
            2430.5599505562423,
            2397.085396039604,
            2418.6666666666665,
            2414.437037037037,
            2489.985203452528,
            2376.909429280397,
            2356.3444034440345,
            2554.5842985842987,
            2603.230958230958,
            2431.492024539877,
            2403.489570552147,
            2422.887640449438,
            2343.4246575342468,
            2326.8383084577113,
            2303.35536159601,
            2316.863920099875,
            2352.5404732254046,
            2194.8029925187034,
            2215.6819875776396,
            2368.8856783919596,
            2405.0226700251887,
            2452.137974683544,
            2413.7845373891,
            2452.265228426396,
            2405.782002534854,
            2359.8922686945502,
            2377.9251269035535,
            2393.4682741116753,
            2497.5614702154626,
            2306.4708860759492,
            2399.104060913706,
            2513.2866323907456,
            2403.6679487179485,
            2409.903598971722,
            2234.615681233933,
            1942.920410783055,
            1773.8450704225352,
            2445.3307189542484,
            2818.82637075718,
            3258.001308900524,
            3367.6942257217847,
            3185.1115485564305,
            3295.2526455026455,
            3085.410052910053,
            2805.576517150396,
            2712.4848484848485,
            2659.4703557312255,
            2496.036939313984,
            2371.3825857519787,
            2302.7146631439896,
            2260.812911725955,
            2299.1631578947367,
            2332.6052631578946,
            2162.3424479166665,
            2254.04296875,
            2330.2981770833335,
            2293.1675324675325,
            2363.719275549806,
            2469.1474773609316,
            2458.45725388601,
            2528.770025839793,
            2564.7166882276842,
            2622.4967741935484,
            2723.0529032258064,
            2853.8167741935486,
            2892.917525773196,
            3055.6353092783506,
            3227.767650834403,
            3370.684210526316,
            3495.673940949936,
            3617.111681643132,
            3557.9486521181,
            3512.451530612245
           ]
          },
          {
           "axis": {
            "matches": true
           },
           "label": "riesgo_a_c",
           "values": [
            35478.77690288714,
            35719.91569390402,
            35665.869062901154,
            35790.325192802055,
            35774.12564102564,
            35815.06145966709,
            36110.820512820515,
            36085.14522292994,
            36170.05209656925,
            36822.43371943372,
            36776.17374517374,
            36829.52112676056,
            32344.375311720698,
            32100.31920199501,
            32408.56297229219,
            32209.47929736512,
            32516.352572145544,
            32876.29559748428,
            32648.515037593985,
            32565.162732919256,
            32533.029666254635,
            33031.075,
            32045.696741854637,
            31907.747826086958,
            31597.44512946979,
            31594.19358816276,
            31682.827160493827,
            31596.410383189123,
            31628.800246609124,
            31756.57849196539,
            31835.407911001235,
            31946.336633663366,
            31934.153086419752,
            31979.04938271605,
            32127.70160295931,
            32335.053349875932,
            31938.11193111931,
            33381.79922779923,
            31833.512285012286,
            31941.806134969323,
            31956.99263803681,
            32286.322097378277,
            32295.114570361147,
            32321.672885572138,
            32373.71072319202,
            32519.757802746568,
            32686.08094645081,
            32799.18952618454,
            32651.05590062112,
            34193.00753768844,
            34463.05793450882,
            34828.49746835443,
            35139.126742712295,
            35241.20812182741,
            35403.8948035488,
            35300.532319391634,
            35591.140862944165,
            35762.1269035533,
            35960.65525982256,
            36198.881012658225,
            36158.3730964467,
            36672.25835475578,
            36434.47948717949,
            36247.77892030848,
            35840.85989717224,
            35662.38125802311,
            35239.12419974392,
            35184.82352941176,
            34716.10313315927,
            34223.76178010471,
            34025.84120734908,
            33631.94619422572,
            33544.73941798942,
            33624.300264550264,
            33694.08575197889,
            33525.729907773384,
            33613.089591567856,
            33840.82189973615,
            34226.543535620054,
            34824.40819022457,
            34435.88669301713,
            34833.94078947369,
            35348.43947368421,
            35231.3515625,
            35422.787760416664,
            35935.059895833336,
            36204.52337662338,
            36586.05433376455,
            37133.49029754204,
            37473.76683937824,
            37700.70542635659,
            38265.65200517464,
            38609.0670967742,
            38891.583225806455,
            39336.25161290322,
            39288.24484536082,
            39277.60824742268,
            39153.66238767651,
            38773.64184852375,
            38625.45827984596,
            38513.95892169448,
            38328.04236200257,
            37938.51530612245
           ]
          },
          {
           "axis": {
            "matches": true
           },
           "label": "riesgo_b_c",
           "values": [
            1281.9265091863517,
            1374.31906614786,
            1372.237483953787,
            1400.6182519280205,
            1392.826923076923,
            1377.0921895006402,
            1309.929487179487,
            1297.9286624203821,
            1318.143583227446,
            1361.870012870013,
            1415.4208494208494,
            1325.0012804097312,
            1054.1596009975062,
            1162.0349127182044,
            1179.7607052896726,
            1180.6612296110413,
            1200.4805520702635,
            1188.3572327044026,
            1213.6315789473683,
            1179.5254658385093,
            1147.9505562422744,
            1212.63,
            1229.4298245614036,
            1132.982608695652,
            1103.6313193588162,
            1216.1035758323058,
            1218.146913580247,
            1282.7589616810878,
            1287.5030826140567,
            1217.231149567367,
            1206.0358467243511,
            1179.1522277227723,
            1204.1802469135803,
            1225.4777777777779,
            1242.2983970406906,
            1150.893300248139,
            1131.7330873308733,
            1241.7747747747749,
            1165.054054054054,
            1148.1815950920245,
            1122.801226993865,
            1102.398252184769,
            1073.6824408468244,
            1062.7226368159204,
            1092.5224438902744,
            1098.1210986267165,
            1077.3586550435866,
            992.5536159600997,
            997.7403726708075,
            1132.7713567839196,
            1127.1536523929472,
            1147.487341772152,
            1013.9746514575412,
            1045.4644670050761,
            1018.0468948035488,
            985.8441064638783,
            1032.0799492385786,
            1040.222081218274,
            1091.936628643853,
            970.273417721519,
            1016.0469543147208,
            1096.1632390745501,
            1071.9705128205128,
            1256.9922879177377,
            1155.3470437017995,
            1006.9383825417201,
            971.8258642765685,
            1639.3437908496733,
            1605.2454308093995,
            1767.4960732984293,
            1634.6312335958005,
            1497.3897637795276,
            1489.5251322751324,
            1452.0899470899471,
            1451.3878627968338,
            1411.3860342555995,
            1391.8880105401845,
            1359.6029023746703,
            1280.655672823219,
            1247.6036988110964,
            1164.3715415019763,
            1201.792105263158,
            1183.9013157894738,
            1030.703125,
            1116.78515625,
            1137.859375,
            1109.409090909091,
            1118.9767141009056,
            1132.5316946959897,
            1149.7422279792745,
            1177.9315245478035,
            1163.606727037516,
            1197.0283870967742,
            1249.2903225806451,
            1316.4748387096774,
            1272.7177835051546,
            1312.9059278350514,
            1428.5545571245186,
            1438.2682926829268,
            1442.216944801027,
            1460.5044929396663,
            1376.9075738125803,
            1364.4604591836735
           ]
          },
          {
           "axis": {
            "matches": true
           },
           "label": "riesgo_c_c",
           "values": [
            736.2467191601049,
            717.0985732814527,
            754.8831835686777,
            784.4460154241646,
            825.1474358974359,
            779.2624839948784,
            734.4807692307693,
            737.4242038216561,
            745.4980940279543,
            765.003861003861,
            796.7232947232948,
            736.562099871959,
            597.4738154613466,
            593.3241895261846,
            650.6385390428212,
            645.8720200752823,
            683.7691342534505,
            681.8628930817611,
            2644.219298245614,
            2646.7068322981368,
            2628.6242274412857,
            2660.24375,
            2680.7593984962405,
            2622.383850931677,
            2594.225647348952,
            2615.696670776819,
            2702.511111111111,
            2746.63782447466,
            2734.446362515413,
            2764.027194066749,
            2726.875154511743,
            2742.607673267327,
            2763.661728395062,
            2724.6,
            2737.2268803945744,
            2747.2022332506203,
            2713.6838868388686,
            668.6473616473617,
            650.2567567567568,
            651.5582822085889,
            631.3141104294479,
            635.2297128589263,
            606.3412204234122,
            586.9950248756219,
            591.0074812967581,
            579.3383270911361,
            603.5529265255293,
            558.3703241895262,
            540.9875776397515,
            595.3819095477387,
            609.2405541561712,
            620.5481012658228,
            623.0557667934094,
            626.1345177664974,
            595.4714828897338,
            616.9936628643853,
            621.6269035532995,
            633.3756345177665,
            649.6907477820025,
            636.7253164556962,
            618.5507614213197,
            641.2596401028278,
            619.2910256410256,
            563.2429305912597,
            567.9845758354755,
            534.1386392811296,
            472.6734955185659,
            543.6601307189543,
            975.892950391645,
            1051.3534031413612,
            1295.9146981627296,
            1176.528871391076,
            1013.4060846560847,
            1016.8822751322751,
            932.1952506596306,
            925.3280632411067,
            884.7971014492754,
            889.0250659630607,
            841.3707124010554,
            791.9894319682959,
            740.1989459815546,
            735.1802631578947,
            755.9947368421052,
            696.3111979166666,
            667.796875,
            701.1536458333334,
            700.6922077922078,
            712.228978007762,
            707.2238033635188,
            722.9961139896373,
            726.2441860465116,
            739.3415265200517,
            757.323870967742,
            781.4154838709677,
            848.5393548387096,
            848.3234536082474,
            863.854381443299,
            921.3722721437741,
            958.5519897304237,
            1014.7458279845956,
            979.8831835686777,
            986.3812580231065,
            946.6670918367347
           ]
          },
          {
           "axis": {
            "matches": true
           },
           "label": "riesgo_d_c",
           "values": [
            952.5629921259842,
            954.970168612192,
            916.8472400513479,
            944.9164524421594,
            974.7294871794871,
            1046.1843790012804,
            1018.3038461538462,
            952.5235668789809,
            914.9733163913596,
            926.5160875160875,
            990.2921492921492,
            1016.9001280409731,
            744.1234413965087,
            782.7007481296758,
            755.0768261964736,
            808.5457967377666,
            828.9962358845671,
            886.3132075471698,
            866.7907268170426,
            814.223602484472,
            809.7540173053152,
            771.395,
            832.6140350877193,
            822.3490683229813,
            801.6633785450061,
            822.1911220715167,
            768.1432098765432,
            859.264524103832,
            895.2429099876696,
            948.1186650185414,
            921.7156983930779,
            866.7772277227723,
            834.6172839506173,
            913.0222222222222,
            943.3020961775586,
            964.7952853598015,
            919.5793357933579,
            966.6280566280566,
            942.7542997542997,
            1003.6895705521472,
            1006.1067484662576,
            1065.789013732834,
            960.7459526774595,
            902.5907960199005,
            864.0548628428928,
            931.4207240948814,
            935.3374844333748,
            948.7743142144639,
            874.6335403726708,
            943.0665829145729,
            926.6612090680101,
            1033.5050632911393,
            1034.5538656527249,
            1065.6598984771574,
            921.0671736375158,
            889.4879594423321,
            876.5862944162436,
            977.9289340101523,
            927.9556400506971,
            943.1025316455696,
            895.7664974619289,
            920.6645244215938,
            927.8435897435897,
            899.9408740359897,
            794.1195372750643,
            724.5905006418485,
            620.7272727272727,
            579.7450980392157,
            535.2493472584856,
            889.3979057591623,
            1221.762467191601,
            1597.1981627296589,
            1556.2460317460318,
            1438.9563492063492,
            1178.617414248021,
            1064.725955204216,
            1051.5428194993412,
            1006.467018469657,
            926.4182058047494,
            872.782034346103,
            827.2727272727273,
            832.3144736842105,
            843.7565789473684,
            827.70703125,
            790.36328125,
            822.9036458333334,
            824.2038961038961,
            843.5213454075032,
            907.0879689521346,
            931.4002590673575,
            951.5219638242894,
            948.496765847348,
            989.8116129032258,
            1024.8774193548388,
            1071.4541935483871,
            1170.8324742268042,
            1214.9948453608247,
            1267.8754813863927,
            1326.5391527599486,
            1408.0064184852374,
            1512.976893453145,
            1559.1668806161747,
            1534.5727040816328
           ]
          },
          {
           "axis": {
            "matches": true
           },
           "label": "riesgo_e_c",
           "values": [
            684.6181102362204,
            673.1141374837873,
            668.7265725288831,
            662.8393316195372,
            658.123076923077,
            642.0921895006402,
            661.6871794871795,
            692.5019108280255,
            689.1321473951715,
            682.5752895752896,
            673.1428571428571,
            680.864276568502,
            619.1321695760598,
            635.8229426433916,
            636.948362720403,
            616.0639899623588,
            614.0915934755333,
            583.8955974842768,
            621.2005012531329,
            678.2124223602484,
            658.4820766378244,
            744.64625,
            699.0175438596491,
            709.9664596273292,
            738.8298397040691,
            727.5721331689273,
            743.7234567901235,
            733.1940667490729,
            750.8323057953145,
            752.6971569839308,
            832.3510506798517,
            859.4764851485148,
            874.9987654320988,
            800.7543209876543,
            806.6029593094944,
            812.7431761786601,
            893.2976629766298,
            904.1994851994853,
            828.9398034398034,
            813.9374233128834,
            849.3042944785276,
            860.6729088639202,
            954.4283935242839,
            1010.2313432835821,
            998.0461346633416,
            971.2047440699126,
            972.6475716064757,
            964.6857855361596,
            1054.903105590062,
            1056.8706030150754,
            1065.0994962216625,
            1022.4405063291139,
            1025.0798479087453,
            1024.4352791878173,
            1184.4093789607098,
            1135.9936628643852,
            1120.021573604061,
            1020.8781725888325,
            1089.4131812420785,
            1063.1215189873417,
            1132.75,
            1127.6606683804628,
            1127.7192307692308,
            1205.1349614395888,
            1237.8303341902313,
            1215.4518613607188,
            1238.6901408450703,
            1233.9150326797385,
            1204.0026109660575,
            1166.3874345549739,
            1072.711286089239,
            1073.9107611548557,
            1346.3558201058202,
            1227.2830687830688,
            1226.3430079155673,
            1276.4690382081687,
            1243.5942028985507,
            1156.2691292875988,
            1181.6635883905012,
            1188.6103038309116,
            1159.3675889328063,
            1146.8486842105262,
            1119.217105263158,
            1053.2526041666667,
            1098.6966145833333,
            1070.35546875,
            1050.7662337662337,
            1057.2238033635188,
            1044.9003880983182,
            1018.6282383419689,
            1044.828165374677,
            1066.8706338939198,
            1065.9406451612904,
            1070.5445161290322,
            1037.9148387096775,
            1004.2577319587629,
            1086.583762886598,
            1088.6970474967907,
            1105.4492939666238,
            1117.8485237483953,
            1144.9987163029525,
            1128.1386392811296,
            1186.204081632653
           ]
          }
         ],
         "hovertemplate": "%{xaxis.title.text}=%{x}<br>%{yaxis.title.text}=%{y}<extra></extra>",
         "legendgroup": "",
         "marker": {
          "color": "#636efa",
          "symbol": "circle"
         },
         "name": "",
         "showlegend": false,
         "type": "splom"
        }
       ],
       "layout": {
        "dragmode": "select",
        "height": 800,
        "legend": {
         "tracegroupgap": 0
        },
        "margin": {
         "t": 60
        },
        "template": {
         "data": {
          "bar": [
           {
            "error_x": {
             "color": "#2a3f5f"
            },
            "error_y": {
             "color": "#2a3f5f"
            },
            "marker": {
             "line": {
              "color": "#E5ECF6",
              "width": 0.5
             },
             "pattern": {
              "fillmode": "overlay",
              "size": 10,
              "solidity": 0.2
             }
            },
            "type": "bar"
           }
          ],
          "barpolar": [
           {
            "marker": {
             "line": {
              "color": "#E5ECF6",
              "width": 0.5
             },
             "pattern": {
              "fillmode": "overlay",
              "size": 10,
              "solidity": 0.2
             }
            },
            "type": "barpolar"
           }
          ],
          "carpet": [
           {
            "aaxis": {
             "endlinecolor": "#2a3f5f",
             "gridcolor": "white",
             "linecolor": "white",
             "minorgridcolor": "white",
             "startlinecolor": "#2a3f5f"
            },
            "baxis": {
             "endlinecolor": "#2a3f5f",
             "gridcolor": "white",
             "linecolor": "white",
             "minorgridcolor": "white",
             "startlinecolor": "#2a3f5f"
            },
            "type": "carpet"
           }
          ],
          "choropleth": [
           {
            "colorbar": {
             "outlinewidth": 0,
             "ticks": ""
            },
            "type": "choropleth"
           }
          ],
          "contour": [
           {
            "colorbar": {
             "outlinewidth": 0,
             "ticks": ""
            },
            "colorscale": [
             [
              0,
              "#0d0887"
             ],
             [
              0.1111111111111111,
              "#46039f"
             ],
             [
              0.2222222222222222,
              "#7201a8"
             ],
             [
              0.3333333333333333,
              "#9c179e"
             ],
             [
              0.4444444444444444,
              "#bd3786"
             ],
             [
              0.5555555555555556,
              "#d8576b"
             ],
             [
              0.6666666666666666,
              "#ed7953"
             ],
             [
              0.7777777777777778,
              "#fb9f3a"
             ],
             [
              0.8888888888888888,
              "#fdca26"
             ],
             [
              1,
              "#f0f921"
             ]
            ],
            "type": "contour"
           }
          ],
          "contourcarpet": [
           {
            "colorbar": {
             "outlinewidth": 0,
             "ticks": ""
            },
            "type": "contourcarpet"
           }
          ],
          "heatmap": [
           {
            "colorbar": {
             "outlinewidth": 0,
             "ticks": ""
            },
            "colorscale": [
             [
              0,
              "#0d0887"
             ],
             [
              0.1111111111111111,
              "#46039f"
             ],
             [
              0.2222222222222222,
              "#7201a8"
             ],
             [
              0.3333333333333333,
              "#9c179e"
             ],
             [
              0.4444444444444444,
              "#bd3786"
             ],
             [
              0.5555555555555556,
              "#d8576b"
             ],
             [
              0.6666666666666666,
              "#ed7953"
             ],
             [
              0.7777777777777778,
              "#fb9f3a"
             ],
             [
              0.8888888888888888,
              "#fdca26"
             ],
             [
              1,
              "#f0f921"
             ]
            ],
            "type": "heatmap"
           }
          ],
          "heatmapgl": [
           {
            "colorbar": {
             "outlinewidth": 0,
             "ticks": ""
            },
            "colorscale": [
             [
              0,
              "#0d0887"
             ],
             [
              0.1111111111111111,
              "#46039f"
             ],
             [
              0.2222222222222222,
              "#7201a8"
             ],
             [
              0.3333333333333333,
              "#9c179e"
             ],
             [
              0.4444444444444444,
              "#bd3786"
             ],
             [
              0.5555555555555556,
              "#d8576b"
             ],
             [
              0.6666666666666666,
              "#ed7953"
             ],
             [
              0.7777777777777778,
              "#fb9f3a"
             ],
             [
              0.8888888888888888,
              "#fdca26"
             ],
             [
              1,
              "#f0f921"
             ]
            ],
            "type": "heatmapgl"
           }
          ],
          "histogram": [
           {
            "marker": {
             "pattern": {
              "fillmode": "overlay",
              "size": 10,
              "solidity": 0.2
             }
            },
            "type": "histogram"
           }
          ],
          "histogram2d": [
           {
            "colorbar": {
             "outlinewidth": 0,
             "ticks": ""
            },
            "colorscale": [
             [
              0,
              "#0d0887"
             ],
             [
              0.1111111111111111,
              "#46039f"
             ],
             [
              0.2222222222222222,
              "#7201a8"
             ],
             [
              0.3333333333333333,
              "#9c179e"
             ],
             [
              0.4444444444444444,
              "#bd3786"
             ],
             [
              0.5555555555555556,
              "#d8576b"
             ],
             [
              0.6666666666666666,
              "#ed7953"
             ],
             [
              0.7777777777777778,
              "#fb9f3a"
             ],
             [
              0.8888888888888888,
              "#fdca26"
             ],
             [
              1,
              "#f0f921"
             ]
            ],
            "type": "histogram2d"
           }
          ],
          "histogram2dcontour": [
           {
            "colorbar": {
             "outlinewidth": 0,
             "ticks": ""
            },
            "colorscale": [
             [
              0,
              "#0d0887"
             ],
             [
              0.1111111111111111,
              "#46039f"
             ],
             [
              0.2222222222222222,
              "#7201a8"
             ],
             [
              0.3333333333333333,
              "#9c179e"
             ],
             [
              0.4444444444444444,
              "#bd3786"
             ],
             [
              0.5555555555555556,
              "#d8576b"
             ],
             [
              0.6666666666666666,
              "#ed7953"
             ],
             [
              0.7777777777777778,
              "#fb9f3a"
             ],
             [
              0.8888888888888888,
              "#fdca26"
             ],
             [
              1,
              "#f0f921"
             ]
            ],
            "type": "histogram2dcontour"
           }
          ],
          "mesh3d": [
           {
            "colorbar": {
             "outlinewidth": 0,
             "ticks": ""
            },
            "type": "mesh3d"
           }
          ],
          "parcoords": [
           {
            "line": {
             "colorbar": {
              "outlinewidth": 0,
              "ticks": ""
             }
            },
            "type": "parcoords"
           }
          ],
          "pie": [
           {
            "automargin": true,
            "type": "pie"
           }
          ],
          "scatter": [
           {
            "fillpattern": {
             "fillmode": "overlay",
             "size": 10,
             "solidity": 0.2
            },
            "type": "scatter"
           }
          ],
          "scatter3d": [
           {
            "line": {
             "colorbar": {
              "outlinewidth": 0,
              "ticks": ""
             }
            },
            "marker": {
             "colorbar": {
              "outlinewidth": 0,
              "ticks": ""
             }
            },
            "type": "scatter3d"
           }
          ],
          "scattercarpet": [
           {
            "marker": {
             "colorbar": {
              "outlinewidth": 0,
              "ticks": ""
             }
            },
            "type": "scattercarpet"
           }
          ],
          "scattergeo": [
           {
            "marker": {
             "colorbar": {
              "outlinewidth": 0,
              "ticks": ""
             }
            },
            "type": "scattergeo"
           }
          ],
          "scattergl": [
           {
            "marker": {
             "colorbar": {
              "outlinewidth": 0,
              "ticks": ""
             }
            },
            "type": "scattergl"
           }
          ],
          "scattermapbox": [
           {
            "marker": {
             "colorbar": {
              "outlinewidth": 0,
              "ticks": ""
             }
            },
            "type": "scattermapbox"
           }
          ],
          "scatterpolar": [
           {
            "marker": {
             "colorbar": {
              "outlinewidth": 0,
              "ticks": ""
             }
            },
            "type": "scatterpolar"
           }
          ],
          "scatterpolargl": [
           {
            "marker": {
             "colorbar": {
              "outlinewidth": 0,
              "ticks": ""
             }
            },
            "type": "scatterpolargl"
           }
          ],
          "scatterternary": [
           {
            "marker": {
             "colorbar": {
              "outlinewidth": 0,
              "ticks": ""
             }
            },
            "type": "scatterternary"
           }
          ],
          "surface": [
           {
            "colorbar": {
             "outlinewidth": 0,
             "ticks": ""
            },
            "colorscale": [
             [
              0,
              "#0d0887"
             ],
             [
              0.1111111111111111,
              "#46039f"
             ],
             [
              0.2222222222222222,
              "#7201a8"
             ],
             [
              0.3333333333333333,
              "#9c179e"
             ],
             [
              0.4444444444444444,
              "#bd3786"
             ],
             [
              0.5555555555555556,
              "#d8576b"
             ],
             [
              0.6666666666666666,
              "#ed7953"
             ],
             [
              0.7777777777777778,
              "#fb9f3a"
             ],
             [
              0.8888888888888888,
              "#fdca26"
             ],
             [
              1,
              "#f0f921"
             ]
            ],
            "type": "surface"
           }
          ],
          "table": [
           {
            "cells": {
             "fill": {
              "color": "#EBF0F8"
             },
             "line": {
              "color": "white"
             }
            },
            "header": {
             "fill": {
              "color": "#C8D4E3"
             },
             "line": {
              "color": "white"
             }
            },
            "type": "table"
           }
          ]
         },
         "layout": {
          "annotationdefaults": {
           "arrowcolor": "#2a3f5f",
           "arrowhead": 0,
           "arrowwidth": 1
          },
          "autotypenumbers": "strict",
          "coloraxis": {
           "colorbar": {
            "outlinewidth": 0,
            "ticks": ""
           }
          },
          "colorscale": {
           "diverging": [
            [
             0,
             "#8e0152"
            ],
            [
             0.1,
             "#c51b7d"
            ],
            [
             0.2,
             "#de77ae"
            ],
            [
             0.3,
             "#f1b6da"
            ],
            [
             0.4,
             "#fde0ef"
            ],
            [
             0.5,
             "#f7f7f7"
            ],
            [
             0.6,
             "#e6f5d0"
            ],
            [
             0.7,
             "#b8e186"
            ],
            [
             0.8,
             "#7fbc41"
            ],
            [
             0.9,
             "#4d9221"
            ],
            [
             1,
             "#276419"
            ]
           ],
           "sequential": [
            [
             0,
             "#0d0887"
            ],
            [
             0.1111111111111111,
             "#46039f"
            ],
            [
             0.2222222222222222,
             "#7201a8"
            ],
            [
             0.3333333333333333,
             "#9c179e"
            ],
            [
             0.4444444444444444,
             "#bd3786"
            ],
            [
             0.5555555555555556,
             "#d8576b"
            ],
            [
             0.6666666666666666,
             "#ed7953"
            ],
            [
             0.7777777777777778,
             "#fb9f3a"
            ],
            [
             0.8888888888888888,
             "#fdca26"
            ],
            [
             1,
             "#f0f921"
            ]
           ],
           "sequentialminus": [
            [
             0,
             "#0d0887"
            ],
            [
             0.1111111111111111,
             "#46039f"
            ],
            [
             0.2222222222222222,
             "#7201a8"
            ],
            [
             0.3333333333333333,
             "#9c179e"
            ],
            [
             0.4444444444444444,
             "#bd3786"
            ],
            [
             0.5555555555555556,
             "#d8576b"
            ],
            [
             0.6666666666666666,
             "#ed7953"
            ],
            [
             0.7777777777777778,
             "#fb9f3a"
            ],
            [
             0.8888888888888888,
             "#fdca26"
            ],
            [
             1,
             "#f0f921"
            ]
           ]
          },
          "colorway": [
           "#636efa",
           "#EF553B",
           "#00cc96",
           "#ab63fa",
           "#FFA15A",
           "#19d3f3",
           "#FF6692",
           "#B6E880",
           "#FF97FF",
           "#FECB52"
          ],
          "font": {
           "color": "#2a3f5f"
          },
          "geo": {
           "bgcolor": "white",
           "lakecolor": "white",
           "landcolor": "#E5ECF6",
           "showlakes": true,
           "showland": true,
           "subunitcolor": "white"
          },
          "hoverlabel": {
           "align": "left"
          },
          "hovermode": "closest",
          "mapbox": {
           "style": "light"
          },
          "paper_bgcolor": "white",
          "plot_bgcolor": "#E5ECF6",
          "polar": {
           "angularaxis": {
            "gridcolor": "white",
            "linecolor": "white",
            "ticks": ""
           },
           "bgcolor": "#E5ECF6",
           "radialaxis": {
            "gridcolor": "white",
            "linecolor": "white",
            "ticks": ""
           }
          },
          "scene": {
           "xaxis": {
            "backgroundcolor": "#E5ECF6",
            "gridcolor": "white",
            "gridwidth": 2,
            "linecolor": "white",
            "showbackground": true,
            "ticks": "",
            "zerolinecolor": "white"
           },
           "yaxis": {
            "backgroundcolor": "#E5ECF6",
            "gridcolor": "white",
            "gridwidth": 2,
            "linecolor": "white",
            "showbackground": true,
            "ticks": "",
            "zerolinecolor": "white"
           },
           "zaxis": {
            "backgroundcolor": "#E5ECF6",
            "gridcolor": "white",
            "gridwidth": 2,
            "linecolor": "white",
            "showbackground": true,
            "ticks": "",
            "zerolinecolor": "white"
           }
          },
          "shapedefaults": {
           "line": {
            "color": "#2a3f5f"
           }
          },
          "ternary": {
           "aaxis": {
            "gridcolor": "white",
            "linecolor": "white",
            "ticks": ""
           },
           "baxis": {
            "gridcolor": "white",
            "linecolor": "white",
            "ticks": ""
           },
           "bgcolor": "#E5ECF6",
           "caxis": {
            "gridcolor": "white",
            "linecolor": "white",
            "ticks": ""
           }
          },
          "title": {
           "x": 0.05
          },
          "xaxis": {
           "automargin": true,
           "gridcolor": "white",
           "linecolor": "white",
           "ticks": "",
           "title": {
            "standoff": 15
           },
           "zerolinecolor": "white",
           "zerolinewidth": 2
          },
          "yaxis": {
           "automargin": true,
           "gridcolor": "white",
           "linecolor": "white",
           "ticks": "",
           "title": {
            "standoff": 15
           },
           "zerolinecolor": "white",
           "zerolinewidth": 2
          }
         }
        }
       }
      }
     },
     "metadata": {},
     "output_type": "display_data"
    }
   ],
   "source": [
    "base3 = df.groupby(['year_month'])[['clientes_mora+30d','riesgo_a_c','riesgo_b_c','riesgo_c_c','riesgo_d_c','riesgo_e_c']].mean()\n",
    "fig = px.scatter_matrix(base3)\n",
    "fig.update_layout(height=800)\n",
    "fig.show()"
   ]
  },
  {
   "cell_type": "markdown",
   "metadata": {},
   "source": [
    "Dado que esta variable presenta una alta correlación con otras 4 variables, se decide descartarla."
   ]
  },
  {
   "cell_type": "code",
   "execution_count": 202,
   "metadata": {},
   "outputs": [],
   "source": [
    "df.drop(['clientes_mora+30d', 'year_month'], axis=1, inplace=True)"
   ]
  },
  {
   "cell_type": "markdown",
   "metadata": {},
   "source": [
    "## Observar correlación"
   ]
  },
  {
   "cell_type": "code",
   "execution_count": 203,
   "metadata": {},
   "outputs": [
    {
     "data": {
      "application/vnd.plotly.v1+json": {
       "config": {
        "plotlyServerURL": "https://plot.ly"
       },
       "data": [
        {
         "coloraxis": "coloraxis",
         "hovertemplate": "x: %{x}<br>y: %{y}<br>color: %{z}<extra></extra>",
         "name": "0",
         "texttemplate": "%{z}",
         "type": "heatmap",
         "x": [
          "saldo_a_la_fecha",
          "v1_2",
          "v2_3",
          "v1_3",
          "v3_4",
          "v+4",
          "v3_6",
          "v+6",
          "v1_4",
          "v4_6",
          "v6_12",
          "v12_18",
          "v+12",
          "v+18",
          "riesgo_a_c",
          "riesgo_b_c",
          "riesgo_c_c",
          "riesgo_d_c",
          "riesgo_e_c"
         ],
         "xaxis": "x",
         "y": [
          "saldo_a_la_fecha",
          "v1_2",
          "v2_3",
          "v1_3",
          "v3_4",
          "v+4",
          "v3_6",
          "v+6",
          "v1_4",
          "v4_6",
          "v6_12",
          "v12_18",
          "v+12",
          "v+18",
          "riesgo_a_c",
          "riesgo_b_c",
          "riesgo_c_c",
          "riesgo_d_c",
          "riesgo_e_c"
         ],
         "yaxis": "y",
         "z": [
          [
           1,
           0.3813347966432945,
           0.3773229762996184,
           0.4728749729477247,
           0.046443875164400045,
           0.05594928004914795,
           0.5719399202766939,
           0.40080339772189,
           0.2220809257043695,
           0.21624128872927692,
           0.5192161578776334,
           0.22363057228868147,
           0.549473135695323,
           0.21363101949638735,
           0.321494458178404,
           0.23428215690452409,
           0.07358394605827225,
           0.2705726187609948,
           0.2451122519721746
          ],
          [
           0.3813347966432945,
           1,
           0.9366232884600176,
           -0.040355114335033616,
           0.06952040065421058,
           0.06902274731202254,
           0.7404508139902657,
           0.4669044657599531,
           -0.0305567032853445,
           -0.03039824289176386,
           -0.04385745642691011,
           -0.029408980412955504,
           -0.04056103612616169,
           -0.0250034639233861,
           0.5526050641320145,
           0.5413515125468231,
           0.14471619490384133,
           0.5921401907708896,
           0.43773486911910797
          ],
          [
           0.3773229762996184,
           0.9366232884600176,
           1,
           -0.03860966627964049,
           0.08061944469139254,
           0.0771061819171046,
           0.7663736055784315,
           0.4580006404384391,
           -0.029235058204976582,
           -0.029083451574305523,
           -0.04196052432062744,
           -0.028136976888279833,
           -0.03880668149731922,
           -0.02392200874224588,
           0.5389899592808665,
           0.5104981530644949,
           0.1533028895084042,
           0.602944477422053,
           0.44433769775841475
          ],
          [
           0.4728749729477247,
           -0.040355114335033616,
           -0.03860966627964049,
           1,
           -0.018860626773183575,
           -0.015594234316032218,
           0.30266586795090306,
           -0.037846098404874726,
           -0.02938535015570298,
           -0.029232964143779468,
           0.5725031749354013,
           -0.028281623808920093,
           0.5717449899984497,
           -0.024044987302231827,
           -0.03171027749375781,
           -0.009797294333906663,
           -0.006271095823440555,
           0.0018005927271319247,
           -0.021143830887535794
          ],
          [
           0.046443875164400045,
           0.06952040065421058,
           0.08061944469139254,
           -0.018860626773183575,
           1,
           0.8766516932294566,
           -0.024180198067250854,
           -0.018393072391591606,
           -0.01428117812525918,
           -0.014207119052675582,
           -0.020497503984792838,
           -0.013744770953780102,
           -0.018956867710941648,
           -0.011685780324660376,
           0.17918133748352294,
           0.1966499146994286,
           0.3206112983370382,
           0.08621264039029987,
           0.4773978137857315
          ],
          [
           0.05594928004914795,
           0.06902274731202254,
           0.0771061819171046,
           -0.015594234316032218,
           0.8766516932294566,
           1,
           -0.019992531478588274,
           -0.015207653707141725,
           -0.01180788107799948,
           -0.011746647984052944,
           -0.016947627662466578,
           -0.011364372003702113,
           -0.015673807691415794,
           -0.009661969283414146,
           0.17976562166865892,
           0.19411646606939822,
           0.45905590954057635,
           0.07969143009257089,
           0.5066427462398714
          ],
          [
           0.5719399202766939,
           0.7404508139902657,
           0.7663736055784315,
           0.30266586795090306,
           -0.024180198067250854,
           -0.019992531478588274,
           1,
           0.41302379631026365,
           -0.03767338146209946,
           -0.03747801552886123,
           0.24958470752058115,
           -0.03625835310709287,
           0.25285890066071404,
           -0.030826788657902622,
           0.47400824758960375,
           0.4321752758757026,
           0.09858765442766007,
           0.569819657268546,
           0.37329476756508734
          ],
          [
           0.40080339772189,
           0.4669044657599531,
           0.4580006404384391,
           -0.037846098404874726,
           -0.018393072391591606,
           -0.015207653707141725,
           0.41302379631026365,
           1,
           -0.028656888191784476,
           -0.028508279824603883,
           -0.04113068787118775,
           -0.027580523188595038,
           -0.03803921733166247,
           -0.023448912775988172,
           0.37741303450863267,
           0.23776843517839108,
           0.05903972955905491,
           0.31864985187291706,
           0.45369922347189007
          ],
          [
           0.2220809257043695,
           -0.0305567032853445,
           -0.029235058204976582,
           -0.02938535015570298,
           -0.01428117812525918,
           -0.01180788107799948,
           -0.03767338146209946,
           -0.028656888191784476,
           1,
           0.928171280508537,
           0.24369882166849738,
           0.872821327321826,
           -0.029535296055663796,
           0.6964776682238287,
           0.00966325795939367,
           0.00407819390790356,
           -0.004270737482260231,
           -0.012850669896353532,
           -0.013538776170442447
          ],
          [
           0.21624128872927692,
           -0.03039824289176386,
           -0.029083451574305523,
           -0.029232964143779468,
           -0.014207119052675582,
           -0.011746647984052944,
           -0.03747801552886123,
           -0.028508279824603883,
           0.928171280508537,
           1,
           0.2555855699341165,
           0.8947591139485073,
           -0.029382132457032282,
           0.7195865716483951,
           0.009636705274585664,
           0.0031839490743893915,
           -0.003921793036601499,
           -0.012129888421234405,
           -0.012411992235989823
          ],
          [
           0.5192161578776334,
           -0.04385745642691011,
           -0.04196052432062744,
           0.5725031749354013,
           -0.020497503984792838,
           -0.016947627662466578,
           0.24958470752058115,
           -0.04113068787118775,
           0.24369882166849738,
           0.2555855699341165,
           1,
           0.2535586985057189,
           0.5643858147429608,
           0.21336104590805566,
           -0.024289229475009996,
           -0.0070369723230286904,
           -0.006304691349219638,
           0.0009573178112643499,
           -0.020310903074028965
          ],
          [
           0.22363057228868147,
           -0.029408980412955504,
           -0.028136976888279833,
           -0.028281623808920093,
           -0.013744770953780102,
           -0.011364372003702113,
           -0.03625835310709287,
           -0.027580523188595038,
           0.872821327321826,
           0.8947591139485073,
           0.2535586985057189,
           1,
           -0.0284259376766092,
           0.8453816252308544,
           0.00860736843636703,
           0.0017905002629878782,
           -0.004193649162147824,
           -0.011734542326548077,
           -0.009613970435719228
          ],
          [
           0.549473135695323,
           -0.04056103612616169,
           -0.03880668149731922,
           0.5717449899984497,
           -0.018956867710941648,
           -0.015673807691415794,
           0.25285890066071404,
           -0.03803921733166247,
           -0.029535296055663796,
           -0.029382132457032282,
           0.5643858147429608,
           -0.0284259376766092,
           1,
           -0.024167682701179895,
           -0.03284915665225914,
           -0.015745697662142587,
           -0.004788888362220927,
           -0.0041148201379674985,
           -0.01621861942248881
          ],
          [
           0.21363101949638735,
           -0.0250034639233861,
           -0.02392200874224588,
           -0.024044987302231827,
           -0.011685780324660376,
           -0.009661969283414146,
           -0.030826788657902622,
           -0.023448912775988172,
           0.6964776682238287,
           0.7195865716483951,
           0.21336104590805566,
           0.8453816252308544,
           -0.024167682701179895,
           1,
           0.007978133848112804,
           0.0020473988642814517,
           -0.003961592251157628,
           -0.01037514361629695,
           -0.0032774219540531065
          ],
          [
           0.321494458178404,
           0.5526050641320145,
           0.5389899592808665,
           -0.03171027749375781,
           0.17918133748352294,
           0.17976562166865892,
           0.47400824758960375,
           0.37741303450863267,
           0.00966325795939367,
           0.009636705274585664,
           -0.024289229475009996,
           0.00860736843636703,
           -0.03284915665225914,
           0.007978133848112804,
           1,
           0.906977401373857,
           0.25246833295576354,
           0.8519658105817,
           0.7017619566768922
          ],
          [
           0.23428215690452409,
           0.5413515125468231,
           0.5104981530644949,
           -0.009797294333906663,
           0.1966499146994286,
           0.19411646606939822,
           0.4321752758757026,
           0.23776843517839108,
           0.00407819390790356,
           0.0031839490743893915,
           -0.0070369723230286904,
           0.0017905002629878782,
           -0.015745697662142587,
           0.0020473988642814517,
           0.906977401373857,
           1,
           0.28931524856828583,
           0.8713265936050959,
           0.6480377555335962
          ],
          [
           0.07358394605827225,
           0.14471619490384133,
           0.1533028895084042,
           -0.006271095823440555,
           0.3206112983370382,
           0.45905590954057635,
           0.09858765442766007,
           0.05903972955905491,
           -0.004270737482260231,
           -0.003921793036601499,
           -0.006304691349219638,
           -0.004193649162147824,
           -0.004788888362220927,
           -0.003961592251157628,
           0.25246833295576354,
           0.28931524856828583,
           1,
           0.21289892544346584,
           0.36737751453074374
          ],
          [
           0.2705726187609948,
           0.5921401907708896,
           0.602944477422053,
           0.0018005927271319247,
           0.08621264039029987,
           0.07969143009257089,
           0.569819657268546,
           0.31864985187291706,
           -0.012850669896353532,
           -0.012129888421234405,
           0.0009573178112643499,
           -0.011734542326548077,
           -0.0041148201379674985,
           -0.01037514361629695,
           0.8519658105817,
           0.8713265936050959,
           0.21289892544346584,
           1,
           0.5791479037997481
          ],
          [
           0.2451122519721746,
           0.43773486911910797,
           0.44433769775841475,
           -0.021143830887535794,
           0.4773978137857315,
           0.5066427462398714,
           0.37329476756508734,
           0.45369922347189007,
           -0.013538776170442447,
           -0.012411992235989823,
           -0.020310903074028965,
           -0.009613970435719228,
           -0.01621861942248881,
           -0.0032774219540531065,
           0.7017619566768922,
           0.6480377555335962,
           0.36737751453074374,
           0.5791479037997481,
           1
          ]
         ]
        }
       ],
       "layout": {
        "coloraxis": {
         "colorscale": [
          [
           0,
           "#0d0887"
          ],
          [
           0.1111111111111111,
           "#46039f"
          ],
          [
           0.2222222222222222,
           "#7201a8"
          ],
          [
           0.3333333333333333,
           "#9c179e"
          ],
          [
           0.4444444444444444,
           "#bd3786"
          ],
          [
           0.5555555555555556,
           "#d8576b"
          ],
          [
           0.6666666666666666,
           "#ed7953"
          ],
          [
           0.7777777777777778,
           "#fb9f3a"
          ],
          [
           0.8888888888888888,
           "#fdca26"
          ],
          [
           1,
           "#f0f921"
          ]
         ]
        },
        "height": 1000,
        "margin": {
         "t": 60
        },
        "template": {
         "data": {
          "bar": [
           {
            "error_x": {
             "color": "#2a3f5f"
            },
            "error_y": {
             "color": "#2a3f5f"
            },
            "marker": {
             "line": {
              "color": "#E5ECF6",
              "width": 0.5
             },
             "pattern": {
              "fillmode": "overlay",
              "size": 10,
              "solidity": 0.2
             }
            },
            "type": "bar"
           }
          ],
          "barpolar": [
           {
            "marker": {
             "line": {
              "color": "#E5ECF6",
              "width": 0.5
             },
             "pattern": {
              "fillmode": "overlay",
              "size": 10,
              "solidity": 0.2
             }
            },
            "type": "barpolar"
           }
          ],
          "carpet": [
           {
            "aaxis": {
             "endlinecolor": "#2a3f5f",
             "gridcolor": "white",
             "linecolor": "white",
             "minorgridcolor": "white",
             "startlinecolor": "#2a3f5f"
            },
            "baxis": {
             "endlinecolor": "#2a3f5f",
             "gridcolor": "white",
             "linecolor": "white",
             "minorgridcolor": "white",
             "startlinecolor": "#2a3f5f"
            },
            "type": "carpet"
           }
          ],
          "choropleth": [
           {
            "colorbar": {
             "outlinewidth": 0,
             "ticks": ""
            },
            "type": "choropleth"
           }
          ],
          "contour": [
           {
            "colorbar": {
             "outlinewidth": 0,
             "ticks": ""
            },
            "colorscale": [
             [
              0,
              "#0d0887"
             ],
             [
              0.1111111111111111,
              "#46039f"
             ],
             [
              0.2222222222222222,
              "#7201a8"
             ],
             [
              0.3333333333333333,
              "#9c179e"
             ],
             [
              0.4444444444444444,
              "#bd3786"
             ],
             [
              0.5555555555555556,
              "#d8576b"
             ],
             [
              0.6666666666666666,
              "#ed7953"
             ],
             [
              0.7777777777777778,
              "#fb9f3a"
             ],
             [
              0.8888888888888888,
              "#fdca26"
             ],
             [
              1,
              "#f0f921"
             ]
            ],
            "type": "contour"
           }
          ],
          "contourcarpet": [
           {
            "colorbar": {
             "outlinewidth": 0,
             "ticks": ""
            },
            "type": "contourcarpet"
           }
          ],
          "heatmap": [
           {
            "colorbar": {
             "outlinewidth": 0,
             "ticks": ""
            },
            "colorscale": [
             [
              0,
              "#0d0887"
             ],
             [
              0.1111111111111111,
              "#46039f"
             ],
             [
              0.2222222222222222,
              "#7201a8"
             ],
             [
              0.3333333333333333,
              "#9c179e"
             ],
             [
              0.4444444444444444,
              "#bd3786"
             ],
             [
              0.5555555555555556,
              "#d8576b"
             ],
             [
              0.6666666666666666,
              "#ed7953"
             ],
             [
              0.7777777777777778,
              "#fb9f3a"
             ],
             [
              0.8888888888888888,
              "#fdca26"
             ],
             [
              1,
              "#f0f921"
             ]
            ],
            "type": "heatmap"
           }
          ],
          "heatmapgl": [
           {
            "colorbar": {
             "outlinewidth": 0,
             "ticks": ""
            },
            "colorscale": [
             [
              0,
              "#0d0887"
             ],
             [
              0.1111111111111111,
              "#46039f"
             ],
             [
              0.2222222222222222,
              "#7201a8"
             ],
             [
              0.3333333333333333,
              "#9c179e"
             ],
             [
              0.4444444444444444,
              "#bd3786"
             ],
             [
              0.5555555555555556,
              "#d8576b"
             ],
             [
              0.6666666666666666,
              "#ed7953"
             ],
             [
              0.7777777777777778,
              "#fb9f3a"
             ],
             [
              0.8888888888888888,
              "#fdca26"
             ],
             [
              1,
              "#f0f921"
             ]
            ],
            "type": "heatmapgl"
           }
          ],
          "histogram": [
           {
            "marker": {
             "pattern": {
              "fillmode": "overlay",
              "size": 10,
              "solidity": 0.2
             }
            },
            "type": "histogram"
           }
          ],
          "histogram2d": [
           {
            "colorbar": {
             "outlinewidth": 0,
             "ticks": ""
            },
            "colorscale": [
             [
              0,
              "#0d0887"
             ],
             [
              0.1111111111111111,
              "#46039f"
             ],
             [
              0.2222222222222222,
              "#7201a8"
             ],
             [
              0.3333333333333333,
              "#9c179e"
             ],
             [
              0.4444444444444444,
              "#bd3786"
             ],
             [
              0.5555555555555556,
              "#d8576b"
             ],
             [
              0.6666666666666666,
              "#ed7953"
             ],
             [
              0.7777777777777778,
              "#fb9f3a"
             ],
             [
              0.8888888888888888,
              "#fdca26"
             ],
             [
              1,
              "#f0f921"
             ]
            ],
            "type": "histogram2d"
           }
          ],
          "histogram2dcontour": [
           {
            "colorbar": {
             "outlinewidth": 0,
             "ticks": ""
            },
            "colorscale": [
             [
              0,
              "#0d0887"
             ],
             [
              0.1111111111111111,
              "#46039f"
             ],
             [
              0.2222222222222222,
              "#7201a8"
             ],
             [
              0.3333333333333333,
              "#9c179e"
             ],
             [
              0.4444444444444444,
              "#bd3786"
             ],
             [
              0.5555555555555556,
              "#d8576b"
             ],
             [
              0.6666666666666666,
              "#ed7953"
             ],
             [
              0.7777777777777778,
              "#fb9f3a"
             ],
             [
              0.8888888888888888,
              "#fdca26"
             ],
             [
              1,
              "#f0f921"
             ]
            ],
            "type": "histogram2dcontour"
           }
          ],
          "mesh3d": [
           {
            "colorbar": {
             "outlinewidth": 0,
             "ticks": ""
            },
            "type": "mesh3d"
           }
          ],
          "parcoords": [
           {
            "line": {
             "colorbar": {
              "outlinewidth": 0,
              "ticks": ""
             }
            },
            "type": "parcoords"
           }
          ],
          "pie": [
           {
            "automargin": true,
            "type": "pie"
           }
          ],
          "scatter": [
           {
            "fillpattern": {
             "fillmode": "overlay",
             "size": 10,
             "solidity": 0.2
            },
            "type": "scatter"
           }
          ],
          "scatter3d": [
           {
            "line": {
             "colorbar": {
              "outlinewidth": 0,
              "ticks": ""
             }
            },
            "marker": {
             "colorbar": {
              "outlinewidth": 0,
              "ticks": ""
             }
            },
            "type": "scatter3d"
           }
          ],
          "scattercarpet": [
           {
            "marker": {
             "colorbar": {
              "outlinewidth": 0,
              "ticks": ""
             }
            },
            "type": "scattercarpet"
           }
          ],
          "scattergeo": [
           {
            "marker": {
             "colorbar": {
              "outlinewidth": 0,
              "ticks": ""
             }
            },
            "type": "scattergeo"
           }
          ],
          "scattergl": [
           {
            "marker": {
             "colorbar": {
              "outlinewidth": 0,
              "ticks": ""
             }
            },
            "type": "scattergl"
           }
          ],
          "scattermapbox": [
           {
            "marker": {
             "colorbar": {
              "outlinewidth": 0,
              "ticks": ""
             }
            },
            "type": "scattermapbox"
           }
          ],
          "scatterpolar": [
           {
            "marker": {
             "colorbar": {
              "outlinewidth": 0,
              "ticks": ""
             }
            },
            "type": "scatterpolar"
           }
          ],
          "scatterpolargl": [
           {
            "marker": {
             "colorbar": {
              "outlinewidth": 0,
              "ticks": ""
             }
            },
            "type": "scatterpolargl"
           }
          ],
          "scatterternary": [
           {
            "marker": {
             "colorbar": {
              "outlinewidth": 0,
              "ticks": ""
             }
            },
            "type": "scatterternary"
           }
          ],
          "surface": [
           {
            "colorbar": {
             "outlinewidth": 0,
             "ticks": ""
            },
            "colorscale": [
             [
              0,
              "#0d0887"
             ],
             [
              0.1111111111111111,
              "#46039f"
             ],
             [
              0.2222222222222222,
              "#7201a8"
             ],
             [
              0.3333333333333333,
              "#9c179e"
             ],
             [
              0.4444444444444444,
              "#bd3786"
             ],
             [
              0.5555555555555556,
              "#d8576b"
             ],
             [
              0.6666666666666666,
              "#ed7953"
             ],
             [
              0.7777777777777778,
              "#fb9f3a"
             ],
             [
              0.8888888888888888,
              "#fdca26"
             ],
             [
              1,
              "#f0f921"
             ]
            ],
            "type": "surface"
           }
          ],
          "table": [
           {
            "cells": {
             "fill": {
              "color": "#EBF0F8"
             },
             "line": {
              "color": "white"
             }
            },
            "header": {
             "fill": {
              "color": "#C8D4E3"
             },
             "line": {
              "color": "white"
             }
            },
            "type": "table"
           }
          ]
         },
         "layout": {
          "annotationdefaults": {
           "arrowcolor": "#2a3f5f",
           "arrowhead": 0,
           "arrowwidth": 1
          },
          "autotypenumbers": "strict",
          "coloraxis": {
           "colorbar": {
            "outlinewidth": 0,
            "ticks": ""
           }
          },
          "colorscale": {
           "diverging": [
            [
             0,
             "#8e0152"
            ],
            [
             0.1,
             "#c51b7d"
            ],
            [
             0.2,
             "#de77ae"
            ],
            [
             0.3,
             "#f1b6da"
            ],
            [
             0.4,
             "#fde0ef"
            ],
            [
             0.5,
             "#f7f7f7"
            ],
            [
             0.6,
             "#e6f5d0"
            ],
            [
             0.7,
             "#b8e186"
            ],
            [
             0.8,
             "#7fbc41"
            ],
            [
             0.9,
             "#4d9221"
            ],
            [
             1,
             "#276419"
            ]
           ],
           "sequential": [
            [
             0,
             "#0d0887"
            ],
            [
             0.1111111111111111,
             "#46039f"
            ],
            [
             0.2222222222222222,
             "#7201a8"
            ],
            [
             0.3333333333333333,
             "#9c179e"
            ],
            [
             0.4444444444444444,
             "#bd3786"
            ],
            [
             0.5555555555555556,
             "#d8576b"
            ],
            [
             0.6666666666666666,
             "#ed7953"
            ],
            [
             0.7777777777777778,
             "#fb9f3a"
            ],
            [
             0.8888888888888888,
             "#fdca26"
            ],
            [
             1,
             "#f0f921"
            ]
           ],
           "sequentialminus": [
            [
             0,
             "#0d0887"
            ],
            [
             0.1111111111111111,
             "#46039f"
            ],
            [
             0.2222222222222222,
             "#7201a8"
            ],
            [
             0.3333333333333333,
             "#9c179e"
            ],
            [
             0.4444444444444444,
             "#bd3786"
            ],
            [
             0.5555555555555556,
             "#d8576b"
            ],
            [
             0.6666666666666666,
             "#ed7953"
            ],
            [
             0.7777777777777778,
             "#fb9f3a"
            ],
            [
             0.8888888888888888,
             "#fdca26"
            ],
            [
             1,
             "#f0f921"
            ]
           ]
          },
          "colorway": [
           "#636efa",
           "#EF553B",
           "#00cc96",
           "#ab63fa",
           "#FFA15A",
           "#19d3f3",
           "#FF6692",
           "#B6E880",
           "#FF97FF",
           "#FECB52"
          ],
          "font": {
           "color": "#2a3f5f"
          },
          "geo": {
           "bgcolor": "white",
           "lakecolor": "white",
           "landcolor": "#E5ECF6",
           "showlakes": true,
           "showland": true,
           "subunitcolor": "white"
          },
          "hoverlabel": {
           "align": "left"
          },
          "hovermode": "closest",
          "mapbox": {
           "style": "light"
          },
          "paper_bgcolor": "white",
          "plot_bgcolor": "#E5ECF6",
          "polar": {
           "angularaxis": {
            "gridcolor": "white",
            "linecolor": "white",
            "ticks": ""
           },
           "bgcolor": "#E5ECF6",
           "radialaxis": {
            "gridcolor": "white",
            "linecolor": "white",
            "ticks": ""
           }
          },
          "scene": {
           "xaxis": {
            "backgroundcolor": "#E5ECF6",
            "gridcolor": "white",
            "gridwidth": 2,
            "linecolor": "white",
            "showbackground": true,
            "ticks": "",
            "zerolinecolor": "white"
           },
           "yaxis": {
            "backgroundcolor": "#E5ECF6",
            "gridcolor": "white",
            "gridwidth": 2,
            "linecolor": "white",
            "showbackground": true,
            "ticks": "",
            "zerolinecolor": "white"
           },
           "zaxis": {
            "backgroundcolor": "#E5ECF6",
            "gridcolor": "white",
            "gridwidth": 2,
            "linecolor": "white",
            "showbackground": true,
            "ticks": "",
            "zerolinecolor": "white"
           }
          },
          "shapedefaults": {
           "line": {
            "color": "#2a3f5f"
           }
          },
          "ternary": {
           "aaxis": {
            "gridcolor": "white",
            "linecolor": "white",
            "ticks": ""
           },
           "baxis": {
            "gridcolor": "white",
            "linecolor": "white",
            "ticks": ""
           },
           "bgcolor": "#E5ECF6",
           "caxis": {
            "gridcolor": "white",
            "linecolor": "white",
            "ticks": ""
           }
          },
          "title": {
           "x": 0.05
          },
          "xaxis": {
           "automargin": true,
           "gridcolor": "white",
           "linecolor": "white",
           "ticks": "",
           "title": {
            "standoff": 15
           },
           "zerolinecolor": "white",
           "zerolinewidth": 2
          },
          "yaxis": {
           "automargin": true,
           "gridcolor": "white",
           "linecolor": "white",
           "ticks": "",
           "title": {
            "standoff": 15
           },
           "zerolinecolor": "white",
           "zerolinewidth": 2
          }
         }
        },
        "xaxis": {
         "anchor": "y",
         "constrain": "domain",
         "domain": [
          0,
          1
         ],
         "scaleanchor": "y"
        },
        "yaxis": {
         "anchor": "x",
         "autorange": "reversed",
         "constrain": "domain",
         "domain": [
          0,
          1
         ]
        }
       }
      }
     },
     "metadata": {},
     "output_type": "display_data"
    }
   ],
   "source": [
    "cols_num = df.select_dtypes(exclude=['object', 'datetime'])\n",
    "df_corr = cols_num.corr()\n",
    "fig = px.imshow(df_corr,  text_auto=True)\n",
    "fig.update_layout(height=1000)\n",
    "fig.show()"
   ]
  }
 ],
 "metadata": {
  "kernelspec": {
   "display_name": "Python 3",
   "language": "python",
   "name": "python3"
  },
  "language_info": {
   "codemirror_mode": {
    "name": "ipython",
    "version": 3
   },
   "file_extension": ".py",
   "mimetype": "text/x-python",
   "name": "python",
   "nbconvert_exporter": "python",
   "pygments_lexer": "ipython3",
   "version": "3.11.4"
  },
  "orig_nbformat": 4
 },
 "nbformat": 4,
 "nbformat_minor": 2
}

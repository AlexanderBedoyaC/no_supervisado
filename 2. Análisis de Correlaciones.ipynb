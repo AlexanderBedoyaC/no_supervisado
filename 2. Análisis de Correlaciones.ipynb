{
 "cells": [
  {
   "cell_type": "markdown",
   "metadata": {},
   "source": [
    "# 1. Importar librerías"
   ]
  },
  {
   "cell_type": "code",
   "execution_count": 1,
   "metadata": {},
   "outputs": [
    {
     "data": {
      "text/plain": [
       "<module 'utils.utils' from 'c:\\\\Users\\\\USUARIO\\\\OneDrive - Universidad de Antioquia\\\\Aprendizaje\\\\Universidad\\\\2023-2\\\\Analítica II\\\\Caso Estudio No Supervisado\\\\no_supervisado\\\\utils\\\\utils.py'>"
      ]
     },
     "execution_count": 1,
     "metadata": {},
     "output_type": "execute_result"
    }
   ],
   "source": [
    "import pandas as pd\n",
    "import numpy as np\n",
    "import plotly.express as px\n",
    "pd.options.display.float_format = '{:.2f}'.format\n",
    "\n",
    "from importlib import reload\n",
    "import utils.utils as utils\n",
    "reload(utils)  # Recarga el módulo"
   ]
  },
  {
   "cell_type": "markdown",
   "metadata": {},
   "source": [
    "# 2. Importar base de datos"
   ]
  },
  {
   "cell_type": "code",
   "execution_count": 2,
   "metadata": {},
   "outputs": [],
   "source": [
    "df = pd.read_csv('datasets/data_limpio.csv')"
   ]
  },
  {
   "cell_type": "code",
   "execution_count": 3,
   "metadata": {},
   "outputs": [
    {
     "data": {
      "text/html": [
       "<div>\n",
       "<style scoped>\n",
       "    .dataframe tbody tr th:only-of-type {\n",
       "        vertical-align: middle;\n",
       "    }\n",
       "\n",
       "    .dataframe tbody tr th {\n",
       "        vertical-align: top;\n",
       "    }\n",
       "\n",
       "    .dataframe thead th {\n",
       "        text-align: right;\n",
       "    }\n",
       "</style>\n",
       "<table border=\"1\" class=\"dataframe\">\n",
       "  <thead>\n",
       "    <tr style=\"text-align: right;\">\n",
       "      <th></th>\n",
       "      <th>tipo_entidad</th>\n",
       "      <th>fecha_corte</th>\n",
       "      <th>unicap</th>\n",
       "      <th>desc_unicap</th>\n",
       "      <th>renglon</th>\n",
       "      <th>desc_renglon</th>\n",
       "      <th>saldo_a_la_fecha</th>\n",
       "      <th>vigente</th>\n",
       "      <th>v1_2</th>\n",
       "      <th>v2_3</th>\n",
       "      <th>...</th>\n",
       "      <th>riesgo_a_c</th>\n",
       "      <th>riesgo_a_s</th>\n",
       "      <th>riesgo_b_c</th>\n",
       "      <th>riesgo_b_s</th>\n",
       "      <th>riesgo_c_c</th>\n",
       "      <th>riesgo_c_s</th>\n",
       "      <th>riesgo_d_c</th>\n",
       "      <th>riesgo_d_s</th>\n",
       "      <th>riesgo_e_c</th>\n",
       "      <th>riesgo_e_s</th>\n",
       "    </tr>\n",
       "  </thead>\n",
       "  <tbody>\n",
       "    <tr>\n",
       "      <th>0</th>\n",
       "      <td>ESTABLECIMIENTOS BANCARIOS</td>\n",
       "      <td>2015-01-31</td>\n",
       "      <td>1</td>\n",
       "      <td>CRÉDITO ROTATIVO</td>\n",
       "      <td>5</td>\n",
       "      <td>CRÉDITO ROTATIVO TOTAL</td>\n",
       "      <td>37651.35</td>\n",
       "      <td>34981.44</td>\n",
       "      <td>768.06</td>\n",
       "      <td>579.92</td>\n",
       "      <td>...</td>\n",
       "      <td>6176</td>\n",
       "      <td>32878.87</td>\n",
       "      <td>270</td>\n",
       "      <td>1835.21</td>\n",
       "      <td>142</td>\n",
       "      <td>975.34</td>\n",
       "      <td>326</td>\n",
       "      <td>1368.70</td>\n",
       "      <td>69</td>\n",
       "      <td>593.09</td>\n",
       "    </tr>\n",
       "    <tr>\n",
       "      <th>1</th>\n",
       "      <td>ESTABLECIMIENTOS BANCARIOS</td>\n",
       "      <td>2015-01-31</td>\n",
       "      <td>1</td>\n",
       "      <td>CRÉDITO ROTATIVO</td>\n",
       "      <td>5</td>\n",
       "      <td>CRÉDITO ROTATIVO TOTAL</td>\n",
       "      <td>826852.23</td>\n",
       "      <td>782016.60</td>\n",
       "      <td>9271.46</td>\n",
       "      <td>8065.65</td>\n",
       "      <td>...</td>\n",
       "      <td>125128</td>\n",
       "      <td>772666.40</td>\n",
       "      <td>1840</td>\n",
       "      <td>11740.70</td>\n",
       "      <td>1486</td>\n",
       "      <td>9872.85</td>\n",
       "      <td>1854</td>\n",
       "      <td>14111.82</td>\n",
       "      <td>2469</td>\n",
       "      <td>18460.45</td>\n",
       "    </tr>\n",
       "    <tr>\n",
       "      <th>2</th>\n",
       "      <td>ESTABLECIMIENTOS BANCARIOS</td>\n",
       "      <td>2015-01-31</td>\n",
       "      <td>1</td>\n",
       "      <td>CRÉDITO ROTATIVO</td>\n",
       "      <td>5</td>\n",
       "      <td>CRÉDITO ROTATIVO TOTAL</td>\n",
       "      <td>108451.56</td>\n",
       "      <td>104345.67</td>\n",
       "      <td>1359.38</td>\n",
       "      <td>845.85</td>\n",
       "      <td>...</td>\n",
       "      <td>9723</td>\n",
       "      <td>100426.47</td>\n",
       "      <td>324</td>\n",
       "      <td>2920.77</td>\n",
       "      <td>207</td>\n",
       "      <td>1936.82</td>\n",
       "      <td>165</td>\n",
       "      <td>1623.50</td>\n",
       "      <td>144</td>\n",
       "      <td>1544.01</td>\n",
       "    </tr>\n",
       "    <tr>\n",
       "      <th>3</th>\n",
       "      <td>ESTABLECIMIENTOS BANCARIOS</td>\n",
       "      <td>2015-01-31</td>\n",
       "      <td>1</td>\n",
       "      <td>CRÉDITO ROTATIVO</td>\n",
       "      <td>5</td>\n",
       "      <td>CRÉDITO ROTATIVO TOTAL</td>\n",
       "      <td>209307.78</td>\n",
       "      <td>196907.74</td>\n",
       "      <td>6328.34</td>\n",
       "      <td>2236.77</td>\n",
       "      <td>...</td>\n",
       "      <td>91873</td>\n",
       "      <td>196131.43</td>\n",
       "      <td>4802</td>\n",
       "      <td>6541.01</td>\n",
       "      <td>2385</td>\n",
       "      <td>2574.77</td>\n",
       "      <td>2515</td>\n",
       "      <td>3677.98</td>\n",
       "      <td>160</td>\n",
       "      <td>382.60</td>\n",
       "    </tr>\n",
       "    <tr>\n",
       "      <th>4</th>\n",
       "      <td>ESTABLECIMIENTOS BANCARIOS</td>\n",
       "      <td>2015-01-31</td>\n",
       "      <td>1</td>\n",
       "      <td>CRÉDITO ROTATIVO</td>\n",
       "      <td>5</td>\n",
       "      <td>CRÉDITO ROTATIVO TOTAL</td>\n",
       "      <td>243818.01</td>\n",
       "      <td>227311.26</td>\n",
       "      <td>6333.85</td>\n",
       "      <td>2691.83</td>\n",
       "      <td>...</td>\n",
       "      <td>32098</td>\n",
       "      <td>224904.58</td>\n",
       "      <td>951</td>\n",
       "      <td>5969.18</td>\n",
       "      <td>848</td>\n",
       "      <td>5034.27</td>\n",
       "      <td>521</td>\n",
       "      <td>3607.32</td>\n",
       "      <td>520</td>\n",
       "      <td>4302.66</td>\n",
       "    </tr>\n",
       "  </tbody>\n",
       "</table>\n",
       "<p>5 rows × 32 columns</p>\n",
       "</div>"
      ],
      "text/plain": [
       "                 tipo_entidad fecha_corte  unicap       desc_unicap  renglon  \\\n",
       "0  ESTABLECIMIENTOS BANCARIOS  2015-01-31       1  CRÉDITO ROTATIVO        5   \n",
       "1  ESTABLECIMIENTOS BANCARIOS  2015-01-31       1  CRÉDITO ROTATIVO        5   \n",
       "2  ESTABLECIMIENTOS BANCARIOS  2015-01-31       1  CRÉDITO ROTATIVO        5   \n",
       "3  ESTABLECIMIENTOS BANCARIOS  2015-01-31       1  CRÉDITO ROTATIVO        5   \n",
       "4  ESTABLECIMIENTOS BANCARIOS  2015-01-31       1  CRÉDITO ROTATIVO        5   \n",
       "\n",
       "             desc_renglon  saldo_a_la_fecha   vigente    v1_2    v2_3  ...  \\\n",
       "0  CRÉDITO ROTATIVO TOTAL          37651.35  34981.44  768.06  579.92  ...   \n",
       "1  CRÉDITO ROTATIVO TOTAL         826852.23 782016.60 9271.46 8065.65  ...   \n",
       "2  CRÉDITO ROTATIVO TOTAL         108451.56 104345.67 1359.38  845.85  ...   \n",
       "3  CRÉDITO ROTATIVO TOTAL         209307.78 196907.74 6328.34 2236.77  ...   \n",
       "4  CRÉDITO ROTATIVO TOTAL         243818.01 227311.26 6333.85 2691.83  ...   \n",
       "\n",
       "   riesgo_a_c  riesgo_a_s  riesgo_b_c  riesgo_b_s  riesgo_c_c  riesgo_c_s  \\\n",
       "0        6176    32878.87         270     1835.21         142      975.34   \n",
       "1      125128   772666.40        1840    11740.70        1486     9872.85   \n",
       "2        9723   100426.47         324     2920.77         207     1936.82   \n",
       "3       91873   196131.43        4802     6541.01        2385     2574.77   \n",
       "4       32098   224904.58         951     5969.18         848     5034.27   \n",
       "\n",
       "   riesgo_d_c  riesgo_d_s  riesgo_e_c  riesgo_e_s  \n",
       "0         326     1368.70          69      593.09  \n",
       "1        1854    14111.82        2469    18460.45  \n",
       "2         165     1623.50         144     1544.01  \n",
       "3        2515     3677.98         160      382.60  \n",
       "4         521     3607.32         520     4302.66  \n",
       "\n",
       "[5 rows x 32 columns]"
      ]
     },
     "execution_count": 3,
     "metadata": {},
     "output_type": "execute_result"
    }
   ],
   "source": [
    "df.head()"
   ]
  },
  {
   "cell_type": "code",
   "execution_count": 4,
   "metadata": {},
   "outputs": [],
   "source": [
    "df['unicap'] = df['unicap'].astype('object')\n",
    "df['renglon'] = df['renglon'].astype('object')\n",
    "df['fecha_corte'] = pd.to_datetime(df['fecha_corte'])"
   ]
  },
  {
   "cell_type": "markdown",
   "metadata": {},
   "source": [
    "# 3. Correlaciones variables numéricas"
   ]
  },
  {
   "cell_type": "code",
   "execution_count": 5,
   "metadata": {},
   "outputs": [
    {
     "data": {
      "application/vnd.plotly.v1+json": {
       "config": {
        "plotlyServerURL": "https://plot.ly"
       },
       "data": [
        {
         "coloraxis": "coloraxis",
         "hovertemplate": "x: %{x}<br>y: %{y}<br>color: %{z}<extra></extra>",
         "name": "0",
         "texttemplate": "%{z}",
         "type": "heatmap",
         "x": [
          "saldo_a_la_fecha",
          "vigente",
          "v1_2",
          "v2_3",
          "v1_3",
          "v3_4",
          "v+4",
          "v3_6",
          "v+6",
          "v1_4",
          "v4_6",
          "v6_12",
          "v12_18",
          "v+12",
          "v+18",
          "clientes_mora+30d",
          "riesgo_a_c",
          "riesgo_a_s",
          "riesgo_b_c",
          "riesgo_b_s",
          "riesgo_c_c",
          "riesgo_c_s",
          "riesgo_d_c",
          "riesgo_d_s",
          "riesgo_e_c",
          "riesgo_e_s"
         ],
         "xaxis": "x",
         "y": [
          "saldo_a_la_fecha",
          "vigente",
          "v1_2",
          "v2_3",
          "v1_3",
          "v3_4",
          "v+4",
          "v3_6",
          "v+6",
          "v1_4",
          "v4_6",
          "v6_12",
          "v12_18",
          "v+12",
          "v+18",
          "clientes_mora+30d",
          "riesgo_a_c",
          "riesgo_a_s",
          "riesgo_b_c",
          "riesgo_b_s",
          "riesgo_c_c",
          "riesgo_c_s",
          "riesgo_d_c",
          "riesgo_d_s",
          "riesgo_e_c",
          "riesgo_e_s"
         ],
         "yaxis": "y",
         "z": [
          [
           1,
           0.9995461403581196,
           null,
           null,
           null,
           null,
           null,
           null,
           null,
           null,
           null,
           null,
           null,
           null,
           null,
           null,
           null,
           0.9959948562404513,
           null,
           0.7370470276405302,
           null,
           null,
           null,
           null,
           null,
           0.7008412880778261
          ],
          [
           0.9995461403581196,
           1,
           null,
           null,
           null,
           null,
           null,
           null,
           null,
           null,
           null,
           null,
           null,
           null,
           null,
           null,
           null,
           0.9968991540074571,
           null,
           0.7273257824267527,
           null,
           null,
           null,
           null,
           null,
           null
          ],
          [
           null,
           null,
           1,
           0.9366227924898571,
           null,
           null,
           null,
           0.7404483248461994,
           null,
           null,
           null,
           null,
           null,
           null,
           null,
           null,
           null,
           null,
           null,
           null,
           null,
           null,
           null,
           null,
           null,
           null
          ],
          [
           null,
           null,
           0.9366227924898571,
           1,
           null,
           null,
           null,
           0.7663715609425417,
           null,
           null,
           null,
           null,
           null,
           null,
           null,
           null,
           null,
           null,
           null,
           null,
           null,
           null,
           null,
           null,
           null,
           null
          ],
          [
           null,
           null,
           null,
           null,
           1,
           null,
           null,
           null,
           null,
           null,
           null,
           null,
           null,
           null,
           null,
           null,
           null,
           null,
           null,
           null,
           null,
           null,
           null,
           null,
           null,
           null
          ],
          [
           null,
           null,
           null,
           null,
           null,
           1,
           0.876651532177369,
           null,
           null,
           null,
           null,
           null,
           null,
           null,
           null,
           null,
           null,
           null,
           null,
           null,
           null,
           null,
           null,
           null,
           null,
           null
          ],
          [
           null,
           null,
           null,
           null,
           null,
           0.876651532177369,
           1,
           null,
           null,
           null,
           null,
           null,
           null,
           null,
           null,
           null,
           null,
           null,
           null,
           null,
           null,
           null,
           null,
           null,
           null,
           null
          ],
          [
           null,
           null,
           0.7404483248461994,
           0.7663715609425417,
           null,
           null,
           null,
           1,
           null,
           null,
           null,
           null,
           null,
           null,
           null,
           null,
           null,
           null,
           null,
           null,
           null,
           null,
           null,
           0.7013968320406051,
           null,
           null
          ],
          [
           null,
           null,
           null,
           null,
           null,
           null,
           null,
           null,
           1,
           null,
           null,
           null,
           null,
           null,
           null,
           null,
           null,
           null,
           null,
           null,
           null,
           null,
           null,
           null,
           null,
           null
          ],
          [
           null,
           null,
           null,
           null,
           null,
           null,
           null,
           null,
           null,
           1,
           0.928170966112987,
           null,
           0.8728207913896731,
           null,
           null,
           null,
           null,
           null,
           null,
           null,
           null,
           null,
           null,
           null,
           null,
           null
          ],
          [
           null,
           null,
           null,
           null,
           null,
           null,
           null,
           null,
           null,
           0.928170966112987,
           1,
           null,
           0.8947586725953406,
           null,
           0.7195856165083647,
           null,
           null,
           null,
           null,
           null,
           null,
           null,
           null,
           null,
           null,
           null
          ],
          [
           null,
           null,
           null,
           null,
           null,
           null,
           null,
           null,
           null,
           null,
           null,
           1,
           null,
           null,
           null,
           null,
           null,
           null,
           null,
           null,
           null,
           null,
           null,
           null,
           null,
           null
          ],
          [
           null,
           null,
           null,
           null,
           null,
           null,
           null,
           null,
           null,
           0.8728207913896731,
           0.8947586725953406,
           null,
           1,
           null,
           0.8453811280497174,
           null,
           null,
           null,
           null,
           null,
           null,
           null,
           null,
           null,
           null,
           null
          ],
          [
           null,
           null,
           null,
           null,
           null,
           null,
           null,
           null,
           null,
           null,
           null,
           null,
           null,
           1,
           null,
           null,
           null,
           null,
           null,
           null,
           null,
           null,
           null,
           null,
           null,
           null
          ],
          [
           null,
           null,
           null,
           null,
           null,
           null,
           null,
           null,
           null,
           null,
           0.7195856165083647,
           null,
           0.8453811280497174,
           null,
           1,
           null,
           null,
           null,
           null,
           null,
           null,
           null,
           null,
           null,
           null,
           null
          ],
          [
           null,
           null,
           null,
           null,
           null,
           null,
           null,
           null,
           null,
           null,
           null,
           null,
           null,
           null,
           null,
           1,
           0.8983733669367272,
           null,
           0.9201417818297577,
           null,
           null,
           null,
           0.9094094740091976,
           null,
           0.7894351216830422,
           null
          ],
          [
           null,
           null,
           null,
           null,
           null,
           null,
           null,
           null,
           null,
           null,
           null,
           null,
           null,
           null,
           null,
           0.8983733669367272,
           1,
           null,
           0.9069764329454074,
           null,
           null,
           null,
           0.8519641877781138,
           null,
           0.7017586331979242,
           null
          ],
          [
           0.9959948562404513,
           0.9968991540074571,
           null,
           null,
           null,
           null,
           null,
           null,
           null,
           null,
           null,
           null,
           null,
           null,
           null,
           null,
           null,
           1,
           null,
           0.7082760812984443,
           null,
           null,
           null,
           null,
           null,
           null
          ],
          [
           null,
           null,
           null,
           null,
           null,
           null,
           null,
           null,
           null,
           null,
           null,
           null,
           null,
           null,
           null,
           0.9201417818297577,
           0.9069764329454074,
           null,
           1,
           null,
           null,
           null,
           0.8713252903942705,
           null,
           null,
           null
          ],
          [
           0.7370470276405302,
           0.7273257824267527,
           null,
           null,
           null,
           null,
           null,
           null,
           null,
           null,
           null,
           null,
           null,
           null,
           null,
           null,
           null,
           0.7082760812984443,
           null,
           1,
           null,
           0.748911893237575,
           null,
           0.7054160439677504,
           null,
           null
          ],
          [
           null,
           null,
           null,
           null,
           null,
           null,
           null,
           null,
           null,
           null,
           null,
           null,
           null,
           null,
           null,
           null,
           null,
           null,
           null,
           null,
           1,
           null,
           null,
           null,
           null,
           null
          ],
          [
           null,
           null,
           null,
           null,
           null,
           null,
           null,
           null,
           null,
           null,
           null,
           null,
           null,
           null,
           null,
           null,
           null,
           null,
           null,
           0.748911893237575,
           null,
           1,
           null,
           null,
           null,
           null
          ],
          [
           null,
           null,
           null,
           null,
           null,
           null,
           null,
           null,
           null,
           null,
           null,
           null,
           null,
           null,
           null,
           0.9094094740091976,
           0.8519641877781138,
           null,
           0.8713252903942705,
           null,
           null,
           null,
           1,
           null,
           null,
           null
          ],
          [
           null,
           null,
           null,
           null,
           null,
           null,
           null,
           0.7013968320406051,
           null,
           null,
           null,
           null,
           null,
           null,
           null,
           null,
           null,
           null,
           null,
           0.7054160439677504,
           null,
           null,
           null,
           1,
           null,
           null
          ],
          [
           null,
           null,
           null,
           null,
           null,
           null,
           null,
           null,
           null,
           null,
           null,
           null,
           null,
           null,
           null,
           0.7894351216830422,
           0.7017586331979242,
           null,
           null,
           null,
           null,
           null,
           null,
           null,
           1,
           null
          ],
          [
           0.7008412880778261,
           null,
           null,
           null,
           null,
           null,
           null,
           null,
           null,
           null,
           null,
           null,
           null,
           null,
           null,
           null,
           null,
           null,
           null,
           null,
           null,
           null,
           null,
           null,
           null,
           1
          ]
         ]
        }
       ],
       "layout": {
        "coloraxis": {
         "colorscale": [
          [
           0,
           "#0d0887"
          ],
          [
           0.1111111111111111,
           "#46039f"
          ],
          [
           0.2222222222222222,
           "#7201a8"
          ],
          [
           0.3333333333333333,
           "#9c179e"
          ],
          [
           0.4444444444444444,
           "#bd3786"
          ],
          [
           0.5555555555555556,
           "#d8576b"
          ],
          [
           0.6666666666666666,
           "#ed7953"
          ],
          [
           0.7777777777777778,
           "#fb9f3a"
          ],
          [
           0.8888888888888888,
           "#fdca26"
          ],
          [
           1,
           "#f0f921"
          ]
         ]
        },
        "height": 1000,
        "margin": {
         "t": 60
        },
        "template": {
         "data": {
          "bar": [
           {
            "error_x": {
             "color": "#2a3f5f"
            },
            "error_y": {
             "color": "#2a3f5f"
            },
            "marker": {
             "line": {
              "color": "#E5ECF6",
              "width": 0.5
             },
             "pattern": {
              "fillmode": "overlay",
              "size": 10,
              "solidity": 0.2
             }
            },
            "type": "bar"
           }
          ],
          "barpolar": [
           {
            "marker": {
             "line": {
              "color": "#E5ECF6",
              "width": 0.5
             },
             "pattern": {
              "fillmode": "overlay",
              "size": 10,
              "solidity": 0.2
             }
            },
            "type": "barpolar"
           }
          ],
          "carpet": [
           {
            "aaxis": {
             "endlinecolor": "#2a3f5f",
             "gridcolor": "white",
             "linecolor": "white",
             "minorgridcolor": "white",
             "startlinecolor": "#2a3f5f"
            },
            "baxis": {
             "endlinecolor": "#2a3f5f",
             "gridcolor": "white",
             "linecolor": "white",
             "minorgridcolor": "white",
             "startlinecolor": "#2a3f5f"
            },
            "type": "carpet"
           }
          ],
          "choropleth": [
           {
            "colorbar": {
             "outlinewidth": 0,
             "ticks": ""
            },
            "type": "choropleth"
           }
          ],
          "contour": [
           {
            "colorbar": {
             "outlinewidth": 0,
             "ticks": ""
            },
            "colorscale": [
             [
              0,
              "#0d0887"
             ],
             [
              0.1111111111111111,
              "#46039f"
             ],
             [
              0.2222222222222222,
              "#7201a8"
             ],
             [
              0.3333333333333333,
              "#9c179e"
             ],
             [
              0.4444444444444444,
              "#bd3786"
             ],
             [
              0.5555555555555556,
              "#d8576b"
             ],
             [
              0.6666666666666666,
              "#ed7953"
             ],
             [
              0.7777777777777778,
              "#fb9f3a"
             ],
             [
              0.8888888888888888,
              "#fdca26"
             ],
             [
              1,
              "#f0f921"
             ]
            ],
            "type": "contour"
           }
          ],
          "contourcarpet": [
           {
            "colorbar": {
             "outlinewidth": 0,
             "ticks": ""
            },
            "type": "contourcarpet"
           }
          ],
          "heatmap": [
           {
            "colorbar": {
             "outlinewidth": 0,
             "ticks": ""
            },
            "colorscale": [
             [
              0,
              "#0d0887"
             ],
             [
              0.1111111111111111,
              "#46039f"
             ],
             [
              0.2222222222222222,
              "#7201a8"
             ],
             [
              0.3333333333333333,
              "#9c179e"
             ],
             [
              0.4444444444444444,
              "#bd3786"
             ],
             [
              0.5555555555555556,
              "#d8576b"
             ],
             [
              0.6666666666666666,
              "#ed7953"
             ],
             [
              0.7777777777777778,
              "#fb9f3a"
             ],
             [
              0.8888888888888888,
              "#fdca26"
             ],
             [
              1,
              "#f0f921"
             ]
            ],
            "type": "heatmap"
           }
          ],
          "heatmapgl": [
           {
            "colorbar": {
             "outlinewidth": 0,
             "ticks": ""
            },
            "colorscale": [
             [
              0,
              "#0d0887"
             ],
             [
              0.1111111111111111,
              "#46039f"
             ],
             [
              0.2222222222222222,
              "#7201a8"
             ],
             [
              0.3333333333333333,
              "#9c179e"
             ],
             [
              0.4444444444444444,
              "#bd3786"
             ],
             [
              0.5555555555555556,
              "#d8576b"
             ],
             [
              0.6666666666666666,
              "#ed7953"
             ],
             [
              0.7777777777777778,
              "#fb9f3a"
             ],
             [
              0.8888888888888888,
              "#fdca26"
             ],
             [
              1,
              "#f0f921"
             ]
            ],
            "type": "heatmapgl"
           }
          ],
          "histogram": [
           {
            "marker": {
             "pattern": {
              "fillmode": "overlay",
              "size": 10,
              "solidity": 0.2
             }
            },
            "type": "histogram"
           }
          ],
          "histogram2d": [
           {
            "colorbar": {
             "outlinewidth": 0,
             "ticks": ""
            },
            "colorscale": [
             [
              0,
              "#0d0887"
             ],
             [
              0.1111111111111111,
              "#46039f"
             ],
             [
              0.2222222222222222,
              "#7201a8"
             ],
             [
              0.3333333333333333,
              "#9c179e"
             ],
             [
              0.4444444444444444,
              "#bd3786"
             ],
             [
              0.5555555555555556,
              "#d8576b"
             ],
             [
              0.6666666666666666,
              "#ed7953"
             ],
             [
              0.7777777777777778,
              "#fb9f3a"
             ],
             [
              0.8888888888888888,
              "#fdca26"
             ],
             [
              1,
              "#f0f921"
             ]
            ],
            "type": "histogram2d"
           }
          ],
          "histogram2dcontour": [
           {
            "colorbar": {
             "outlinewidth": 0,
             "ticks": ""
            },
            "colorscale": [
             [
              0,
              "#0d0887"
             ],
             [
              0.1111111111111111,
              "#46039f"
             ],
             [
              0.2222222222222222,
              "#7201a8"
             ],
             [
              0.3333333333333333,
              "#9c179e"
             ],
             [
              0.4444444444444444,
              "#bd3786"
             ],
             [
              0.5555555555555556,
              "#d8576b"
             ],
             [
              0.6666666666666666,
              "#ed7953"
             ],
             [
              0.7777777777777778,
              "#fb9f3a"
             ],
             [
              0.8888888888888888,
              "#fdca26"
             ],
             [
              1,
              "#f0f921"
             ]
            ],
            "type": "histogram2dcontour"
           }
          ],
          "mesh3d": [
           {
            "colorbar": {
             "outlinewidth": 0,
             "ticks": ""
            },
            "type": "mesh3d"
           }
          ],
          "parcoords": [
           {
            "line": {
             "colorbar": {
              "outlinewidth": 0,
              "ticks": ""
             }
            },
            "type": "parcoords"
           }
          ],
          "pie": [
           {
            "automargin": true,
            "type": "pie"
           }
          ],
          "scatter": [
           {
            "fillpattern": {
             "fillmode": "overlay",
             "size": 10,
             "solidity": 0.2
            },
            "type": "scatter"
           }
          ],
          "scatter3d": [
           {
            "line": {
             "colorbar": {
              "outlinewidth": 0,
              "ticks": ""
             }
            },
            "marker": {
             "colorbar": {
              "outlinewidth": 0,
              "ticks": ""
             }
            },
            "type": "scatter3d"
           }
          ],
          "scattercarpet": [
           {
            "marker": {
             "colorbar": {
              "outlinewidth": 0,
              "ticks": ""
             }
            },
            "type": "scattercarpet"
           }
          ],
          "scattergeo": [
           {
            "marker": {
             "colorbar": {
              "outlinewidth": 0,
              "ticks": ""
             }
            },
            "type": "scattergeo"
           }
          ],
          "scattergl": [
           {
            "marker": {
             "colorbar": {
              "outlinewidth": 0,
              "ticks": ""
             }
            },
            "type": "scattergl"
           }
          ],
          "scattermapbox": [
           {
            "marker": {
             "colorbar": {
              "outlinewidth": 0,
              "ticks": ""
             }
            },
            "type": "scattermapbox"
           }
          ],
          "scatterpolar": [
           {
            "marker": {
             "colorbar": {
              "outlinewidth": 0,
              "ticks": ""
             }
            },
            "type": "scatterpolar"
           }
          ],
          "scatterpolargl": [
           {
            "marker": {
             "colorbar": {
              "outlinewidth": 0,
              "ticks": ""
             }
            },
            "type": "scatterpolargl"
           }
          ],
          "scatterternary": [
           {
            "marker": {
             "colorbar": {
              "outlinewidth": 0,
              "ticks": ""
             }
            },
            "type": "scatterternary"
           }
          ],
          "surface": [
           {
            "colorbar": {
             "outlinewidth": 0,
             "ticks": ""
            },
            "colorscale": [
             [
              0,
              "#0d0887"
             ],
             [
              0.1111111111111111,
              "#46039f"
             ],
             [
              0.2222222222222222,
              "#7201a8"
             ],
             [
              0.3333333333333333,
              "#9c179e"
             ],
             [
              0.4444444444444444,
              "#bd3786"
             ],
             [
              0.5555555555555556,
              "#d8576b"
             ],
             [
              0.6666666666666666,
              "#ed7953"
             ],
             [
              0.7777777777777778,
              "#fb9f3a"
             ],
             [
              0.8888888888888888,
              "#fdca26"
             ],
             [
              1,
              "#f0f921"
             ]
            ],
            "type": "surface"
           }
          ],
          "table": [
           {
            "cells": {
             "fill": {
              "color": "#EBF0F8"
             },
             "line": {
              "color": "white"
             }
            },
            "header": {
             "fill": {
              "color": "#C8D4E3"
             },
             "line": {
              "color": "white"
             }
            },
            "type": "table"
           }
          ]
         },
         "layout": {
          "annotationdefaults": {
           "arrowcolor": "#2a3f5f",
           "arrowhead": 0,
           "arrowwidth": 1
          },
          "autotypenumbers": "strict",
          "coloraxis": {
           "colorbar": {
            "outlinewidth": 0,
            "ticks": ""
           }
          },
          "colorscale": {
           "diverging": [
            [
             0,
             "#8e0152"
            ],
            [
             0.1,
             "#c51b7d"
            ],
            [
             0.2,
             "#de77ae"
            ],
            [
             0.3,
             "#f1b6da"
            ],
            [
             0.4,
             "#fde0ef"
            ],
            [
             0.5,
             "#f7f7f7"
            ],
            [
             0.6,
             "#e6f5d0"
            ],
            [
             0.7,
             "#b8e186"
            ],
            [
             0.8,
             "#7fbc41"
            ],
            [
             0.9,
             "#4d9221"
            ],
            [
             1,
             "#276419"
            ]
           ],
           "sequential": [
            [
             0,
             "#0d0887"
            ],
            [
             0.1111111111111111,
             "#46039f"
            ],
            [
             0.2222222222222222,
             "#7201a8"
            ],
            [
             0.3333333333333333,
             "#9c179e"
            ],
            [
             0.4444444444444444,
             "#bd3786"
            ],
            [
             0.5555555555555556,
             "#d8576b"
            ],
            [
             0.6666666666666666,
             "#ed7953"
            ],
            [
             0.7777777777777778,
             "#fb9f3a"
            ],
            [
             0.8888888888888888,
             "#fdca26"
            ],
            [
             1,
             "#f0f921"
            ]
           ],
           "sequentialminus": [
            [
             0,
             "#0d0887"
            ],
            [
             0.1111111111111111,
             "#46039f"
            ],
            [
             0.2222222222222222,
             "#7201a8"
            ],
            [
             0.3333333333333333,
             "#9c179e"
            ],
            [
             0.4444444444444444,
             "#bd3786"
            ],
            [
             0.5555555555555556,
             "#d8576b"
            ],
            [
             0.6666666666666666,
             "#ed7953"
            ],
            [
             0.7777777777777778,
             "#fb9f3a"
            ],
            [
             0.8888888888888888,
             "#fdca26"
            ],
            [
             1,
             "#f0f921"
            ]
           ]
          },
          "colorway": [
           "#636efa",
           "#EF553B",
           "#00cc96",
           "#ab63fa",
           "#FFA15A",
           "#19d3f3",
           "#FF6692",
           "#B6E880",
           "#FF97FF",
           "#FECB52"
          ],
          "font": {
           "color": "#2a3f5f"
          },
          "geo": {
           "bgcolor": "white",
           "lakecolor": "white",
           "landcolor": "#E5ECF6",
           "showlakes": true,
           "showland": true,
           "subunitcolor": "white"
          },
          "hoverlabel": {
           "align": "left"
          },
          "hovermode": "closest",
          "mapbox": {
           "style": "light"
          },
          "paper_bgcolor": "white",
          "plot_bgcolor": "#E5ECF6",
          "polar": {
           "angularaxis": {
            "gridcolor": "white",
            "linecolor": "white",
            "ticks": ""
           },
           "bgcolor": "#E5ECF6",
           "radialaxis": {
            "gridcolor": "white",
            "linecolor": "white",
            "ticks": ""
           }
          },
          "scene": {
           "xaxis": {
            "backgroundcolor": "#E5ECF6",
            "gridcolor": "white",
            "gridwidth": 2,
            "linecolor": "white",
            "showbackground": true,
            "ticks": "",
            "zerolinecolor": "white"
           },
           "yaxis": {
            "backgroundcolor": "#E5ECF6",
            "gridcolor": "white",
            "gridwidth": 2,
            "linecolor": "white",
            "showbackground": true,
            "ticks": "",
            "zerolinecolor": "white"
           },
           "zaxis": {
            "backgroundcolor": "#E5ECF6",
            "gridcolor": "white",
            "gridwidth": 2,
            "linecolor": "white",
            "showbackground": true,
            "ticks": "",
            "zerolinecolor": "white"
           }
          },
          "shapedefaults": {
           "line": {
            "color": "#2a3f5f"
           }
          },
          "ternary": {
           "aaxis": {
            "gridcolor": "white",
            "linecolor": "white",
            "ticks": ""
           },
           "baxis": {
            "gridcolor": "white",
            "linecolor": "white",
            "ticks": ""
           },
           "bgcolor": "#E5ECF6",
           "caxis": {
            "gridcolor": "white",
            "linecolor": "white",
            "ticks": ""
           }
          },
          "title": {
           "x": 0.05
          },
          "xaxis": {
           "automargin": true,
           "gridcolor": "white",
           "linecolor": "white",
           "ticks": "",
           "title": {
            "standoff": 15
           },
           "zerolinecolor": "white",
           "zerolinewidth": 2
          },
          "yaxis": {
           "automargin": true,
           "gridcolor": "white",
           "linecolor": "white",
           "ticks": "",
           "title": {
            "standoff": 15
           },
           "zerolinecolor": "white",
           "zerolinewidth": 2
          }
         }
        },
        "xaxis": {
         "anchor": "y",
         "constrain": "domain",
         "domain": [
          0,
          1
         ],
         "scaleanchor": "y"
        },
        "yaxis": {
         "anchor": "x",
         "autorange": "reversed",
         "constrain": "domain",
         "domain": [
          0,
          1
         ]
        }
       }
      }
     },
     "metadata": {},
     "output_type": "display_data"
    }
   ],
   "source": [
    "cols_num = df.select_dtypes(exclude=['object', 'datetime'])\n",
    "df_corr = cols_num.corr()\n",
    "fig = px.imshow(df_corr[(df_corr > 0.7) | (df_corr < -0.7)],  text_auto=True)\n",
    "fig.update_layout(height=1000)\n",
    "fig.show()"
   ]
  },
  {
   "cell_type": "markdown",
   "metadata": {},
   "source": [
    "## ¿Por qué el saldo a la fecha y el saldo vigente presentan una correlación tan alta?\n",
    "\n",
    "El saldo a la fecha y el saldo vigente presentan una alta correlación. El saldo vigente representa el saldo luego de los abonos de los clientes a cada una de las cuentas en cada mes. Por tanto, se decide descartar el saldo vigente ya que saldo a la fecha y los abonos nos brindan la misma información."
   ]
  },
  {
   "cell_type": "code",
   "execution_count": 6,
   "metadata": {},
   "outputs": [],
   "source": [
    "df.drop('vigente', axis=1, inplace=True)"
   ]
  },
  {
   "cell_type": "markdown",
   "metadata": {},
   "source": [
    "## ¿Qué hacer con las altas correlaciones en los rangos de vencimiento?\n",
    "\n",
    "Las demás columnas, aunque tengan una alta correlación, se decide conservarlas porque representan características diferentes de las cuentas. Mes a mes cambia el tiempo que lleva una cuenta vencida. Algunos rangos de vencimiento se traslapan, esto puede ser porque cada entidad maneja diferentes estrategias de cobranza dependiendo del tipo de producto y por tanto estipula diferentes rangos para establecer el tiempo que lleva una cuenta vencida.\n",
    "\n",
    "Una entidad, dependiendo del riesgo, para un producto implementa una estrategia para cuentas de 1 a 3 meses vencidas, mientras que para otro producto aplica una estrategia si la cuenta tiene entre 1 y 2 meses vencida y otra estrategia si la cuenta tiene entre 2 y 3 meses vencida."
   ]
  },
  {
   "cell_type": "code",
   "execution_count": 7,
   "metadata": {},
   "outputs": [
    {
     "data": {
      "text/html": [
       "<div>\n",
       "<style scoped>\n",
       "    .dataframe tbody tr th:only-of-type {\n",
       "        vertical-align: middle;\n",
       "    }\n",
       "\n",
       "    .dataframe tbody tr th {\n",
       "        vertical-align: top;\n",
       "    }\n",
       "\n",
       "    .dataframe thead tr th {\n",
       "        text-align: left;\n",
       "    }\n",
       "</style>\n",
       "<table border=\"1\" class=\"dataframe\">\n",
       "  <thead>\n",
       "    <tr>\n",
       "      <th></th>\n",
       "      <th>COMPAÑIAS DE FINANCIAMIENTO</th>\n",
       "    </tr>\n",
       "    <tr>\n",
       "      <th></th>\n",
       "      <th>CARTERA COMERCIAL CORPORATIVO</th>\n",
       "    </tr>\n",
       "  </thead>\n",
       "  <tbody>\n",
       "    <tr>\n",
       "      <th>v2_3</th>\n",
       "      <td>0.00</td>\n",
       "    </tr>\n",
       "    <tr>\n",
       "      <th>v1_3</th>\n",
       "      <td>525695.79</td>\n",
       "    </tr>\n",
       "    <tr>\n",
       "      <th>v3_4</th>\n",
       "      <td>0.00</td>\n",
       "    </tr>\n",
       "    <tr>\n",
       "      <th>v+4</th>\n",
       "      <td>0.00</td>\n",
       "    </tr>\n",
       "    <tr>\n",
       "      <th>v3_6</th>\n",
       "      <td>257962.56</td>\n",
       "    </tr>\n",
       "    <tr>\n",
       "      <th>v+6</th>\n",
       "      <td>0.00</td>\n",
       "    </tr>\n",
       "    <tr>\n",
       "      <th>v1_4</th>\n",
       "      <td>0.00</td>\n",
       "    </tr>\n",
       "    <tr>\n",
       "      <th>v4_6</th>\n",
       "      <td>0.00</td>\n",
       "    </tr>\n",
       "    <tr>\n",
       "      <th>v6_12</th>\n",
       "      <td>142877.74</td>\n",
       "    </tr>\n",
       "    <tr>\n",
       "      <th>v12_18</th>\n",
       "      <td>0.00</td>\n",
       "    </tr>\n",
       "    <tr>\n",
       "      <th>v+12</th>\n",
       "      <td>410231.79</td>\n",
       "    </tr>\n",
       "    <tr>\n",
       "      <th>v+18</th>\n",
       "      <td>0.00</td>\n",
       "    </tr>\n",
       "    <tr>\n",
       "      <th>clientes_mora+30d</th>\n",
       "      <td>1584.00</td>\n",
       "    </tr>\n",
       "  </tbody>\n",
       "</table>\n",
       "</div>"
      ],
      "text/plain": [
       "                    COMPAÑIAS DE FINANCIAMIENTO\n",
       "                  CARTERA COMERCIAL CORPORATIVO\n",
       "v2_3                                       0.00\n",
       "v1_3                                  525695.79\n",
       "v3_4                                       0.00\n",
       "v+4                                        0.00\n",
       "v3_6                                  257962.56\n",
       "v+6                                        0.00\n",
       "v1_4                                       0.00\n",
       "v4_6                                       0.00\n",
       "v6_12                                 142877.74\n",
       "v12_18                                     0.00\n",
       "v+12                                  410231.79\n",
       "v+18                                       0.00\n",
       "clientes_mora+30d                       1584.00"
      ]
     },
     "execution_count": 7,
     "metadata": {},
     "output_type": "execute_result"
    }
   ],
   "source": [
    "cols_mora = df.iloc[:,8:21].columns\n",
    "df.groupby(['tipo_entidad', 'desc_unicap'])[cols_mora].sum().iloc[1,:].to_frame()"
   ]
  },
  {
   "cell_type": "markdown",
   "metadata": {},
   "source": [
    "Por ejemplo, una entidad de tipo 1, para carteras comerciales corporativas clasifica las cuentas cuentas vencidad de 1 a 3 meses, de 3 a 6 meses, de 6 a 12 meses y más de 12 meses."
   ]
  },
  {
   "cell_type": "code",
   "execution_count": 8,
   "metadata": {},
   "outputs": [
    {
     "data": {
      "text/html": [
       "<div>\n",
       "<style scoped>\n",
       "    .dataframe tbody tr th:only-of-type {\n",
       "        vertical-align: middle;\n",
       "    }\n",
       "\n",
       "    .dataframe tbody tr th {\n",
       "        vertical-align: top;\n",
       "    }\n",
       "\n",
       "    .dataframe thead tr th {\n",
       "        text-align: left;\n",
       "    }\n",
       "</style>\n",
       "<table border=\"1\" class=\"dataframe\">\n",
       "  <thead>\n",
       "    <tr>\n",
       "      <th></th>\n",
       "      <th>COMPAÑIAS DE FINANCIAMIENTO</th>\n",
       "    </tr>\n",
       "    <tr>\n",
       "      <th></th>\n",
       "      <th>CONSUMO BAJO MONTO</th>\n",
       "    </tr>\n",
       "  </thead>\n",
       "  <tbody>\n",
       "    <tr>\n",
       "      <th>v2_3</th>\n",
       "      <td>7451.78</td>\n",
       "    </tr>\n",
       "    <tr>\n",
       "      <th>v1_3</th>\n",
       "      <td>0.00</td>\n",
       "    </tr>\n",
       "    <tr>\n",
       "      <th>v3_4</th>\n",
       "      <td>0.00</td>\n",
       "    </tr>\n",
       "    <tr>\n",
       "      <th>v+4</th>\n",
       "      <td>0.00</td>\n",
       "    </tr>\n",
       "    <tr>\n",
       "      <th>v3_6</th>\n",
       "      <td>15553.00</td>\n",
       "    </tr>\n",
       "    <tr>\n",
       "      <th>v+6</th>\n",
       "      <td>45.50</td>\n",
       "    </tr>\n",
       "    <tr>\n",
       "      <th>v1_4</th>\n",
       "      <td>0.00</td>\n",
       "    </tr>\n",
       "    <tr>\n",
       "      <th>v4_6</th>\n",
       "      <td>0.00</td>\n",
       "    </tr>\n",
       "    <tr>\n",
       "      <th>v6_12</th>\n",
       "      <td>0.00</td>\n",
       "    </tr>\n",
       "    <tr>\n",
       "      <th>v12_18</th>\n",
       "      <td>0.00</td>\n",
       "    </tr>\n",
       "    <tr>\n",
       "      <th>v+12</th>\n",
       "      <td>0.00</td>\n",
       "    </tr>\n",
       "    <tr>\n",
       "      <th>v+18</th>\n",
       "      <td>0.00</td>\n",
       "    </tr>\n",
       "    <tr>\n",
       "      <th>clientes_mora+30d</th>\n",
       "      <td>10120.00</td>\n",
       "    </tr>\n",
       "  </tbody>\n",
       "</table>\n",
       "</div>"
      ],
      "text/plain": [
       "                  COMPAÑIAS DE FINANCIAMIENTO\n",
       "                           CONSUMO BAJO MONTO\n",
       "v2_3                                  7451.78\n",
       "v1_3                                     0.00\n",
       "v3_4                                     0.00\n",
       "v+4                                      0.00\n",
       "v3_6                                 15553.00\n",
       "v+6                                     45.50\n",
       "v1_4                                     0.00\n",
       "v4_6                                     0.00\n",
       "v6_12                                    0.00\n",
       "v12_18                                   0.00\n",
       "v+12                                     0.00\n",
       "v+18                                     0.00\n",
       "clientes_mora+30d                    10120.00"
      ]
     },
     "execution_count": 8,
     "metadata": {},
     "output_type": "execute_result"
    }
   ],
   "source": [
    "df.groupby(['tipo_entidad', 'desc_unicap'])[cols_mora].sum().iloc[10,:].to_frame()"
   ]
  },
  {
   "cell_type": "markdown",
   "metadata": {},
   "source": [
    "Mientras que la misma entidad, para cuentas de consumos de bajo monto, las clasifica de 1 a 2 meses, de 2 a 3 meses, de 3 a 6 meses y más de 6 meses.\n",
    "\n",
    "Decidimos trabajar con todas las variables y observar los resultados obtenidos con reducción de dimensionalidad."
   ]
  },
  {
   "cell_type": "markdown",
   "metadata": {},
   "source": [
    "## ¿Qué hacer con las correlaciones altas en algunos riesgos?"
   ]
  },
  {
   "cell_type": "code",
   "execution_count": 9,
   "metadata": {},
   "outputs": [
    {
     "data": {
      "application/vnd.plotly.v1+json": {
       "config": {
        "plotlyServerURL": "https://plot.ly"
       },
       "data": [
        {
         "hovertemplate": "variable=saldo_a_la_fecha<br>year_month=%{x}<br>value=%{y}<extra></extra>",
         "legendgroup": "saldo_a_la_fecha",
         "line": {
          "color": "#636efa",
          "dash": "solid"
         },
         "marker": {
          "symbol": "circle"
         },
         "mode": "lines",
         "name": "saldo_a_la_fecha",
         "orientation": "v",
         "showlegend": true,
         "type": "scatter",
         "x": [
          "2015-01-01T00:00:00",
          "2015-02-01T00:00:00",
          "2015-03-01T00:00:00",
          "2015-04-01T00:00:00",
          "2015-05-01T00:00:00",
          "2015-06-01T00:00:00",
          "2015-07-01T00:00:00",
          "2015-08-01T00:00:00",
          "2015-09-01T00:00:00",
          "2015-10-01T00:00:00",
          "2015-11-01T00:00:00",
          "2015-12-01T00:00:00",
          "2016-01-01T00:00:00",
          "2016-02-01T00:00:00",
          "2016-03-01T00:00:00",
          "2016-04-01T00:00:00",
          "2016-05-01T00:00:00",
          "2016-06-01T00:00:00",
          "2016-07-01T00:00:00",
          "2016-08-01T00:00:00",
          "2016-09-01T00:00:00",
          "2016-10-01T00:00:00",
          "2016-11-01T00:00:00",
          "2016-12-01T00:00:00",
          "2017-01-01T00:00:00",
          "2017-02-01T00:00:00",
          "2017-03-01T00:00:00",
          "2017-04-01T00:00:00",
          "2017-05-01T00:00:00",
          "2017-06-01T00:00:00",
          "2017-07-01T00:00:00",
          "2017-08-01T00:00:00",
          "2017-09-01T00:00:00",
          "2017-10-01T00:00:00",
          "2017-11-01T00:00:00",
          "2017-12-01T00:00:00",
          "2018-01-01T00:00:00",
          "2018-02-01T00:00:00",
          "2018-03-01T00:00:00",
          "2018-04-01T00:00:00",
          "2018-05-01T00:00:00",
          "2018-06-01T00:00:00",
          "2018-07-01T00:00:00",
          "2018-08-01T00:00:00",
          "2018-09-01T00:00:00",
          "2018-10-01T00:00:00",
          "2018-11-01T00:00:00",
          "2018-12-01T00:00:00",
          "2019-01-01T00:00:00",
          "2019-02-01T00:00:00",
          "2019-03-01T00:00:00",
          "2019-04-01T00:00:00",
          "2019-05-01T00:00:00",
          "2019-06-01T00:00:00",
          "2019-07-01T00:00:00",
          "2019-08-01T00:00:00",
          "2019-09-01T00:00:00",
          "2019-10-01T00:00:00",
          "2019-11-01T00:00:00",
          "2019-12-01T00:00:00",
          "2020-01-01T00:00:00",
          "2020-02-01T00:00:00",
          "2020-03-01T00:00:00",
          "2020-04-01T00:00:00",
          "2020-05-01T00:00:00",
          "2020-06-01T00:00:00",
          "2020-07-01T00:00:00",
          "2020-08-01T00:00:00",
          "2020-09-01T00:00:00",
          "2020-10-01T00:00:00",
          "2020-11-01T00:00:00",
          "2020-12-01T00:00:00",
          "2021-01-01T00:00:00",
          "2021-02-01T00:00:00",
          "2021-03-01T00:00:00",
          "2021-04-01T00:00:00",
          "2021-05-01T00:00:00",
          "2021-06-01T00:00:00",
          "2021-07-01T00:00:00",
          "2021-08-01T00:00:00",
          "2021-09-01T00:00:00",
          "2021-10-01T00:00:00",
          "2021-11-01T00:00:00",
          "2021-12-01T00:00:00",
          "2022-01-01T00:00:00",
          "2022-02-01T00:00:00",
          "2022-03-01T00:00:00",
          "2022-04-01T00:00:00",
          "2022-05-01T00:00:00",
          "2022-06-01T00:00:00",
          "2022-07-01T00:00:00",
          "2022-08-01T00:00:00",
          "2022-09-01T00:00:00",
          "2022-10-01T00:00:00",
          "2022-11-01T00:00:00",
          "2022-12-01T00:00:00",
          "2023-01-01T00:00:00",
          "2023-02-01T00:00:00",
          "2023-03-01T00:00:00",
          "2023-04-01T00:00:00",
          "2023-05-01T00:00:00",
          "2023-06-01T00:00:00",
          "2023-07-01T00:00:00"
         ],
         "xaxis": "x",
         "y": [
          553011.1851986671,
          551269.1601258651,
          555318.4815653304,
          558697.7475992326,
          566638.6719131372,
          574590.6489098398,
          582831.7943031333,
          591033.7995616128,
          593277.8480481512,
          606511.9974429214,
          616134.3827848119,
          615444.5207943917,
          603344.0122225673,
          611260.7145948925,
          617058.9509054634,
          619705.4843656634,
          626960.7170640766,
          632241.6445390126,
          636903.9232414066,
          633712.2050630646,
          633951.1398262447,
          646664.0232148175,
          655600.153322881,
          652026.6159819105,
          645421.0796207373,
          651639.9625452419,
          656380.8627583424,
          661966.2944236305,
          666113.2102571295,
          674241.5373876243,
          675605.7300785773,
          679273.1735907386,
          682519.0512979556,
          685475.4445008357,
          689932.6691730074,
          696512.3635448883,
          688417.5116599029,
          722247.8866583952,
          696785.16507857,
          699653.7455095963,
          704789.0150883559,
          720773.7884989613,
          719207.7494991793,
          720805.0630515411,
          726232.9305271072,
          735433.7230103496,
          742830.179708533,
          747809.4145787045,
          740825.9920467143,
          756103.7296048931,
          765078.5380886499,
          775241.7056592697,
          783544.8078806336,
          787987.0934936865,
          791628.5669707719,
          797801.9261038556,
          807982.6960292589,
          812866.0464426992,
          822716.967076275,
          821220.3056454835,
          824023.3707945151,
          845227.6087237905,
          866506.211300414,
          871836.9732560115,
          870986.151619977,
          869379.9286174492,
          863162.798699274,
          877063.2392811307,
          876879.0799218746,
          881080.9794412382,
          886393.1540927965,
          883168.5913539475,
          888393.8297853426,
          894089.5414371442,
          896007.355559843,
          900014.761872983,
          906511.4256320302,
          914690.3333490132,
          922190.4681857058,
          932372.8622782351,
          940279.5457687048,
          948653.7680705329,
          964630.2272581815,
          961699.7851806171,
          964915.0871652201,
          981961.3052383764,
          992371.987396265,
          1004305.7378061527,
          1019318.0126772781,
          1038341.964970636,
          1046555.6977858695,
          1061509.7722363193,
          1072513.7818810802,
          1085545.0443994931,
          1096146.601087494,
          1103175.445310101,
          1102311.0795662072,
          1104451.7437533652,
          1106823.0201409298,
          1114408.1737907524,
          1116670.8457305063,
          1119175.396354589,
          1110365.3388354564
         ],
         "yaxis": "y"
        },
        {
         "hovertemplate": "variable=riesgo_a_s<br>year_month=%{x}<br>value=%{y}<extra></extra>",
         "legendgroup": "riesgo_a_s",
         "line": {
          "color": "#EF553B",
          "dash": "solid"
         },
         "marker": {
          "symbol": "circle"
         },
         "mode": "lines",
         "name": "riesgo_a_s",
         "orientation": "v",
         "showlegend": true,
         "type": "scatter",
         "x": [
          "2015-01-01T00:00:00",
          "2015-02-01T00:00:00",
          "2015-03-01T00:00:00",
          "2015-04-01T00:00:00",
          "2015-05-01T00:00:00",
          "2015-06-01T00:00:00",
          "2015-07-01T00:00:00",
          "2015-08-01T00:00:00",
          "2015-09-01T00:00:00",
          "2015-10-01T00:00:00",
          "2015-11-01T00:00:00",
          "2015-12-01T00:00:00",
          "2016-01-01T00:00:00",
          "2016-02-01T00:00:00",
          "2016-03-01T00:00:00",
          "2016-04-01T00:00:00",
          "2016-05-01T00:00:00",
          "2016-06-01T00:00:00",
          "2016-07-01T00:00:00",
          "2016-08-01T00:00:00",
          "2016-09-01T00:00:00",
          "2016-10-01T00:00:00",
          "2016-11-01T00:00:00",
          "2016-12-01T00:00:00",
          "2017-01-01T00:00:00",
          "2017-02-01T00:00:00",
          "2017-03-01T00:00:00",
          "2017-04-01T00:00:00",
          "2017-05-01T00:00:00",
          "2017-06-01T00:00:00",
          "2017-07-01T00:00:00",
          "2017-08-01T00:00:00",
          "2017-09-01T00:00:00",
          "2017-10-01T00:00:00",
          "2017-11-01T00:00:00",
          "2017-12-01T00:00:00",
          "2018-01-01T00:00:00",
          "2018-02-01T00:00:00",
          "2018-03-01T00:00:00",
          "2018-04-01T00:00:00",
          "2018-05-01T00:00:00",
          "2018-06-01T00:00:00",
          "2018-07-01T00:00:00",
          "2018-08-01T00:00:00",
          "2018-09-01T00:00:00",
          "2018-10-01T00:00:00",
          "2018-11-01T00:00:00",
          "2018-12-01T00:00:00",
          "2019-01-01T00:00:00",
          "2019-02-01T00:00:00",
          "2019-03-01T00:00:00",
          "2019-04-01T00:00:00",
          "2019-05-01T00:00:00",
          "2019-06-01T00:00:00",
          "2019-07-01T00:00:00",
          "2019-08-01T00:00:00",
          "2019-09-01T00:00:00",
          "2019-10-01T00:00:00",
          "2019-11-01T00:00:00",
          "2019-12-01T00:00:00",
          "2020-01-01T00:00:00",
          "2020-02-01T00:00:00",
          "2020-03-01T00:00:00",
          "2020-04-01T00:00:00",
          "2020-05-01T00:00:00",
          "2020-06-01T00:00:00",
          "2020-07-01T00:00:00",
          "2020-08-01T00:00:00",
          "2020-09-01T00:00:00",
          "2020-10-01T00:00:00",
          "2020-11-01T00:00:00",
          "2020-12-01T00:00:00",
          "2021-01-01T00:00:00",
          "2021-02-01T00:00:00",
          "2021-03-01T00:00:00",
          "2021-04-01T00:00:00",
          "2021-05-01T00:00:00",
          "2021-06-01T00:00:00",
          "2021-07-01T00:00:00",
          "2021-08-01T00:00:00",
          "2021-09-01T00:00:00",
          "2021-10-01T00:00:00",
          "2021-11-01T00:00:00",
          "2021-12-01T00:00:00",
          "2022-01-01T00:00:00",
          "2022-02-01T00:00:00",
          "2022-03-01T00:00:00",
          "2022-04-01T00:00:00",
          "2022-05-01T00:00:00",
          "2022-06-01T00:00:00",
          "2022-07-01T00:00:00",
          "2022-08-01T00:00:00",
          "2022-09-01T00:00:00",
          "2022-10-01T00:00:00",
          "2022-11-01T00:00:00",
          "2022-12-01T00:00:00",
          "2023-01-01T00:00:00",
          "2023-02-01T00:00:00",
          "2023-03-01T00:00:00",
          "2023-04-01T00:00:00",
          "2023-05-01T00:00:00",
          "2023-06-01T00:00:00",
          "2023-07-01T00:00:00"
         ],
         "xaxis": "x",
         "y": [
          511447.7422249921,
          509848.0880261025,
          513535.84832854115,
          516640.01852032903,
          523917.0233888282,
          530062.3069977679,
          538863.0582124474,
          546918.4112357236,
          549032.1234326734,
          560954.7675394845,
          569316.0388082551,
          568815.3018392522,
          554769.2515844052,
          562078.4249287875,
          566410.0393340932,
          569077.2647392965,
          574718.3878975257,
          578766.4778350503,
          582022.8827964643,
          579063.5855989391,
          579762.2399528851,
          590036.2856659838,
          595341.6898635025,
          592408.5180683156,
          581402.4171923625,
          585713.7533987345,
          589195.7639860568,
          593131.1427580989,
          595383.8280407657,
          601698.621159848,
          601884.6802569098,
          604798.613179938,
          607846.2131647741,
          610195.4799180346,
          612443.6178415215,
          617989.5152445819,
          608575.5882335191,
          638771.4597890425,
          615373.5106435295,
          618262.7807311608,
          622648.3787907619,
          635826.3116732684,
          634543.1611087422,
          635941.7553920212,
          641277.3924551198,
          649421.3984446093,
          656785.4927623175,
          662099.758086884,
          655628.3994916981,
          671131.4565828078,
          679915.7493071536,
          689118.7664739937,
          698423.6650973853,
          700886.6943719658,
          704093.6343033385,
          710828.5505175045,
          720329.7150038744,
          724648.553531519,
          733288.8525215616,
          734679.7666907519,
          737004.4862486295,
          756168.373861937,
          775649.0662220975,
          778923.0034464267,
          781477.427702734,
          781093.8882219923,
          777290.3244265916,
          784995.7215347594,
          782172.5485810653,
          780099.5384174896,
          779127.9378484568,
          764968.0834460341,
          767939.342172053,
          775301.126804918,
          779752.9363234353,
          785679.4717513097,
          793358.9939342674,
          802564.7484159314,
          812510.7841895712,
          824605.366853807,
          833995.5006453596,
          842095.3083437565,
          860139.4459192026,
          861962.618396543,
          864300.0080620468,
          881724.7663328828,
          892866.9551402339,
          905037.6511536029,
          919975.9707088526,
          936972.9457038976,
          945418.039269704,
          961515.5487164877,
          972515.7332366769,
          983359.345561785,
          992085.8183916373,
          999431.2368434335,
          997279.7042618492,
          997252.0597176322,
          996851.5445335918,
          1001887.4397800172,
          1003369.0778194497,
          1003804.7841715968,
          993148.4945872094
         ],
         "yaxis": "y"
        },
        {
         "hovertemplate": "variable=riesgo_b_s<br>year_month=%{x}<br>value=%{y}<extra></extra>",
         "legendgroup": "riesgo_b_s",
         "line": {
          "color": "#00cc96",
          "dash": "solid"
         },
         "marker": {
          "symbol": "circle"
         },
         "mode": "lines",
         "name": "riesgo_b_s",
         "orientation": "v",
         "showlegend": true,
         "type": "scatter",
         "x": [
          "2015-01-01T00:00:00",
          "2015-02-01T00:00:00",
          "2015-03-01T00:00:00",
          "2015-04-01T00:00:00",
          "2015-05-01T00:00:00",
          "2015-06-01T00:00:00",
          "2015-07-01T00:00:00",
          "2015-08-01T00:00:00",
          "2015-09-01T00:00:00",
          "2015-10-01T00:00:00",
          "2015-11-01T00:00:00",
          "2015-12-01T00:00:00",
          "2016-01-01T00:00:00",
          "2016-02-01T00:00:00",
          "2016-03-01T00:00:00",
          "2016-04-01T00:00:00",
          "2016-05-01T00:00:00",
          "2016-06-01T00:00:00",
          "2016-07-01T00:00:00",
          "2016-08-01T00:00:00",
          "2016-09-01T00:00:00",
          "2016-10-01T00:00:00",
          "2016-11-01T00:00:00",
          "2016-12-01T00:00:00",
          "2017-01-01T00:00:00",
          "2017-02-01T00:00:00",
          "2017-03-01T00:00:00",
          "2017-04-01T00:00:00",
          "2017-05-01T00:00:00",
          "2017-06-01T00:00:00",
          "2017-07-01T00:00:00",
          "2017-08-01T00:00:00",
          "2017-09-01T00:00:00",
          "2017-10-01T00:00:00",
          "2017-11-01T00:00:00",
          "2017-12-01T00:00:00",
          "2018-01-01T00:00:00",
          "2018-02-01T00:00:00",
          "2018-03-01T00:00:00",
          "2018-04-01T00:00:00",
          "2018-05-01T00:00:00",
          "2018-06-01T00:00:00",
          "2018-07-01T00:00:00",
          "2018-08-01T00:00:00",
          "2018-09-01T00:00:00",
          "2018-10-01T00:00:00",
          "2018-11-01T00:00:00",
          "2018-12-01T00:00:00",
          "2019-01-01T00:00:00",
          "2019-02-01T00:00:00",
          "2019-03-01T00:00:00",
          "2019-04-01T00:00:00",
          "2019-05-01T00:00:00",
          "2019-06-01T00:00:00",
          "2019-07-01T00:00:00",
          "2019-08-01T00:00:00",
          "2019-09-01T00:00:00",
          "2019-10-01T00:00:00",
          "2019-11-01T00:00:00",
          "2019-12-01T00:00:00",
          "2020-01-01T00:00:00",
          "2020-02-01T00:00:00",
          "2020-03-01T00:00:00",
          "2020-04-01T00:00:00",
          "2020-05-01T00:00:00",
          "2020-06-01T00:00:00",
          "2020-07-01T00:00:00",
          "2020-08-01T00:00:00",
          "2020-09-01T00:00:00",
          "2020-10-01T00:00:00",
          "2020-11-01T00:00:00",
          "2020-12-01T00:00:00",
          "2021-01-01T00:00:00",
          "2021-02-01T00:00:00",
          "2021-03-01T00:00:00",
          "2021-04-01T00:00:00",
          "2021-05-01T00:00:00",
          "2021-06-01T00:00:00",
          "2021-07-01T00:00:00",
          "2021-08-01T00:00:00",
          "2021-09-01T00:00:00",
          "2021-10-01T00:00:00",
          "2021-11-01T00:00:00",
          "2021-12-01T00:00:00",
          "2022-01-01T00:00:00",
          "2022-02-01T00:00:00",
          "2022-03-01T00:00:00",
          "2022-04-01T00:00:00",
          "2022-05-01T00:00:00",
          "2022-06-01T00:00:00",
          "2022-07-01T00:00:00",
          "2022-08-01T00:00:00",
          "2022-09-01T00:00:00",
          "2022-10-01T00:00:00",
          "2022-11-01T00:00:00",
          "2022-12-01T00:00:00",
          "2023-01-01T00:00:00",
          "2023-02-01T00:00:00",
          "2023-03-01T00:00:00",
          "2023-04-01T00:00:00",
          "2023-05-01T00:00:00",
          "2023-06-01T00:00:00",
          "2023-07-01T00:00:00"
         ],
         "xaxis": "x",
         "y": [
          15557.032341467106,
          15227.811124761349,
          15000.674154407456,
          15154.483698579692,
          15043.359175570513,
          15862.01064429487,
          15202.352054310255,
          15364.055294108279,
          15595.983322418042,
          16436.875722369845,
          16075.792580414947,
          16005.767882421254,
          15624.06773169576,
          15691.0549867125,
          16302.63368922418,
          15962.06732210804,
          17161.1615287202,
          17685.622944403774,
          18268.402870537015,
          17882.55469879379,
          17345.281719119903,
          18373.506330298747,
          20510.045163759398,
          18715.32268764472,
          22969.610993440197,
          23548.659012917284,
          23508.95398929419,
          23945.000322383188,
          24875.96635953514,
          24930.56727220272,
          25233.70424929913,
          24998.524736736057,
          24523.240120727158,
          24355.7331144679,
          23763.370667685573,
          21896.53984530149,
          22867.680199428047,
          23357.600058841697,
          23267.81425162039,
          21781.27826402454,
          21892.40361254233,
          22667.871215549316,
          22173.28355081071,
          22178.501326603237,
          21521.569210538655,
          22118.355108141077,
          21307.271561155663,
          20337.242952826684,
          20651.69826758882,
          21224.763777066582,
          20934.117617935768,
          20790.466328037972,
          19546.74957647782,
          21299.650788011422,
          21573.613481560205,
          20539.7643202801,
          20809.674291402283,
          21312.51160487817,
          21905.45618393156,
          19943.17386764177,
          21184.235794205586,
          21987.64568343059,
          21845.687782789744,
          24630.080580996142,
          21557.83995921337,
          20320.193758308087,
          19457.759016563377,
          24771.155633917646,
          24684.07505160052,
          26790.06302775,
          27912.584802788715,
          34934.4110480105,
          35685.83715800794,
          34823.049453292326,
          34875.836150609495,
          32868.434665220026,
          32574.081984249013,
          31395.7961499248,
          29972.049019154354,
          28618.731791524442,
          27911.798628636363,
          28241.71301364605,
          25889.87076902763,
          23554.2848268737,
          24262.69666802083,
          23932.192300789062,
          23807.52710561818,
          22891.385430552393,
          23355.832989790426,
          24816.877800340673,
          25673.00618990181,
          23771.364878244698,
          23231.749228954708,
          24134.49811822459,
          25541.751444456415,
          25152.57735233348,
          25377.57746042964,
          26686.766600307757,
          28254.42749523105,
          28962.984764097324,
          27453.684188959167,
          28928.877835156676,
          31023.075564199873
         ],
         "yaxis": "y"
        },
        {
         "hovertemplate": "variable=riesgo_c_s<br>year_month=%{x}<br>value=%{y}<extra></extra>",
         "legendgroup": "riesgo_c_s",
         "line": {
          "color": "#ab63fa",
          "dash": "solid"
         },
         "marker": {
          "symbol": "circle"
         },
         "mode": "lines",
         "name": "riesgo_c_s",
         "orientation": "v",
         "showlegend": true,
         "type": "scatter",
         "x": [
          "2015-01-01T00:00:00",
          "2015-02-01T00:00:00",
          "2015-03-01T00:00:00",
          "2015-04-01T00:00:00",
          "2015-05-01T00:00:00",
          "2015-06-01T00:00:00",
          "2015-07-01T00:00:00",
          "2015-08-01T00:00:00",
          "2015-09-01T00:00:00",
          "2015-10-01T00:00:00",
          "2015-11-01T00:00:00",
          "2015-12-01T00:00:00",
          "2016-01-01T00:00:00",
          "2016-02-01T00:00:00",
          "2016-03-01T00:00:00",
          "2016-04-01T00:00:00",
          "2016-05-01T00:00:00",
          "2016-06-01T00:00:00",
          "2016-07-01T00:00:00",
          "2016-08-01T00:00:00",
          "2016-09-01T00:00:00",
          "2016-10-01T00:00:00",
          "2016-11-01T00:00:00",
          "2016-12-01T00:00:00",
          "2017-01-01T00:00:00",
          "2017-02-01T00:00:00",
          "2017-03-01T00:00:00",
          "2017-04-01T00:00:00",
          "2017-05-01T00:00:00",
          "2017-06-01T00:00:00",
          "2017-07-01T00:00:00",
          "2017-08-01T00:00:00",
          "2017-09-01T00:00:00",
          "2017-10-01T00:00:00",
          "2017-11-01T00:00:00",
          "2017-12-01T00:00:00",
          "2018-01-01T00:00:00",
          "2018-02-01T00:00:00",
          "2018-03-01T00:00:00",
          "2018-04-01T00:00:00",
          "2018-05-01T00:00:00",
          "2018-06-01T00:00:00",
          "2018-07-01T00:00:00",
          "2018-08-01T00:00:00",
          "2018-09-01T00:00:00",
          "2018-10-01T00:00:00",
          "2018-11-01T00:00:00",
          "2018-12-01T00:00:00",
          "2019-01-01T00:00:00",
          "2019-02-01T00:00:00",
          "2019-03-01T00:00:00",
          "2019-04-01T00:00:00",
          "2019-05-01T00:00:00",
          "2019-06-01T00:00:00",
          "2019-07-01T00:00:00",
          "2019-08-01T00:00:00",
          "2019-09-01T00:00:00",
          "2019-10-01T00:00:00",
          "2019-11-01T00:00:00",
          "2019-12-01T00:00:00",
          "2020-01-01T00:00:00",
          "2020-02-01T00:00:00",
          "2020-03-01T00:00:00",
          "2020-04-01T00:00:00",
          "2020-05-01T00:00:00",
          "2020-06-01T00:00:00",
          "2020-07-01T00:00:00",
          "2020-08-01T00:00:00",
          "2020-09-01T00:00:00",
          "2020-10-01T00:00:00",
          "2020-11-01T00:00:00",
          "2020-12-01T00:00:00",
          "2021-01-01T00:00:00",
          "2021-02-01T00:00:00",
          "2021-03-01T00:00:00",
          "2021-04-01T00:00:00",
          "2021-05-01T00:00:00",
          "2021-06-01T00:00:00",
          "2021-07-01T00:00:00",
          "2021-08-01T00:00:00",
          "2021-09-01T00:00:00",
          "2021-10-01T00:00:00",
          "2021-11-01T00:00:00",
          "2021-12-01T00:00:00",
          "2022-01-01T00:00:00",
          "2022-02-01T00:00:00",
          "2022-03-01T00:00:00",
          "2022-04-01T00:00:00",
          "2022-05-01T00:00:00",
          "2022-06-01T00:00:00",
          "2022-07-01T00:00:00",
          "2022-08-01T00:00:00",
          "2022-09-01T00:00:00",
          "2022-10-01T00:00:00",
          "2022-11-01T00:00:00",
          "2022-12-01T00:00:00",
          "2023-01-01T00:00:00",
          "2023-02-01T00:00:00",
          "2023-03-01T00:00:00",
          "2023-04-01T00:00:00",
          "2023-05-01T00:00:00",
          "2023-06-01T00:00:00",
          "2023-07-01T00:00:00"
         ],
         "xaxis": "x",
         "y": [
          7081.203596686842,
          7231.98467516083,
          7327.894316532133,
          7261.048064249357,
          7577.106565794872,
          8109.42771848205,
          8064.2512714,
          8114.521129717197,
          8267.168524969504,
          8388.223027952321,
          8914.043918610825,
          9494.413522895005,
          9426.628418917706,
          9642.57372919875,
          9933.40909995592,
          9731.849095180905,
          9940.13990232246,
          10485.201236469182,
          10869.62690033877,
          10918.193263001243,
          10793.072849896169,
          11056.84485740375,
          11770.85279520802,
          12620.479049859627,
          12529.985271184956,
          13471.133135070371,
          14248.779579428923,
          14755.78046496539,
          14904.41747838471,
          15679.430485568602,
          15924.2423896267,
          15372.73352836679,
          15417.625374865433,
          15482.89469634321,
          17173.846076406906,
          18169.04241666377,
          19082.835262763838,
          19983.129379507078,
          18919.014145027028,
          19662.22775457914,
          19016.374122693254,
          19062.812024117353,
          19148.903502777088,
          18800.499065458956,
          18437.299700799253,
          18037.965025123594,
          18504.52552403985,
          15606.527469917706,
          14301.942580160248,
          14881.922692324122,
          15159.101734256928,
          15061.864145656962,
          14907.020430751583,
          15142.380695388323,
          14695.964303870722,
          14738.432071258556,
          14359.837027701777,
          13203.28178517259,
          13434.268247471482,
          12904.030704092404,
          12717.404253974619,
          13366.16731703856,
          14195.952690842309,
          14068.68958711054,
          14007.982565628534,
          14203.904356478819,
          13455.803072021767,
          13681.606975704575,
          16232.201047519582,
          17813.081594892672,
          20277.200224122047,
          20150.524416519685,
          19945.964358375662,
          20244.487110161375,
          19175.821382312664,
          19528.579054204216,
          19077.217248557314,
          18741.28975326781,
          17889.503847771768,
          17510.77858740951,
          17203.81065867457,
          17136.96284685395,
          17269.664700742105,
          16231.305863260417,
          15836.755276354166,
          15695.06989945573,
          15454.73677494935,
          15486.103114459249,
          15215.196745571797,
          15327.92532773316,
          14963.707950117572,
          15114.200205754258,
          14859.876599157496,
          15283.96586864093,
          15879.021727491485,
          15883.006620516919,
          16200.486770255251,
          16814.46581941874,
          17606.85885499572,
          18281.416450823894,
          18382.03906212466,
          18582.305036651695,
          18063.274041770957
         ],
         "yaxis": "y"
        },
        {
         "hovertemplate": "variable=riesgo_d_s<br>year_month=%{x}<br>value=%{y}<extra></extra>",
         "legendgroup": "riesgo_d_s",
         "line": {
          "color": "#FFA15A",
          "dash": "solid"
         },
         "marker": {
          "symbol": "circle"
         },
         "mode": "lines",
         "name": "riesgo_d_s",
         "orientation": "v",
         "showlegend": true,
         "type": "scatter",
         "x": [
          "2015-01-01T00:00:00",
          "2015-02-01T00:00:00",
          "2015-03-01T00:00:00",
          "2015-04-01T00:00:00",
          "2015-05-01T00:00:00",
          "2015-06-01T00:00:00",
          "2015-07-01T00:00:00",
          "2015-08-01T00:00:00",
          "2015-09-01T00:00:00",
          "2015-10-01T00:00:00",
          "2015-11-01T00:00:00",
          "2015-12-01T00:00:00",
          "2016-01-01T00:00:00",
          "2016-02-01T00:00:00",
          "2016-03-01T00:00:00",
          "2016-04-01T00:00:00",
          "2016-05-01T00:00:00",
          "2016-06-01T00:00:00",
          "2016-07-01T00:00:00",
          "2016-08-01T00:00:00",
          "2016-09-01T00:00:00",
          "2016-10-01T00:00:00",
          "2016-11-01T00:00:00",
          "2016-12-01T00:00:00",
          "2017-01-01T00:00:00",
          "2017-02-01T00:00:00",
          "2017-03-01T00:00:00",
          "2017-04-01T00:00:00",
          "2017-05-01T00:00:00",
          "2017-06-01T00:00:00",
          "2017-07-01T00:00:00",
          "2017-08-01T00:00:00",
          "2017-09-01T00:00:00",
          "2017-10-01T00:00:00",
          "2017-11-01T00:00:00",
          "2017-12-01T00:00:00",
          "2018-01-01T00:00:00",
          "2018-02-01T00:00:00",
          "2018-03-01T00:00:00",
          "2018-04-01T00:00:00",
          "2018-05-01T00:00:00",
          "2018-06-01T00:00:00",
          "2018-07-01T00:00:00",
          "2018-08-01T00:00:00",
          "2018-09-01T00:00:00",
          "2018-10-01T00:00:00",
          "2018-11-01T00:00:00",
          "2018-12-01T00:00:00",
          "2019-01-01T00:00:00",
          "2019-02-01T00:00:00",
          "2019-03-01T00:00:00",
          "2019-04-01T00:00:00",
          "2019-05-01T00:00:00",
          "2019-06-01T00:00:00",
          "2019-07-01T00:00:00",
          "2019-08-01T00:00:00",
          "2019-09-01T00:00:00",
          "2019-10-01T00:00:00",
          "2019-11-01T00:00:00",
          "2019-12-01T00:00:00",
          "2020-01-01T00:00:00",
          "2020-02-01T00:00:00",
          "2020-03-01T00:00:00",
          "2020-04-01T00:00:00",
          "2020-05-01T00:00:00",
          "2020-06-01T00:00:00",
          "2020-07-01T00:00:00",
          "2020-08-01T00:00:00",
          "2020-09-01T00:00:00",
          "2020-10-01T00:00:00",
          "2020-11-01T00:00:00",
          "2020-12-01T00:00:00",
          "2021-01-01T00:00:00",
          "2021-02-01T00:00:00",
          "2021-03-01T00:00:00",
          "2021-04-01T00:00:00",
          "2021-05-01T00:00:00",
          "2021-06-01T00:00:00",
          "2021-07-01T00:00:00",
          "2021-08-01T00:00:00",
          "2021-09-01T00:00:00",
          "2021-10-01T00:00:00",
          "2021-11-01T00:00:00",
          "2021-12-01T00:00:00",
          "2022-01-01T00:00:00",
          "2022-02-01T00:00:00",
          "2022-03-01T00:00:00",
          "2022-04-01T00:00:00",
          "2022-05-01T00:00:00",
          "2022-06-01T00:00:00",
          "2022-07-01T00:00:00",
          "2022-08-01T00:00:00",
          "2022-09-01T00:00:00",
          "2022-10-01T00:00:00",
          "2022-11-01T00:00:00",
          "2022-12-01T00:00:00",
          "2023-01-01T00:00:00",
          "2023-02-01T00:00:00",
          "2023-03-01T00:00:00",
          "2023-04-01T00:00:00",
          "2023-05-01T00:00:00",
          "2023-06-01T00:00:00",
          "2023-07-01T00:00:00"
         ],
         "xaxis": "x",
         "y": [
          7925.381037059211,
          7709.862148574579,
          7670.708998857326,
          8034.067072982006,
          8388.951850110258,
          8634.169493103846,
          8806.775825676923,
          8683.486614440764,
          8644.376570792883,
          8878.841424257733,
          8984.341907640464,
          9097.27759737644,
          8624.746082703241,
          8845.942534625001,
          9168.014816036524,
          9579.047349028895,
          9865.721881919699,
          9962.475131730816,
          9984.472663511919,
          9814.584975212423,
          9927.677451336218,
          10217.26562012125,
          10585.011012339599,
          10510.148843597517,
          10419.628400528976,
          10584.123761203704,
          10609.964950150805,
          11089.944096716934,
          11534.583263987668,
          12168.836519159457,
          12272.122142351052,
          13314.132389851302,
          13641.259230360494,
          13812.457097149383,
          14640.099996200986,
          16208.479136094295,
          15262.73860793604,
          16127.959705075933,
          16125.198737079852,
          16849.38667274724,
          17347.63146861227,
          18839.65030500999,
          18540.04838119676,
          18503.04376610075,
          18549.860489589777,
          18203.93832664919,
          18330.197003455793,
          21391.700383442643,
          21206.708507185092,
          21335.049706056532,
          21555.524498236777,
          22551.39599493038,
          22653.023717628643,
          22848.27339682995,
          22610.12276719138,
          22379.06882054246,
          22697.07826923858,
          23735.548490931473,
          23495.849349397973,
          22593.16054908861,
          22235.07401041878,
          19900.594738600255,
          20680.230329214104,
          20147.445156663238,
          19677.882264979435,
          19192.637939454427,
          18249.602509901408,
          18688.77649541438,
          18514.15481923368,
          20436.538388671466,
          23129.238388518374,
          25827.227849842522,
          25619.439681632277,
          24395.025417181216,
          22791.723762493402,
          22547.993408882743,
          21977.552097902506,
          21961.579220209762,
          21637.085108633244,
          20913.007873840157,
          20351.93945909091,
          20025.053959584213,
          19976.68460706184,
          19051.452976509114,
          18747.998187041667,
          18700.545178104167,
          17958.20439869091,
          18283.31095401423,
          18717.72812664295,
          18664.52298322021,
          18757.400881426354,
          18813.209899550726,
          18997.830390461637,
          19507.432488033355,
          19897.415838354205,
          21033.72728324423,
          21457.701789479703,
          21854.510009217356,
          22650.102093546313,
          23692.943528075666,
          25654.12190148728,
          26265.6874763896,
          26528.64933772663
         ],
         "yaxis": "y"
        },
        {
         "hovertemplate": "variable=riesgo_e_s<br>year_month=%{x}<br>value=%{y}<extra></extra>",
         "legendgroup": "riesgo_e_s",
         "line": {
          "color": "#19d3f3",
          "dash": "solid"
         },
         "marker": {
          "symbol": "circle"
         },
         "mode": "lines",
         "name": "riesgo_e_s",
         "orientation": "v",
         "showlegend": true,
         "type": "scatter",
         "x": [
          "2015-01-01T00:00:00",
          "2015-02-01T00:00:00",
          "2015-03-01T00:00:00",
          "2015-04-01T00:00:00",
          "2015-05-01T00:00:00",
          "2015-06-01T00:00:00",
          "2015-07-01T00:00:00",
          "2015-08-01T00:00:00",
          "2015-09-01T00:00:00",
          "2015-10-01T00:00:00",
          "2015-11-01T00:00:00",
          "2015-12-01T00:00:00",
          "2016-01-01T00:00:00",
          "2016-02-01T00:00:00",
          "2016-03-01T00:00:00",
          "2016-04-01T00:00:00",
          "2016-05-01T00:00:00",
          "2016-06-01T00:00:00",
          "2016-07-01T00:00:00",
          "2016-08-01T00:00:00",
          "2016-09-01T00:00:00",
          "2016-10-01T00:00:00",
          "2016-11-01T00:00:00",
          "2016-12-01T00:00:00",
          "2017-01-01T00:00:00",
          "2017-02-01T00:00:00",
          "2017-03-01T00:00:00",
          "2017-04-01T00:00:00",
          "2017-05-01T00:00:00",
          "2017-06-01T00:00:00",
          "2017-07-01T00:00:00",
          "2017-08-01T00:00:00",
          "2017-09-01T00:00:00",
          "2017-10-01T00:00:00",
          "2017-11-01T00:00:00",
          "2017-12-01T00:00:00",
          "2018-01-01T00:00:00",
          "2018-02-01T00:00:00",
          "2018-03-01T00:00:00",
          "2018-04-01T00:00:00",
          "2018-05-01T00:00:00",
          "2018-06-01T00:00:00",
          "2018-07-01T00:00:00",
          "2018-08-01T00:00:00",
          "2018-09-01T00:00:00",
          "2018-10-01T00:00:00",
          "2018-11-01T00:00:00",
          "2018-12-01T00:00:00",
          "2019-01-01T00:00:00",
          "2019-02-01T00:00:00",
          "2019-03-01T00:00:00",
          "2019-04-01T00:00:00",
          "2019-05-01T00:00:00",
          "2019-06-01T00:00:00",
          "2019-07-01T00:00:00",
          "2019-08-01T00:00:00",
          "2019-09-01T00:00:00",
          "2019-10-01T00:00:00",
          "2019-11-01T00:00:00",
          "2019-12-01T00:00:00",
          "2020-01-01T00:00:00",
          "2020-02-01T00:00:00",
          "2020-03-01T00:00:00",
          "2020-04-01T00:00:00",
          "2020-05-01T00:00:00",
          "2020-06-01T00:00:00",
          "2020-07-01T00:00:00",
          "2020-08-01T00:00:00",
          "2020-09-01T00:00:00",
          "2020-10-01T00:00:00",
          "2020-11-01T00:00:00",
          "2020-12-01T00:00:00",
          "2021-01-01T00:00:00",
          "2021-02-01T00:00:00",
          "2021-03-01T00:00:00",
          "2021-04-01T00:00:00",
          "2021-05-01T00:00:00",
          "2021-06-01T00:00:00",
          "2021-07-01T00:00:00",
          "2021-08-01T00:00:00",
          "2021-09-01T00:00:00",
          "2021-10-01T00:00:00",
          "2021-11-01T00:00:00",
          "2021-12-01T00:00:00",
          "2022-01-01T00:00:00",
          "2022-02-01T00:00:00",
          "2022-03-01T00:00:00",
          "2022-04-01T00:00:00",
          "2022-05-01T00:00:00",
          "2022-06-01T00:00:00",
          "2022-07-01T00:00:00",
          "2022-08-01T00:00:00",
          "2022-09-01T00:00:00",
          "2022-10-01T00:00:00",
          "2022-11-01T00:00:00",
          "2022-12-01T00:00:00",
          "2023-01-01T00:00:00",
          "2023-02-01T00:00:00",
          "2023-03-01T00:00:00",
          "2023-04-01T00:00:00",
          "2023-05-01T00:00:00",
          "2023-06-01T00:00:00",
          "2023-07-01T00:00:00"
         ],
         "xaxis": "x",
         "y": [
          5068.068251619737,
          5048.4286056562905,
          5077.057146001285,
          5033.903120478149,
          4957.160809451282,
          5131.148131598718,
          5090.4323198923075,
          5187.859544342675,
          5272.327746526048,
          5444.746734158505,
          5525.30930190335,
          5648.284889629962,
          5677.41088093641,
          5881.5402554249995,
          5939.8517672468515,
          6028.749941458543,
          6065.20623566123,
          5953.261217369812,
          6292.6283494404015,
          6500.707249771429,
          6560.692013134734,
          7088.4223142975,
          7155.84477183584,
          7389.385880946585,
          7598.807580041923,
          7652.223496054321,
          7762.955511414091,
          7820.6141110815815,
          7995.383326717633,
          8111.9244216773795,
          8530.83684163906,
          8867.206179451054,
          9047.225286976543,
          9478.239245269137,
          9547.118350057954,
          9732.232838094293,
          10129.580538439115,
          10778.16995499614,
          10371.712318203932,
          10278.052850674847,
          10850.49750448589,
          10965.497803147315,
          11325.506335109589,
          11741.540971033583,
          12637.382792562345,
          13624.017906686642,
          13550.091638992528,
          13869.79881440025,
          14473.689881590062,
          14777.419947257536,
          14569.585332767003,
          14576.659456196203,
          14706.676708375158,
          14292.684779417512,
          15024.84300536882,
          15563.27793062104,
          15737.685806968273,
          15789.184990562182,
          16193.203288234476,
          16184.284183481013,
          16931.26236796066,
          19634.70587408869,
          19940.918337089744,
          20220.57125849357,
          20547.182143969152,
          20771.926654057766,
          20912.759739928297,
          20750.226752253595,
          20879.68751220888,
          21170.584086698953,
          20759.426210569556,
          21963.03817474016,
          23748.227886247354,
          23681.33876319841,
          23660.030475109495,
          23718.863430160738,
          23883.86357149012,
          24150.813232067285,
          24070.845323580477,
          24468.71989609643,
          24500.560628496703,
          24594.742541451316,
          24514.785307303948,
          24022.429814682295,
          24578.25992199349,
          24230.071392177084,
          24253.649327332467,
          24459.554090382924,
          23514.608569007763,
          23502.204436278498,
          23302.33160449871,
          23486.019785161126,
          23818.718654069962,
          23875.07244274471,
          23143.102793634698,
          22209.975725733868,
          22721.36004235081,
          22729.58975093959,
          22499.370293400883,
          22627.271294249073,
          22900.300889362697,
          22735.928034181055,
          22981.16826380356
         ],
         "yaxis": "y"
        }
       ],
       "layout": {
        "legend": {
         "title": {
          "text": "variable"
         },
         "tracegroupgap": 0
        },
        "margin": {
         "t": 60
        },
        "template": {
         "data": {
          "bar": [
           {
            "error_x": {
             "color": "#2a3f5f"
            },
            "error_y": {
             "color": "#2a3f5f"
            },
            "marker": {
             "line": {
              "color": "#E5ECF6",
              "width": 0.5
             },
             "pattern": {
              "fillmode": "overlay",
              "size": 10,
              "solidity": 0.2
             }
            },
            "type": "bar"
           }
          ],
          "barpolar": [
           {
            "marker": {
             "line": {
              "color": "#E5ECF6",
              "width": 0.5
             },
             "pattern": {
              "fillmode": "overlay",
              "size": 10,
              "solidity": 0.2
             }
            },
            "type": "barpolar"
           }
          ],
          "carpet": [
           {
            "aaxis": {
             "endlinecolor": "#2a3f5f",
             "gridcolor": "white",
             "linecolor": "white",
             "minorgridcolor": "white",
             "startlinecolor": "#2a3f5f"
            },
            "baxis": {
             "endlinecolor": "#2a3f5f",
             "gridcolor": "white",
             "linecolor": "white",
             "minorgridcolor": "white",
             "startlinecolor": "#2a3f5f"
            },
            "type": "carpet"
           }
          ],
          "choropleth": [
           {
            "colorbar": {
             "outlinewidth": 0,
             "ticks": ""
            },
            "type": "choropleth"
           }
          ],
          "contour": [
           {
            "colorbar": {
             "outlinewidth": 0,
             "ticks": ""
            },
            "colorscale": [
             [
              0,
              "#0d0887"
             ],
             [
              0.1111111111111111,
              "#46039f"
             ],
             [
              0.2222222222222222,
              "#7201a8"
             ],
             [
              0.3333333333333333,
              "#9c179e"
             ],
             [
              0.4444444444444444,
              "#bd3786"
             ],
             [
              0.5555555555555556,
              "#d8576b"
             ],
             [
              0.6666666666666666,
              "#ed7953"
             ],
             [
              0.7777777777777778,
              "#fb9f3a"
             ],
             [
              0.8888888888888888,
              "#fdca26"
             ],
             [
              1,
              "#f0f921"
             ]
            ],
            "type": "contour"
           }
          ],
          "contourcarpet": [
           {
            "colorbar": {
             "outlinewidth": 0,
             "ticks": ""
            },
            "type": "contourcarpet"
           }
          ],
          "heatmap": [
           {
            "colorbar": {
             "outlinewidth": 0,
             "ticks": ""
            },
            "colorscale": [
             [
              0,
              "#0d0887"
             ],
             [
              0.1111111111111111,
              "#46039f"
             ],
             [
              0.2222222222222222,
              "#7201a8"
             ],
             [
              0.3333333333333333,
              "#9c179e"
             ],
             [
              0.4444444444444444,
              "#bd3786"
             ],
             [
              0.5555555555555556,
              "#d8576b"
             ],
             [
              0.6666666666666666,
              "#ed7953"
             ],
             [
              0.7777777777777778,
              "#fb9f3a"
             ],
             [
              0.8888888888888888,
              "#fdca26"
             ],
             [
              1,
              "#f0f921"
             ]
            ],
            "type": "heatmap"
           }
          ],
          "heatmapgl": [
           {
            "colorbar": {
             "outlinewidth": 0,
             "ticks": ""
            },
            "colorscale": [
             [
              0,
              "#0d0887"
             ],
             [
              0.1111111111111111,
              "#46039f"
             ],
             [
              0.2222222222222222,
              "#7201a8"
             ],
             [
              0.3333333333333333,
              "#9c179e"
             ],
             [
              0.4444444444444444,
              "#bd3786"
             ],
             [
              0.5555555555555556,
              "#d8576b"
             ],
             [
              0.6666666666666666,
              "#ed7953"
             ],
             [
              0.7777777777777778,
              "#fb9f3a"
             ],
             [
              0.8888888888888888,
              "#fdca26"
             ],
             [
              1,
              "#f0f921"
             ]
            ],
            "type": "heatmapgl"
           }
          ],
          "histogram": [
           {
            "marker": {
             "pattern": {
              "fillmode": "overlay",
              "size": 10,
              "solidity": 0.2
             }
            },
            "type": "histogram"
           }
          ],
          "histogram2d": [
           {
            "colorbar": {
             "outlinewidth": 0,
             "ticks": ""
            },
            "colorscale": [
             [
              0,
              "#0d0887"
             ],
             [
              0.1111111111111111,
              "#46039f"
             ],
             [
              0.2222222222222222,
              "#7201a8"
             ],
             [
              0.3333333333333333,
              "#9c179e"
             ],
             [
              0.4444444444444444,
              "#bd3786"
             ],
             [
              0.5555555555555556,
              "#d8576b"
             ],
             [
              0.6666666666666666,
              "#ed7953"
             ],
             [
              0.7777777777777778,
              "#fb9f3a"
             ],
             [
              0.8888888888888888,
              "#fdca26"
             ],
             [
              1,
              "#f0f921"
             ]
            ],
            "type": "histogram2d"
           }
          ],
          "histogram2dcontour": [
           {
            "colorbar": {
             "outlinewidth": 0,
             "ticks": ""
            },
            "colorscale": [
             [
              0,
              "#0d0887"
             ],
             [
              0.1111111111111111,
              "#46039f"
             ],
             [
              0.2222222222222222,
              "#7201a8"
             ],
             [
              0.3333333333333333,
              "#9c179e"
             ],
             [
              0.4444444444444444,
              "#bd3786"
             ],
             [
              0.5555555555555556,
              "#d8576b"
             ],
             [
              0.6666666666666666,
              "#ed7953"
             ],
             [
              0.7777777777777778,
              "#fb9f3a"
             ],
             [
              0.8888888888888888,
              "#fdca26"
             ],
             [
              1,
              "#f0f921"
             ]
            ],
            "type": "histogram2dcontour"
           }
          ],
          "mesh3d": [
           {
            "colorbar": {
             "outlinewidth": 0,
             "ticks": ""
            },
            "type": "mesh3d"
           }
          ],
          "parcoords": [
           {
            "line": {
             "colorbar": {
              "outlinewidth": 0,
              "ticks": ""
             }
            },
            "type": "parcoords"
           }
          ],
          "pie": [
           {
            "automargin": true,
            "type": "pie"
           }
          ],
          "scatter": [
           {
            "fillpattern": {
             "fillmode": "overlay",
             "size": 10,
             "solidity": 0.2
            },
            "type": "scatter"
           }
          ],
          "scatter3d": [
           {
            "line": {
             "colorbar": {
              "outlinewidth": 0,
              "ticks": ""
             }
            },
            "marker": {
             "colorbar": {
              "outlinewidth": 0,
              "ticks": ""
             }
            },
            "type": "scatter3d"
           }
          ],
          "scattercarpet": [
           {
            "marker": {
             "colorbar": {
              "outlinewidth": 0,
              "ticks": ""
             }
            },
            "type": "scattercarpet"
           }
          ],
          "scattergeo": [
           {
            "marker": {
             "colorbar": {
              "outlinewidth": 0,
              "ticks": ""
             }
            },
            "type": "scattergeo"
           }
          ],
          "scattergl": [
           {
            "marker": {
             "colorbar": {
              "outlinewidth": 0,
              "ticks": ""
             }
            },
            "type": "scattergl"
           }
          ],
          "scattermapbox": [
           {
            "marker": {
             "colorbar": {
              "outlinewidth": 0,
              "ticks": ""
             }
            },
            "type": "scattermapbox"
           }
          ],
          "scatterpolar": [
           {
            "marker": {
             "colorbar": {
              "outlinewidth": 0,
              "ticks": ""
             }
            },
            "type": "scatterpolar"
           }
          ],
          "scatterpolargl": [
           {
            "marker": {
             "colorbar": {
              "outlinewidth": 0,
              "ticks": ""
             }
            },
            "type": "scatterpolargl"
           }
          ],
          "scatterternary": [
           {
            "marker": {
             "colorbar": {
              "outlinewidth": 0,
              "ticks": ""
             }
            },
            "type": "scatterternary"
           }
          ],
          "surface": [
           {
            "colorbar": {
             "outlinewidth": 0,
             "ticks": ""
            },
            "colorscale": [
             [
              0,
              "#0d0887"
             ],
             [
              0.1111111111111111,
              "#46039f"
             ],
             [
              0.2222222222222222,
              "#7201a8"
             ],
             [
              0.3333333333333333,
              "#9c179e"
             ],
             [
              0.4444444444444444,
              "#bd3786"
             ],
             [
              0.5555555555555556,
              "#d8576b"
             ],
             [
              0.6666666666666666,
              "#ed7953"
             ],
             [
              0.7777777777777778,
              "#fb9f3a"
             ],
             [
              0.8888888888888888,
              "#fdca26"
             ],
             [
              1,
              "#f0f921"
             ]
            ],
            "type": "surface"
           }
          ],
          "table": [
           {
            "cells": {
             "fill": {
              "color": "#EBF0F8"
             },
             "line": {
              "color": "white"
             }
            },
            "header": {
             "fill": {
              "color": "#C8D4E3"
             },
             "line": {
              "color": "white"
             }
            },
            "type": "table"
           }
          ]
         },
         "layout": {
          "annotationdefaults": {
           "arrowcolor": "#2a3f5f",
           "arrowhead": 0,
           "arrowwidth": 1
          },
          "autotypenumbers": "strict",
          "coloraxis": {
           "colorbar": {
            "outlinewidth": 0,
            "ticks": ""
           }
          },
          "colorscale": {
           "diverging": [
            [
             0,
             "#8e0152"
            ],
            [
             0.1,
             "#c51b7d"
            ],
            [
             0.2,
             "#de77ae"
            ],
            [
             0.3,
             "#f1b6da"
            ],
            [
             0.4,
             "#fde0ef"
            ],
            [
             0.5,
             "#f7f7f7"
            ],
            [
             0.6,
             "#e6f5d0"
            ],
            [
             0.7,
             "#b8e186"
            ],
            [
             0.8,
             "#7fbc41"
            ],
            [
             0.9,
             "#4d9221"
            ],
            [
             1,
             "#276419"
            ]
           ],
           "sequential": [
            [
             0,
             "#0d0887"
            ],
            [
             0.1111111111111111,
             "#46039f"
            ],
            [
             0.2222222222222222,
             "#7201a8"
            ],
            [
             0.3333333333333333,
             "#9c179e"
            ],
            [
             0.4444444444444444,
             "#bd3786"
            ],
            [
             0.5555555555555556,
             "#d8576b"
            ],
            [
             0.6666666666666666,
             "#ed7953"
            ],
            [
             0.7777777777777778,
             "#fb9f3a"
            ],
            [
             0.8888888888888888,
             "#fdca26"
            ],
            [
             1,
             "#f0f921"
            ]
           ],
           "sequentialminus": [
            [
             0,
             "#0d0887"
            ],
            [
             0.1111111111111111,
             "#46039f"
            ],
            [
             0.2222222222222222,
             "#7201a8"
            ],
            [
             0.3333333333333333,
             "#9c179e"
            ],
            [
             0.4444444444444444,
             "#bd3786"
            ],
            [
             0.5555555555555556,
             "#d8576b"
            ],
            [
             0.6666666666666666,
             "#ed7953"
            ],
            [
             0.7777777777777778,
             "#fb9f3a"
            ],
            [
             0.8888888888888888,
             "#fdca26"
            ],
            [
             1,
             "#f0f921"
            ]
           ]
          },
          "colorway": [
           "#636efa",
           "#EF553B",
           "#00cc96",
           "#ab63fa",
           "#FFA15A",
           "#19d3f3",
           "#FF6692",
           "#B6E880",
           "#FF97FF",
           "#FECB52"
          ],
          "font": {
           "color": "#2a3f5f"
          },
          "geo": {
           "bgcolor": "white",
           "lakecolor": "white",
           "landcolor": "#E5ECF6",
           "showlakes": true,
           "showland": true,
           "subunitcolor": "white"
          },
          "hoverlabel": {
           "align": "left"
          },
          "hovermode": "closest",
          "mapbox": {
           "style": "light"
          },
          "paper_bgcolor": "white",
          "plot_bgcolor": "#E5ECF6",
          "polar": {
           "angularaxis": {
            "gridcolor": "white",
            "linecolor": "white",
            "ticks": ""
           },
           "bgcolor": "#E5ECF6",
           "radialaxis": {
            "gridcolor": "white",
            "linecolor": "white",
            "ticks": ""
           }
          },
          "scene": {
           "xaxis": {
            "backgroundcolor": "#E5ECF6",
            "gridcolor": "white",
            "gridwidth": 2,
            "linecolor": "white",
            "showbackground": true,
            "ticks": "",
            "zerolinecolor": "white"
           },
           "yaxis": {
            "backgroundcolor": "#E5ECF6",
            "gridcolor": "white",
            "gridwidth": 2,
            "linecolor": "white",
            "showbackground": true,
            "ticks": "",
            "zerolinecolor": "white"
           },
           "zaxis": {
            "backgroundcolor": "#E5ECF6",
            "gridcolor": "white",
            "gridwidth": 2,
            "linecolor": "white",
            "showbackground": true,
            "ticks": "",
            "zerolinecolor": "white"
           }
          },
          "shapedefaults": {
           "line": {
            "color": "#2a3f5f"
           }
          },
          "ternary": {
           "aaxis": {
            "gridcolor": "white",
            "linecolor": "white",
            "ticks": ""
           },
           "baxis": {
            "gridcolor": "white",
            "linecolor": "white",
            "ticks": ""
           },
           "bgcolor": "#E5ECF6",
           "caxis": {
            "gridcolor": "white",
            "linecolor": "white",
            "ticks": ""
           }
          },
          "title": {
           "x": 0.05
          },
          "xaxis": {
           "automargin": true,
           "gridcolor": "white",
           "linecolor": "white",
           "ticks": "",
           "title": {
            "standoff": 15
           },
           "zerolinecolor": "white",
           "zerolinewidth": 2
          },
          "yaxis": {
           "automargin": true,
           "gridcolor": "white",
           "linecolor": "white",
           "ticks": "",
           "title": {
            "standoff": 15
           },
           "zerolinecolor": "white",
           "zerolinewidth": 2
          }
         }
        },
        "xaxis": {
         "anchor": "y",
         "domain": [
          0,
          1
         ],
         "title": {
          "text": "year_month"
         }
        },
        "yaxis": {
         "anchor": "x",
         "domain": [
          0,
          1
         ],
         "title": {
          "text": "value"
         }
        }
       }
      }
     },
     "metadata": {},
     "output_type": "display_data"
    }
   ],
   "source": [
    "df['year_month'] = pd.to_datetime(df.fecha_corte.apply(lambda x: str(x.year) + '-' + str(x.month) + '-' + '01'))\n",
    "base = df.groupby(['year_month'])[['saldo_a_la_fecha','riesgo_a_s','riesgo_b_s','riesgo_c_s','riesgo_d_s','riesgo_e_s']].mean()\n",
    "fig = px.line(base)\n",
    "fig.show()"
   ]
  },
  {
   "cell_type": "code",
   "execution_count": 10,
   "metadata": {},
   "outputs": [
    {
     "data": {
      "application/vnd.plotly.v1+json": {
       "config": {
        "plotlyServerURL": "https://plot.ly"
       },
       "data": [
        {
         "hovertemplate": "variable=riesgo_a_c<br>year_month=%{x}<br>value=%{y}<extra></extra>",
         "legendgroup": "riesgo_a_c",
         "line": {
          "color": "#636efa",
          "dash": "solid"
         },
         "marker": {
          "symbol": "circle"
         },
         "mode": "lines",
         "name": "riesgo_a_c",
         "orientation": "v",
         "showlegend": true,
         "type": "scatter",
         "x": [
          "2015-01-01T00:00:00",
          "2015-02-01T00:00:00",
          "2015-03-01T00:00:00",
          "2015-04-01T00:00:00",
          "2015-05-01T00:00:00",
          "2015-06-01T00:00:00",
          "2015-07-01T00:00:00",
          "2015-08-01T00:00:00",
          "2015-09-01T00:00:00",
          "2015-10-01T00:00:00",
          "2015-11-01T00:00:00",
          "2015-12-01T00:00:00",
          "2016-01-01T00:00:00",
          "2016-02-01T00:00:00",
          "2016-03-01T00:00:00",
          "2016-04-01T00:00:00",
          "2016-05-01T00:00:00",
          "2016-06-01T00:00:00",
          "2016-07-01T00:00:00",
          "2016-08-01T00:00:00",
          "2016-09-01T00:00:00",
          "2016-10-01T00:00:00",
          "2016-11-01T00:00:00",
          "2016-12-01T00:00:00",
          "2017-01-01T00:00:00",
          "2017-02-01T00:00:00",
          "2017-03-01T00:00:00",
          "2017-04-01T00:00:00",
          "2017-05-01T00:00:00",
          "2017-06-01T00:00:00",
          "2017-07-01T00:00:00",
          "2017-08-01T00:00:00",
          "2017-09-01T00:00:00",
          "2017-10-01T00:00:00",
          "2017-11-01T00:00:00",
          "2017-12-01T00:00:00",
          "2018-01-01T00:00:00",
          "2018-02-01T00:00:00",
          "2018-03-01T00:00:00",
          "2018-04-01T00:00:00",
          "2018-05-01T00:00:00",
          "2018-06-01T00:00:00",
          "2018-07-01T00:00:00",
          "2018-08-01T00:00:00",
          "2018-09-01T00:00:00",
          "2018-10-01T00:00:00",
          "2018-11-01T00:00:00",
          "2018-12-01T00:00:00",
          "2019-01-01T00:00:00",
          "2019-02-01T00:00:00",
          "2019-03-01T00:00:00",
          "2019-04-01T00:00:00",
          "2019-05-01T00:00:00",
          "2019-06-01T00:00:00",
          "2019-07-01T00:00:00",
          "2019-08-01T00:00:00",
          "2019-09-01T00:00:00",
          "2019-10-01T00:00:00",
          "2019-11-01T00:00:00",
          "2019-12-01T00:00:00",
          "2020-01-01T00:00:00",
          "2020-02-01T00:00:00",
          "2020-03-01T00:00:00",
          "2020-04-01T00:00:00",
          "2020-05-01T00:00:00",
          "2020-06-01T00:00:00",
          "2020-07-01T00:00:00",
          "2020-08-01T00:00:00",
          "2020-09-01T00:00:00",
          "2020-10-01T00:00:00",
          "2020-11-01T00:00:00",
          "2020-12-01T00:00:00",
          "2021-01-01T00:00:00",
          "2021-02-01T00:00:00",
          "2021-03-01T00:00:00",
          "2021-04-01T00:00:00",
          "2021-05-01T00:00:00",
          "2021-06-01T00:00:00",
          "2021-07-01T00:00:00",
          "2021-08-01T00:00:00",
          "2021-09-01T00:00:00",
          "2021-10-01T00:00:00",
          "2021-11-01T00:00:00",
          "2021-12-01T00:00:00",
          "2022-01-01T00:00:00",
          "2022-02-01T00:00:00",
          "2022-03-01T00:00:00",
          "2022-04-01T00:00:00",
          "2022-05-01T00:00:00",
          "2022-06-01T00:00:00",
          "2022-07-01T00:00:00",
          "2022-08-01T00:00:00",
          "2022-09-01T00:00:00",
          "2022-10-01T00:00:00",
          "2022-11-01T00:00:00",
          "2022-12-01T00:00:00",
          "2023-01-01T00:00:00",
          "2023-02-01T00:00:00",
          "2023-03-01T00:00:00",
          "2023-04-01T00:00:00",
          "2023-05-01T00:00:00",
          "2023-06-01T00:00:00",
          "2023-07-01T00:00:00"
         ],
         "xaxis": "x",
         "y": [
          35571.96447368421,
          35719.91569390402,
          35711.6529562982,
          35790.325192802055,
          35774.12564102564,
          35860.84358974359,
          36110.820512820515,
          36085.14522292994,
          36170.05209656925,
          36869.864690721646,
          36823.54510309279,
          36829.52112676056,
          32344.375311720698,
          32180.57,
          32408.56297229219,
          32249.94095477387,
          32516.352572145544,
          32876.29559748428,
          32689.46800501882,
          32565.162732919256,
          32533.029666254635,
          33031.075,
          32045.696741854637,
          31907.747826086958,
          31597.44512946979,
          31631.304938271605,
          31721.987639060568,
          31596.410383189123,
          31628.800246609124,
          31756.57849196539,
          31835.407911001235,
          31985.9219330855,
          31934.153086419752,
          31979.04938271605,
          32127.70160295931,
          32335.053349875932,
          31938.11193111931,
          33381.79922779923,
          31833.512285012286,
          31941.806134969323,
          31956.99263803681,
          32286.322097378277,
          32295.114570361147,
          32321.672885572138,
          32373.71072319202,
          32519.757802746568,
          32686.08094645081,
          32799.18952618454,
          32651.05590062112,
          34193.00753768844,
          34463.05793450882,
          34828.49746835443,
          35139.126742712295,
          35241.20812182741,
          35403.8948035488,
          35300.532319391634,
          35591.140862944165,
          35762.1269035533,
          35960.65525982256,
          36198.881012658225,
          36158.3730964467,
          36672.25835475578,
          36434.47948717949,
          36247.77892030848,
          35840.85989717224,
          35662.38125802311,
          35239.12419974392,
          35184.82352941176,
          34716.10313315927,
          34223.76178010471,
          34025.84120734908,
          33631.94619422572,
          33544.73941798942,
          33624.300264550264,
          33694.08575197889,
          33525.729907773384,
          33613.089591567856,
          33840.82189973615,
          34226.543535620054,
          34824.40819022457,
          34435.88669301713,
          34833.94078947369,
          35348.43947368421,
          35231.3515625,
          35422.787760416664,
          35935.059895833336,
          36204.52337662338,
          36586.05433376455,
          37133.49029754204,
          37473.76683937824,
          37700.70542635659,
          38265.65200517464,
          38609.0670967742,
          38891.583225806455,
          39336.25161290322,
          39288.24484536082,
          39328.14193548387,
          39153.66238767651,
          38822.80462724936,
          38674.4293059126,
          38513.95892169448,
          38328.04236200257,
          37938.51530612245
         ],
         "yaxis": "y"
        },
        {
         "hovertemplate": "variable=riesgo_b_c<br>year_month=%{x}<br>value=%{y}<extra></extra>",
         "legendgroup": "riesgo_b_c",
         "line": {
          "color": "#EF553B",
          "dash": "solid"
         },
         "marker": {
          "symbol": "circle"
         },
         "mode": "lines",
         "name": "riesgo_b_c",
         "orientation": "v",
         "showlegend": true,
         "type": "scatter",
         "x": [
          "2015-01-01T00:00:00",
          "2015-02-01T00:00:00",
          "2015-03-01T00:00:00",
          "2015-04-01T00:00:00",
          "2015-05-01T00:00:00",
          "2015-06-01T00:00:00",
          "2015-07-01T00:00:00",
          "2015-08-01T00:00:00",
          "2015-09-01T00:00:00",
          "2015-10-01T00:00:00",
          "2015-11-01T00:00:00",
          "2015-12-01T00:00:00",
          "2016-01-01T00:00:00",
          "2016-02-01T00:00:00",
          "2016-03-01T00:00:00",
          "2016-04-01T00:00:00",
          "2016-05-01T00:00:00",
          "2016-06-01T00:00:00",
          "2016-07-01T00:00:00",
          "2016-08-01T00:00:00",
          "2016-09-01T00:00:00",
          "2016-10-01T00:00:00",
          "2016-11-01T00:00:00",
          "2016-12-01T00:00:00",
          "2017-01-01T00:00:00",
          "2017-02-01T00:00:00",
          "2017-03-01T00:00:00",
          "2017-04-01T00:00:00",
          "2017-05-01T00:00:00",
          "2017-06-01T00:00:00",
          "2017-07-01T00:00:00",
          "2017-08-01T00:00:00",
          "2017-09-01T00:00:00",
          "2017-10-01T00:00:00",
          "2017-11-01T00:00:00",
          "2017-12-01T00:00:00",
          "2018-01-01T00:00:00",
          "2018-02-01T00:00:00",
          "2018-03-01T00:00:00",
          "2018-04-01T00:00:00",
          "2018-05-01T00:00:00",
          "2018-06-01T00:00:00",
          "2018-07-01T00:00:00",
          "2018-08-01T00:00:00",
          "2018-09-01T00:00:00",
          "2018-10-01T00:00:00",
          "2018-11-01T00:00:00",
          "2018-12-01T00:00:00",
          "2019-01-01T00:00:00",
          "2019-02-01T00:00:00",
          "2019-03-01T00:00:00",
          "2019-04-01T00:00:00",
          "2019-05-01T00:00:00",
          "2019-06-01T00:00:00",
          "2019-07-01T00:00:00",
          "2019-08-01T00:00:00",
          "2019-09-01T00:00:00",
          "2019-10-01T00:00:00",
          "2019-11-01T00:00:00",
          "2019-12-01T00:00:00",
          "2020-01-01T00:00:00",
          "2020-02-01T00:00:00",
          "2020-03-01T00:00:00",
          "2020-04-01T00:00:00",
          "2020-05-01T00:00:00",
          "2020-06-01T00:00:00",
          "2020-07-01T00:00:00",
          "2020-08-01T00:00:00",
          "2020-09-01T00:00:00",
          "2020-10-01T00:00:00",
          "2020-11-01T00:00:00",
          "2020-12-01T00:00:00",
          "2021-01-01T00:00:00",
          "2021-02-01T00:00:00",
          "2021-03-01T00:00:00",
          "2021-04-01T00:00:00",
          "2021-05-01T00:00:00",
          "2021-06-01T00:00:00",
          "2021-07-01T00:00:00",
          "2021-08-01T00:00:00",
          "2021-09-01T00:00:00",
          "2021-10-01T00:00:00",
          "2021-11-01T00:00:00",
          "2021-12-01T00:00:00",
          "2022-01-01T00:00:00",
          "2022-02-01T00:00:00",
          "2022-03-01T00:00:00",
          "2022-04-01T00:00:00",
          "2022-05-01T00:00:00",
          "2022-06-01T00:00:00",
          "2022-07-01T00:00:00",
          "2022-08-01T00:00:00",
          "2022-09-01T00:00:00",
          "2022-10-01T00:00:00",
          "2022-11-01T00:00:00",
          "2022-12-01T00:00:00",
          "2023-01-01T00:00:00",
          "2023-02-01T00:00:00",
          "2023-03-01T00:00:00",
          "2023-04-01T00:00:00",
          "2023-05-01T00:00:00",
          "2023-06-01T00:00:00",
          "2023-07-01T00:00:00"
         ],
         "xaxis": "x",
         "y": [
          1285.2973684210526,
          1374.31906614786,
          1374.0012853470437,
          1400.6182519280205,
          1392.826923076923,
          1378.8576923076923,
          1309.929487179487,
          1297.9286624203821,
          1318.143583227446,
          1363.625,
          1417.2448453608247,
          1325.0012804097312,
          1054.1596009975062,
          1164.94,
          1179.7607052896726,
          1182.144472361809,
          1200.4805520702635,
          1188.3572327044026,
          1215.154328732748,
          1179.5254658385093,
          1147.9505562422744,
          1212.63,
          1229.4298245614036,
          1132.982608695652,
          1103.6313193588162,
          1217.6049382716049,
          1219.6526576019778,
          1282.7589616810878,
          1287.5030826140567,
          1217.231149567367,
          1206.0358467243511,
          1180.6133828996283,
          1204.1802469135803,
          1225.4777777777779,
          1242.2983970406906,
          1150.893300248139,
          1131.7330873308733,
          1241.7747747747749,
          1165.054054054054,
          1148.1815950920245,
          1122.801226993865,
          1102.398252184769,
          1073.6824408468244,
          1062.7226368159204,
          1092.5224438902744,
          1098.1210986267165,
          1077.3586550435866,
          992.5536159600997,
          997.7403726708075,
          1132.7713567839196,
          1127.1536523929472,
          1147.487341772152,
          1013.9746514575412,
          1045.4644670050761,
          1018.0468948035488,
          985.8441064638783,
          1032.0799492385786,
          1040.222081218274,
          1091.936628643853,
          970.273417721519,
          1016.0469543147208,
          1096.1632390745501,
          1071.9705128205128,
          1256.9922879177377,
          1155.3470437017995,
          1006.9383825417201,
          971.8258642765685,
          1639.3437908496733,
          1605.2454308093995,
          1767.4960732984293,
          1634.6312335958005,
          1497.3897637795276,
          1489.5251322751324,
          1452.0899470899471,
          1451.3878627968338,
          1411.3860342555995,
          1391.8880105401845,
          1359.6029023746703,
          1280.655672823219,
          1247.6036988110964,
          1164.3715415019763,
          1201.792105263158,
          1183.9013157894738,
          1030.703125,
          1116.78515625,
          1137.859375,
          1109.409090909091,
          1118.9767141009056,
          1132.5316946959897,
          1149.7422279792745,
          1177.9315245478035,
          1163.606727037516,
          1197.0283870967742,
          1249.2903225806451,
          1316.4748387096774,
          1272.7177835051546,
          1314.5974193548386,
          1428.5545571245186,
          1440.1169665809769,
          1444.0706940874036,
          1460.5044929396663,
          1376.9075738125803,
          1364.4604591836735
         ],
         "yaxis": "y"
        },
        {
         "hovertemplate": "variable=riesgo_c_c<br>year_month=%{x}<br>value=%{y}<extra></extra>",
         "legendgroup": "riesgo_c_c",
         "line": {
          "color": "#00cc96",
          "dash": "solid"
         },
         "marker": {
          "symbol": "circle"
         },
         "mode": "lines",
         "name": "riesgo_c_c",
         "orientation": "v",
         "showlegend": true,
         "type": "scatter",
         "x": [
          "2015-01-01T00:00:00",
          "2015-02-01T00:00:00",
          "2015-03-01T00:00:00",
          "2015-04-01T00:00:00",
          "2015-05-01T00:00:00",
          "2015-06-01T00:00:00",
          "2015-07-01T00:00:00",
          "2015-08-01T00:00:00",
          "2015-09-01T00:00:00",
          "2015-10-01T00:00:00",
          "2015-11-01T00:00:00",
          "2015-12-01T00:00:00",
          "2016-01-01T00:00:00",
          "2016-02-01T00:00:00",
          "2016-03-01T00:00:00",
          "2016-04-01T00:00:00",
          "2016-05-01T00:00:00",
          "2016-06-01T00:00:00",
          "2016-07-01T00:00:00",
          "2016-08-01T00:00:00",
          "2016-09-01T00:00:00",
          "2016-10-01T00:00:00",
          "2016-11-01T00:00:00",
          "2016-12-01T00:00:00",
          "2017-01-01T00:00:00",
          "2017-02-01T00:00:00",
          "2017-03-01T00:00:00",
          "2017-04-01T00:00:00",
          "2017-05-01T00:00:00",
          "2017-06-01T00:00:00",
          "2017-07-01T00:00:00",
          "2017-08-01T00:00:00",
          "2017-09-01T00:00:00",
          "2017-10-01T00:00:00",
          "2017-11-01T00:00:00",
          "2017-12-01T00:00:00",
          "2018-01-01T00:00:00",
          "2018-02-01T00:00:00",
          "2018-03-01T00:00:00",
          "2018-04-01T00:00:00",
          "2018-05-01T00:00:00",
          "2018-06-01T00:00:00",
          "2018-07-01T00:00:00",
          "2018-08-01T00:00:00",
          "2018-09-01T00:00:00",
          "2018-10-01T00:00:00",
          "2018-11-01T00:00:00",
          "2018-12-01T00:00:00",
          "2019-01-01T00:00:00",
          "2019-02-01T00:00:00",
          "2019-03-01T00:00:00",
          "2019-04-01T00:00:00",
          "2019-05-01T00:00:00",
          "2019-06-01T00:00:00",
          "2019-07-01T00:00:00",
          "2019-08-01T00:00:00",
          "2019-09-01T00:00:00",
          "2019-10-01T00:00:00",
          "2019-11-01T00:00:00",
          "2019-12-01T00:00:00",
          "2020-01-01T00:00:00",
          "2020-02-01T00:00:00",
          "2020-03-01T00:00:00",
          "2020-04-01T00:00:00",
          "2020-05-01T00:00:00",
          "2020-06-01T00:00:00",
          "2020-07-01T00:00:00",
          "2020-08-01T00:00:00",
          "2020-09-01T00:00:00",
          "2020-10-01T00:00:00",
          "2020-11-01T00:00:00",
          "2020-12-01T00:00:00",
          "2021-01-01T00:00:00",
          "2021-02-01T00:00:00",
          "2021-03-01T00:00:00",
          "2021-04-01T00:00:00",
          "2021-05-01T00:00:00",
          "2021-06-01T00:00:00",
          "2021-07-01T00:00:00",
          "2021-08-01T00:00:00",
          "2021-09-01T00:00:00",
          "2021-10-01T00:00:00",
          "2021-11-01T00:00:00",
          "2021-12-01T00:00:00",
          "2022-01-01T00:00:00",
          "2022-02-01T00:00:00",
          "2022-03-01T00:00:00",
          "2022-04-01T00:00:00",
          "2022-05-01T00:00:00",
          "2022-06-01T00:00:00",
          "2022-07-01T00:00:00",
          "2022-08-01T00:00:00",
          "2022-09-01T00:00:00",
          "2022-10-01T00:00:00",
          "2022-11-01T00:00:00",
          "2022-12-01T00:00:00",
          "2023-01-01T00:00:00",
          "2023-02-01T00:00:00",
          "2023-03-01T00:00:00",
          "2023-04-01T00:00:00",
          "2023-05-01T00:00:00",
          "2023-06-01T00:00:00",
          "2023-07-01T00:00:00"
         ],
         "xaxis": "x",
         "y": [
          738.1828947368421,
          717.0985732814527,
          755.853470437018,
          784.4460154241646,
          825.1474358974359,
          780.2615384615384,
          734.4807692307693,
          737.4242038216561,
          745.4980940279543,
          765.9896907216495,
          797.75,
          736.562099871959,
          597.4738154613466,
          594.8075,
          650.6385390428212,
          646.6834170854271,
          683.7691342534505,
          681.8628930817611,
          2647.5370138017565,
          2646.7068322981368,
          2628.6242274412857,
          2660.24375,
          2680.7593984962405,
          2622.383850931677,
          2594.225647348952,
          2618.925925925926,
          2705.8516687268234,
          2746.63782447466,
          2734.446362515413,
          2764.027194066749,
          2726.875154511743,
          2746.0061957868647,
          2763.661728395062,
          2724.6,
          2737.2268803945744,
          2747.2022332506203,
          2713.6838868388686,
          668.6473616473617,
          650.2567567567568,
          651.5582822085889,
          631.3141104294479,
          635.2297128589263,
          606.3412204234122,
          586.9950248756219,
          591.0074812967581,
          579.3383270911361,
          603.5529265255293,
          558.3703241895262,
          540.9875776397515,
          595.3819095477387,
          609.2405541561712,
          620.5481012658228,
          623.0557667934094,
          626.1345177664974,
          595.4714828897338,
          616.9936628643853,
          621.6269035532995,
          633.3756345177665,
          649.6907477820025,
          636.7253164556962,
          618.5507614213197,
          641.2596401028278,
          619.2910256410256,
          563.2429305912597,
          567.9845758354755,
          534.1386392811296,
          472.6734955185659,
          543.6601307189543,
          975.892950391645,
          1051.3534031413612,
          1295.9146981627296,
          1176.528871391076,
          1013.4060846560847,
          1016.8822751322751,
          932.1952506596306,
          925.3280632411067,
          884.7971014492754,
          889.0250659630607,
          841.3707124010554,
          791.9894319682959,
          740.1989459815546,
          735.1802631578947,
          755.9947368421052,
          696.3111979166666,
          667.796875,
          701.1536458333334,
          700.6922077922078,
          712.228978007762,
          707.2238033635188,
          722.9961139896373,
          726.2441860465116,
          739.3415265200517,
          757.323870967742,
          781.4154838709677,
          848.5393548387096,
          848.3234536082474,
          864.9690322580645,
          921.3722721437741,
          959.7840616966581,
          1016.0501285347044,
          979.8831835686777,
          986.3812580231065,
          946.6670918367347
         ],
         "yaxis": "y"
        },
        {
         "hovertemplate": "variable=riesgo_d_c<br>year_month=%{x}<br>value=%{y}<extra></extra>",
         "legendgroup": "riesgo_d_c",
         "line": {
          "color": "#ab63fa",
          "dash": "solid"
         },
         "marker": {
          "symbol": "circle"
         },
         "mode": "lines",
         "name": "riesgo_d_c",
         "orientation": "v",
         "showlegend": true,
         "type": "scatter",
         "x": [
          "2015-01-01T00:00:00",
          "2015-02-01T00:00:00",
          "2015-03-01T00:00:00",
          "2015-04-01T00:00:00",
          "2015-05-01T00:00:00",
          "2015-06-01T00:00:00",
          "2015-07-01T00:00:00",
          "2015-08-01T00:00:00",
          "2015-09-01T00:00:00",
          "2015-10-01T00:00:00",
          "2015-11-01T00:00:00",
          "2015-12-01T00:00:00",
          "2016-01-01T00:00:00",
          "2016-02-01T00:00:00",
          "2016-03-01T00:00:00",
          "2016-04-01T00:00:00",
          "2016-05-01T00:00:00",
          "2016-06-01T00:00:00",
          "2016-07-01T00:00:00",
          "2016-08-01T00:00:00",
          "2016-09-01T00:00:00",
          "2016-10-01T00:00:00",
          "2016-11-01T00:00:00",
          "2016-12-01T00:00:00",
          "2017-01-01T00:00:00",
          "2017-02-01T00:00:00",
          "2017-03-01T00:00:00",
          "2017-04-01T00:00:00",
          "2017-05-01T00:00:00",
          "2017-06-01T00:00:00",
          "2017-07-01T00:00:00",
          "2017-08-01T00:00:00",
          "2017-09-01T00:00:00",
          "2017-10-01T00:00:00",
          "2017-11-01T00:00:00",
          "2017-12-01T00:00:00",
          "2018-01-01T00:00:00",
          "2018-02-01T00:00:00",
          "2018-03-01T00:00:00",
          "2018-04-01T00:00:00",
          "2018-05-01T00:00:00",
          "2018-06-01T00:00:00",
          "2018-07-01T00:00:00",
          "2018-08-01T00:00:00",
          "2018-09-01T00:00:00",
          "2018-10-01T00:00:00",
          "2018-11-01T00:00:00",
          "2018-12-01T00:00:00",
          "2019-01-01T00:00:00",
          "2019-02-01T00:00:00",
          "2019-03-01T00:00:00",
          "2019-04-01T00:00:00",
          "2019-05-01T00:00:00",
          "2019-06-01T00:00:00",
          "2019-07-01T00:00:00",
          "2019-08-01T00:00:00",
          "2019-09-01T00:00:00",
          "2019-10-01T00:00:00",
          "2019-11-01T00:00:00",
          "2019-12-01T00:00:00",
          "2020-01-01T00:00:00",
          "2020-02-01T00:00:00",
          "2020-03-01T00:00:00",
          "2020-04-01T00:00:00",
          "2020-05-01T00:00:00",
          "2020-06-01T00:00:00",
          "2020-07-01T00:00:00",
          "2020-08-01T00:00:00",
          "2020-09-01T00:00:00",
          "2020-10-01T00:00:00",
          "2020-11-01T00:00:00",
          "2020-12-01T00:00:00",
          "2021-01-01T00:00:00",
          "2021-02-01T00:00:00",
          "2021-03-01T00:00:00",
          "2021-04-01T00:00:00",
          "2021-05-01T00:00:00",
          "2021-06-01T00:00:00",
          "2021-07-01T00:00:00",
          "2021-08-01T00:00:00",
          "2021-09-01T00:00:00",
          "2021-10-01T00:00:00",
          "2021-11-01T00:00:00",
          "2021-12-01T00:00:00",
          "2022-01-01T00:00:00",
          "2022-02-01T00:00:00",
          "2022-03-01T00:00:00",
          "2022-04-01T00:00:00",
          "2022-05-01T00:00:00",
          "2022-06-01T00:00:00",
          "2022-07-01T00:00:00",
          "2022-08-01T00:00:00",
          "2022-09-01T00:00:00",
          "2022-10-01T00:00:00",
          "2022-11-01T00:00:00",
          "2022-12-01T00:00:00",
          "2023-01-01T00:00:00",
          "2023-02-01T00:00:00",
          "2023-03-01T00:00:00",
          "2023-04-01T00:00:00",
          "2023-05-01T00:00:00",
          "2023-06-01T00:00:00",
          "2023-07-01T00:00:00"
         ],
         "xaxis": "x",
         "y": [
          955.0684210526316,
          954.970168612192,
          918.025706940874,
          944.9164524421594,
          974.7294871794871,
          1047.525641025641,
          1018.3038461538462,
          952.5235668789809,
          914.9733163913596,
          927.7100515463917,
          991.5682989690722,
          1016.9001280409731,
          744.1234413965087,
          784.6575,
          755.0768261964736,
          809.5615577889447,
          828.9962358845671,
          886.3132075471698,
          867.8782936010037,
          814.223602484472,
          809.7540173053152,
          771.395,
          832.6140350877193,
          822.3490683229813,
          801.6633785450061,
          823.2061728395062,
          769.0927070457354,
          859.264524103832,
          895.2429099876696,
          948.1186650185414,
          921.7156983930779,
          867.8513011152417,
          834.6172839506173,
          913.0222222222222,
          943.3020961775586,
          964.7952853598015,
          919.5793357933579,
          966.6280566280566,
          942.7542997542997,
          1003.6895705521472,
          1006.1067484662576,
          1065.789013732834,
          960.7459526774595,
          902.5907960199005,
          864.0548628428928,
          931.4207240948814,
          935.3374844333748,
          948.7743142144639,
          874.6335403726708,
          943.0665829145729,
          926.6612090680101,
          1033.5050632911393,
          1034.5538656527249,
          1065.6598984771574,
          921.0671736375158,
          889.4879594423321,
          876.5862944162436,
          977.9289340101523,
          927.9556400506971,
          943.1025316455696,
          895.7664974619289,
          920.6645244215938,
          927.8435897435897,
          899.9408740359897,
          794.1195372750643,
          724.5905006418485,
          620.7272727272727,
          579.7450980392157,
          535.2493472584856,
          889.3979057591623,
          1221.762467191601,
          1597.1981627296589,
          1556.2460317460318,
          1438.9563492063492,
          1178.617414248021,
          1064.725955204216,
          1051.5428194993412,
          1006.467018469657,
          926.4182058047494,
          872.782034346103,
          827.2727272727273,
          832.3144736842105,
          843.7565789473684,
          827.70703125,
          790.36328125,
          822.9036458333334,
          824.2038961038961,
          843.5213454075032,
          907.0879689521346,
          931.4002590673575,
          951.5219638242894,
          948.496765847348,
          989.8116129032258,
          1024.8774193548388,
          1071.4541935483871,
          1170.8324742268042,
          1216.5625806451612,
          1267.8754813863927,
          1328.2442159383033,
          1409.8161953727506,
          1512.976893453145,
          1559.1668806161747,
          1534.5727040816328
         ],
         "yaxis": "y"
        },
        {
         "hovertemplate": "variable=riesgo_e_c<br>year_month=%{x}<br>value=%{y}<extra></extra>",
         "legendgroup": "riesgo_e_c",
         "line": {
          "color": "#FFA15A",
          "dash": "solid"
         },
         "marker": {
          "symbol": "circle"
         },
         "mode": "lines",
         "name": "riesgo_e_c",
         "orientation": "v",
         "showlegend": true,
         "type": "scatter",
         "x": [
          "2015-01-01T00:00:00",
          "2015-02-01T00:00:00",
          "2015-03-01T00:00:00",
          "2015-04-01T00:00:00",
          "2015-05-01T00:00:00",
          "2015-06-01T00:00:00",
          "2015-07-01T00:00:00",
          "2015-08-01T00:00:00",
          "2015-09-01T00:00:00",
          "2015-10-01T00:00:00",
          "2015-11-01T00:00:00",
          "2015-12-01T00:00:00",
          "2016-01-01T00:00:00",
          "2016-02-01T00:00:00",
          "2016-03-01T00:00:00",
          "2016-04-01T00:00:00",
          "2016-05-01T00:00:00",
          "2016-06-01T00:00:00",
          "2016-07-01T00:00:00",
          "2016-08-01T00:00:00",
          "2016-09-01T00:00:00",
          "2016-10-01T00:00:00",
          "2016-11-01T00:00:00",
          "2016-12-01T00:00:00",
          "2017-01-01T00:00:00",
          "2017-02-01T00:00:00",
          "2017-03-01T00:00:00",
          "2017-04-01T00:00:00",
          "2017-05-01T00:00:00",
          "2017-06-01T00:00:00",
          "2017-07-01T00:00:00",
          "2017-08-01T00:00:00",
          "2017-09-01T00:00:00",
          "2017-10-01T00:00:00",
          "2017-11-01T00:00:00",
          "2017-12-01T00:00:00",
          "2018-01-01T00:00:00",
          "2018-02-01T00:00:00",
          "2018-03-01T00:00:00",
          "2018-04-01T00:00:00",
          "2018-05-01T00:00:00",
          "2018-06-01T00:00:00",
          "2018-07-01T00:00:00",
          "2018-08-01T00:00:00",
          "2018-09-01T00:00:00",
          "2018-10-01T00:00:00",
          "2018-11-01T00:00:00",
          "2018-12-01T00:00:00",
          "2019-01-01T00:00:00",
          "2019-02-01T00:00:00",
          "2019-03-01T00:00:00",
          "2019-04-01T00:00:00",
          "2019-05-01T00:00:00",
          "2019-06-01T00:00:00",
          "2019-07-01T00:00:00",
          "2019-08-01T00:00:00",
          "2019-09-01T00:00:00",
          "2019-10-01T00:00:00",
          "2019-11-01T00:00:00",
          "2019-12-01T00:00:00",
          "2020-01-01T00:00:00",
          "2020-02-01T00:00:00",
          "2020-03-01T00:00:00",
          "2020-04-01T00:00:00",
          "2020-05-01T00:00:00",
          "2020-06-01T00:00:00",
          "2020-07-01T00:00:00",
          "2020-08-01T00:00:00",
          "2020-09-01T00:00:00",
          "2020-10-01T00:00:00",
          "2020-11-01T00:00:00",
          "2020-12-01T00:00:00",
          "2021-01-01T00:00:00",
          "2021-02-01T00:00:00",
          "2021-03-01T00:00:00",
          "2021-04-01T00:00:00",
          "2021-05-01T00:00:00",
          "2021-06-01T00:00:00",
          "2021-07-01T00:00:00",
          "2021-08-01T00:00:00",
          "2021-09-01T00:00:00",
          "2021-10-01T00:00:00",
          "2021-11-01T00:00:00",
          "2021-12-01T00:00:00",
          "2022-01-01T00:00:00",
          "2022-02-01T00:00:00",
          "2022-03-01T00:00:00",
          "2022-04-01T00:00:00",
          "2022-05-01T00:00:00",
          "2022-06-01T00:00:00",
          "2022-07-01T00:00:00",
          "2022-08-01T00:00:00",
          "2022-09-01T00:00:00",
          "2022-10-01T00:00:00",
          "2022-11-01T00:00:00",
          "2022-12-01T00:00:00",
          "2023-01-01T00:00:00",
          "2023-02-01T00:00:00",
          "2023-03-01T00:00:00",
          "2023-04-01T00:00:00",
          "2023-05-01T00:00:00",
          "2023-06-01T00:00:00",
          "2023-07-01T00:00:00"
         ],
         "xaxis": "x",
         "y": [
          686.4184210526316,
          673.1141374837873,
          669.586118251928,
          662.8393316195372,
          658.123076923077,
          642.9153846153846,
          661.6871794871795,
          692.5019108280255,
          689.1321473951715,
          683.4548969072165,
          674.0103092783505,
          680.864276568502,
          619.1321695760598,
          637.4125,
          636.948362720403,
          616.8379396984925,
          614.0915934755333,
          583.8955974842768,
          621.9799247176913,
          678.2124223602484,
          658.4820766378244,
          744.64625,
          699.0175438596491,
          709.9664596273292,
          738.8298397040691,
          728.4703703703703,
          744.6427688504326,
          733.1940667490729,
          750.8323057953145,
          752.6971569839308,
          832.3510506798517,
          860.541511771995,
          874.9987654320988,
          800.7543209876543,
          806.6029593094944,
          812.7431761786601,
          893.2976629766298,
          904.1994851994853,
          828.9398034398034,
          813.9374233128834,
          849.3042944785276,
          860.6729088639202,
          954.4283935242839,
          1010.2313432835821,
          998.0461346633416,
          971.2047440699126,
          972.6475716064757,
          964.6857855361596,
          1054.903105590062,
          1056.8706030150754,
          1065.0994962216625,
          1022.4405063291139,
          1025.0798479087453,
          1024.4352791878173,
          1184.4093789607098,
          1135.9936628643852,
          1120.021573604061,
          1020.8781725888325,
          1089.4131812420785,
          1063.1215189873417,
          1132.75,
          1127.6606683804628,
          1127.7192307692308,
          1205.1349614395888,
          1237.8303341902313,
          1215.4518613607188,
          1238.6901408450703,
          1233.9150326797385,
          1204.0026109660575,
          1166.3874345549739,
          1072.711286089239,
          1073.9107611548557,
          1346.3558201058202,
          1227.2830687830688,
          1226.3430079155673,
          1276.4690382081687,
          1243.5942028985507,
          1156.2691292875988,
          1181.6635883905012,
          1188.6103038309116,
          1159.3675889328063,
          1146.8486842105262,
          1119.217105263158,
          1053.2526041666667,
          1098.6966145833333,
          1070.35546875,
          1050.7662337662337,
          1057.2238033635188,
          1044.9003880983182,
          1018.6282383419689,
          1044.828165374677,
          1066.8706338939198,
          1065.9406451612904,
          1070.5445161290322,
          1037.9148387096775,
          1004.2577319587629,
          1087.985806451613,
          1088.6970474967907,
          1106.8701799485862,
          1119.285347043702,
          1144.9987163029525,
          1128.1386392811296,
          1186.204081632653
         ],
         "yaxis": "y"
        }
       ],
       "layout": {
        "legend": {
         "title": {
          "text": "variable"
         },
         "tracegroupgap": 0
        },
        "margin": {
         "t": 60
        },
        "template": {
         "data": {
          "bar": [
           {
            "error_x": {
             "color": "#2a3f5f"
            },
            "error_y": {
             "color": "#2a3f5f"
            },
            "marker": {
             "line": {
              "color": "#E5ECF6",
              "width": 0.5
             },
             "pattern": {
              "fillmode": "overlay",
              "size": 10,
              "solidity": 0.2
             }
            },
            "type": "bar"
           }
          ],
          "barpolar": [
           {
            "marker": {
             "line": {
              "color": "#E5ECF6",
              "width": 0.5
             },
             "pattern": {
              "fillmode": "overlay",
              "size": 10,
              "solidity": 0.2
             }
            },
            "type": "barpolar"
           }
          ],
          "carpet": [
           {
            "aaxis": {
             "endlinecolor": "#2a3f5f",
             "gridcolor": "white",
             "linecolor": "white",
             "minorgridcolor": "white",
             "startlinecolor": "#2a3f5f"
            },
            "baxis": {
             "endlinecolor": "#2a3f5f",
             "gridcolor": "white",
             "linecolor": "white",
             "minorgridcolor": "white",
             "startlinecolor": "#2a3f5f"
            },
            "type": "carpet"
           }
          ],
          "choropleth": [
           {
            "colorbar": {
             "outlinewidth": 0,
             "ticks": ""
            },
            "type": "choropleth"
           }
          ],
          "contour": [
           {
            "colorbar": {
             "outlinewidth": 0,
             "ticks": ""
            },
            "colorscale": [
             [
              0,
              "#0d0887"
             ],
             [
              0.1111111111111111,
              "#46039f"
             ],
             [
              0.2222222222222222,
              "#7201a8"
             ],
             [
              0.3333333333333333,
              "#9c179e"
             ],
             [
              0.4444444444444444,
              "#bd3786"
             ],
             [
              0.5555555555555556,
              "#d8576b"
             ],
             [
              0.6666666666666666,
              "#ed7953"
             ],
             [
              0.7777777777777778,
              "#fb9f3a"
             ],
             [
              0.8888888888888888,
              "#fdca26"
             ],
             [
              1,
              "#f0f921"
             ]
            ],
            "type": "contour"
           }
          ],
          "contourcarpet": [
           {
            "colorbar": {
             "outlinewidth": 0,
             "ticks": ""
            },
            "type": "contourcarpet"
           }
          ],
          "heatmap": [
           {
            "colorbar": {
             "outlinewidth": 0,
             "ticks": ""
            },
            "colorscale": [
             [
              0,
              "#0d0887"
             ],
             [
              0.1111111111111111,
              "#46039f"
             ],
             [
              0.2222222222222222,
              "#7201a8"
             ],
             [
              0.3333333333333333,
              "#9c179e"
             ],
             [
              0.4444444444444444,
              "#bd3786"
             ],
             [
              0.5555555555555556,
              "#d8576b"
             ],
             [
              0.6666666666666666,
              "#ed7953"
             ],
             [
              0.7777777777777778,
              "#fb9f3a"
             ],
             [
              0.8888888888888888,
              "#fdca26"
             ],
             [
              1,
              "#f0f921"
             ]
            ],
            "type": "heatmap"
           }
          ],
          "heatmapgl": [
           {
            "colorbar": {
             "outlinewidth": 0,
             "ticks": ""
            },
            "colorscale": [
             [
              0,
              "#0d0887"
             ],
             [
              0.1111111111111111,
              "#46039f"
             ],
             [
              0.2222222222222222,
              "#7201a8"
             ],
             [
              0.3333333333333333,
              "#9c179e"
             ],
             [
              0.4444444444444444,
              "#bd3786"
             ],
             [
              0.5555555555555556,
              "#d8576b"
             ],
             [
              0.6666666666666666,
              "#ed7953"
             ],
             [
              0.7777777777777778,
              "#fb9f3a"
             ],
             [
              0.8888888888888888,
              "#fdca26"
             ],
             [
              1,
              "#f0f921"
             ]
            ],
            "type": "heatmapgl"
           }
          ],
          "histogram": [
           {
            "marker": {
             "pattern": {
              "fillmode": "overlay",
              "size": 10,
              "solidity": 0.2
             }
            },
            "type": "histogram"
           }
          ],
          "histogram2d": [
           {
            "colorbar": {
             "outlinewidth": 0,
             "ticks": ""
            },
            "colorscale": [
             [
              0,
              "#0d0887"
             ],
             [
              0.1111111111111111,
              "#46039f"
             ],
             [
              0.2222222222222222,
              "#7201a8"
             ],
             [
              0.3333333333333333,
              "#9c179e"
             ],
             [
              0.4444444444444444,
              "#bd3786"
             ],
             [
              0.5555555555555556,
              "#d8576b"
             ],
             [
              0.6666666666666666,
              "#ed7953"
             ],
             [
              0.7777777777777778,
              "#fb9f3a"
             ],
             [
              0.8888888888888888,
              "#fdca26"
             ],
             [
              1,
              "#f0f921"
             ]
            ],
            "type": "histogram2d"
           }
          ],
          "histogram2dcontour": [
           {
            "colorbar": {
             "outlinewidth": 0,
             "ticks": ""
            },
            "colorscale": [
             [
              0,
              "#0d0887"
             ],
             [
              0.1111111111111111,
              "#46039f"
             ],
             [
              0.2222222222222222,
              "#7201a8"
             ],
             [
              0.3333333333333333,
              "#9c179e"
             ],
             [
              0.4444444444444444,
              "#bd3786"
             ],
             [
              0.5555555555555556,
              "#d8576b"
             ],
             [
              0.6666666666666666,
              "#ed7953"
             ],
             [
              0.7777777777777778,
              "#fb9f3a"
             ],
             [
              0.8888888888888888,
              "#fdca26"
             ],
             [
              1,
              "#f0f921"
             ]
            ],
            "type": "histogram2dcontour"
           }
          ],
          "mesh3d": [
           {
            "colorbar": {
             "outlinewidth": 0,
             "ticks": ""
            },
            "type": "mesh3d"
           }
          ],
          "parcoords": [
           {
            "line": {
             "colorbar": {
              "outlinewidth": 0,
              "ticks": ""
             }
            },
            "type": "parcoords"
           }
          ],
          "pie": [
           {
            "automargin": true,
            "type": "pie"
           }
          ],
          "scatter": [
           {
            "fillpattern": {
             "fillmode": "overlay",
             "size": 10,
             "solidity": 0.2
            },
            "type": "scatter"
           }
          ],
          "scatter3d": [
           {
            "line": {
             "colorbar": {
              "outlinewidth": 0,
              "ticks": ""
             }
            },
            "marker": {
             "colorbar": {
              "outlinewidth": 0,
              "ticks": ""
             }
            },
            "type": "scatter3d"
           }
          ],
          "scattercarpet": [
           {
            "marker": {
             "colorbar": {
              "outlinewidth": 0,
              "ticks": ""
             }
            },
            "type": "scattercarpet"
           }
          ],
          "scattergeo": [
           {
            "marker": {
             "colorbar": {
              "outlinewidth": 0,
              "ticks": ""
             }
            },
            "type": "scattergeo"
           }
          ],
          "scattergl": [
           {
            "marker": {
             "colorbar": {
              "outlinewidth": 0,
              "ticks": ""
             }
            },
            "type": "scattergl"
           }
          ],
          "scattermapbox": [
           {
            "marker": {
             "colorbar": {
              "outlinewidth": 0,
              "ticks": ""
             }
            },
            "type": "scattermapbox"
           }
          ],
          "scatterpolar": [
           {
            "marker": {
             "colorbar": {
              "outlinewidth": 0,
              "ticks": ""
             }
            },
            "type": "scatterpolar"
           }
          ],
          "scatterpolargl": [
           {
            "marker": {
             "colorbar": {
              "outlinewidth": 0,
              "ticks": ""
             }
            },
            "type": "scatterpolargl"
           }
          ],
          "scatterternary": [
           {
            "marker": {
             "colorbar": {
              "outlinewidth": 0,
              "ticks": ""
             }
            },
            "type": "scatterternary"
           }
          ],
          "surface": [
           {
            "colorbar": {
             "outlinewidth": 0,
             "ticks": ""
            },
            "colorscale": [
             [
              0,
              "#0d0887"
             ],
             [
              0.1111111111111111,
              "#46039f"
             ],
             [
              0.2222222222222222,
              "#7201a8"
             ],
             [
              0.3333333333333333,
              "#9c179e"
             ],
             [
              0.4444444444444444,
              "#bd3786"
             ],
             [
              0.5555555555555556,
              "#d8576b"
             ],
             [
              0.6666666666666666,
              "#ed7953"
             ],
             [
              0.7777777777777778,
              "#fb9f3a"
             ],
             [
              0.8888888888888888,
              "#fdca26"
             ],
             [
              1,
              "#f0f921"
             ]
            ],
            "type": "surface"
           }
          ],
          "table": [
           {
            "cells": {
             "fill": {
              "color": "#EBF0F8"
             },
             "line": {
              "color": "white"
             }
            },
            "header": {
             "fill": {
              "color": "#C8D4E3"
             },
             "line": {
              "color": "white"
             }
            },
            "type": "table"
           }
          ]
         },
         "layout": {
          "annotationdefaults": {
           "arrowcolor": "#2a3f5f",
           "arrowhead": 0,
           "arrowwidth": 1
          },
          "autotypenumbers": "strict",
          "coloraxis": {
           "colorbar": {
            "outlinewidth": 0,
            "ticks": ""
           }
          },
          "colorscale": {
           "diverging": [
            [
             0,
             "#8e0152"
            ],
            [
             0.1,
             "#c51b7d"
            ],
            [
             0.2,
             "#de77ae"
            ],
            [
             0.3,
             "#f1b6da"
            ],
            [
             0.4,
             "#fde0ef"
            ],
            [
             0.5,
             "#f7f7f7"
            ],
            [
             0.6,
             "#e6f5d0"
            ],
            [
             0.7,
             "#b8e186"
            ],
            [
             0.8,
             "#7fbc41"
            ],
            [
             0.9,
             "#4d9221"
            ],
            [
             1,
             "#276419"
            ]
           ],
           "sequential": [
            [
             0,
             "#0d0887"
            ],
            [
             0.1111111111111111,
             "#46039f"
            ],
            [
             0.2222222222222222,
             "#7201a8"
            ],
            [
             0.3333333333333333,
             "#9c179e"
            ],
            [
             0.4444444444444444,
             "#bd3786"
            ],
            [
             0.5555555555555556,
             "#d8576b"
            ],
            [
             0.6666666666666666,
             "#ed7953"
            ],
            [
             0.7777777777777778,
             "#fb9f3a"
            ],
            [
             0.8888888888888888,
             "#fdca26"
            ],
            [
             1,
             "#f0f921"
            ]
           ],
           "sequentialminus": [
            [
             0,
             "#0d0887"
            ],
            [
             0.1111111111111111,
             "#46039f"
            ],
            [
             0.2222222222222222,
             "#7201a8"
            ],
            [
             0.3333333333333333,
             "#9c179e"
            ],
            [
             0.4444444444444444,
             "#bd3786"
            ],
            [
             0.5555555555555556,
             "#d8576b"
            ],
            [
             0.6666666666666666,
             "#ed7953"
            ],
            [
             0.7777777777777778,
             "#fb9f3a"
            ],
            [
             0.8888888888888888,
             "#fdca26"
            ],
            [
             1,
             "#f0f921"
            ]
           ]
          },
          "colorway": [
           "#636efa",
           "#EF553B",
           "#00cc96",
           "#ab63fa",
           "#FFA15A",
           "#19d3f3",
           "#FF6692",
           "#B6E880",
           "#FF97FF",
           "#FECB52"
          ],
          "font": {
           "color": "#2a3f5f"
          },
          "geo": {
           "bgcolor": "white",
           "lakecolor": "white",
           "landcolor": "#E5ECF6",
           "showlakes": true,
           "showland": true,
           "subunitcolor": "white"
          },
          "hoverlabel": {
           "align": "left"
          },
          "hovermode": "closest",
          "mapbox": {
           "style": "light"
          },
          "paper_bgcolor": "white",
          "plot_bgcolor": "#E5ECF6",
          "polar": {
           "angularaxis": {
            "gridcolor": "white",
            "linecolor": "white",
            "ticks": ""
           },
           "bgcolor": "#E5ECF6",
           "radialaxis": {
            "gridcolor": "white",
            "linecolor": "white",
            "ticks": ""
           }
          },
          "scene": {
           "xaxis": {
            "backgroundcolor": "#E5ECF6",
            "gridcolor": "white",
            "gridwidth": 2,
            "linecolor": "white",
            "showbackground": true,
            "ticks": "",
            "zerolinecolor": "white"
           },
           "yaxis": {
            "backgroundcolor": "#E5ECF6",
            "gridcolor": "white",
            "gridwidth": 2,
            "linecolor": "white",
            "showbackground": true,
            "ticks": "",
            "zerolinecolor": "white"
           },
           "zaxis": {
            "backgroundcolor": "#E5ECF6",
            "gridcolor": "white",
            "gridwidth": 2,
            "linecolor": "white",
            "showbackground": true,
            "ticks": "",
            "zerolinecolor": "white"
           }
          },
          "shapedefaults": {
           "line": {
            "color": "#2a3f5f"
           }
          },
          "ternary": {
           "aaxis": {
            "gridcolor": "white",
            "linecolor": "white",
            "ticks": ""
           },
           "baxis": {
            "gridcolor": "white",
            "linecolor": "white",
            "ticks": ""
           },
           "bgcolor": "#E5ECF6",
           "caxis": {
            "gridcolor": "white",
            "linecolor": "white",
            "ticks": ""
           }
          },
          "title": {
           "x": 0.05
          },
          "xaxis": {
           "automargin": true,
           "gridcolor": "white",
           "linecolor": "white",
           "ticks": "",
           "title": {
            "standoff": 15
           },
           "zerolinecolor": "white",
           "zerolinewidth": 2
          },
          "yaxis": {
           "automargin": true,
           "gridcolor": "white",
           "linecolor": "white",
           "ticks": "",
           "title": {
            "standoff": 15
           },
           "zerolinecolor": "white",
           "zerolinewidth": 2
          }
         }
        },
        "xaxis": {
         "anchor": "y",
         "domain": [
          0,
          1
         ],
         "title": {
          "text": "year_month"
         }
        },
        "yaxis": {
         "anchor": "x",
         "domain": [
          0,
          1
         ],
         "title": {
          "text": "value"
         }
        }
       }
      }
     },
     "metadata": {},
     "output_type": "display_data"
    }
   ],
   "source": [
    "base2 = df.groupby(['year_month'])[['riesgo_a_c','riesgo_b_c','riesgo_c_c','riesgo_d_c','riesgo_e_c']].mean()\n",
    "fig = px.line(base2)\n",
    "fig.show()"
   ]
  },
  {
   "cell_type": "markdown",
   "metadata": {},
   "source": [
    "La gran mayoría de los clientes tienen obligaciones catalogadas como de riesgo a, que es la categoría de menos riesgo para las entidades. Dado que las columnas saldo por riesgo representan cada una el saldo total de cuentas que hay de dichos riesgos y la gran mayoría son de riesgos a, hay una correlación casi de 100% entre el saldo de cuentas de riesgo a y el saldo total a la fecha, se puede observar que varían casi que igual en el tiempo. Dicho lo anterior, se decide conservar el saldo total a la fecha y descartar las columnas de saldo por riesgos. Las columnas de número de clientes por riesgos también representa muy bien la frecuencia e importancia de cada riesgos."
   ]
  },
  {
   "cell_type": "code",
   "execution_count": 11,
   "metadata": {},
   "outputs": [],
   "source": [
    "df.drop(['riesgo_a_s', 'riesgo_b_s', 'riesgo_c_s', 'riesgo_d_s', 'riesgo_e_s'], axis=1, inplace=True)"
   ]
  },
  {
   "cell_type": "markdown",
   "metadata": {},
   "source": [
    "## ¿Qué hacer con las correlaciones altas de los riesgos con el número de clientes con más de 1 mes en mora?"
   ]
  },
  {
   "cell_type": "code",
   "execution_count": 12,
   "metadata": {},
   "outputs": [
    {
     "data": {
      "application/vnd.plotly.v1+json": {
       "config": {
        "plotlyServerURL": "https://plot.ly"
       },
       "data": [
        {
         "dimensions": [
          {
           "axis": {
            "matches": true
           },
           "label": "clientes_mora+30d",
           "values": [
            2296.7697368421054,
            2336.219195849546,
            2316.0501285347045,
            2398.293059125964,
            2435.269230769231,
            2426.547435897436,
            2294.9410256410256,
            2286.3821656050955,
            2256.595933926302,
            2293.0592783505153,
            2408.1146907216494,
            2280.706786171575,
            1910.5074812967582,
            2011.76625,
            2064.212846347607,
            2092.78391959799,
            2179.085319949812,
            2132.335849056604,
            2179.2948557089085,
            2164.7478260869566,
            2120.4004944375774,
            2227.1675,
            2313.6754385964914,
            2150.3515527950312,
            2138.8175092478423,
            2251.803703703704,
            2277.191594561187,
            2449.1297898640296,
            2479.31196054254,
            2452.922126081582,
            2430.5599505562423,
            2400.0557620817845,
            2418.6666666666665,
            2414.437037037037,
            2489.985203452528,
            2376.909429280397,
            2356.3444034440345,
            2554.5842985842987,
            2603.230958230958,
            2431.492024539877,
            2403.489570552147,
            2422.887640449438,
            2343.4246575342468,
            2326.8383084577113,
            2303.35536159601,
            2316.863920099875,
            2352.5404732254046,
            2194.8029925187034,
            2215.6819875776396,
            2368.8856783919596,
            2405.0226700251887,
            2452.137974683544,
            2413.7845373891,
            2452.265228426396,
            2405.782002534854,
            2359.8922686945502,
            2377.9251269035535,
            2393.4682741116753,
            2497.5614702154626,
            2306.4708860759492,
            2399.104060913706,
            2513.2866323907456,
            2403.6679487179485,
            2409.903598971722,
            2234.615681233933,
            1942.920410783055,
            1773.8450704225352,
            2445.3307189542484,
            2818.82637075718,
            3258.001308900524,
            3367.6942257217847,
            3185.1115485564305,
            3295.2526455026455,
            3085.410052910053,
            2805.576517150396,
            2712.4848484848485,
            2659.4703557312255,
            2496.036939313984,
            2371.3825857519787,
            2302.7146631439896,
            2260.812911725955,
            2299.1631578947367,
            2332.6052631578946,
            2162.3424479166665,
            2254.04296875,
            2330.2981770833335,
            2293.1675324675325,
            2363.719275549806,
            2469.1474773609316,
            2458.45725388601,
            2528.770025839793,
            2564.7166882276842,
            2622.4967741935484,
            2723.0529032258064,
            2853.8167741935486,
            2892.917525773196,
            3059.578064516129,
            3227.767650834403,
            3375.016709511568,
            3500.167095115681,
            3617.111681643132,
            3557.9486521181,
            3512.451530612245
           ]
          },
          {
           "axis": {
            "matches": true
           },
           "label": "riesgo_a_c",
           "values": [
            35571.96447368421,
            35719.91569390402,
            35711.6529562982,
            35790.325192802055,
            35774.12564102564,
            35860.84358974359,
            36110.820512820515,
            36085.14522292994,
            36170.05209656925,
            36869.864690721646,
            36823.54510309279,
            36829.52112676056,
            32344.375311720698,
            32180.57,
            32408.56297229219,
            32249.94095477387,
            32516.352572145544,
            32876.29559748428,
            32689.46800501882,
            32565.162732919256,
            32533.029666254635,
            33031.075,
            32045.696741854637,
            31907.747826086958,
            31597.44512946979,
            31631.304938271605,
            31721.987639060568,
            31596.410383189123,
            31628.800246609124,
            31756.57849196539,
            31835.407911001235,
            31985.9219330855,
            31934.153086419752,
            31979.04938271605,
            32127.70160295931,
            32335.053349875932,
            31938.11193111931,
            33381.79922779923,
            31833.512285012286,
            31941.806134969323,
            31956.99263803681,
            32286.322097378277,
            32295.114570361147,
            32321.672885572138,
            32373.71072319202,
            32519.757802746568,
            32686.08094645081,
            32799.18952618454,
            32651.05590062112,
            34193.00753768844,
            34463.05793450882,
            34828.49746835443,
            35139.126742712295,
            35241.20812182741,
            35403.8948035488,
            35300.532319391634,
            35591.140862944165,
            35762.1269035533,
            35960.65525982256,
            36198.881012658225,
            36158.3730964467,
            36672.25835475578,
            36434.47948717949,
            36247.77892030848,
            35840.85989717224,
            35662.38125802311,
            35239.12419974392,
            35184.82352941176,
            34716.10313315927,
            34223.76178010471,
            34025.84120734908,
            33631.94619422572,
            33544.73941798942,
            33624.300264550264,
            33694.08575197889,
            33525.729907773384,
            33613.089591567856,
            33840.82189973615,
            34226.543535620054,
            34824.40819022457,
            34435.88669301713,
            34833.94078947369,
            35348.43947368421,
            35231.3515625,
            35422.787760416664,
            35935.059895833336,
            36204.52337662338,
            36586.05433376455,
            37133.49029754204,
            37473.76683937824,
            37700.70542635659,
            38265.65200517464,
            38609.0670967742,
            38891.583225806455,
            39336.25161290322,
            39288.24484536082,
            39328.14193548387,
            39153.66238767651,
            38822.80462724936,
            38674.4293059126,
            38513.95892169448,
            38328.04236200257,
            37938.51530612245
           ]
          },
          {
           "axis": {
            "matches": true
           },
           "label": "riesgo_b_c",
           "values": [
            1285.2973684210526,
            1374.31906614786,
            1374.0012853470437,
            1400.6182519280205,
            1392.826923076923,
            1378.8576923076923,
            1309.929487179487,
            1297.9286624203821,
            1318.143583227446,
            1363.625,
            1417.2448453608247,
            1325.0012804097312,
            1054.1596009975062,
            1164.94,
            1179.7607052896726,
            1182.144472361809,
            1200.4805520702635,
            1188.3572327044026,
            1215.154328732748,
            1179.5254658385093,
            1147.9505562422744,
            1212.63,
            1229.4298245614036,
            1132.982608695652,
            1103.6313193588162,
            1217.6049382716049,
            1219.6526576019778,
            1282.7589616810878,
            1287.5030826140567,
            1217.231149567367,
            1206.0358467243511,
            1180.6133828996283,
            1204.1802469135803,
            1225.4777777777779,
            1242.2983970406906,
            1150.893300248139,
            1131.7330873308733,
            1241.7747747747749,
            1165.054054054054,
            1148.1815950920245,
            1122.801226993865,
            1102.398252184769,
            1073.6824408468244,
            1062.7226368159204,
            1092.5224438902744,
            1098.1210986267165,
            1077.3586550435866,
            992.5536159600997,
            997.7403726708075,
            1132.7713567839196,
            1127.1536523929472,
            1147.487341772152,
            1013.9746514575412,
            1045.4644670050761,
            1018.0468948035488,
            985.8441064638783,
            1032.0799492385786,
            1040.222081218274,
            1091.936628643853,
            970.273417721519,
            1016.0469543147208,
            1096.1632390745501,
            1071.9705128205128,
            1256.9922879177377,
            1155.3470437017995,
            1006.9383825417201,
            971.8258642765685,
            1639.3437908496733,
            1605.2454308093995,
            1767.4960732984293,
            1634.6312335958005,
            1497.3897637795276,
            1489.5251322751324,
            1452.0899470899471,
            1451.3878627968338,
            1411.3860342555995,
            1391.8880105401845,
            1359.6029023746703,
            1280.655672823219,
            1247.6036988110964,
            1164.3715415019763,
            1201.792105263158,
            1183.9013157894738,
            1030.703125,
            1116.78515625,
            1137.859375,
            1109.409090909091,
            1118.9767141009056,
            1132.5316946959897,
            1149.7422279792745,
            1177.9315245478035,
            1163.606727037516,
            1197.0283870967742,
            1249.2903225806451,
            1316.4748387096774,
            1272.7177835051546,
            1314.5974193548386,
            1428.5545571245186,
            1440.1169665809769,
            1444.0706940874036,
            1460.5044929396663,
            1376.9075738125803,
            1364.4604591836735
           ]
          },
          {
           "axis": {
            "matches": true
           },
           "label": "riesgo_c_c",
           "values": [
            738.1828947368421,
            717.0985732814527,
            755.853470437018,
            784.4460154241646,
            825.1474358974359,
            780.2615384615384,
            734.4807692307693,
            737.4242038216561,
            745.4980940279543,
            765.9896907216495,
            797.75,
            736.562099871959,
            597.4738154613466,
            594.8075,
            650.6385390428212,
            646.6834170854271,
            683.7691342534505,
            681.8628930817611,
            2647.5370138017565,
            2646.7068322981368,
            2628.6242274412857,
            2660.24375,
            2680.7593984962405,
            2622.383850931677,
            2594.225647348952,
            2618.925925925926,
            2705.8516687268234,
            2746.63782447466,
            2734.446362515413,
            2764.027194066749,
            2726.875154511743,
            2746.0061957868647,
            2763.661728395062,
            2724.6,
            2737.2268803945744,
            2747.2022332506203,
            2713.6838868388686,
            668.6473616473617,
            650.2567567567568,
            651.5582822085889,
            631.3141104294479,
            635.2297128589263,
            606.3412204234122,
            586.9950248756219,
            591.0074812967581,
            579.3383270911361,
            603.5529265255293,
            558.3703241895262,
            540.9875776397515,
            595.3819095477387,
            609.2405541561712,
            620.5481012658228,
            623.0557667934094,
            626.1345177664974,
            595.4714828897338,
            616.9936628643853,
            621.6269035532995,
            633.3756345177665,
            649.6907477820025,
            636.7253164556962,
            618.5507614213197,
            641.2596401028278,
            619.2910256410256,
            563.2429305912597,
            567.9845758354755,
            534.1386392811296,
            472.6734955185659,
            543.6601307189543,
            975.892950391645,
            1051.3534031413612,
            1295.9146981627296,
            1176.528871391076,
            1013.4060846560847,
            1016.8822751322751,
            932.1952506596306,
            925.3280632411067,
            884.7971014492754,
            889.0250659630607,
            841.3707124010554,
            791.9894319682959,
            740.1989459815546,
            735.1802631578947,
            755.9947368421052,
            696.3111979166666,
            667.796875,
            701.1536458333334,
            700.6922077922078,
            712.228978007762,
            707.2238033635188,
            722.9961139896373,
            726.2441860465116,
            739.3415265200517,
            757.323870967742,
            781.4154838709677,
            848.5393548387096,
            848.3234536082474,
            864.9690322580645,
            921.3722721437741,
            959.7840616966581,
            1016.0501285347044,
            979.8831835686777,
            986.3812580231065,
            946.6670918367347
           ]
          },
          {
           "axis": {
            "matches": true
           },
           "label": "riesgo_d_c",
           "values": [
            955.0684210526316,
            954.970168612192,
            918.025706940874,
            944.9164524421594,
            974.7294871794871,
            1047.525641025641,
            1018.3038461538462,
            952.5235668789809,
            914.9733163913596,
            927.7100515463917,
            991.5682989690722,
            1016.9001280409731,
            744.1234413965087,
            784.6575,
            755.0768261964736,
            809.5615577889447,
            828.9962358845671,
            886.3132075471698,
            867.8782936010037,
            814.223602484472,
            809.7540173053152,
            771.395,
            832.6140350877193,
            822.3490683229813,
            801.6633785450061,
            823.2061728395062,
            769.0927070457354,
            859.264524103832,
            895.2429099876696,
            948.1186650185414,
            921.7156983930779,
            867.8513011152417,
            834.6172839506173,
            913.0222222222222,
            943.3020961775586,
            964.7952853598015,
            919.5793357933579,
            966.6280566280566,
            942.7542997542997,
            1003.6895705521472,
            1006.1067484662576,
            1065.789013732834,
            960.7459526774595,
            902.5907960199005,
            864.0548628428928,
            931.4207240948814,
            935.3374844333748,
            948.7743142144639,
            874.6335403726708,
            943.0665829145729,
            926.6612090680101,
            1033.5050632911393,
            1034.5538656527249,
            1065.6598984771574,
            921.0671736375158,
            889.4879594423321,
            876.5862944162436,
            977.9289340101523,
            927.9556400506971,
            943.1025316455696,
            895.7664974619289,
            920.6645244215938,
            927.8435897435897,
            899.9408740359897,
            794.1195372750643,
            724.5905006418485,
            620.7272727272727,
            579.7450980392157,
            535.2493472584856,
            889.3979057591623,
            1221.762467191601,
            1597.1981627296589,
            1556.2460317460318,
            1438.9563492063492,
            1178.617414248021,
            1064.725955204216,
            1051.5428194993412,
            1006.467018469657,
            926.4182058047494,
            872.782034346103,
            827.2727272727273,
            832.3144736842105,
            843.7565789473684,
            827.70703125,
            790.36328125,
            822.9036458333334,
            824.2038961038961,
            843.5213454075032,
            907.0879689521346,
            931.4002590673575,
            951.5219638242894,
            948.496765847348,
            989.8116129032258,
            1024.8774193548388,
            1071.4541935483871,
            1170.8324742268042,
            1216.5625806451612,
            1267.8754813863927,
            1328.2442159383033,
            1409.8161953727506,
            1512.976893453145,
            1559.1668806161747,
            1534.5727040816328
           ]
          },
          {
           "axis": {
            "matches": true
           },
           "label": "riesgo_e_c",
           "values": [
            686.4184210526316,
            673.1141374837873,
            669.586118251928,
            662.8393316195372,
            658.123076923077,
            642.9153846153846,
            661.6871794871795,
            692.5019108280255,
            689.1321473951715,
            683.4548969072165,
            674.0103092783505,
            680.864276568502,
            619.1321695760598,
            637.4125,
            636.948362720403,
            616.8379396984925,
            614.0915934755333,
            583.8955974842768,
            621.9799247176913,
            678.2124223602484,
            658.4820766378244,
            744.64625,
            699.0175438596491,
            709.9664596273292,
            738.8298397040691,
            728.4703703703703,
            744.6427688504326,
            733.1940667490729,
            750.8323057953145,
            752.6971569839308,
            832.3510506798517,
            860.541511771995,
            874.9987654320988,
            800.7543209876543,
            806.6029593094944,
            812.7431761786601,
            893.2976629766298,
            904.1994851994853,
            828.9398034398034,
            813.9374233128834,
            849.3042944785276,
            860.6729088639202,
            954.4283935242839,
            1010.2313432835821,
            998.0461346633416,
            971.2047440699126,
            972.6475716064757,
            964.6857855361596,
            1054.903105590062,
            1056.8706030150754,
            1065.0994962216625,
            1022.4405063291139,
            1025.0798479087453,
            1024.4352791878173,
            1184.4093789607098,
            1135.9936628643852,
            1120.021573604061,
            1020.8781725888325,
            1089.4131812420785,
            1063.1215189873417,
            1132.75,
            1127.6606683804628,
            1127.7192307692308,
            1205.1349614395888,
            1237.8303341902313,
            1215.4518613607188,
            1238.6901408450703,
            1233.9150326797385,
            1204.0026109660575,
            1166.3874345549739,
            1072.711286089239,
            1073.9107611548557,
            1346.3558201058202,
            1227.2830687830688,
            1226.3430079155673,
            1276.4690382081687,
            1243.5942028985507,
            1156.2691292875988,
            1181.6635883905012,
            1188.6103038309116,
            1159.3675889328063,
            1146.8486842105262,
            1119.217105263158,
            1053.2526041666667,
            1098.6966145833333,
            1070.35546875,
            1050.7662337662337,
            1057.2238033635188,
            1044.9003880983182,
            1018.6282383419689,
            1044.828165374677,
            1066.8706338939198,
            1065.9406451612904,
            1070.5445161290322,
            1037.9148387096775,
            1004.2577319587629,
            1087.985806451613,
            1088.6970474967907,
            1106.8701799485862,
            1119.285347043702,
            1144.9987163029525,
            1128.1386392811296,
            1186.204081632653
           ]
          }
         ],
         "hovertemplate": "%{xaxis.title.text}=%{x}<br>%{yaxis.title.text}=%{y}<extra></extra>",
         "legendgroup": "",
         "marker": {
          "color": "#636efa",
          "symbol": "circle"
         },
         "name": "",
         "showlegend": false,
         "type": "splom"
        }
       ],
       "layout": {
        "dragmode": "select",
        "height": 800,
        "legend": {
         "tracegroupgap": 0
        },
        "margin": {
         "t": 60
        },
        "template": {
         "data": {
          "bar": [
           {
            "error_x": {
             "color": "#2a3f5f"
            },
            "error_y": {
             "color": "#2a3f5f"
            },
            "marker": {
             "line": {
              "color": "#E5ECF6",
              "width": 0.5
             },
             "pattern": {
              "fillmode": "overlay",
              "size": 10,
              "solidity": 0.2
             }
            },
            "type": "bar"
           }
          ],
          "barpolar": [
           {
            "marker": {
             "line": {
              "color": "#E5ECF6",
              "width": 0.5
             },
             "pattern": {
              "fillmode": "overlay",
              "size": 10,
              "solidity": 0.2
             }
            },
            "type": "barpolar"
           }
          ],
          "carpet": [
           {
            "aaxis": {
             "endlinecolor": "#2a3f5f",
             "gridcolor": "white",
             "linecolor": "white",
             "minorgridcolor": "white",
             "startlinecolor": "#2a3f5f"
            },
            "baxis": {
             "endlinecolor": "#2a3f5f",
             "gridcolor": "white",
             "linecolor": "white",
             "minorgridcolor": "white",
             "startlinecolor": "#2a3f5f"
            },
            "type": "carpet"
           }
          ],
          "choropleth": [
           {
            "colorbar": {
             "outlinewidth": 0,
             "ticks": ""
            },
            "type": "choropleth"
           }
          ],
          "contour": [
           {
            "colorbar": {
             "outlinewidth": 0,
             "ticks": ""
            },
            "colorscale": [
             [
              0,
              "#0d0887"
             ],
             [
              0.1111111111111111,
              "#46039f"
             ],
             [
              0.2222222222222222,
              "#7201a8"
             ],
             [
              0.3333333333333333,
              "#9c179e"
             ],
             [
              0.4444444444444444,
              "#bd3786"
             ],
             [
              0.5555555555555556,
              "#d8576b"
             ],
             [
              0.6666666666666666,
              "#ed7953"
             ],
             [
              0.7777777777777778,
              "#fb9f3a"
             ],
             [
              0.8888888888888888,
              "#fdca26"
             ],
             [
              1,
              "#f0f921"
             ]
            ],
            "type": "contour"
           }
          ],
          "contourcarpet": [
           {
            "colorbar": {
             "outlinewidth": 0,
             "ticks": ""
            },
            "type": "contourcarpet"
           }
          ],
          "heatmap": [
           {
            "colorbar": {
             "outlinewidth": 0,
             "ticks": ""
            },
            "colorscale": [
             [
              0,
              "#0d0887"
             ],
             [
              0.1111111111111111,
              "#46039f"
             ],
             [
              0.2222222222222222,
              "#7201a8"
             ],
             [
              0.3333333333333333,
              "#9c179e"
             ],
             [
              0.4444444444444444,
              "#bd3786"
             ],
             [
              0.5555555555555556,
              "#d8576b"
             ],
             [
              0.6666666666666666,
              "#ed7953"
             ],
             [
              0.7777777777777778,
              "#fb9f3a"
             ],
             [
              0.8888888888888888,
              "#fdca26"
             ],
             [
              1,
              "#f0f921"
             ]
            ],
            "type": "heatmap"
           }
          ],
          "heatmapgl": [
           {
            "colorbar": {
             "outlinewidth": 0,
             "ticks": ""
            },
            "colorscale": [
             [
              0,
              "#0d0887"
             ],
             [
              0.1111111111111111,
              "#46039f"
             ],
             [
              0.2222222222222222,
              "#7201a8"
             ],
             [
              0.3333333333333333,
              "#9c179e"
             ],
             [
              0.4444444444444444,
              "#bd3786"
             ],
             [
              0.5555555555555556,
              "#d8576b"
             ],
             [
              0.6666666666666666,
              "#ed7953"
             ],
             [
              0.7777777777777778,
              "#fb9f3a"
             ],
             [
              0.8888888888888888,
              "#fdca26"
             ],
             [
              1,
              "#f0f921"
             ]
            ],
            "type": "heatmapgl"
           }
          ],
          "histogram": [
           {
            "marker": {
             "pattern": {
              "fillmode": "overlay",
              "size": 10,
              "solidity": 0.2
             }
            },
            "type": "histogram"
           }
          ],
          "histogram2d": [
           {
            "colorbar": {
             "outlinewidth": 0,
             "ticks": ""
            },
            "colorscale": [
             [
              0,
              "#0d0887"
             ],
             [
              0.1111111111111111,
              "#46039f"
             ],
             [
              0.2222222222222222,
              "#7201a8"
             ],
             [
              0.3333333333333333,
              "#9c179e"
             ],
             [
              0.4444444444444444,
              "#bd3786"
             ],
             [
              0.5555555555555556,
              "#d8576b"
             ],
             [
              0.6666666666666666,
              "#ed7953"
             ],
             [
              0.7777777777777778,
              "#fb9f3a"
             ],
             [
              0.8888888888888888,
              "#fdca26"
             ],
             [
              1,
              "#f0f921"
             ]
            ],
            "type": "histogram2d"
           }
          ],
          "histogram2dcontour": [
           {
            "colorbar": {
             "outlinewidth": 0,
             "ticks": ""
            },
            "colorscale": [
             [
              0,
              "#0d0887"
             ],
             [
              0.1111111111111111,
              "#46039f"
             ],
             [
              0.2222222222222222,
              "#7201a8"
             ],
             [
              0.3333333333333333,
              "#9c179e"
             ],
             [
              0.4444444444444444,
              "#bd3786"
             ],
             [
              0.5555555555555556,
              "#d8576b"
             ],
             [
              0.6666666666666666,
              "#ed7953"
             ],
             [
              0.7777777777777778,
              "#fb9f3a"
             ],
             [
              0.8888888888888888,
              "#fdca26"
             ],
             [
              1,
              "#f0f921"
             ]
            ],
            "type": "histogram2dcontour"
           }
          ],
          "mesh3d": [
           {
            "colorbar": {
             "outlinewidth": 0,
             "ticks": ""
            },
            "type": "mesh3d"
           }
          ],
          "parcoords": [
           {
            "line": {
             "colorbar": {
              "outlinewidth": 0,
              "ticks": ""
             }
            },
            "type": "parcoords"
           }
          ],
          "pie": [
           {
            "automargin": true,
            "type": "pie"
           }
          ],
          "scatter": [
           {
            "fillpattern": {
             "fillmode": "overlay",
             "size": 10,
             "solidity": 0.2
            },
            "type": "scatter"
           }
          ],
          "scatter3d": [
           {
            "line": {
             "colorbar": {
              "outlinewidth": 0,
              "ticks": ""
             }
            },
            "marker": {
             "colorbar": {
              "outlinewidth": 0,
              "ticks": ""
             }
            },
            "type": "scatter3d"
           }
          ],
          "scattercarpet": [
           {
            "marker": {
             "colorbar": {
              "outlinewidth": 0,
              "ticks": ""
             }
            },
            "type": "scattercarpet"
           }
          ],
          "scattergeo": [
           {
            "marker": {
             "colorbar": {
              "outlinewidth": 0,
              "ticks": ""
             }
            },
            "type": "scattergeo"
           }
          ],
          "scattergl": [
           {
            "marker": {
             "colorbar": {
              "outlinewidth": 0,
              "ticks": ""
             }
            },
            "type": "scattergl"
           }
          ],
          "scattermapbox": [
           {
            "marker": {
             "colorbar": {
              "outlinewidth": 0,
              "ticks": ""
             }
            },
            "type": "scattermapbox"
           }
          ],
          "scatterpolar": [
           {
            "marker": {
             "colorbar": {
              "outlinewidth": 0,
              "ticks": ""
             }
            },
            "type": "scatterpolar"
           }
          ],
          "scatterpolargl": [
           {
            "marker": {
             "colorbar": {
              "outlinewidth": 0,
              "ticks": ""
             }
            },
            "type": "scatterpolargl"
           }
          ],
          "scatterternary": [
           {
            "marker": {
             "colorbar": {
              "outlinewidth": 0,
              "ticks": ""
             }
            },
            "type": "scatterternary"
           }
          ],
          "surface": [
           {
            "colorbar": {
             "outlinewidth": 0,
             "ticks": ""
            },
            "colorscale": [
             [
              0,
              "#0d0887"
             ],
             [
              0.1111111111111111,
              "#46039f"
             ],
             [
              0.2222222222222222,
              "#7201a8"
             ],
             [
              0.3333333333333333,
              "#9c179e"
             ],
             [
              0.4444444444444444,
              "#bd3786"
             ],
             [
              0.5555555555555556,
              "#d8576b"
             ],
             [
              0.6666666666666666,
              "#ed7953"
             ],
             [
              0.7777777777777778,
              "#fb9f3a"
             ],
             [
              0.8888888888888888,
              "#fdca26"
             ],
             [
              1,
              "#f0f921"
             ]
            ],
            "type": "surface"
           }
          ],
          "table": [
           {
            "cells": {
             "fill": {
              "color": "#EBF0F8"
             },
             "line": {
              "color": "white"
             }
            },
            "header": {
             "fill": {
              "color": "#C8D4E3"
             },
             "line": {
              "color": "white"
             }
            },
            "type": "table"
           }
          ]
         },
         "layout": {
          "annotationdefaults": {
           "arrowcolor": "#2a3f5f",
           "arrowhead": 0,
           "arrowwidth": 1
          },
          "autotypenumbers": "strict",
          "coloraxis": {
           "colorbar": {
            "outlinewidth": 0,
            "ticks": ""
           }
          },
          "colorscale": {
           "diverging": [
            [
             0,
             "#8e0152"
            ],
            [
             0.1,
             "#c51b7d"
            ],
            [
             0.2,
             "#de77ae"
            ],
            [
             0.3,
             "#f1b6da"
            ],
            [
             0.4,
             "#fde0ef"
            ],
            [
             0.5,
             "#f7f7f7"
            ],
            [
             0.6,
             "#e6f5d0"
            ],
            [
             0.7,
             "#b8e186"
            ],
            [
             0.8,
             "#7fbc41"
            ],
            [
             0.9,
             "#4d9221"
            ],
            [
             1,
             "#276419"
            ]
           ],
           "sequential": [
            [
             0,
             "#0d0887"
            ],
            [
             0.1111111111111111,
             "#46039f"
            ],
            [
             0.2222222222222222,
             "#7201a8"
            ],
            [
             0.3333333333333333,
             "#9c179e"
            ],
            [
             0.4444444444444444,
             "#bd3786"
            ],
            [
             0.5555555555555556,
             "#d8576b"
            ],
            [
             0.6666666666666666,
             "#ed7953"
            ],
            [
             0.7777777777777778,
             "#fb9f3a"
            ],
            [
             0.8888888888888888,
             "#fdca26"
            ],
            [
             1,
             "#f0f921"
            ]
           ],
           "sequentialminus": [
            [
             0,
             "#0d0887"
            ],
            [
             0.1111111111111111,
             "#46039f"
            ],
            [
             0.2222222222222222,
             "#7201a8"
            ],
            [
             0.3333333333333333,
             "#9c179e"
            ],
            [
             0.4444444444444444,
             "#bd3786"
            ],
            [
             0.5555555555555556,
             "#d8576b"
            ],
            [
             0.6666666666666666,
             "#ed7953"
            ],
            [
             0.7777777777777778,
             "#fb9f3a"
            ],
            [
             0.8888888888888888,
             "#fdca26"
            ],
            [
             1,
             "#f0f921"
            ]
           ]
          },
          "colorway": [
           "#636efa",
           "#EF553B",
           "#00cc96",
           "#ab63fa",
           "#FFA15A",
           "#19d3f3",
           "#FF6692",
           "#B6E880",
           "#FF97FF",
           "#FECB52"
          ],
          "font": {
           "color": "#2a3f5f"
          },
          "geo": {
           "bgcolor": "white",
           "lakecolor": "white",
           "landcolor": "#E5ECF6",
           "showlakes": true,
           "showland": true,
           "subunitcolor": "white"
          },
          "hoverlabel": {
           "align": "left"
          },
          "hovermode": "closest",
          "mapbox": {
           "style": "light"
          },
          "paper_bgcolor": "white",
          "plot_bgcolor": "#E5ECF6",
          "polar": {
           "angularaxis": {
            "gridcolor": "white",
            "linecolor": "white",
            "ticks": ""
           },
           "bgcolor": "#E5ECF6",
           "radialaxis": {
            "gridcolor": "white",
            "linecolor": "white",
            "ticks": ""
           }
          },
          "scene": {
           "xaxis": {
            "backgroundcolor": "#E5ECF6",
            "gridcolor": "white",
            "gridwidth": 2,
            "linecolor": "white",
            "showbackground": true,
            "ticks": "",
            "zerolinecolor": "white"
           },
           "yaxis": {
            "backgroundcolor": "#E5ECF6",
            "gridcolor": "white",
            "gridwidth": 2,
            "linecolor": "white",
            "showbackground": true,
            "ticks": "",
            "zerolinecolor": "white"
           },
           "zaxis": {
            "backgroundcolor": "#E5ECF6",
            "gridcolor": "white",
            "gridwidth": 2,
            "linecolor": "white",
            "showbackground": true,
            "ticks": "",
            "zerolinecolor": "white"
           }
          },
          "shapedefaults": {
           "line": {
            "color": "#2a3f5f"
           }
          },
          "ternary": {
           "aaxis": {
            "gridcolor": "white",
            "linecolor": "white",
            "ticks": ""
           },
           "baxis": {
            "gridcolor": "white",
            "linecolor": "white",
            "ticks": ""
           },
           "bgcolor": "#E5ECF6",
           "caxis": {
            "gridcolor": "white",
            "linecolor": "white",
            "ticks": ""
           }
          },
          "title": {
           "x": 0.05
          },
          "xaxis": {
           "automargin": true,
           "gridcolor": "white",
           "linecolor": "white",
           "ticks": "",
           "title": {
            "standoff": 15
           },
           "zerolinecolor": "white",
           "zerolinewidth": 2
          },
          "yaxis": {
           "automargin": true,
           "gridcolor": "white",
           "linecolor": "white",
           "ticks": "",
           "title": {
            "standoff": 15
           },
           "zerolinecolor": "white",
           "zerolinewidth": 2
          }
         }
        }
       }
      }
     },
     "metadata": {},
     "output_type": "display_data"
    }
   ],
   "source": [
    "base3 = df.groupby(['year_month'])[['clientes_mora+30d','riesgo_a_c','riesgo_b_c','riesgo_c_c','riesgo_d_c','riesgo_e_c']].mean()\n",
    "fig = px.scatter_matrix(base3)\n",
    "fig.update_layout(height=800)\n",
    "fig.show()"
   ]
  },
  {
   "cell_type": "markdown",
   "metadata": {},
   "source": [
    "Dado que esta variable presenta una alta correlación con otras 4 variables, se decide descartarla."
   ]
  },
  {
   "cell_type": "code",
   "execution_count": 13,
   "metadata": {},
   "outputs": [],
   "source": [
    "df.drop(['clientes_mora+30d'], axis=1, inplace=True)"
   ]
  },
  {
   "cell_type": "markdown",
   "metadata": {},
   "source": [
    "## Observar correlación"
   ]
  },
  {
   "cell_type": "code",
   "execution_count": 14,
   "metadata": {},
   "outputs": [
    {
     "data": {
      "application/vnd.plotly.v1+json": {
       "config": {
        "plotlyServerURL": "https://plot.ly"
       },
       "data": [
        {
         "coloraxis": "coloraxis",
         "hovertemplate": "x: %{x}<br>y: %{y}<br>color: %{z}<extra></extra>",
         "name": "0",
         "texttemplate": "%{z}",
         "type": "heatmap",
         "x": [
          "saldo_a_la_fecha",
          "v1_2",
          "v2_3",
          "v1_3",
          "v3_4",
          "v+4",
          "v3_6",
          "v+6",
          "v1_4",
          "v4_6",
          "v6_12",
          "v12_18",
          "v+12",
          "v+18",
          "riesgo_a_c",
          "riesgo_b_c",
          "riesgo_c_c",
          "riesgo_d_c",
          "riesgo_e_c"
         ],
         "xaxis": "x",
         "y": [
          "saldo_a_la_fecha",
          "v1_2",
          "v2_3",
          "v1_3",
          "v3_4",
          "v+4",
          "v3_6",
          "v+6",
          "v1_4",
          "v4_6",
          "v6_12",
          "v12_18",
          "v+12",
          "v+18",
          "riesgo_a_c",
          "riesgo_b_c",
          "riesgo_c_c",
          "riesgo_d_c",
          "riesgo_e_c"
         ],
         "yaxis": "y",
         "z": [
          [
           1,
           0.38132654285074297,
           0.3773151735257966,
           0.47286881472797765,
           0.04643747526238389,
           0.05594423406407088,
           0.5719328259135441,
           0.4007962403683921,
           0.22207347359892118,
           0.2162337944009249,
           0.5192099206287506,
           0.22362352405710306,
           0.5494682909119245,
           0.2136252833318672,
           0.32148146520741355,
           0.23426983284937913,
           0.07357962119428951,
           0.2705610385962067,
           0.24510051622141632
          ],
          [
           0.38132654285074297,
           1,
           0.9366227924898571,
           -0.04036341796503372,
           0.06951687328773275,
           0.06901986940173534,
           0.7404483248461994,
           0.4669003239323946,
           -0.030562940712457583,
           -0.0304044472808943,
           -0.04386651120157949,
           -0.029414978788983654,
           -0.040569383720420696,
           -0.025008549605155025,
           0.5526004404388871,
           0.5413473253956741,
           0.14471392142280148,
           0.5921364840058785,
           0.43772985278854404
          ],
          [
           0.3773151735257966,
           0.9366227924898571,
           1,
           -0.038617597196509174,
           0.08061611290016904,
           0.07710345419488336,
           0.7663715609425417,
           0.4579966049653494,
           -0.029241015579923733,
           -0.02908937739349119,
           -0.04196917271640105,
           -0.028142705937364242,
           -0.03881465440768819,
           -0.023926866053748434,
           0.5389854612759012,
           0.5104938990513767,
           0.15330072990977803,
           0.6029410540922951,
           0.44433297129028465
          ],
          [
           0.47286881472797765,
           -0.04036341796503372,
           -0.038617597196509174,
           1,
           -0.018864446428455008,
           -0.015597387988397974,
           0.3026590984664307,
           -0.037853866844128156,
           -0.029391339307223874,
           -0.029238921571349566,
           0.5724996255297755,
           -0.028287383417572157,
           0.5717416862789506,
           -0.024049870525942183,
           -0.03172100972962331,
           -0.009806214728876167,
           -0.006273959974816105,
           0.0017918076642769148,
           -0.021152612064179573
          ],
          [
           0.04643747526238389,
           0.06951687328773275,
           0.08061611290016904,
           -0.018864446428455008,
           1,
           0.876651532177369,
           -0.024185154781998217,
           -0.018396793900723,
           -0.014284046962169296,
           -0.01420997268898509,
           -0.020501669389898926,
           -0.01374752980631172,
           -0.018960707601430076,
           -0.011688119293774857,
           0.1791777112167225,
           0.19664679965075946,
           0.3206103783540066,
           0.08620887628724466,
           0.47739636697677523
          ],
          [
           0.05594423406407088,
           0.06901986940173534,
           0.07710345419488336,
           -0.015597387988397974,
           0.876651532177369,
           1,
           -0.019996624026310417,
           -0.01521072634176804,
           -0.011810249686277365,
           -0.011749004041821245,
           -0.016951066817511927,
           -0.011366649802544876,
           -0.01567697807172227,
           -0.009663900404980734,
           0.179762822787113,
           0.19411402363217276,
           0.4590552947464636,
           0.0796883450830975,
           0.5066420451807363
          ],
          [
           0.5719328259135441,
           0.7404483248461994,
           0.7663715609425417,
           0.3026590984664307,
           -0.024185154781998217,
           -0.019996624026310417,
           1,
           0.41301831278370515,
           -0.03768115290800279,
           -0.03748574582051549,
           0.2495767189585169,
           -0.0362658267724073,
           0.2528515855780641,
           -0.03083312533780828,
           0.474001252395637,
           0.4321688741922688,
           0.09858469106501387,
           0.5698148434548437,
           0.3732878966994487
          ],
          [
           0.4007962403683921,
           0.4669003239323946,
           0.4579966049653494,
           -0.037853866844128156,
           -0.018396793900723,
           -0.01521072634176804,
           0.41301831278370515,
           1,
           -0.028662723486316703,
           -0.028514084209551774,
           -0.04113915911134034,
           -0.027586134832923093,
           -0.03804702690519205,
           -0.023453670537475473,
           0.3774069350972462,
           0.23776189743636722,
           0.05903720951750078,
           0.3186440398761354,
           0.4536946793318339
          ],
          [
           0.22207347359892118,
           -0.030562940712457583,
           -0.029241015579923733,
           -0.029391339307223874,
           -0.014284046962169296,
           -0.011810249686277365,
           -0.03768115290800279,
           -0.028662723486316703,
           1,
           0.928170966112987,
           0.2436941463788857,
           0.8728207913896731,
           -0.02954131692823463,
           0.6964766258981682,
           0.009655481712078107,
           0.0040715353138019005,
           -0.0042728971242597365,
           -0.012857427124753998,
           -0.013545381672247505
          ],
          [
           0.2162337944009249,
           -0.0304044472808943,
           -0.02908937739349119,
           -0.029238921571349566,
           -0.01420997268898509,
           -0.011749004041821245,
           -0.03748574582051549,
           -0.028514084209551774,
           0.928170966112987,
           1,
           0.25558100161472086,
           0.8947586725953406,
           -0.02938812143775752,
           0.7195856165083647,
           0.009628969351479355,
           0.003177318579283451,
           -0.00392394049948278,
           -0.01213660559181846,
           -0.012418555787181198
          ],
          [
           0.5192099206287506,
           -0.04386651120157949,
           -0.04196917271640105,
           0.5724996255297755,
           -0.020501669389898926,
           -0.016951066817511927,
           0.2495767189585169,
           -0.04113915911134034,
           0.2436941463788857,
           0.25558100161472086,
           1,
           0.25355428571624844,
           0.5643821769881067,
           0.21335715909020725,
           -0.024300799472114602,
           -0.007046639591687459,
           -0.006307806231425713,
           0.0009477620890058401,
           -0.02032043738767368
          ],
          [
           0.22362352405710306,
           -0.029414978788983654,
           -0.028142705937364242,
           -0.028287383417572157,
           -0.01374752980631172,
           -0.011366649802544876,
           -0.0362658267724073,
           -0.027586134832923093,
           0.8728207913896731,
           0.8947586725953406,
           0.25355428571624844,
           1,
           -0.028431727791444986,
           0.8453811280497174,
           0.008599876477458773,
           0.0017840759336600876,
           -0.0041957272336019345,
           -0.011741039256205042,
           -0.00962030230206916
          ],
          [
           0.5494682909119245,
           -0.040569383720420696,
           -0.03881465440768819,
           0.5717416862789506,
           -0.018960707601430076,
           -0.01567697807172227,
           0.2528515855780641,
           -0.03804702690519205,
           -0.02954131692823463,
           -0.02938812143775752,
           0.5643821769881067,
           -0.028431727791444986,
           1,
           -0.024172591791870188,
           -0.03285995556073919,
           -0.01575471680982716,
           -0.0047917607119486285,
           -0.004123702822509127,
           -0.016227402489504873
          ],
          [
           0.2136252833318672,
           -0.025008549605155025,
           -0.023926866053748434,
           -0.024049870525942183,
           -0.011688119293774857,
           -0.009663900404980734,
           -0.03083312533780828,
           -0.023453670537475473,
           0.6964766258981682,
           0.7195856165083647,
           0.21335715909020725,
           0.8453811280497174,
           -0.024172591791870188,
           1,
           0.00797176568099698,
           0.0020419394964419973,
           -0.003963357800126432,
           -0.01038066425332453,
           -0.0032827698811219693
          ],
          [
           0.32148146520741355,
           0.5526004404388871,
           0.5389854612759012,
           -0.03172100972962331,
           0.1791777112167225,
           0.179762822787113,
           0.474001252395637,
           0.3774069350972462,
           0.009655481712078107,
           0.009628969351479355,
           -0.024300799472114602,
           0.008599876477458773,
           -0.03285995556073919,
           0.00797176568099698,
           1,
           0.9069764329454074,
           0.2524664009181738,
           0.8519641877781138,
           0.7017586331979242
          ],
          [
           0.23426983284937913,
           0.5413473253956741,
           0.5104938990513767,
           -0.009806214728876167,
           0.19664679965075946,
           0.19411402363217276,
           0.4321688741922688,
           0.23776189743636722,
           0.0040715353138019005,
           0.003177318579283451,
           -0.007046639591687459,
           0.0017840759336600876,
           -0.01575471680982716,
           0.0020419394964419973,
           0.9069764329454074,
           1,
           0.28931360605234335,
           0.8713252903942705,
           0.6480342751749457
          ],
          [
           0.07357962119428951,
           0.14471392142280148,
           0.15330072990977803,
           -0.006273959974816105,
           0.3206103783540066,
           0.4590552947464636,
           0.09858469106501387,
           0.05903720951750078,
           -0.0042728971242597365,
           -0.00392394049948278,
           -0.006307806231425713,
           -0.0041957272336019345,
           -0.0047917607119486285,
           -0.003963357800126432,
           0.2524664009181738,
           0.28931360605234335,
           1,
           0.21289685846528772,
           0.36737629852995085
          ],
          [
           0.2705610385962067,
           0.5921364840058785,
           0.6029410540922951,
           0.0017918076642769148,
           0.08620887628724466,
           0.0796883450830975,
           0.5698148434548437,
           0.3186440398761354,
           -0.012857427124753998,
           -0.01213660559181846,
           0.0009477620890058401,
           -0.011741039256205042,
           -0.004123702822509127,
           -0.01038066425332453,
           0.8519641877781138,
           0.8713252903942705,
           0.21289685846528772,
           1,
           0.5791437560557913
          ],
          [
           0.24510051622141632,
           0.43772985278854404,
           0.44433297129028465,
           -0.021152612064179573,
           0.47739636697677523,
           0.5066420451807363,
           0.3732878966994487,
           0.4536946793318339,
           -0.013545381672247505,
           -0.012418555787181198,
           -0.02032043738767368,
           -0.00962030230206916,
           -0.016227402489504873,
           -0.0032827698811219693,
           0.7017586331979242,
           0.6480342751749457,
           0.36737629852995085,
           0.5791437560557913,
           1
          ]
         ]
        }
       ],
       "layout": {
        "coloraxis": {
         "colorscale": [
          [
           0,
           "#0d0887"
          ],
          [
           0.1111111111111111,
           "#46039f"
          ],
          [
           0.2222222222222222,
           "#7201a8"
          ],
          [
           0.3333333333333333,
           "#9c179e"
          ],
          [
           0.4444444444444444,
           "#bd3786"
          ],
          [
           0.5555555555555556,
           "#d8576b"
          ],
          [
           0.6666666666666666,
           "#ed7953"
          ],
          [
           0.7777777777777778,
           "#fb9f3a"
          ],
          [
           0.8888888888888888,
           "#fdca26"
          ],
          [
           1,
           "#f0f921"
          ]
         ]
        },
        "height": 1000,
        "margin": {
         "t": 60
        },
        "template": {
         "data": {
          "bar": [
           {
            "error_x": {
             "color": "#2a3f5f"
            },
            "error_y": {
             "color": "#2a3f5f"
            },
            "marker": {
             "line": {
              "color": "#E5ECF6",
              "width": 0.5
             },
             "pattern": {
              "fillmode": "overlay",
              "size": 10,
              "solidity": 0.2
             }
            },
            "type": "bar"
           }
          ],
          "barpolar": [
           {
            "marker": {
             "line": {
              "color": "#E5ECF6",
              "width": 0.5
             },
             "pattern": {
              "fillmode": "overlay",
              "size": 10,
              "solidity": 0.2
             }
            },
            "type": "barpolar"
           }
          ],
          "carpet": [
           {
            "aaxis": {
             "endlinecolor": "#2a3f5f",
             "gridcolor": "white",
             "linecolor": "white",
             "minorgridcolor": "white",
             "startlinecolor": "#2a3f5f"
            },
            "baxis": {
             "endlinecolor": "#2a3f5f",
             "gridcolor": "white",
             "linecolor": "white",
             "minorgridcolor": "white",
             "startlinecolor": "#2a3f5f"
            },
            "type": "carpet"
           }
          ],
          "choropleth": [
           {
            "colorbar": {
             "outlinewidth": 0,
             "ticks": ""
            },
            "type": "choropleth"
           }
          ],
          "contour": [
           {
            "colorbar": {
             "outlinewidth": 0,
             "ticks": ""
            },
            "colorscale": [
             [
              0,
              "#0d0887"
             ],
             [
              0.1111111111111111,
              "#46039f"
             ],
             [
              0.2222222222222222,
              "#7201a8"
             ],
             [
              0.3333333333333333,
              "#9c179e"
             ],
             [
              0.4444444444444444,
              "#bd3786"
             ],
             [
              0.5555555555555556,
              "#d8576b"
             ],
             [
              0.6666666666666666,
              "#ed7953"
             ],
             [
              0.7777777777777778,
              "#fb9f3a"
             ],
             [
              0.8888888888888888,
              "#fdca26"
             ],
             [
              1,
              "#f0f921"
             ]
            ],
            "type": "contour"
           }
          ],
          "contourcarpet": [
           {
            "colorbar": {
             "outlinewidth": 0,
             "ticks": ""
            },
            "type": "contourcarpet"
           }
          ],
          "heatmap": [
           {
            "colorbar": {
             "outlinewidth": 0,
             "ticks": ""
            },
            "colorscale": [
             [
              0,
              "#0d0887"
             ],
             [
              0.1111111111111111,
              "#46039f"
             ],
             [
              0.2222222222222222,
              "#7201a8"
             ],
             [
              0.3333333333333333,
              "#9c179e"
             ],
             [
              0.4444444444444444,
              "#bd3786"
             ],
             [
              0.5555555555555556,
              "#d8576b"
             ],
             [
              0.6666666666666666,
              "#ed7953"
             ],
             [
              0.7777777777777778,
              "#fb9f3a"
             ],
             [
              0.8888888888888888,
              "#fdca26"
             ],
             [
              1,
              "#f0f921"
             ]
            ],
            "type": "heatmap"
           }
          ],
          "heatmapgl": [
           {
            "colorbar": {
             "outlinewidth": 0,
             "ticks": ""
            },
            "colorscale": [
             [
              0,
              "#0d0887"
             ],
             [
              0.1111111111111111,
              "#46039f"
             ],
             [
              0.2222222222222222,
              "#7201a8"
             ],
             [
              0.3333333333333333,
              "#9c179e"
             ],
             [
              0.4444444444444444,
              "#bd3786"
             ],
             [
              0.5555555555555556,
              "#d8576b"
             ],
             [
              0.6666666666666666,
              "#ed7953"
             ],
             [
              0.7777777777777778,
              "#fb9f3a"
             ],
             [
              0.8888888888888888,
              "#fdca26"
             ],
             [
              1,
              "#f0f921"
             ]
            ],
            "type": "heatmapgl"
           }
          ],
          "histogram": [
           {
            "marker": {
             "pattern": {
              "fillmode": "overlay",
              "size": 10,
              "solidity": 0.2
             }
            },
            "type": "histogram"
           }
          ],
          "histogram2d": [
           {
            "colorbar": {
             "outlinewidth": 0,
             "ticks": ""
            },
            "colorscale": [
             [
              0,
              "#0d0887"
             ],
             [
              0.1111111111111111,
              "#46039f"
             ],
             [
              0.2222222222222222,
              "#7201a8"
             ],
             [
              0.3333333333333333,
              "#9c179e"
             ],
             [
              0.4444444444444444,
              "#bd3786"
             ],
             [
              0.5555555555555556,
              "#d8576b"
             ],
             [
              0.6666666666666666,
              "#ed7953"
             ],
             [
              0.7777777777777778,
              "#fb9f3a"
             ],
             [
              0.8888888888888888,
              "#fdca26"
             ],
             [
              1,
              "#f0f921"
             ]
            ],
            "type": "histogram2d"
           }
          ],
          "histogram2dcontour": [
           {
            "colorbar": {
             "outlinewidth": 0,
             "ticks": ""
            },
            "colorscale": [
             [
              0,
              "#0d0887"
             ],
             [
              0.1111111111111111,
              "#46039f"
             ],
             [
              0.2222222222222222,
              "#7201a8"
             ],
             [
              0.3333333333333333,
              "#9c179e"
             ],
             [
              0.4444444444444444,
              "#bd3786"
             ],
             [
              0.5555555555555556,
              "#d8576b"
             ],
             [
              0.6666666666666666,
              "#ed7953"
             ],
             [
              0.7777777777777778,
              "#fb9f3a"
             ],
             [
              0.8888888888888888,
              "#fdca26"
             ],
             [
              1,
              "#f0f921"
             ]
            ],
            "type": "histogram2dcontour"
           }
          ],
          "mesh3d": [
           {
            "colorbar": {
             "outlinewidth": 0,
             "ticks": ""
            },
            "type": "mesh3d"
           }
          ],
          "parcoords": [
           {
            "line": {
             "colorbar": {
              "outlinewidth": 0,
              "ticks": ""
             }
            },
            "type": "parcoords"
           }
          ],
          "pie": [
           {
            "automargin": true,
            "type": "pie"
           }
          ],
          "scatter": [
           {
            "fillpattern": {
             "fillmode": "overlay",
             "size": 10,
             "solidity": 0.2
            },
            "type": "scatter"
           }
          ],
          "scatter3d": [
           {
            "line": {
             "colorbar": {
              "outlinewidth": 0,
              "ticks": ""
             }
            },
            "marker": {
             "colorbar": {
              "outlinewidth": 0,
              "ticks": ""
             }
            },
            "type": "scatter3d"
           }
          ],
          "scattercarpet": [
           {
            "marker": {
             "colorbar": {
              "outlinewidth": 0,
              "ticks": ""
             }
            },
            "type": "scattercarpet"
           }
          ],
          "scattergeo": [
           {
            "marker": {
             "colorbar": {
              "outlinewidth": 0,
              "ticks": ""
             }
            },
            "type": "scattergeo"
           }
          ],
          "scattergl": [
           {
            "marker": {
             "colorbar": {
              "outlinewidth": 0,
              "ticks": ""
             }
            },
            "type": "scattergl"
           }
          ],
          "scattermapbox": [
           {
            "marker": {
             "colorbar": {
              "outlinewidth": 0,
              "ticks": ""
             }
            },
            "type": "scattermapbox"
           }
          ],
          "scatterpolar": [
           {
            "marker": {
             "colorbar": {
              "outlinewidth": 0,
              "ticks": ""
             }
            },
            "type": "scatterpolar"
           }
          ],
          "scatterpolargl": [
           {
            "marker": {
             "colorbar": {
              "outlinewidth": 0,
              "ticks": ""
             }
            },
            "type": "scatterpolargl"
           }
          ],
          "scatterternary": [
           {
            "marker": {
             "colorbar": {
              "outlinewidth": 0,
              "ticks": ""
             }
            },
            "type": "scatterternary"
           }
          ],
          "surface": [
           {
            "colorbar": {
             "outlinewidth": 0,
             "ticks": ""
            },
            "colorscale": [
             [
              0,
              "#0d0887"
             ],
             [
              0.1111111111111111,
              "#46039f"
             ],
             [
              0.2222222222222222,
              "#7201a8"
             ],
             [
              0.3333333333333333,
              "#9c179e"
             ],
             [
              0.4444444444444444,
              "#bd3786"
             ],
             [
              0.5555555555555556,
              "#d8576b"
             ],
             [
              0.6666666666666666,
              "#ed7953"
             ],
             [
              0.7777777777777778,
              "#fb9f3a"
             ],
             [
              0.8888888888888888,
              "#fdca26"
             ],
             [
              1,
              "#f0f921"
             ]
            ],
            "type": "surface"
           }
          ],
          "table": [
           {
            "cells": {
             "fill": {
              "color": "#EBF0F8"
             },
             "line": {
              "color": "white"
             }
            },
            "header": {
             "fill": {
              "color": "#C8D4E3"
             },
             "line": {
              "color": "white"
             }
            },
            "type": "table"
           }
          ]
         },
         "layout": {
          "annotationdefaults": {
           "arrowcolor": "#2a3f5f",
           "arrowhead": 0,
           "arrowwidth": 1
          },
          "autotypenumbers": "strict",
          "coloraxis": {
           "colorbar": {
            "outlinewidth": 0,
            "ticks": ""
           }
          },
          "colorscale": {
           "diverging": [
            [
             0,
             "#8e0152"
            ],
            [
             0.1,
             "#c51b7d"
            ],
            [
             0.2,
             "#de77ae"
            ],
            [
             0.3,
             "#f1b6da"
            ],
            [
             0.4,
             "#fde0ef"
            ],
            [
             0.5,
             "#f7f7f7"
            ],
            [
             0.6,
             "#e6f5d0"
            ],
            [
             0.7,
             "#b8e186"
            ],
            [
             0.8,
             "#7fbc41"
            ],
            [
             0.9,
             "#4d9221"
            ],
            [
             1,
             "#276419"
            ]
           ],
           "sequential": [
            [
             0,
             "#0d0887"
            ],
            [
             0.1111111111111111,
             "#46039f"
            ],
            [
             0.2222222222222222,
             "#7201a8"
            ],
            [
             0.3333333333333333,
             "#9c179e"
            ],
            [
             0.4444444444444444,
             "#bd3786"
            ],
            [
             0.5555555555555556,
             "#d8576b"
            ],
            [
             0.6666666666666666,
             "#ed7953"
            ],
            [
             0.7777777777777778,
             "#fb9f3a"
            ],
            [
             0.8888888888888888,
             "#fdca26"
            ],
            [
             1,
             "#f0f921"
            ]
           ],
           "sequentialminus": [
            [
             0,
             "#0d0887"
            ],
            [
             0.1111111111111111,
             "#46039f"
            ],
            [
             0.2222222222222222,
             "#7201a8"
            ],
            [
             0.3333333333333333,
             "#9c179e"
            ],
            [
             0.4444444444444444,
             "#bd3786"
            ],
            [
             0.5555555555555556,
             "#d8576b"
            ],
            [
             0.6666666666666666,
             "#ed7953"
            ],
            [
             0.7777777777777778,
             "#fb9f3a"
            ],
            [
             0.8888888888888888,
             "#fdca26"
            ],
            [
             1,
             "#f0f921"
            ]
           ]
          },
          "colorway": [
           "#636efa",
           "#EF553B",
           "#00cc96",
           "#ab63fa",
           "#FFA15A",
           "#19d3f3",
           "#FF6692",
           "#B6E880",
           "#FF97FF",
           "#FECB52"
          ],
          "font": {
           "color": "#2a3f5f"
          },
          "geo": {
           "bgcolor": "white",
           "lakecolor": "white",
           "landcolor": "#E5ECF6",
           "showlakes": true,
           "showland": true,
           "subunitcolor": "white"
          },
          "hoverlabel": {
           "align": "left"
          },
          "hovermode": "closest",
          "mapbox": {
           "style": "light"
          },
          "paper_bgcolor": "white",
          "plot_bgcolor": "#E5ECF6",
          "polar": {
           "angularaxis": {
            "gridcolor": "white",
            "linecolor": "white",
            "ticks": ""
           },
           "bgcolor": "#E5ECF6",
           "radialaxis": {
            "gridcolor": "white",
            "linecolor": "white",
            "ticks": ""
           }
          },
          "scene": {
           "xaxis": {
            "backgroundcolor": "#E5ECF6",
            "gridcolor": "white",
            "gridwidth": 2,
            "linecolor": "white",
            "showbackground": true,
            "ticks": "",
            "zerolinecolor": "white"
           },
           "yaxis": {
            "backgroundcolor": "#E5ECF6",
            "gridcolor": "white",
            "gridwidth": 2,
            "linecolor": "white",
            "showbackground": true,
            "ticks": "",
            "zerolinecolor": "white"
           },
           "zaxis": {
            "backgroundcolor": "#E5ECF6",
            "gridcolor": "white",
            "gridwidth": 2,
            "linecolor": "white",
            "showbackground": true,
            "ticks": "",
            "zerolinecolor": "white"
           }
          },
          "shapedefaults": {
           "line": {
            "color": "#2a3f5f"
           }
          },
          "ternary": {
           "aaxis": {
            "gridcolor": "white",
            "linecolor": "white",
            "ticks": ""
           },
           "baxis": {
            "gridcolor": "white",
            "linecolor": "white",
            "ticks": ""
           },
           "bgcolor": "#E5ECF6",
           "caxis": {
            "gridcolor": "white",
            "linecolor": "white",
            "ticks": ""
           }
          },
          "title": {
           "x": 0.05
          },
          "xaxis": {
           "automargin": true,
           "gridcolor": "white",
           "linecolor": "white",
           "ticks": "",
           "title": {
            "standoff": 15
           },
           "zerolinecolor": "white",
           "zerolinewidth": 2
          },
          "yaxis": {
           "automargin": true,
           "gridcolor": "white",
           "linecolor": "white",
           "ticks": "",
           "title": {
            "standoff": 15
           },
           "zerolinecolor": "white",
           "zerolinewidth": 2
          }
         }
        },
        "xaxis": {
         "anchor": "y",
         "constrain": "domain",
         "domain": [
          0,
          1
         ],
         "scaleanchor": "y"
        },
        "yaxis": {
         "anchor": "x",
         "autorange": "reversed",
         "constrain": "domain",
         "domain": [
          0,
          1
         ]
        }
       }
      }
     },
     "metadata": {},
     "output_type": "display_data"
    }
   ],
   "source": [
    "cols_num = df.select_dtypes(exclude=['object', 'datetime'])\n",
    "df_corr = cols_num.corr()\n",
    "fig = px.imshow(df_corr,  text_auto=True)\n",
    "fig.update_layout(height=1000)\n",
    "fig.show()"
   ]
  },
  {
   "cell_type": "markdown",
   "metadata": {},
   "source": [
    "# 4. Variables categóricas"
   ]
  },
  {
   "cell_type": "code",
   "execution_count": 15,
   "metadata": {},
   "outputs": [
    {
     "name": "stdout",
     "output_type": "stream",
     "text": [
      "<class 'pandas.core.frame.DataFrame'>\n",
      "RangeIndex: 80900 entries, 0 to 80899\n",
      "Data columns (total 5 columns):\n",
      " #   Column        Non-Null Count  Dtype \n",
      "---  ------        --------------  ----- \n",
      " 0   tipo_entidad  80900 non-null  object\n",
      " 1   unicap        80900 non-null  object\n",
      " 2   desc_unicap   80900 non-null  object\n",
      " 3   renglon       80900 non-null  object\n",
      " 4   desc_renglon  80900 non-null  object\n",
      "dtypes: object(5)\n",
      "memory usage: 3.1+ MB\n"
     ]
    }
   ],
   "source": [
    "df_cat = df.select_dtypes(include='object')\n",
    "df_cat.info()"
   ]
  },
  {
   "cell_type": "code",
   "execution_count": 16,
   "metadata": {},
   "outputs": [
    {
     "name": "stdout",
     "output_type": "stream",
     "text": [
      "tipo_entidad vs desc_unicap: 0.0\n",
      "tipo_entidad vs desc_renglon: 0.0\n",
      "desc_renglon vs desc_unicap: 0.0\n"
     ]
    }
   ],
   "source": [
    "from scipy.stats import chi2_contingency\n",
    "tabla_contingencia1 = pd.crosstab(df['tipo_entidad'], df['desc_unicap'])\n",
    "tabla_contingencia2 = pd.crosstab(df['tipo_entidad'], df['desc_renglon'])\n",
    "tabla_contingencia3 = pd.crosstab(df['desc_renglon'], df['desc_unicap'])\n",
    "chi21, p1, _, _ = chi2_contingency(tabla_contingencia1)\n",
    "chi22, p2, _, _ = chi2_contingency(tabla_contingencia2)\n",
    "chi23, p3, _, _ = chi2_contingency(tabla_contingencia3)\n",
    "\n",
    "print('tipo_entidad vs desc_unicap:', p1)\n",
    "print('tipo_entidad vs desc_renglon:', p2)\n",
    "print('desc_renglon vs desc_unicap:', p3)"
   ]
  },
  {
   "cell_type": "markdown",
   "metadata": {},
   "source": [
    "Las tres variables presentan correlación, ya que es p-valor de las pruebas chi cuadrado fue menor a 0.05.\n",
    "\n",
    "El tipo de entidad son los clusters a los que queremos llegar con el análisis, por tanto, esta no se tiene en cuenta para descartarla por su correlación. Decidimos eliminar unicap, ya que renglon son categorías dentro de cada categoría de unicap, por tanto, contiene información más detallada sobre los tipos de productos."
   ]
  },
  {
   "cell_type": "code",
   "execution_count": 17,
   "metadata": {},
   "outputs": [],
   "source": [
    "df.drop(['unicap','desc_unicap'], axis=1, inplace=True)"
   ]
  },
  {
   "cell_type": "markdown",
   "metadata": {},
   "source": [
    "# 5. Exportar data sin correlación"
   ]
  },
  {
   "cell_type": "code",
   "execution_count": 18,
   "metadata": {},
   "outputs": [],
   "source": [
    "df.to_csv('datasets/data_no_corr.csv', index=False)"
   ]
  }
 ],
 "metadata": {
  "kernelspec": {
   "display_name": "Python 3",
   "language": "python",
   "name": "python3"
  },
  "language_info": {
   "codemirror_mode": {
    "name": "ipython",
    "version": 3
   },
   "file_extension": ".py",
   "mimetype": "text/x-python",
   "name": "python",
   "nbconvert_exporter": "python",
   "pygments_lexer": "ipython3",
   "version": "3.11.4"
  },
  "orig_nbformat": 4
 },
 "nbformat": 4,
 "nbformat_minor": 2
}
